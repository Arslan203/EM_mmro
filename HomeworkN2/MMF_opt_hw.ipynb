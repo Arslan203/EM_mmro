{
 "cells": [
  {
   "cell_type": "markdown",
   "id": "57245600",
   "metadata": {},
   "source": [
    "# Машинное обучение, ВМК МГУ\n",
    "\n",
    "# Практическое задание 2. Методы оптимизации в машинном обучении\n",
    "\n",
    "## Общая информация\n",
    "Дата выдачи: 14.03.2023\n",
    "\n",
    "Мягкий дедлайн: 28.03.2023 23:59 MSK\n",
    "\n",
    "Жёсткий дедлайн: 04.04.2023 23:59 MSK\n",
    "\n",
    "## Оценивание и штрафы\n",
    "Каждая из задач имеет определенную «стоимость» (указана в скобках около задачи). **Максимальная оценка за работу  — 10 баллов + 9.2 бонусов.**\n",
    "\n",
    "Сдавать задание после указанного жёсткого срока сдачи нельзя. При выставлении неполного балла за задание в связи с наличием ошибок на усмотрение проверяющего предусмотрена возможность исправить работу на указанных в ответном письме условиях.\n",
    "\n",
    "Задание выполняется самостоятельно. «Похожие» решения считаются плагиатом и все задействованные студенты (в том числе те, у кого списали) не могут получить за него больше 0 баллов (подробнее о плагиате см. на странице курса). Если вы нашли решение какого-то из заданий (или его часть) в открытом источнике, необходимо указать ссылку на этот источник в отдельном блоке в конце вашей работы (скорее всего вы будете не единственным, кто это нашел, поэтому чтобы исключить подозрение в плагиате, необходима ссылка на источник).\n",
    "\n",
    "Неэффективная реализация кода может негативно отразиться на оценке.\n",
    "\n",
    "## Формат сдачи\n",
    "Задания сдаются через систему anytask. Посылка должна содержать:\n",
    "* Ноутбук homework-practice-optimization-Username.ipynb"
   ]
  },
  {
   "cell_type": "markdown",
   "id": "8dfd9889",
   "metadata": {},
   "source": [
    "<p style=\"color:#de3815;font-size:25px;\">\n",
    "Напоминание об оформлении и выполнении ноутбука\n",
    "</p>"
   ]
  },
  {
   "cell_type": "markdown",
   "id": "cafc66f2",
   "metadata": {},
   "source": [
    "* Все строчки должны быть выполнены. Нужно, чтобы output команды можно было увидеть, не запуская ячейки (кроме редких случаев, когда необходимо намеренно скрыть ненужный output, про такие случаи желательно писать пояснения в тексте). **В противном случае -1 балл**\n",
    "* При оформлении ДЗ нужно пользоваться данным файлом в качестве шаблона. Не нужно удалять и видоизменять написанный код и текст, если явно не указана такая возможность. **В противном случае -1 балл**\n",
    "* В anytask обязательно нужно прикреплять отдельно файл с расширением ipynb (не в архиве, а именно отдельно). Если необходимо отправить еще какие-то файлы, то вынесите их в отдельный архив (если файлов много) и пришлите. **В противном случае -0.5 балла**\n",
    "---\n",
    "* Пишите, пожалуйста, выводы и ответы на вопросы в текстовых ячейках/при помощи print в коде. При их отсутствии мы не можем понять, сделали ли вы задание и понимаете, что происходит, и **поэтому будем снижать баллы**\n",
    "* Если алгоритм не сказано реализовывать явно, его всегда можно импортировать из библиотеки.\n",
    "---\n",
    "* Про графики. _Штрафы будут применяться к каждому результату команды отображения графика (plt.show() и др. аналогичные). Исключением являются графики, генерируемые функциями каких-либо сторонних библиотек, если их нельзя кастомизировать_\n",
    "\n",
    "    * должно быть название (plt.title) графика; **В противном случае &ndash; -0.05 балла**\n",
    "    * на графиках должны быть подписаны оси (plt.xlabel, plt.ylabel); **В противном случае &ndash; -0.025 балла за каждую ось**\n",
    "    * должны быть подписаны единицы измерения (если это возможно); **В противном случае &ndash; -0.025 балла за каждую ось**\n",
    "    * все названия должны быть понятны любому человеку, знакомому с терминологией, без заглядывания в код; **В противном случае &ndash; -0.05 балла**\n",
    "    * подписи тиков на осях не должны сливаться как на одной оси, так и между ними; **В противном случае &ndash; -0.025 балла за каждую ось**\n",
    "    * если изображено несколько сущностей на одном холсте (например несколько функций), то необходима поясняющая легенда (plt.legend); **В противном случае &ndash; -0.05 балла**\n",
    "    * все линии на графиках должны быть чётко видны (нет похожих цветов или цветов, сливающихся с фоном); **В противном случае &ndash; -0.05 балла**\n",
    "    * если отображена величина, имеющая очевидный диапазон значений (например, проценты могут быть от 0 до 100), то желательно масштабировать ось на весь диапазон значений (исключением является случай, когда вам необходимо показать малое отличие, которое незаметно в таких масштабах);\n",
    "    * графики должны быть не супер-микро и не супер-макро по размерам, так, чтобы можно было увидеть все, что нужно.\n",
    "    * при необходимости улучшения наглядности графиков, можно пользоваться логарифмической шкалой по осям x/y.\n",
    "    \n",
    "    \n",
    "### А также..\n",
    "\n",
    "* Для удобства поиска вопросов, на которые от вас просят ответа, мы пометили их знаком **(?)**\n",
    "* Знак **(!)** означает, что выполнение замечания необходимо для **возможности получения полного балла**\n",
    "* Даем до +0.3 балла за выдающиеся успехи по субъективному мнению проверяющих. Этот **бонус** не апеллируется"
   ]
  },
  {
   "cell_type": "markdown",
   "id": "b9df0de9",
   "metadata": {},
   "source": [
    "### Часть 1. (1.5 балла) Негладкая оптимизация\n",
    "\n",
    "В этом разделе мы рассмотрим задачу Lasso регрессии и сравним рассказанные на парах методы: субградиентный метод, ISTA и FISTA. Напомним, что задача выглядит следующим образом:\n",
    "\n",
    "$$\n",
    "\\min_x \\frac{1}{2}\\|Ax - y \\|^2_2 + \\gamma \\|x\\|_1\n",
    "$$"
   ]
  },
  {
   "cell_type": "markdown",
   "id": "bcff1257",
   "metadata": {},
   "source": [
    "Для автоматического вычисления градиентов предлагается использовать jax, вы можете считать их руками или через torch, но мы считаем, что знать о существовании этой библиотеки полезно, тем более, что для выполнения задания достаточно знать информации с [этой страницы](https://jax.readthedocs.io/en/latest/notebooks/quickstart.html)."
   ]
  },
  {
   "cell_type": "code",
   "execution_count": null,
   "id": "81ce8fd5",
   "metadata": {},
   "outputs": [],
   "source": [
    "import numpy as np\n",
    "import matplotlib.pyplot as plt\n",
    "import matplotlib\n",
    "import seaborn as sns\n",
    "import cv2\n",
    "import tqdm\n",
    "import jax.numpy as jnp\n",
    "from jax import grad, jit, vmap\n",
    "import sklearn.preprocessing as skprep"
   ]
  },
  {
   "cell_type": "code",
   "execution_count": null,
   "id": "c925bb32",
   "metadata": {},
   "outputs": [],
   "source": [
    "%config InlineBackend.figure_formats = ['svg']\n",
    "sns.set_style('darkgrid')"
   ]
  },
  {
   "cell_type": "markdown",
   "id": "50810ffa",
   "metadata": {},
   "source": [
    "Для сравнения методов сгенерируем данные:"
   ]
  },
  {
   "cell_type": "code",
   "execution_count": null,
   "id": "a79f64d9",
   "metadata": {},
   "outputs": [],
   "source": [
    "m = 500\n",
    "n = 2500\n",
    "np.random.seed(1)\n",
    "A = np.random.rand(m, n) # матрица\n",
    "A = skprep.normalize(A, norm=\"l2\", axis=0)\n",
    "U, S, Vh = np.linalg.svd(A, full_matrices=False)\n",
    "S[-1] = min(S[-1], S[0] / 100000)\n",
    "A = U @ (S[:, None] * Vh)\n",
    "x_true = np.random.randn(n) # решение\n",
    "x_true[np.random.rand(n) < 0.96] = 0\n",
    "v = 9e-2 * np.random.randn(m)\n",
    "y = A.dot(x_true) + v # таргет\n",
    "gamma = 0.01 * np.linalg.norm(A.T.dot(y), ord=np.inf) # предлагаемый коэффициент регуляризации\n",
    "x0 = np.random.rand(n) # начальное приближение"
   ]
  },
  {
   "cell_type": "markdown",
   "id": "399df0fc",
   "metadata": {},
   "source": [
    "Давайте посмотри на степень разреженности решения"
   ]
  },
  {
   "cell_type": "code",
   "execution_count": null,
   "id": "cbb68efd",
   "metadata": {},
   "outputs": [],
   "source": [
    "print(f\"Number of nonzeros in x_true is {np.sum(x_true != 0)} out of {x_true.shape[0]}\")"
   ]
  },
  {
   "cell_type": "markdown",
   "id": "e1dd1a72",
   "metadata": {},
   "source": [
    "**Задание 1. (0.15 баллов)** реализуйте оракул для Lasso регрессии с использованием jax, также реализуйте отдельно оракул для части с регрессией и для регуляризации, а также их градиентов. Для регуляризации добавьте метод prox, который вычисляет проксимальный оператор в заданной точке. \n",
    "\n",
    "*Замечание*. Вы можете менять интерфейсы классов так, как считаете нужным, предложенный вариант - один из возможных. Главное, чтобы все работало"
   ]
  },
  {
   "cell_type": "code",
   "execution_count": null,
   "id": "f74df9e3",
   "metadata": {},
   "outputs": [],
   "source": [
    "class LassoRegressionOracle:\n",
    "    '''\n",
    "    Class for whole Lasso regression oracle\n",
    "    '''\n",
    "    def __init__(self, A, y, gamma):\n",
    "        ### YOUR AMAZING CODE HERE\n",
    "        pass\n",
    "    \n",
    "    def __call__(self, x):\n",
    "        ### YOUR AMAZING CODE HERE\n",
    "        pass\n",
    "        \n",
    "    def grad(self, x):\n",
    "        ### YOUR AMAZING CODE HERE\n",
    "        ### Hint: use jax (probably you want use it in __call__ too)\n",
    "        pass"
   ]
  },
  {
   "cell_type": "code",
   "execution_count": null,
   "id": "87425840",
   "metadata": {},
   "outputs": [],
   "source": [
    "class BasicRegressionOracle:\n",
    "    '''\n",
    "    Class for regression part of lasso regression \n",
    "    '''\n",
    "    def __init__(self, A, y):\n",
    "        ### YOUR AMAZING CODE HERE\n",
    "        pass\n",
    "    \n",
    "    def __call__(self, x):\n",
    "        ### YOUR AMAZING CODE HERE\n",
    "        pass\n",
    "    \n",
    "    def grad(self, x):\n",
    "        ### YOUR AMAZING CODE HERE\n",
    "        ### Hint: use jax (probably you want use it in __call__ too)\n",
    "        pass"
   ]
  },
  {
   "cell_type": "code",
   "execution_count": null,
   "id": "76c6fae7",
   "metadata": {},
   "outputs": [],
   "source": [
    "class L1RegularizationOracle:\n",
    "    '''\n",
    "    Class for regularization part of lasso regression\n",
    "    '''\n",
    "    def __init__(self, gamma):\n",
    "        ### YOUR AMAZING CODE HERE\n",
    "        pass\n",
    "    \n",
    "    def __call__(self, x):\n",
    "        ### YOUR AMAZING CODE HERE\n",
    "        pass\n",
    "    \n",
    "    def prox(self, x, alpha):\n",
    "        ### YOUR AMAZING CODE HERE\n",
    "        pass"
   ]
  },
  {
   "cell_type": "markdown",
   "id": "21221c1f",
   "metadata": {},
   "source": [
    "Выведите значения функционалов в точке x0:"
   ]
  },
  {
   "cell_type": "code",
   "execution_count": null,
   "id": "b782c470",
   "metadata": {},
   "outputs": [],
   "source": [
    "full_oracle = ### YOUR AMAZING CODE HERE\n",
    "regression_oracle = ### YOUR AMAZING CODE HERE\n",
    "regularization_oracle = ### YOUR AMAZING CODE HERE\n",
    "\n",
    "assert np.allclose(full_oracle(x0), 581375.6875)\n",
    "assert np.allclose(regression_oracle(x0), 581222.1875)\n",
    "assert np.allclose(regularization_oracle(x0), 153.4744415283203)"
   ]
  },
  {
   "cell_type": "markdown",
   "id": "fb0f819f",
   "metadata": {},
   "source": [
    "**Задание 2 (0.65 баллов)**. Реализуйте субградиентный метод, ISTA и FISTA.\n",
    "\n",
    "1) Для субградиентного метода возьмите шаг $\\alpha_k=\\frac{1}{\\sqrt{k + 1} \\|g_k\\|_2}$, где $g_k$ - текущий субградиент. Он является одним из самых популярных выборов для рассматриваемого метода. Обратите внимание, что для субградиентного метода результатом является не последняя точка, а точка, в которой наблюдалось минимальное значение функционала\n",
    "\n",
    "2) Для ISTA/FISTA выберете константный шаг\n",
    "\n",
    "3) Параметр, отвечающий за ускорение, возьмите равным $\\frac{k}{k+3}$\n",
    "\n",
    "*Замечание*. Вы можете менять интерфейсы функций так, как считаете нужным, предложенный вариант - один из возможных. Главное, чтобы все работало"
   ]
  },
  {
   "cell_type": "code",
   "execution_count": null,
   "id": "8637cda5",
   "metadata": {},
   "outputs": [],
   "source": [
    "def subgradient_method(oracle, max_iters, x0):\n",
    "    \"\"\"\n",
    "    Функция, реализующая субградиентный метод\n",
    "    :oracle - оракул\n",
    "    :max_iters - максимальное количество итераций\n",
    "    :x0 - начальная точка\n",
    "    \n",
    "    Функция возвращает историю (наименьшее значение функции по итерациям) и итоговую точку\n",
    "    \"\"\"\n",
    "    return history, x_result"
   ]
  },
  {
   "cell_type": "code",
   "execution_count": null,
   "id": "6f7467fc",
   "metadata": {},
   "outputs": [],
   "source": [
    "def ISTA(full_oracle, regression_oracle, regularization_oracle, max_iters, x0, step_size):\n",
    "    \"\"\"\n",
    "    Функция, реализующая проксимальный градиентный метод, в данном случае это будет ISTA\n",
    "    :full_oracle - полный оракул\n",
    "    :regression_oracle - оракул, содержащий регрессионную часть\n",
    "    :regularization_oracle - оракул, содержащий регуляризационную\n",
    "    :max_iters - максимальное количество итераций\n",
    "    :x0 - начальная точка\n",
    "    :step_size - размер шага\n",
    "    \n",
    "    Функция возвращает историю (значение функции в полученных в процессе итераций точках) и итоговую точку\n",
    "    \"\"\"\n",
    "    return history, x_k"
   ]
  },
  {
   "cell_type": "code",
   "execution_count": null,
   "id": "d2f2e259",
   "metadata": {},
   "outputs": [],
   "source": [
    "def FISTA(full_oracle, regression_oracle, regularization_oracle, max_iters, x0, step_size):\n",
    "    \"\"\"\n",
    "    Функция, реализующая ускоренный проксимальный градиентный метод, в данном случае это будет FISTA\n",
    "    :full_oracle - полный оракул\n",
    "    :regression_oracle - оракул, содержащий регрессионную часть\n",
    "    :regularization_oracle - оракул, содержащий регуляризационную\n",
    "    :max_iters - максимальное количество итераций\n",
    "    :x0 - начальная точка\n",
    "    :step_size - размер шага\n",
    "    \n",
    "    Функция возвращает историю (значение функции в полученных в процессе итераций точках) и итоговую точку\n",
    "    \"\"\"\n",
    "    return history, x_k"
   ]
  },
  {
   "cell_type": "markdown",
   "id": "c7c32a66",
   "metadata": {},
   "source": [
    "**Задание 3. (0.3 баллов)** Посмотрите на скорость сходимости (используйте логарифмическую шкалу) ISTA и FISTA при разных размерах шага. Выберите лучший, сделайте выводы. Рассмотрите не менее 5 размеров шагов в диапозоне $10^{-6}...10^{-3.5}$\n",
    "\n",
    "Возможно, это будет не лучший выбор шага, поэтому можете посмотреть и другие диапозоны"
   ]
  },
  {
   "cell_type": "code",
   "execution_count": null,
   "id": "bccaf1f5",
   "metadata": {},
   "outputs": [],
   "source": [
    "### YOUR CODE HERE"
   ]
  },
  {
   "cell_type": "markdown",
   "id": "21ace0c6",
   "metadata": {},
   "source": [
    "**Выводы:**"
   ]
  },
  {
   "cell_type": "markdown",
   "id": "32ad041a",
   "metadata": {},
   "source": [
    "**Задание 4. (0.4 баллов)** Сравните три метода оптимизации по скорости сходимости, а также по степени разреженности решения (считайте, что число равно нулю, если оно по модулю не превосходит $10^{-2}$. Сделайте выводы"
   ]
  },
  {
   "cell_type": "code",
   "execution_count": null,
   "id": "525d29c6",
   "metadata": {},
   "outputs": [],
   "source": [
    "### YOUR CODE HERE"
   ]
  },
  {
   "cell_type": "markdown",
   "id": "4296495b",
   "metadata": {},
   "source": [
    "**Выводы:**"
   ]
  },
  {
   "cell_type": "markdown",
   "id": "4795cb44",
   "metadata": {},
   "source": [
    "**Бонус 1. (1 балл)** Есть множество стратегий выбора шага для субградиентного метода, попробуйте следующий вариант\n",
    "\n",
    "* General gradient norm: $\\alpha_k=\\frac{\\alpha_0}{k^{\\beta}\\|g_k\\|}$, $0 \\leq \\beta \\leq 1$. Посмотрите не менее пяти значений параметра $\\beta$ и пяти значений параметра $\\alpha_0$\n",
    "\n",
    "Сравните такие стратегии, если какая-то из них оказалась лучше предыдущей, то сравните метод с ISTA/FISTA. Сделайте выводы"
   ]
  },
  {
   "cell_type": "code",
   "execution_count": null,
   "id": "c05910bc",
   "metadata": {},
   "outputs": [],
   "source": [
    "### YOUR CODE HERE"
   ]
  },
  {
   "cell_type": "markdown",
   "id": "136d1dae",
   "metadata": {},
   "source": [
    "**Выводы:**"
   ]
  },
  {
   "cell_type": "markdown",
   "id": "910743bf",
   "metadata": {},
   "source": [
    "**Бонус 2. (1.5 баллов)** Часто жизнь оказывается такова, что мы не можем подобрать оптимальный константный шаг, потому что это может быть дорого или же мы просто можем не находить его, а константну гладкости функции мы можем и не знать (да, оптимальный размер шага зависит от нее). В этом случае можно искать шаг $\\alpha_{k}$ при помощи backtracking search:\n",
    "\n",
    "$$f(x_{k+1})\\leq f(x_k) + \\langle \\nabla f_k, x_{k+1}-x_k \\rangle + \\frac{1}{2\\alpha_k}\\|x_k-x_{k+1}\\|^2$$\n",
    "\n",
    "А в качестве процедуры поиска использовать бинарный поиск\n",
    "\n",
    "*Замечание.* Внимательный студет может заметить, что в этом случае мы пытаемся подобрать $\\alpha_{k}$ так, чтобы оно было похоже на $\\frac{1}{L}$, который и является оптимальным размером шага.\n",
    "\n",
    "Попробуйте реализовать данную стратегию, сравните ее с уже реализованными методами. Дополнительно посчитайте, сколько раз вы вычисляли саму функцию. Сделайте выводы."
   ]
  },
  {
   "cell_type": "code",
   "execution_count": null,
   "id": "be0b842f",
   "metadata": {},
   "outputs": [],
   "source": [
    "### YOUR CODE HERE"
   ]
  },
  {
   "cell_type": "markdown",
   "id": "f5348b2e",
   "metadata": {},
   "source": [
    "**Выводы:**"
   ]
  },
  {
   "cell_type": "markdown",
   "id": "9add2c44",
   "metadata": {},
   "source": [
    "### Часть 2 (1.5 балла). ADMM for matrix completion"
   ]
  },
  {
   "cell_type": "markdown",
   "id": "d7512397",
   "metadata": {},
   "source": [
    "Рассмотрим задачу восстановления матрицы $Y$. Мы наблюдаем только небольшой набор элементов матрицы $Y$, множество индексов известных элементов обозначим через $E$. То есть мы знаем $Y_{ij}$ для всех $(i,j) \\in E$, и не знаем $Y_{ij}$ для всех $(i,j) \\notin E$.\n",
    "\n",
    "Понятно, что без наличия какой-либо дополнительной информации о матрице $Y$ эта постановка является тривиальной: любая матрица $X$, для которой выполнено $X_{i,j} = Y_{i,j}, \\quad (i,j) \\in E$ является разумным ответом. Таких матриц бесконечно много. Соответственно задача восстановления матриц обычно рассматривается как частный случай задачи приближения матрицы, а критерий качества (целевая функция) говорит не столько о близости $X$ к $Y$, сколько о полезных свойствах матрицы $X$ (этими свойствами матрица $Y$ может и не обладать).\n",
    "\n",
    "Одна из самых популярных постановок является задача о поиске наилучшего приближения заданной матрицы матрицей малого ранга:\n",
    "\n",
    "$$\n",
    "\\begin{align*}\n",
    "& \\min_{X} rank(X) \\\\\n",
    "& X_{i,j} = Y_{i,j}, \\quad (i,j) \\in E\\\\\n",
    "\\end{align*}\n",
    "$$\n",
    "\n",
    "В общем случае эта задача является NP-трудной. Для того, чтобы обойти это припятствие ранк матрицы аппроксимируется той или иной выпуклой функцией от матрицы $X$. Стандартным выбором является переход к постановке задачи с использованием ядерной нормы\n",
    "\n",
    "$$\n",
    "\\begin{align*}\n",
    "& \\min_{X}\\|X \\|_* \\\\\n",
    "& X_{i,j} = Y_{i,j}, \\quad (i,j) \\in E\\\\\n",
    "\\end{align*}\n",
    "$$"
   ]
  },
  {
   "cell_type": "markdown",
   "id": "64ff93f7",
   "metadata": {},
   "source": [
    "**Задание 1. (0.5 балла)** Сведите полученную задачу к виду, пригодному для решению с помощью ADMM. Запишите итерации, получите аналитические выражения для каждого шага."
   ]
  },
  {
   "cell_type": "markdown",
   "id": "68af7c30",
   "metadata": {},
   "source": [
    "**Решение:**"
   ]
  },
  {
   "cell_type": "markdown",
   "id": "43cc3511",
   "metadata": {},
   "source": [
    "**Задание 2.(0.5 балла)** Реализуйте полученные формулы.\n",
    "\n",
    "*Замечание*. Вы все еще в праве менять интерфейсы функций так, как хотите"
   ]
  },
  {
   "cell_type": "code",
   "execution_count": null,
   "id": "1659eeb0",
   "metadata": {},
   "outputs": [],
   "source": [
    "def MC_update_X(Z, lambda_, r):\n",
    "    \"\"\"\n",
    "    Функция, обновляющая значение X для задачи Matrix Completion, используя переменные Z, lambda_ и r\n",
    "    \"\"\"\n",
    "    ### YOUR CODE HERE\n",
    "    pass\n",
    "\n",
    "\n",
    "def MC_update_Z(X, lambda_, r, Y, mask):\n",
    "    \"\"\"\n",
    "    Функция, обновляющая значение X для задачи Matrix Completion, используя переменные Z, lambda_, r, Y и маску E\n",
    "    \"\"\"\n",
    "    ### YOUR CODE HERE\n",
    "    pass\n",
    "    \n",
    "\n",
    "def MC_ADMM(Y, mask, tol, max_iters, r, Y_true):\n",
    "    \"\"\"\n",
    "    Функция, решающая задачу Matrix Completion для известных пикселей Y в точках mask\n",
    "    Считаем, что метод сходится, если ядерная норма поменялась за итерацию менее чем на tol\n",
    "    Максимальное количество итераций - max_iters\n",
    "    Параметр r для ADMM задается в интерфейсе\n",
    "    Для вычисления различных метрик вам может потребоваться знание исходного изображения\n",
    "    \"\"\"\n",
    "    ### YOUR CODE HERE\n",
    "    pass"
   ]
  },
  {
   "cell_type": "markdown",
   "id": "8a0e3bff",
   "metadata": {},
   "source": [
    "**Задание 3. (0 баллов)** Выберите любимую картинку, на которой вы будете тестировать алгоритм, покажите ее"
   ]
  },
  {
   "cell_type": "code",
   "execution_count": null,
   "id": "ef5bf4f4",
   "metadata": {},
   "outputs": [],
   "source": [
    "Y_true = cv2.imread('image.jpg')\n",
    "Y_true = cv2.cvtColor(Y_true, cv2.COLOR_BGR2RGB) / 255\n",
    "plt.grid(False)\n",
    "plt.axis(False)\n",
    "plt.imshow(Y_true)\n",
    "plt.show()"
   ]
  },
  {
   "cell_type": "markdown",
   "id": "eeabc8d7",
   "metadata": {},
   "source": [
    "**Задание 4.(0.3 балла)** Покажите сходимость алгоритма, а также, что он действительно решает задачу восстановления изображения при отсутствии 50 процентов пикселей\n",
    "\n",
    "*Замечание*. Вы можете работать с изображением как с черно белым, но интереснее будет запускать ADMM на каждом из каналов :)"
   ]
  },
  {
   "cell_type": "code",
   "execution_count": null,
   "id": "4135a4e9",
   "metadata": {},
   "outputs": [],
   "source": [
    "def generate_mask(shape, size, seed=42):\n",
    "    \"\"\"\n",
    "    Генерирует маску для изображения формы shape, оставляющую только size пикселей\n",
    "    \"\"\"\n",
    "    np.random.seed(seed)\n",
    "    mask = np.full(np.prod(shape), False)\n",
    "    mask[:size] = True\n",
    "    np.random.shuffle(mask)\n",
    "    mask = mask.astype(bool)\n",
    "    return mask.reshape(shape)"
   ]
  },
  {
   "cell_type": "code",
   "execution_count": null,
   "id": "06706fe5",
   "metadata": {},
   "outputs": [],
   "source": [
    "### YOUR CODE HERE"
   ]
  },
  {
   "cell_type": "markdown",
   "id": "8e1c1630",
   "metadata": {},
   "source": [
    "**Задание 5.(0.2 балла)** Посмотрите на то, как влияет количество удаленных пикселей на качество восстановления, как с точки зрения нормы разности истинного изображения и восстановленного, так и с визуальной точки зрения. Посмотрите удаление 30, 50 и 80 процентов пикселей (приветствуется смотреть и другие значения, например, 90)\n",
    "\n",
    "*Замечание*. Вы можете работать с изображением как с черно белым, но интереснее будет запускать ADMM на каждом из каналов :)"
   ]
  },
  {
   "cell_type": "code",
   "execution_count": null,
   "id": "87e374e8",
   "metadata": {},
   "outputs": [],
   "source": [
    "def plot_results(X, Y_true, mask, alphas, figsize=(10, 30)):\n",
    "    \"\"\"\n",
    "    Функция, отрисовывающая получившиеся результаты\n",
    "    X - list восстановленных изображений (цветных)\n",
    "    Y_true - настоящее изображение\n",
    "    mask - list масок\n",
    "    alphas - list состоящий из долей удаленных пикселей\n",
    "    Функция написана в предположении, что Вы работаете с цветными изображениями, если вы выбрали работать с чб, то\n",
    "    не забудьте поменять код\n",
    "    \"\"\"\n",
    "    fig, ax = plt.subplots(nrows=len(X), ncols=3, figsize=figsize)\n",
    "    for j in range(len(X)):\n",
    "        tmp = np.copy(Y_true)\n",
    "        current_mask = np.stack((~mask[j], ~mask[j], ~mask[j]), axis=2)\n",
    "        tmp[current_mask] = 0\n",
    "        content = [Y_true, tmp, X[j]]\n",
    "        titles = [\"Оригинальное изображение\",\n",
    "          f\"Изображение с удаленными\\n {int(alphas[j] * 100)}% пикселями\",\n",
    "          \"Восстановленное изображение\"]\n",
    "        for i in range(3):\n",
    "            ax[j][i].set_title(titles[i])\n",
    "            ax[j][i].imshow(content[i])\n",
    "            ax[j][i].grid(False)\n",
    "            ax[j][i].axis(False)\n",
    "    plt.show()"
   ]
  },
  {
   "cell_type": "code",
   "execution_count": null,
   "id": "2a11ff05",
   "metadata": {},
   "outputs": [],
   "source": [
    "### YOUR CODE HERE"
   ]
  },
  {
   "cell_type": "markdown",
   "id": "92d653d2",
   "metadata": {},
   "source": [
    "### Часть 3. (2.95 баллов) Редукция дисперсии"
   ]
  },
  {
   "cell_type": "markdown",
   "id": "5235b326",
   "metadata": {},
   "source": [
    "Часто при обучении нейронных сетей возникает вопрос выбора параметра `batch_size`, как вы знаете батчирование (разбирали на паре) помогает уменьшить дисперсию стохастического градиента и следовательно улучшает сходимость. К сожалению, на практике мы не можем взять `batch_size` достаточно большим из-за ограничений видеопамяти, а стохастический градиент все еще достаточно шумный.\n",
    "\n",
    "В этой части Вам предлагется реализовать метод **SVRG** и продемонстрировать его работу.\n",
    "\n",
    "*Замечание*: в базовой реализации мы будем предполагать, что раз в $N$ итераций мы сможем сделать `backward pass` с большим батчом. На практике такое предположение не выполняется. Исправление данной проблемы является чисто технической задачей, которую не обязательно решать в учебных целях."
   ]
  },
  {
   "cell_type": "code",
   "execution_count": null,
   "id": "a8c3aed6",
   "metadata": {},
   "outputs": [],
   "source": [
    "import numpy as np\n",
    "import matplotlib.pyplot as plt\n",
    "\n",
    "from tqdm import tqdm\n",
    "import os\n",
    "import random\n",
    "import copy\n",
    "\n",
    "import torch\n",
    "import torch.nn as nn\n",
    "import torch.optim as optim\n",
    "from torch.utils.data import Dataset, DataLoader\n",
    "\n",
    "from torchvision.datasets import MNIST\n",
    "import torchvision.transforms as transforms"
   ]
  },
  {
   "cell_type": "code",
   "execution_count": null,
   "id": "48d7ed45",
   "metadata": {},
   "outputs": [],
   "source": [
    "def set_global_seed(seed: int) -> None:\n",
    "    \"\"\"\n",
    "    Set global seed for reproducibility.\n",
    "    \"\"\"\n",
    "    \n",
    "\n",
    "    torch.manual_seed(seed)\n",
    "    torch.cuda.manual_seed(seed)\n",
    "    torch.cuda.manual_seed_all(seed)\n",
    "    np.random.seed(seed)\n",
    "    random.seed(seed)\n",
    "\n",
    "set_global_seed(42)"
   ]
  },
  {
   "cell_type": "markdown",
   "id": "5b58af77",
   "metadata": {},
   "source": [
    "**Задание 1. (0.1 баллов)** Предварительные сведения\n",
    "\n",
    "\n",
    "При реализации **SVRG** вам потребуется сохранять веса и градиенты модели. В этом задании вам предлагается поменять местами (свапнуть) веса двух моделей с целью упражнения и упрощения поменимания дальнейшего кода.\n",
    "\n",
    "*Подсказка 1*: обратите внимание на функцию `copy.deepcopy`\n",
    "\n",
    "*Замечание*: Вы можете использовать функции `set_weights`, `set_grad`, но также можно реализовать их сами"
   ]
  },
  {
   "cell_type": "code",
   "execution_count": null,
   "id": "ad8654e6",
   "metadata": {},
   "outputs": [],
   "source": [
    "@torch.no_grad() \n",
    "def set_weights(parameters, parameters_new):\n",
    "    \"\"\"\n",
    "    Функция устанавливает веса parameters_new как веса для parameters\n",
    "    \"\"\"\n",
    "    \n",
    "    for p1, p2 in zip(parameters, parameters_new):\n",
    "        p1.data = p2.data.detach().clone()\n",
    "\n",
    "@torch.no_grad()\n",
    "def set_grad(parameters, parameters_new):\n",
    "    \"\"\"\n",
    "    Функция устанавливает градиенты parameters_new как градиенты для parameters\n",
    "    \"\"\"\n",
    "    for p1, p2 in zip(parameters, parameters_new):\n",
    "        if p2.grad is not None:\n",
    "            p1.grad = p2.grad.detach().clone()"
   ]
  },
  {
   "cell_type": "code",
   "execution_count": null,
   "id": "eac89a26",
   "metadata": {},
   "outputs": [],
   "source": [
    "# Нейросети, веса которых вам нужно поменять местами\n",
    "\n",
    "net1 = nn.Sequential(nn.Linear(4, 4), nn.ReLU()) \n",
    "net2 = nn.Sequential(nn.Linear(4, 4), nn.ReLU())\n",
    "\n",
    "net1_p = list(net1.parameters())\n",
    "net2_p = list(net2.parameters())\n",
    "\n",
    "print(\"Параметры net1\\n\", net1_p)\n",
    "print(\"Параметры net2\\n\", net2_p)"
   ]
  },
  {
   "cell_type": "markdown",
   "id": "b3238cd4",
   "metadata": {},
   "source": [
    "Поменяйте местами веса моделей, код необходимо написать ниже"
   ]
  },
  {
   "cell_type": "code",
   "execution_count": null,
   "id": "40a76f68",
   "metadata": {},
   "outputs": [],
   "source": [
    "# ВАШ КОД ЗДЕСЬ"
   ]
  },
  {
   "cell_type": "code",
   "execution_count": null,
   "id": "e039a5e8",
   "metadata": {},
   "outputs": [],
   "source": [
    "print(\"Параметры net1 после обмена \\n\", list(net1.parameters()))\n",
    "print(\"Параметры net2 после обмена \\n\", list(net2.parameters()))"
   ]
  },
  {
   "cell_type": "markdown",
   "id": "1dd0ae06",
   "metadata": {},
   "source": [
    "**Задание 2. (0.2 баллов)** Реализуйте `SGD`\n",
    "\n",
    "В качестве базового класса будем использовать [torch.optim.Optimizer](https://pytorch.org/docs/stable/optim.html#base-class). Цель этого пункта познакомить вас с тем, как внутри оптимизатора лежат веса и градиенты модели. Вам же необходимо написать шаг стохастического градиентного спуска."
   ]
  },
  {
   "cell_type": "code",
   "execution_count": null,
   "id": "5424ab00",
   "metadata": {},
   "outputs": [],
   "source": [
    "class SGDBase(optim.Optimizer):\n",
    "    \n",
    "    def __init__(self, params, lr):\n",
    "        \n",
    "        # Определение Базового класса\n",
    "        defaults = dict(lr=lr)\n",
    "        super().__init__(params, defaults)\n",
    "\n",
    "    def step(self):\n",
    "        \n",
    "        # Итерация по всем группам параметров\n",
    "        for group in self.param_groups:\n",
    "            \n",
    "            # Итерация по всем параметрам\n",
    "            for p in group['params']:\n",
    "                \n",
    "                # Проверка на то, обучаем ли параметр\n",
    "                if p.grad is None:\n",
    "                    continue\n",
    "                    \n",
    "                # Ваш код здесь"
   ]
  },
  {
   "cell_type": "markdown",
   "id": "8e306f8a",
   "metadata": {},
   "source": [
    "Проверим работоспособность на простой функции и сравним наш алгоритм, с реализацией `optim.SGD`"
   ]
  },
  {
   "cell_type": "code",
   "execution_count": null,
   "id": "ae9ceb24",
   "metadata": {},
   "outputs": [],
   "source": [
    "def foo(x):\n",
    "    return (x - 1.0) ** 2\n",
    "\n",
    "def testing_optimizer(x_0, optimizer_class, num_steps=10):\n",
    "    x = nn.Parameter(data=x_0.clone()) # x - обучаемый параметр\n",
    "    optimizer = optimizer_class([x], lr=0.1)\n",
    "    history = [x.item()]\n",
    "    \n",
    "    for _ in range(num_steps):\n",
    "        optimizer.zero_grad()\n",
    "        \n",
    "        loss = foo(x)\n",
    "        loss.backward()\n",
    "        \n",
    "        optimizer.step()\n",
    "        history.append(x.item())\n",
    "    \n",
    "    \n",
    "    return np.array(history)"
   ]
  },
  {
   "cell_type": "code",
   "execution_count": null,
   "id": "65976387",
   "metadata": {},
   "outputs": [],
   "source": [
    "x_0 = torch.tensor(10.0)\n",
    "history_pytorch = testing_optimizer(x_0, optimizer_class=optim.SGD)\n",
    "history_pytorch"
   ]
  },
  {
   "cell_type": "code",
   "execution_count": null,
   "id": "2f75b486",
   "metadata": {},
   "outputs": [],
   "source": [
    "history_base = testing_optimizer(x_0, optimizer_class=SGDBase)\n",
    "history_base"
   ]
  },
  {
   "cell_type": "code",
   "execution_count": null,
   "id": "9d208de7",
   "metadata": {},
   "outputs": [],
   "source": [
    "assert (history_base == history_pytorch).all()"
   ]
  },
  {
   "cell_type": "markdown",
   "id": "163fecc1",
   "metadata": {},
   "source": [
    "**Задание 3. (0.3 баллов)** Обертка над шагом обучения\n",
    "\n",
    "Для дальнейшего удобства использования, напишем небольшой класс-обертку. Такой ход позволит скрыть от цикла обучения все функции связанные с шагом обучения. Благодаря этому мы сможем добавить **SVRG** (который влияет на только на итерацию обучения) переопределив класс-обертку. Тем самым наша реализация **SVRG** будет спрятана в обертки и не будет влиять на код цикла обучения.\n",
    "\n",
    "*Замечание*: Ниже в целях уменьшения кода, мы предполагаем что в оптимизаторе только одна группа параметров. То есть оптимизаторы вида:\n",
    "\n",
    "```python\n",
    "\n",
    "optim.Adam([\n",
    "        {\"params\": net1.parameters(), \"lr\": lr1},\n",
    "        {\"params\": net2.parameters(), \"lr\": lr2},\n",
    "    ...\n",
    "    ])\n",
    "\n",
    "```\n",
    "\n",
    "**НЕ** будут поддерживаться"
   ]
  },
  {
   "cell_type": "code",
   "execution_count": null,
   "id": "0e371fa2",
   "metadata": {},
   "outputs": [],
   "source": [
    "class WrapperBase:\n",
    "    \n",
    "    def __init__(self, optimizer, loss_fn):\n",
    "        \"\"\"\n",
    "        optimizer - базовый оптимизатор\n",
    "        loss_fn - функция по батчу вычисляющая loss и другие важные в ходе обучения значения.\n",
    "        Функция возвращает словарь, в котором обязательно присутсвует ключ 'loss'.\n",
    "        Значение функции потерь храняться по ключу 'loss'\n",
    "        \n",
    "        \"\"\"\n",
    "        \n",
    "        self.optimizer = optimizer\n",
    "        self.loss_fn = loss_fn\n",
    "    \n",
    "    def get_param_groups(self):\n",
    "        \"\"\"\n",
    "        return\n",
    "        Ссылку на параметры модели, т.е. изменение значения, меняет значение внутри модели\n",
    "        \n",
    "        Замечание: захардкожено [0]\n",
    "        \"\"\"\n",
    "        return self.optimizer.param_groups[0]['params']\n",
    "    \n",
    "    def get_group(self):\n",
    "        \"\"\"\n",
    "        return\n",
    "        Возвращает группу параметров оптимизатора\n",
    "        \n",
    "        Замечание: захардкожено [0]\n",
    "        \"\"\"\n",
    "        return self.optimizer.param_groups[0]\n",
    "    \n",
    "    def zero_grad(self):\n",
    "        \"\"\"\n",
    "        Обнуляет все градиенты для параметров оптимизатора\n",
    "        \"\"\"\n",
    "        \n",
    "        # Ваш код здесь\n",
    "        \n",
    "    def step(self):\n",
    "        \"\"\"\n",
    "        Производит шаг оптимизатора\n",
    "        \"\"\"\n",
    "        \n",
    "        # Ваш код здесь\n",
    "        \n",
    "    def step_fn(self, batch):\n",
    "        self.zero_grad()\n",
    "        \n",
    "        # Ваш код здесь\n",
    "        \n",
    "        self.step()\n",
    "        \n",
    "        return loss"
   ]
  },
  {
   "cell_type": "markdown",
   "id": "69a19007",
   "metadata": {},
   "source": [
    "Тогда мы можем переписать `testing_optimizer` следующим образом"
   ]
  },
  {
   "cell_type": "code",
   "execution_count": null,
   "id": "dd8ed001",
   "metadata": {},
   "outputs": [],
   "source": [
    "def testing_optimizer_wrapper(x_0, optimizer_class, num_steps=10):\n",
    "    x = nn.Parameter(data=x_0.clone()) # x - обучаемый параметр\n",
    "    optimizer = optimizer_class([x], lr=0.1)\n",
    "    optimizer_wrapper = WrapperBase(optimizer, lambda x: {'loss': foo(x)})\n",
    "    \n",
    "    history = [x.item()]\n",
    "    \n",
    "    for _ in range(num_steps):\n",
    "        optimizer_wrapper.step_fn(x)\n",
    "        history.append(x.item())\n",
    "    \n",
    "    \n",
    "    return np.array(history)"
   ]
  },
  {
   "cell_type": "code",
   "execution_count": null,
   "id": "0ea93921",
   "metadata": {},
   "outputs": [],
   "source": [
    "x_0 = torch.tensor(10.0, requires_grad=True)\n",
    "history = testing_optimizer(x_0, optimizer_class=optim.SGD)\n",
    "history_wrapper = testing_optimizer_wrapper(x_0, optimizer_class=optim.SGD)"
   ]
  },
  {
   "cell_type": "code",
   "execution_count": null,
   "id": "b883fff3",
   "metadata": {},
   "outputs": [],
   "source": [
    "assert (history == history_wrapper).all()"
   ]
  },
  {
   "cell_type": "markdown",
   "id": "5d18c06e",
   "metadata": {},
   "source": [
    "**Задание 4. (0.75 баллов)** **SVRG**\n",
    "\n",
    "Реализуем метод `SVRG` как обёртку над базовым классом оптимизатора (оптимизатор используем условно как удобный интерфейс)\n",
    "\n",
    "Для начала напомним вид алгоритма из семинара:"
   ]
  },
  {
   "cell_type": "markdown",
   "id": "3b92d759",
   "metadata": {},
   "source": [
    "![svrg](data:image/png;base64,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)"
   ]
  },
  {
   "cell_type": "markdown",
   "id": "01d5fc4e",
   "metadata": {},
   "source": [
    "**ВАЖНО**\n",
    "\n",
    "Мы будем реализовывать чуть другую версию:\n",
    "    \n",
    "```python\n",
    "\n",
    "for i in range(1, N):\n",
    "    if i % S == 0:\n",
    "        w_large := w\n",
    "        Обновить G_s           # градиент по всей выборки (большому батчу) при весах w_large\n",
    "        \n",
    "    Засэмплировать батч        # batch\n",
    "    g_main                     # градиент по batch при весах w\n",
    "    g_bias                     # градиент по batch при весах w_large\n",
    "    g = g_main - g_bias + G_s\n",
    "    \n",
    "    w = w - lr * g\n",
    "```"
   ]
  },
  {
   "cell_type": "markdown",
   "id": "6dad1dec",
   "metadata": {},
   "source": [
    "*Замечание*. Вы можете менять интерфейсы классов так, как считаете нужным, предложенный вариант - один из возможных. Главное, чтобы все работало"
   ]
  },
  {
   "cell_type": "code",
   "execution_count": null,
   "id": "b50b5441",
   "metadata": {},
   "outputs": [],
   "source": [
    "class SVRG(WrapperBase):\n",
    "    \n",
    "    def __init__(self, optimizer, loss_fn, data, S):\n",
    "        \"\"\"\n",
    "        data - вся выборка или батч большого размера, по которому считается градиент раз в S итераций\n",
    "        S - параметр указывающий частоту пересчета градиента по всей выборки\n",
    "        \"\"\"\n",
    "        \n",
    "        super().__init__(optimizer=optimizer, loss_fn=loss_fn)\n",
    "        \n",
    "        self.data = data\n",
    "        self.S = S\n",
    "        self.counter = 0\n",
    "    \n",
    "    def step_fn(self, batch):\n",
    "        \n",
    "        # Обнуление градинетов модели, чтобы не накладывались при следующих вычислениях\n",
    "        # Ваш код здесь\n",
    "        \n",
    "        # Подсчет градиента на батче\n",
    "        # Ваш код здесь\n",
    "        \n",
    "        # Сохранение градиентов и весов посчитанных на батче\n",
    "        # Ваш код здесь\n",
    "        \n",
    "        # Обнуление градинетов модели, чтобы не накладывались при следующих вычислениях\n",
    "        # Ваш код здесь\n",
    "\n",
    "        if self.counter == 0:\n",
    "            # Подсчет градиента на большом множестве\n",
    "            # Ваш код здесь\n",
    "            \n",
    "            \n",
    "            # Сохранение градиентов и весов посчитанных на большом батче\n",
    "            self.params_large = ...\n",
    "            set_grad(self.params_large, self.get_param_groups())\n",
    "            \n",
    "            # Обнуление градинетов модели, чтобы не накладывались при следующих вычислениях\n",
    "            # Ваш код здесь\n",
    "\n",
    "        \n",
    "        # Установка весов модели (для которой считали градиент на большом батче)\n",
    "        # Ваш код здесь\n",
    "        \n",
    "        # Подсчет градиента на батче для поправки\n",
    "        # Ваш код здесь\n",
    "        \n",
    "        \n",
    "        # Сохранение градиентов посчитанных на батче поправки\n",
    "        params_bias = ...\n",
    "        set_grad(params_bias, self.get_param_groups())\n",
    "        \n",
    "        # Востановлние весов и градиентов прошлой модели\n",
    "        # Ваш код здесь\n",
    "        \n",
    "        \n",
    "        for p_main, p_large, p_bias in zip(self.get_param_groups(), self.params_large, params_bias):\n",
    "    \n",
    "            if p_main.grad is None:\n",
    "                continue\n",
    "    \n",
    "            # Подсчет градиента с поправкаи\n",
    "            d_p = ...\n",
    "            \n",
    "            # Подменяем градиенты для оптимизатора\n",
    "            p_main.grad.data = d_p.detach().clone()\n",
    "        \n",
    "        # Шаг основного оптимизатора с новыми градиентами\n",
    "        self.step()\n",
    "        \n",
    "        # Обновление счётчика\n",
    "        self.counter += 1\n",
    "        \n",
    "        if self.counter == self.S:\n",
    "            self.counter = 0\n",
    "        \n",
    "        return loss_main\n",
    "        "
   ]
  },
  {
   "cell_type": "markdown",
   "id": "0a3ebbbd",
   "metadata": {},
   "source": [
    "**Задание 5: демонстрация использования оптимизатора (0 баллов)**: Эксперименты на  `MNIST`\n",
    "    \n",
    "Для корректных выводов по работе  **SVRG** нам необходиомо:\n",
    "\n",
    "1) Задача на реальных данных\n",
    "\n",
    "2) Baseline решения этой задачи\n",
    "\n",
    "\n",
    "В качестве данных предлагается `MNIST`, в качестве Baseline следующий код.\n",
    "\n",
    "\n",
    "Напомним, что **SVRG** придуман для понижения дисперсии стохастического градиента. Поэтому будем иметь 2 стандартных решения: с высокой и низкой дисперсией стохастического градиента. \n",
    "\n",
    "\n",
    "Вам необходимо обучить 2 и больше модели, с которыми Вы дальше будете сравниваться. Предполагается, что у одной модели будет выскоая дисперсия стохастического градиента, а у другой низкая. Другие модели тоже можно обучать для вывода (но эти 2 необходимо получить).\n",
    "\n",
    "\n",
    "**Важно**: Все эксперименты должны быть воспроизводимы, поэтому фиксируете сид\n",
    "\n",
    "**Важно**: Если будете менять обучение, постарайтесь, чтобы оно не заняло более 10 минут вычислений на гпу для 1 модели\n",
    "\n",
    "*Замечание*: весь код ниже можно менять, главное выполнить задание 6 и показать 2 baseline, с которыми Вы дальше будете сравниваться\n",
    "\n"
   ]
  },
  {
   "cell_type": "code",
   "execution_count": null,
   "id": "157ea1f2",
   "metadata": {},
   "outputs": [],
   "source": [
    "device = \"cpu\"\n",
    "\n",
    "if torch.cuda.is_available():\n",
    "    device = \"cuda:0\"\n",
    "    \n",
    "device"
   ]
  },
  {
   "cell_type": "markdown",
   "id": "d3a27732",
   "metadata": {},
   "source": [
    "Подготовка данных"
   ]
  },
  {
   "cell_type": "code",
   "execution_count": null,
   "id": "8a26875f",
   "metadata": {},
   "outputs": [],
   "source": [
    "data_dir = \"./data\"\n",
    "os.makedirs(data_dir, exist_ok=True)\n",
    "\n",
    "transform = transforms.Compose([transforms.ToTensor(), transforms.Normalize(mean=(0.5), std=(0.5))])\n",
    "\n",
    "train_dataset = MNIST(root=data_dir, train=True, download=True, \n",
    "                      transform=transform)\n",
    "\n",
    "test_dataset = MNIST(root=data_dir, train=False, download=True,\n",
    "                     transform=transform)"
   ]
  },
  {
   "cell_type": "markdown",
   "id": "a2945f16",
   "metadata": {},
   "source": [
    "Архитектура модели"
   ]
  },
  {
   "cell_type": "code",
   "execution_count": null,
   "id": "800c448b",
   "metadata": {},
   "outputs": [],
   "source": [
    "class MnistClassifier(nn.Module):\n",
    "    \n",
    "    def __init__(self, hidden_dim=10, image_dim=28):\n",
    "        \n",
    "        super().__init__()\n",
    "        \n",
    "        self.fc_input = nn.Sequential(nn.Flatten(), \n",
    "                                      nn.Linear(image_dim ** 2, hidden_dim), \n",
    "                                      nn.SiLU())\n",
    "        \n",
    "        self.fc_out = nn.Sequential(nn.Linear(hidden_dim, 10))\n",
    "        \n",
    "        \n",
    "    def forward(self, x):\n",
    "        \n",
    "        return self.fc_out(self.fc_input(x))"
   ]
  },
  {
   "cell_type": "markdown",
   "id": "317c267a",
   "metadata": {},
   "source": [
    "Определение `loss_fn` для класса обертки"
   ]
  },
  {
   "cell_type": "code",
   "execution_count": null,
   "id": "6bec128b",
   "metadata": {},
   "outputs": [],
   "source": [
    "def loss_fn_constructor(model, device):\n",
    "    criterion = nn.CrossEntropyLoss(reduction='mean')\n",
    "    \n",
    "    def loss_fn(batch):\n",
    "        X_batch, y_true = batch\n",
    "        \n",
    "        X_batch = X_batch.to(device)\n",
    "        y_true = y_true.to(device)\n",
    "            \n",
    "        out = net(X_batch)\n",
    "        loss = criterion(out, y_true)\n",
    "        \n",
    "        y_pred = torch.argmax(out, 1)\n",
    "        accuracy = torch.sum(y_pred == y_true) / y_pred.shape[0]\n",
    "        \n",
    "        return {'loss': loss, 'accuracy': accuracy}\n",
    "    \n",
    "    return loss_fn"
   ]
  },
  {
   "cell_type": "markdown",
   "id": "4502bde2",
   "metadata": {},
   "source": [
    "**Логирование**\n",
    "\n",
    "Для проведение экспериментов вам потребуется отслеживать следующие показатели:\n",
    "\n",
    "- Дисперсия стохастического градиента\n",
    "\n",
    "- Значения loss и accuracy на train и test\n",
    "\n",
    "- Дисперсия весов модели\n",
    "\n",
    "Для логирования Вы можете использовать любые библиотеки либо собирать данные во время обучения и выводить их после. Здесь предложена реализация через wandb, но вы можете ее не использовать.\n",
    "\n",
    "**ВАЖНО** \n",
    "\n",
    "1. Без графиков или иных подтверждающих результатов работа не будет засчитана\n",
    "\n",
    "2. Все графики должны быть в ноутбуке, то есть нельзя прикреплять ссылки на запуск\n",
    "\n",
    "3. Все запуски должны быть воспроизводимы при последовательном выполнении ячеек"
   ]
  },
  {
   "cell_type": "code",
   "execution_count": null,
   "id": "84b14645",
   "metadata": {},
   "outputs": [],
   "source": [
    "import wandb"
   ]
  },
  {
   "cell_type": "code",
   "execution_count": null,
   "id": "31c658b4",
   "metadata": {},
   "outputs": [],
   "source": [
    "@torch.no_grad()\n",
    "def log_variance(model, global_step):\n",
    "    for tag, value in model.named_parameters():\n",
    "        g = value.grad\n",
    "        if g is None:\n",
    "            continue\n",
    "        \n",
    "        wandb.log({f\"grad_var/{tag}\": torch.var(g.cpu())}, global_step)\n",
    "        wandb.log({f\"params_var/{tag}\": torch.var(value.data.cpu())}, global_step)"
   ]
  },
  {
   "cell_type": "markdown",
   "id": "4dc0b9ed",
   "metadata": {},
   "source": [
    "**Обучение**\n",
    "\n",
    "Так как **SVRG** обновляет большой градиент каждые $S$ итераций, то для частоты эксперимента будем обучать каждую модель фиксированное число итераций."
   ]
  },
  {
   "cell_type": "code",
   "execution_count": null,
   "id": "6a61aec5",
   "metadata": {},
   "outputs": [],
   "source": [
    "@torch.no_grad()\n",
    "def evaluate(net, valid_dataloader, criterion_fn, device):\n",
    "    net.eval()\n",
    "    loss, accuracy = 0, 0\n",
    "    count = 0\n",
    "    for X_batch, y_true in valid_dataloader:\n",
    "        X_batch = X_batch.to(device)\n",
    "        y_true = y_true.to(device)\n",
    "\n",
    "        out = net(X_batch)\n",
    "        y_pred = torch.argmax(out, 1)\n",
    "        \n",
    "        bs = out.shape[0]\n",
    "        loss += criterion_fn(out, y_true).item() * bs\n",
    "        accuracy += torch.sum(y_pred == y_true).item()\n",
    "        count += bs\n",
    "        \n",
    "    return loss / count, accuracy / count\n",
    "\n",
    "    \n",
    "\n",
    "def train(iters_num, net, optimizer_wrapper, criterion_fn, train_dataloader, valid_dataloader, device, name):\n",
    "    \n",
    "    wandb.init(project=\"mmro_mmp\", name=name)\n",
    "    global_step = 1\n",
    "    net = net.to(device)\n",
    "    \n",
    "    iters_per_epoch = len(train_dataloader)\n",
    "    epoch_num = iters_num // iters_per_epoch + (iters_num % iters_per_epoch != 1)\n",
    "    \n",
    "    for epoch in tqdm(range(epoch_num)):        \n",
    "        for batch in train_dataloader:\n",
    "            \n",
    "            d = optimizer_wrapper.step_fn(batch)\n",
    "            loss = d['loss']\n",
    "            accuracy = d['accuracy']\n",
    "            \n",
    "            log_variance(net, global_step)\n",
    "            wandb.log({\"train/loss\": loss.item(), \"train/accuracy\": accuracy.item()}, step=global_step)\n",
    "            \n",
    "            if global_step % 50 == 0:\n",
    "        \n",
    "                loss, accuracy = evaluate(net, valid_dataloader, criterion_fn, device)\n",
    "                net.train()\n",
    "                \n",
    "                wandb.log({\"eval/loss\": loss, \"eval/accuracy\": accuracy}, step=global_step)\n",
    "            \n",
    "            \n",
    "            if global_step == iters_num:\n",
    "                break\n",
    "                \n",
    "            global_step += 1\n",
    "        \n",
    "    wandb.finish()"
   ]
  },
  {
   "cell_type": "markdown",
   "id": "2a1f70f6",
   "metadata": {},
   "source": [
    "Продемонстриуем как получить модель с низкой дисперсией стохастического градиента"
   ]
  },
  {
   "cell_type": "markdown",
   "id": "7bd09363",
   "metadata": {},
   "source": [
    "*Замечание*: Параметры архитектуры и количесства итерецией желательно не менять (все необходимые результаты можно получить и не изменяя их) "
   ]
  },
  {
   "cell_type": "code",
   "execution_count": null,
   "id": "7ec99298",
   "metadata": {},
   "outputs": [],
   "source": [
    "set_global_seed(42)\n",
    "\n",
    "net = MnistClassifier(hidden_dim=10)\n",
    "loss_fn = loss_fn_constructor(model=net, device=device)\n",
    "\n",
    "optimizer = optim.SGD(net.parameters(), lr=1e-2)\n",
    "optimizer_wrapper = WrapperBase(optimizer=optimizer, loss_fn=loss_fn)\n",
    "\n",
    "train_dataloader = DataLoader(train_dataset, batch_size=1024, shuffle=True, drop_last=True)\n",
    "val_dataloader = DataLoader(test_dataset, batch_size=1024, shuffle=False)\n",
    "\n",
    "criterion_fn = nn.CrossEntropyLoss(reduction='mean')"
   ]
  },
  {
   "cell_type": "code",
   "execution_count": null,
   "id": "35645312",
   "metadata": {},
   "outputs": [],
   "source": [
    "train(\n",
    "    iters_num=1_000, \n",
    "    net=net,\n",
    "    optimizer_wrapper=optimizer_wrapper,\n",
    "    criterion_fn=criterion_fn,\n",
    "    train_dataloader=train_dataloader,\n",
    "    valid_dataloader=val_dataloader,\n",
    "    device=device,\n",
    "    name=\"SGD_bs_large\")"
   ]
  },
  {
   "cell_type": "markdown",
   "id": "6817659b",
   "metadata": {},
   "source": [
    "При правильной реализации accuracy на тесте будет  `∼0.88`"
   ]
  },
  {
   "cell_type": "markdown",
   "id": "950efaf2",
   "metadata": {},
   "source": [
    "**Задание 6. (0.5 баллов)**: получите модель с высокой дисперсией стохастического градиента\n",
    "\n"
   ]
  },
  {
   "cell_type": "code",
   "execution_count": null,
   "id": "6cd9f76c",
   "metadata": {},
   "outputs": [],
   "source": [
    "# Ваш код здесь"
   ]
  },
  {
   "cell_type": "markdown",
   "id": "34101798",
   "metadata": {},
   "source": [
    "При правильной реализации accuracy на тесте будет  ` > 0.74`"
   ]
  },
  {
   "cell_type": "markdown",
   "id": "81e8b021",
   "metadata": {},
   "source": [
    "**Сделайте выводы**: как влияет дисперсия градиента на обучение (loss, accuracy)\n",
    "\n",
    "Обязательно продемонстрируйте графики, подтверждающие Ваши выводы.\n"
   ]
  },
  {
   "cell_type": "markdown",
   "id": "2c24f4d2",
   "metadata": {},
   "source": [
    "**Задание 7. (0.1 баллов)**: проверка **SVRG**"
   ]
  },
  {
   "cell_type": "markdown",
   "id": "0ab34771",
   "metadata": {},
   "source": [
    "Выберите подмножество обучающего датасета, по которому будете считать \"честный\" градиент. Это может быть либо сам датасет, либо батч размера сильно больше чем батч обучающей выборки.\n",
    "\n",
    "Убедитесь, что выбранный вами батч не смещен, т.е. присутсвуют все классы в равных пропорциях"
   ]
  },
  {
   "cell_type": "code",
   "execution_count": null,
   "id": "a0174681",
   "metadata": {},
   "outputs": [],
   "source": [
    "# ВАШ КОД ЗДЕСЬ\n",
    "\n",
    "data = ..."
   ]
  },
  {
   "cell_type": "markdown",
   "id": "5e5aedf4",
   "metadata": {},
   "source": [
    "Проверьте корректность вашей реализации **SVRG**, для этого предлагается провести следующий эксперимент:\n",
    "\n",
    "Если выбрать `S = 1`, то ожидается что обучение станет похожим на градиентный спуск, т.е. траектории обучения похожи на запуск с большим `batch_size`.\n",
    "\n",
    "Обратите, что функция `step_fn` возвращает значения функций на батче обучающей выборки, т.е. значения достаточно шумные"
   ]
  },
  {
   "cell_type": "code",
   "execution_count": null,
   "id": "19241dcb",
   "metadata": {},
   "outputs": [],
   "source": [
    "set_global_seed(42)\n",
    "\n",
    "net = MnistClassifier(10)\n",
    "loss_fn = loss_fn_constructor(model=net, device=device)\n",
    "\n",
    "optimizer = optim.SGD(net.parameters(), lr=1e-2)\n",
    "optimizer_wrapper = SVRG(optimizer=optimizer, loss_fn=loss_fn, data=data, S=1)\n",
    "\n",
    "train_dataloader = DataLoader(train_dataset, batch_size=2, shuffle=True, drop_last=True)\n",
    "val_dataloader = DataLoader(test_dataset, batch_size=1024, shuffle=False)\n",
    "\n",
    "criterion_fn = nn.CrossEntropyLoss(reduction='mean')"
   ]
  },
  {
   "cell_type": "markdown",
   "id": "f89d76ad",
   "metadata": {},
   "source": [
    "При правильной реализации accuracy на тесте будет  `∼0.88`"
   ]
  },
  {
   "cell_type": "markdown",
   "id": "f0319749",
   "metadata": {},
   "source": [
    "Насколько согласована реально полученная картина с ожиданиями? Сделайте выводы.\n",
    "\n",
    "**Выводы**:\n",
    "    "
   ]
  },
  {
   "cell_type": "markdown",
   "id": "a5bf1f01",
   "metadata": {},
   "source": [
    "**Задание 8. (1 балл)**: Эксперименты (если у вас 1 запуск занимает 1 минуту, то секция должна выполняться не более 16 минут)"
   ]
  },
  {
   "cell_type": "markdown",
   "id": "bad1a39e",
   "metadata": {},
   "source": [
    "Запуск будет считаться **корректным** если соблюдаются следующие правила:\n",
    "\n",
    "1) Выберите подмножество обучающей выборки `data`, по которому будете считать честный градиент.\n",
    "\n",
    "2) Так как цель метода, без особой вычислительной нагрузки уменьшить дисперсию, то выбирать размер `data` и `S` нужно брать разумными. Разумным считаются такие параметры, при которых количество подсчетов градиентов от элемента выборки во время обучения увеличиться не более чем в 3 раза.\n",
    "\n",
    "\n",
    "Пример **НЕ** правильного подбора:\n",
    "\n",
    "`batch_size = 2`\n",
    "\n",
    "`len(data) = 50000`\n",
    "\n",
    "`S = 1`\n",
    "\n",
    "\n",
    "Каждая итерация обучения в среднем будет делать `50002` подсчетов градиента, вместо 2\n",
    "\n",
    "Пример разумного подбора:\n",
    "\n",
    "`batch_size = 2`\n",
    "\n",
    "`len(data) = 256`\n",
    "\n",
    "`S = 100`\n",
    "\n",
    "Каждая итерация обучения в среднем будет делать `4.56` подсчетов градиента, вместо 2"
   ]
  },
  {
   "cell_type": "markdown",
   "id": "81608006",
   "metadata": {},
   "source": [
    "**Важно**: правила можно нарушать для проверки и демонстрации граничных случаев, но базовые эксперименты все равно должны быть продемонстрированы"
   ]
  },
  {
   "cell_type": "markdown",
   "id": "fc9df059",
   "metadata": {},
   "source": [
    "Цель эксперимента:\n",
    "\n",
    "Продемонстровать как меняется обучение от размера `data` и параметра `S`.\n",
    "\n",
    "Необходимы минимум перебора параметров:\n",
    "\n",
    "$S = 100, 300, 500$\n",
    "\n",
    "$len(data) = 256$ и любой на ваше усмотрение, который согласуется с правилами выше.\n",
    "\n",
    "\n",
    "Минимальные показатели, по которым должны быть сделаны выводы:\n",
    "\n",
    "1) Лучший показатели accuracy, loss на валидации\n",
    "\n",
    "2) Поведение графиков на валидации и обучении\n",
    "\n",
    "3) Дисперсия стохастического градиента\n",
    "\n",
    "4) Время обучение модели\n",
    "\n",
    "5) Максимальная занятая память (wandb логирует)\n",
    "\n",
    "6) Среднее число подсчетов градиентов на одной итерации обучения (за 1 подсчет считается вызов от 1 элемента выборки) (Формула выше в примерах описана)\n",
    "\n",
    "\n",
    "Без учета поведения дисперсии стохастического градиента задание не будет засчитано!\n",
    "\n",
    "\n",
    "**Важно**: не обязательно делать комбинаторный перебор, обычно достаточно более разумного подбора параметров\n",
    "\n",
    "\n",
    "**Важно**: Вы можете менять все функции если вам необхдимо, главное чтобы работало\n",
    "\n",
    "**ОБЯЗАТЕЛЬНО НУЖНО ПРИКРЕПИТЬ ГРАФИКИ В НОУТБУК, НЕ ССЫЛКУ**\n"
   ]
  },
  {
   "cell_type": "markdown",
   "id": "c3505835",
   "metadata": {},
   "source": [
    "**ОЧЕНЬ ОЧЕНЬ ВАЖНО**: Все результаты должны сравниваться с обученными раннее моделями baseline. И делать выводы учитывая их. Нельзя исследовать метод в вакуме без хороших примеров для сравнения!"
   ]
  },
  {
   "cell_type": "code",
   "execution_count": null,
   "id": "ff2e018b",
   "metadata": {},
   "outputs": [],
   "source": [
    "# ВАШ КОД ЗДЕСЬ"
   ]
  },
  {
   "cell_type": "markdown",
   "id": "9d88eb37",
   "metadata": {},
   "source": [
    "**Бонус 1 (1 баллов)**: Уменьшить максимальное потребление видео памяти (обратить на внимание подсчета большого батча). Продемонстрировать как поменялось время обучение и потребление памяти."
   ]
  },
  {
   "cell_type": "markdown",
   "id": "581f897d",
   "metadata": {},
   "source": [
    "**Бонус 2 (1.25 баллов)**: Проверить для других оптимизаторов влияние SVRG. При нашей реализации достаточно заменить базовый оптимизатор, на любой другой при создании обёртки. Сравнить сходимость метода и основные показатели"
   ]
  },
  {
   "cell_type": "markdown",
   "id": "d37029f1",
   "metadata": {},
   "source": [
    "**Бонус 3 (1.25 баллов)**: Реализовать L-SVRG и сравнить результаты с SVRG и простым стохастическим градиентным спуском. Сравнить сходимость метода и основные показатели"
   ]
  },
  {
   "cell_type": "markdown",
   "id": "2197a8bb",
   "metadata": {},
   "source": [
    "**Бонус 4 (1.5 баллов)**: Реализовать метод [SAGA](https://www.di.ens.fr/~fbach/Defazio_NIPS2014.pdf) или любой другой метод понижения дисперсии (кроме батчирования). Описать идею метода. Сравнить сходимость метода и основные показатели"
   ]
  },
  {
   "cell_type": "markdown",
   "id": "1e54fc67",
   "metadata": {},
   "source": [
    "### Часть 4 (2.55 баллов). Методы Ньютона и LBFGS для пуассоновской регрессии."
   ]
  },
  {
   "cell_type": "markdown",
   "id": "1554145b",
   "metadata": {},
   "source": [
    "В этой части задания вам предстоит обучить модель пуассоновской регрессии. Для этой задачи вы реализуете метод Ньютона и оракулы для Newton-CG и LBFGS."
   ]
  },
  {
   "cell_type": "markdown",
   "id": "05d22c96",
   "metadata": {},
   "source": [
    "###### Постановка задачи"
   ]
  },
  {
   "cell_type": "markdown",
   "id": "5b63f6e6",
   "metadata": {},
   "source": [
    "Рассмотрим задачу количественной регресии (count regression). Пусть дана выборка $\\{x_i,y_i\\}_{i=1}^\\ell$, где $x_i\\in\\mathbb{R}^d$, $y_i\\in\\mathbb{N}\\cup\\{0\\}$.\n",
    "\n",
    "Будем считать, что\n",
    "$$\n",
    "y\\sim p(y\\,|\\,\\lambda)={e^{-\\lambda}\\over y!}\\lambda^{y},\n",
    "$$\n",
    "где $\\lambda=\\exp(w^Tx)$.\n",
    "\n",
    "Как вы могли догадаться, мы имеем дело с обобщённой линейной моделью. Обучение производится методом максимизации правдоподобия:\n",
    "$$\n",
    "p(X\\,|\\,w)=\\prod_{i=1}^\\ell p(y_i\\,|\\,x_i,w)\\to\\max_w\\iff \\mathcal{L}(x,y,w)=-\\log p(y\\,|\\,\\exp(w^Tx)),\\ Q=\\sum_{i=1}^\\ell\\mathcal{L}(x_i,y_i,w)\\to\\min_w.\n",
    "$$\n",
    "\n",
    "Алгоритм предсказания пуассоновской регрессии:\n",
    "$$\n",
    "a(x)=\\lfloor\\exp(w^Tx)\\rfloor.\n",
    "$$"
   ]
  },
  {
   "cell_type": "markdown",
   "id": "0688d062",
   "metadata": {},
   "source": [
    "**Задание 1. (0.5 баллов)**. Выведите формулы градиента $\\nabla_wQ$ и гессиана $\\nabla^2_wQ$."
   ]
  },
  {
   "cell_type": "markdown",
   "id": "f2054503",
   "metadata": {},
   "source": [
    "**Решение:**"
   ]
  },
  {
   "cell_type": "markdown",
   "id": "9215eebc",
   "metadata": {},
   "source": [
    "**Задание 2 (0.8 баллов)**. Реализуйте полученные формулы в виде функции оракула."
   ]
  },
  {
   "cell_type": "code",
   "execution_count": null,
   "id": "1720ba55",
   "metadata": {},
   "outputs": [],
   "source": [
    "import numpy as np\n",
    "\n",
    "class Oracle:\n",
    "    def __init__(self, X, y):\n",
    "        self.X = X\n",
    "        self.y = y\n",
    "    \n",
    "    def fun(self, weights):\n",
    "        \"\"\"Compute objective, gradient, hessian\"\"\"\n",
    "        # your code is here\n",
    "    \n",
    "    def jac(self, weights):\n",
    "        \"\"\"Compute gradient. Use it for LBFGS, Newton-CG, Newton.\"\"\"\n",
    "        # your code is here\n",
    "    \n",
    "    def hess(self, weights):\n",
    "        \"\"\"Compute hessian. Use it for Newton.\"\"\"\n",
    "        # your code is here\n",
    "    \n",
    "    def hessp(self, weights, vector):\n",
    "        \"\"\"Compute `hessian-times-vector` product. Use it for Newton-CG\"\"\"\n",
    "        # your code is here"
   ]
  },
  {
   "cell_type": "code",
   "execution_count": null,
   "id": "2df25007",
   "metadata": {},
   "outputs": [],
   "source": [
    "# Вспомогатейльный класс, который будет логгировать процесс обучения\n",
    "from time import perf_counter\n",
    "\n",
    "\n",
    "class Logger:\n",
    "    def __init__(self):\n",
    "        self.w = []\n",
    "        self.time = []\n",
    "    \n",
    "    def __call__(self, weights):\n",
    "        self.w.append(weights)\n",
    "        \n",
    "        if hasattr(self, 'prev'):\n",
    "            self.time.append(perf_counter() - self.prev)\n",
    "\n",
    "        self.prev = perf_counter()"
   ]
  },
  {
   "cell_type": "markdown",
   "id": "0b3b4e46",
   "metadata": {},
   "source": [
    "**Задание 3. (0 баллов)**. Протестируем алгоритм на синтетических данных"
   ]
  },
  {
   "cell_type": "code",
   "execution_count": null,
   "id": "eaafa679",
   "metadata": {},
   "outputs": [],
   "source": [
    "def cartesian_product(*arrays):\n",
    "    \"\"\"https://stackoverflow.com/a/11146645\"\"\"\n",
    "    la = len(arrays)\n",
    "    dtype = np.result_type(*arrays)\n",
    "    arr = np.empty([len(a) for a in arrays] + [la], dtype=dtype)\n",
    "    for i, a in enumerate(np.ix_(*arrays)):\n",
    "        arr[...,i] = a\n",
    "    return arr.reshape(-1, la)"
   ]
  },
  {
   "cell_type": "markdown",
   "id": "b06914e5",
   "metadata": {},
   "source": [
    "Датасет будет состоять из точек, взятых по сетке на прямоугольнике [0,3] x [0,3] "
   ]
  },
  {
   "cell_type": "code",
   "execution_count": null,
   "id": "7dc78641",
   "metadata": {},
   "outputs": [],
   "source": [
    "n_points_root = 50\n",
    "\n",
    "x = np.linspace(0, 3, n_points_root)\n",
    "y = np.linspace(0, 3, n_points_root)\n",
    "\n",
    "features = cartesian_product(x, y)\n",
    "features.shape"
   ]
  },
  {
   "cell_type": "markdown",
   "id": "b8ca7eee",
   "metadata": {},
   "source": [
    "Зафиксируем золотое значение параметров:"
   ]
  },
  {
   "cell_type": "code",
   "execution_count": null,
   "id": "751089de",
   "metadata": {},
   "outputs": [],
   "source": [
    "w = np.array([0.7, -0.25])"
   ]
  },
  {
   "cell_type": "markdown",
   "id": "e92fe148",
   "metadata": {},
   "source": [
    "Метки сгенерируем из пуассоновского распределения:"
   ]
  },
  {
   "cell_type": "code",
   "execution_count": null,
   "id": "f2c6cd43",
   "metadata": {},
   "outputs": [],
   "source": [
    "targets = np.random.poisson(np.exp(features @ w))\n",
    "targets.shape"
   ]
  },
  {
   "cell_type": "markdown",
   "id": "028b8a5d",
   "metadata": {},
   "source": [
    "Визуализируем выборку:"
   ]
  },
  {
   "cell_type": "code",
   "execution_count": null,
   "id": "1078cc43",
   "metadata": {},
   "outputs": [],
   "source": [
    "import matplotlib.pyplot as plt\n",
    "\n",
    "def visualise(z):\n",
    "    ax = plt.contourf(x, y, z.reshape(n_points_root, n_points_root).T)\n",
    "    cbar = plt.colorbar(ax)\n",
    "    cbar.ax.set_ylabel('target')\n",
    "    plt.xlabel('feature 0')\n",
    "    plt.ylabel('feature 1')\n",
    "    plt.show()\n",
    "\n",
    "visualise(targets)"
   ]
  },
  {
   "cell_type": "markdown",
   "id": "60150cd2",
   "metadata": {},
   "source": [
    "Следующая ячейка должна выполняться без ошибок **(иначе -0.4 балла)**"
   ]
  },
  {
   "cell_type": "code",
   "execution_count": null,
   "id": "1e79676d",
   "metadata": {},
   "outputs": [],
   "source": [
    "from scipy.optimize import minimize\n",
    "\n",
    "oracle = Oracle(features, targets)\n",
    "cb = Logger()\n",
    "weights = np.random.normal(size=2)\n",
    "res = minimize(\n",
    "    oracle.fun, weights,\n",
    "    method=\"L-BFGS-B\",\n",
    "    jac=oracle.jac,\n",
    "    callback=cb\n",
    ")\n",
    "res"
   ]
  },
  {
   "cell_type": "markdown",
   "id": "c8d5db1e",
   "metadata": {},
   "source": [
    "Результат `res` должен содержать информацию об успешной оптимизации, а полученные веса должны быть похожи на те, что заданы выше:"
   ]
  },
  {
   "cell_type": "code",
   "execution_count": null,
   "id": "497f5bfa",
   "metadata": {},
   "outputs": [],
   "source": [
    "res['x']"
   ]
  },
  {
   "cell_type": "markdown",
   "id": "7146a0f2",
   "metadata": {},
   "source": [
    "Визуализируйте предсказания:"
   ]
  },
  {
   "cell_type": "code",
   "execution_count": null,
   "id": "c88041a8",
   "metadata": {},
   "outputs": [],
   "source": [
    "pred = np.floor(np.exp(features @ res['x']))\n",
    "\n",
    "visualise(pred)"
   ]
  },
  {
   "cell_type": "markdown",
   "id": "4a11b6ce",
   "metadata": {},
   "source": [
    "Следующая ячейка должна выполняться без ошибок и сообщать об успешной оптимизации **(иначе -0.4 балла)**:"
   ]
  },
  {
   "cell_type": "code",
   "execution_count": null,
   "id": "5d3db5da",
   "metadata": {},
   "outputs": [],
   "source": [
    "oracle = Oracle(features, targets)\n",
    "cb = Logger()\n",
    "weights = np.random.normal(size=2)\n",
    "res = minimize(\n",
    "    oracle.fun, weights,\n",
    "    method=\"Newton-CG\",\n",
    "    jac=oracle.jac,\n",
    "    hessp=oracle.hessp,\n",
    "    callback=cb,\n",
    ")\n",
    "res"
   ]
  },
  {
   "cell_type": "code",
   "execution_count": null,
   "id": "c82b4c1c",
   "metadata": {},
   "outputs": [],
   "source": [
    "res['x']"
   ]
  },
  {
   "cell_type": "markdown",
   "id": "5bc81f10",
   "metadata": {},
   "source": [
    "**Задание 4 (0.25 баллов)**. Реализуйте бектрекинг по правилу Армихо."
   ]
  },
  {
   "cell_type": "code",
   "execution_count": null,
   "id": "d175efc6",
   "metadata": {},
   "outputs": [],
   "source": [
    "def line_search(f, grad, x, d, c=1e-4, rho=0.9, tol=1e-3, alpha0=1):\n",
    "    \"\"\"\n",
    "    Line search for learning rate with Armijo condition.\n",
    "\n",
    "    Params\n",
    "    ------\n",
    "    f: objective function\n",
    "    grad: vector\n",
    "    x: current solution of optimization problem\n",
    "    d: direction along which to search\n",
    "    alpha0: initialization for alpha\n",
    "    \n",
    "    Return\n",
    "    ------\n",
    "    alpha: lr for newton step\n",
    "    \"\"\"\n",
    "    # your code is here"
   ]
  },
  {
   "cell_type": "markdown",
   "id": "45a3e9c5",
   "metadata": {},
   "source": [
    "**Задание 5. (0.25 баллов)**. Реализуйте демпфированный метод Ньютона. В качестве критерия останова используйте норму градиента (гиперпараметр `tol`).\n",
    "\n",
    "*Замечание.* callback вызывать в конце каждой итерации."
   ]
  },
  {
   "cell_type": "code",
   "execution_count": null,
   "id": "95a90aaf",
   "metadata": {},
   "outputs": [],
   "source": [
    "from scipy.optimize import OptimizeResult\n",
    "\n",
    "\n",
    "def Newton(fun, x0, *args, **kwargs) -> OptimizeResult:\n",
    "    # helper functions\n",
    "    callback = kwargs['callback']\n",
    "    jac = kwargs['jac']\n",
    "    hess = kwargs['hess']\n",
    "\n",
    "    # hyper params\n",
    "    max_iter = kwargs['max_iter']\n",
    "    tol = kwargs['tol']\n",
    "    alpha0 = kwargs['alpha0']\n",
    "\n",
    "    x = x0\n",
    "    for t in range(1, max_iter+1):\n",
    "        # your code is here\n",
    "    \n",
    "    return OptimizeResult(\n",
    "        fun = loss,                 # resulting loss value\n",
    "        x = x,                      # optimal weights\n",
    "        n_it = t,                   # number of iterations used\n",
    "        success = (t != max_iter)   # flag of success\n",
    "    )"
   ]
  },
  {
   "cell_type": "markdown",
   "id": "65a121ce",
   "metadata": {},
   "source": [
    "Следующая ячейка должна выполняться без ошибок и сообщать об успешной оптимизации"
   ]
  },
  {
   "cell_type": "code",
   "execution_count": null,
   "id": "ae5e9a21",
   "metadata": {},
   "outputs": [],
   "source": [
    "oracle = Oracle(features, targets)\n",
    "cb = Logger()\n",
    "weights = np.random.normal(size=2)\n",
    "res = minimize(\n",
    "    oracle.fun, weights,\n",
    "    method=Newton,\n",
    "    jac=oracle.jac,\n",
    "    hess=oracle.hess,\n",
    "    callback=cb,\n",
    "    options=dict(\n",
    "        tol=0.1,\n",
    "        max_iter=10,\n",
    "        alpha0=1\n",
    "    )\n",
    ")\n",
    "res"
   ]
  },
  {
   "cell_type": "markdown",
   "id": "dffef7de",
   "metadata": {},
   "source": [
    "**Задание 6 (0.75 баллов)**. Применим методы к реальным данным"
   ]
  },
  {
   "cell_type": "markdown",
   "id": "acf36d9c",
   "metadata": {},
   "source": [
    "Применим наши три алгоритма к реальным данным. Источник данных: https://www.kaggle.com/datasets/pablomonleon/montreal-bike-lanes. \n",
    "\n",
    "Описание к датасету:\n",
    "> Is there a relationship between the number of bicyclists who use different bike paths on the same day? Can you predict how many riders there will be on one path given how many are on another?"
   ]
  },
  {
   "cell_type": "code",
   "execution_count": null,
   "id": "4f9032b1",
   "metadata": {},
   "outputs": [],
   "source": [
    "import pandas as pd\n",
    "\n",
    "df = pd.read_csv('dataset.csv')\n",
    "\n",
    "target = df['target']\n",
    "features = df.drop(columns=['target'])\n",
    "print(features.shape, target.shape)\n",
    "features.head()"
   ]
  },
  {
   "cell_type": "markdown",
   "id": "1857cb1c",
   "metadata": {},
   "source": [
    "Следующая ячейка кодирует временные признаки и нормирует все остальные:"
   ]
  },
  {
   "cell_type": "code",
   "execution_count": null,
   "id": "191cf2db",
   "metadata": {},
   "outputs": [],
   "source": [
    "# cycle encode time features\n",
    "data = features[['month', 'day']].copy()\n",
    "data['month_sin'] = np.sin(2 * np.pi * data['month']/31)\n",
    "data['month_cos'] = np.cos(2 * np.pi * data['month']/31)\n",
    "\n",
    "data['day_sin'] = np.sin(2 * np.pi * data['day']/12)\n",
    "data['day_cos'] = np.cos(2 * np.pi * data['day']/12)\n",
    "\n",
    "# normalize other features\n",
    "data2 = features.drop(columns=['month', 'day'])\n",
    "data2 = (data2 - data2.mean()) / data2.std()\n",
    "\n",
    "# add constant feature\n",
    "n_samples = df.shape[0]\n",
    "features = pd.concat([data2, data[['month_sin', 'month_cos', 'day_sin', 'day_cos']]], axis=1)\n",
    "features['constant'] = np.ones(n_samples)\n",
    "features.head()"
   ]
  },
  {
   "cell_type": "code",
   "execution_count": null,
   "id": "6864a8e7",
   "metadata": {},
   "outputs": [],
   "source": [
    "X = features.to_numpy()\n",
    "y = target.to_numpy()\n",
    "\n",
    "X.shape, y.shape"
   ]
  },
  {
   "cell_type": "markdown",
   "id": "5fd1bcff",
   "metadata": {},
   "source": [
    "Разделите выборку случайно на трейн и тест в отношении 9:1, зафиксируйте `seed=0`. Обучите следующие алгоритмы и измерьте качество на отложенной выборке:\n",
    "\n",
    "- LBFGS\n",
    "- Newton-CG\n",
    "- Newton\n",
    "- `sklearn.linear_model.PoissonRegressor`\n",
    "\n",
    "**Замечание.** Если для метода Ньютона раз в несколько запусков появляется ошибка `singular matrix`, то ничего страшного (наверное). Если метод часто расходится, то попробуйте поварьировать параметр `alpha0` или другие параметры бектрекинга.\n",
    "\n",
    "**Подсказка.** Меряйте качество на отложенной выборке так: `np.mean((np.log(pred + 1) - np.log(y + 1)) ** 2)`.\n",
    "\n",
    "**(!)** Для каждого алгоритма постройте scatterplot для пар (true, pred) на трейне и на тесте, который покажет, как плохи/хороши полученные предсказания.\n",
    "\n",
    "**(!)** Сделайте выводы о полученных результатах. Насколько они согласуются с вашими ожиданиями?"
   ]
  },
  {
   "cell_type": "code",
   "execution_count": null,
   "id": "1ce1e074",
   "metadata": {},
   "outputs": [],
   "source": [
    "### YOUR ADVENTURE STARTS HEREz"
   ]
  },
  {
   "cell_type": "markdown",
   "id": "768f264b",
   "metadata": {},
   "source": [
    "### Часть 5. (1.5 баллов) CVXPY"
   ]
  },
  {
   "cell_type": "markdown",
   "id": "6ff0571d",
   "metadata": {},
   "source": [
    "Для анализа изображений часто используется метод неотрицательной матричной факторизации ([Nonnegative matrix factorization](https://arxiv.org/pdf/1401.5226.pdf)). \n",
    "Идея в том, чтобы решить следующую задачу\n",
    "\n",
    "\\begin{align*}\n",
    "& \\min_{W, H} \\frac12 \\|X - WH\\|^2_F \\\\\n",
    "\\text{s.t. } & W \\geq 0\\\\\n",
    "& H \\geq 0,\n",
    "\\end{align*}\n",
    "\n",
    "где знак $\\geq$ означает покомпонентное сравнение. \n",
    "Также матрицы $W$ и $H$ малого ранга, то есть $W \\in \\mathbb{R}^{m \\times k}$ и $H \\in \\mathbb{R}^{k \\times n}$, где $k$ - параметр, который необходимо настраивать.\n",
    "Чем больше $k$, тем точнее приближение, но и тем дольше будет решаться задача.\n",
    "Матрица $X \\in \\mathbb{R}^{m \\times n}$, где $m$ - это число фото в нашем наборе, а $n$ - это количество пикселей в каждой картинке, то есть каждая строка матрицы $X$ - это векторизованная картинка."
   ]
  },
  {
   "cell_type": "markdown",
   "id": "babaf7a6",
   "metadata": {},
   "source": [
    "**Задание 0. (0.15 баллов)** Как можно интерпретировать факторы $W$ и $H$ и почему важна их покомпонентная неотрицательность?"
   ]
  },
  {
   "cell_type": "markdown",
   "id": "58959158",
   "metadata": {},
   "source": [
    "**Ответ:**"
   ]
  },
  {
   "cell_type": "markdown",
   "id": "13e30ee1",
   "metadata": {},
   "source": [
    "Такую задачу можно решать с помощью cvxpy, если воспользоваться идеей попеременной оптимизации (alternating optimization). Идея состоит в том, чтобы на чётных итерациях решить точно задачу относительно параметра $W$ при фиксированном параметре $H$, а на нечётных наоборот: использовать решение для $W$ с предыдущей итерации в качестве фиксированного параметра и найти решение задачи относительно $H$ и так далее до сходимости.\n",
    "Сначала Вам нужно инициализировать матрицы $W$ и $H$ какими-нибудь матрицами с неотрицательными элементами."
   ]
  },
  {
   "cell_type": "markdown",
   "id": "b3e39536",
   "metadata": {},
   "source": [
    "Загрузим данные. Мы будем раскладывать изображения лиц. О таком подходе к анализу фотографий лиц вам рассказывали или расскажут в курсе ОиРИ, а тут вы просто реализуете этот метод"
   ]
  },
  {
   "cell_type": "code",
   "execution_count": null,
   "id": "b19d62e6",
   "metadata": {},
   "outputs": [],
   "source": [
    "import cvxpy as cvx\n",
    "import sklearn.datasets as skldata\n",
    "import matplotlib.pyplot as plt\n",
    "import sklearn.decomposition as skdec\n",
    "%matplotlib inline\n",
    "data = skldata.fetch_olivetti_faces()\n",
    "import numpy as np\n",
    "print(\"Shape of data = {}\".format(data[\"images\"].shape))\n",
    "index = 42\n",
    "plt.imshow(data[\"images\"][index], cmap=plt.cm.Greys)\n",
    "plt.colorbar()\n",
    "_ = plt.axis(\"off\")"
   ]
  },
  {
   "cell_type": "markdown",
   "id": "37b18bef",
   "metadata": {},
   "source": [
    "**Задание 1. (1.05 балл)** Реализуйте с помощью cvxpy идею попеременной оптимизации для этой задачи и решите её\n",
    "\n",
    "*Совет от Соника:* Сперва тестируйте алгоритм не на всех данных, так как вычисления занимают большое количество времени\n",
    "\n",
    "*Замечание*: все еще можно менять интерфейсы функций"
   ]
  },
  {
   "cell_type": "code",
   "execution_count": null,
   "id": "ec536474",
   "metadata": {},
   "outputs": [],
   "source": [
    "def non_negative_matrix_factorization(X, rank, max_iters, tol, log=False):\n",
    "    \"\"\"\n",
    "    X - матрица изображений. Каждое изображение является строкой\n",
    "    rank - какой будете использовать ранг\n",
    "    max_iters - максимальное количество итераций\n",
    "    tol - точность, с какой решается задача\n",
    "    log - флаг, отвечающий за то, будете ли вы печатать логи или нет (такое желание может возникнуть, так как\n",
    "    алгоритм будет работать долго)\n",
    "    Функция возвращает найденные матрицы H и W, а также значения функционала в ходе оптимизации\n",
    "    \"\"\"\n",
    "    ### YOUR CODE HERE\n",
    "    return H, W, objective_values"
   ]
  },
  {
   "cell_type": "code",
   "execution_count": null,
   "id": "9e582522",
   "metadata": {},
   "outputs": [],
   "source": [
    "### YOUR CODE HERE"
   ]
  },
  {
   "cell_type": "markdown",
   "id": "844e2cf3",
   "metadata": {},
   "source": [
    "**Задание 2. (0.1 балл)** Нарисуйте график сходимости по функции и убедитесь, что метод сошёлся или же изменение целевой функции пренебрежимо мало"
   ]
  },
  {
   "cell_type": "code",
   "execution_count": null,
   "id": "448bd11c",
   "metadata": {},
   "outputs": [],
   "source": [
    "### YOUR CODE HERE"
   ]
  },
  {
   "cell_type": "markdown",
   "id": "81389a6d",
   "metadata": {},
   "source": [
    "**Задание 3. (0.1 баллов)** Поскольку размерность $H$ - $k \\times n$, то каждую строку $H$ можно преобразовать в картинку аналогично тому, как были собраны строки матрицы $X$. Нарисуйте 10 картинок полученных из строк матрицы $H$. Что Вы заметили и как это соотносится с ответами на вопрос задания 0?\n",
    "\n",
    "*Hint:* Используйте ```plt.colorbar()``` и цветовую схему ```plt.cm.Greys``` для более чёткого отображения значений пикселей"
   ]
  },
  {
   "cell_type": "code",
   "execution_count": null,
   "id": "66d08a4d",
   "metadata": {},
   "outputs": [],
   "source": [
    "### YOUR CODE HERE"
   ]
  },
  {
   "cell_type": "markdown",
   "id": "839709ba",
   "metadata": {},
   "source": [
    "**Задание 4. (0.1 баллов)** Нарисуйте матрицу $W$ с помощью функции `plt.imshow` (или `plt.spy`). Насколько сильно она заполнена и почему?"
   ]
  },
  {
   "cell_type": "code",
   "execution_count": null,
   "id": "a9f7c646",
   "metadata": {},
   "outputs": [],
   "source": [
    "### YOUR CODE HERE"
   ]
  },
  {
   "cell_type": "markdown",
   "id": "1ecc77e6",
   "metadata": {},
   "source": [
    "### Бонус"
   ]
  },
  {
   "cell_type": "markdown",
   "id": "9bec0a06",
   "metadata": {},
   "source": [
    "**Задание. (0.7 баллов)** Пробудите в себе внутреннего мемодела и придумайте мемный шедевр на тему ваших взаимоотношений с методами оптимизации."
   ]
  },
  {
   "cell_type": "markdown",
   "id": "eaa36df4",
   "metadata": {},
   "source": [
    "**Ваш мем:**"
   ]
  }
 ],
 "metadata": {
  "kernelspec": {
   "display_name": "Python 3 (ipykernel)",
   "language": "python",
   "name": "python3"
  },
  "language_info": {
   "codemirror_mode": {
    "name": "ipython",
    "version": 3
   },
   "file_extension": ".py",
   "mimetype": "text/x-python",
   "name": "python",
   "nbconvert_exporter": "python",
   "pygments_lexer": "ipython3",
   "version": "3.9.7"
  }
 },
 "nbformat": 4,
 "nbformat_minor": 5
}
