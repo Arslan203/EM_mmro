{
 "cells": [
  {
   "cell_type": "markdown",
   "metadata": {},
   "source": [
    "# Машинное обучение, ВМК МГУ\n",
    "\n",
    "# Практическое задание 3. EM-алгоритм\n",
    "\n",
    "## Общая информация\n",
    "Дата выдачи: 04.04.2024\n",
    "\n",
    "Мягкий дедлайн: 19.04.2024 1:30 MSK\n",
    "\n",
    "Жёсткий дедлайн: 26.04.2024 1:30 MSK\n",
    "\n",
    "## Оценивание и штрафы\n",
    "Каждая из задач имеет определенную «стоимость» (указана в скобках около задачи). **Максимальная оценка за работу  — 10 баллов + 9 бонусов.**\n",
    "\n",
    "Сдавать задание после указанного жёсткого срока сдачи нельзя. При выставлении неполного балла за задание в связи с наличием ошибок на усмотрение проверяющего предусмотрена возможность исправить работу на указанных в ответном письме условиях.\n",
    "\n",
    "Задание выполняется самостоятельно. «Похожие» решения считаются плагиатом и все задействованные студенты (в том числе те, у кого списали) не могут получить за него больше 0 баллов (подробнее о плагиате см. на странице курса). Если вы нашли решение какого-то из заданий (или его часть) в открытом источнике, необходимо указать ссылку на этот источник в отдельном блоке в конце вашей работы (скорее всего вы будете не единственным, кто это нашел, поэтому чтобы исключить подозрение в плагиате, необходима ссылка на источник).\n",
    "\n",
    "Неэффективная реализация кода может негативно отразиться на оценке.\n",
    "\n",
    "## Формат сдачи !!ВАЖНО!!!\n",
    "Задания сдаются через систему anytask. Посылка должна содержать:\n",
    "* Ноутбук homework-practice-09-em-Username.ipynb\n",
    "* Модули preprocessing.py, metrics.py, models.py, содержащие написанный вами код\n",
    "* **Ссылки на посылки** в Яндекс.Контест для всех функций и классов, которые вы реализовали\n",
    "\n",
    "Ссылка на Яндекс.Контест: https://contest.yandex.ru/contest/60281/\n",
    "\n",
    "Username — ваша фамилия и имя на латинице именно в таком порядке"
   ]
  },
  {
   "cell_type": "markdown",
   "metadata": {},
   "source": [
    "<p style=\"color:#de3815;font-size:25px;\">\n",
    "Напоминание об оформлении и выполнении ноутбука\n",
    "</p>"
   ]
  },
  {
   "cell_type": "markdown",
   "metadata": {},
   "source": [
    "* Все строчки должны быть выполнены. Нужно, чтобы output команды можно было увидеть, не запуская ячейки (кроме редких случаев, когда необходимо намеренно скрыть ненужный output, про такие случаи желательно писать пояснения в тексте). **В противном случае -1 балл**\n",
    "* При оформлении ДЗ нужно пользоваться данным файлом в качестве шаблона. Не нужно удалять и видоизменять написанный код и текст, если явно не указана такая возможность. **В противном случае -1 балл**\n",
    "* В anytask обязательно нужно прикреплять отдельно файл с расширением ipynb (не в архиве, а именно отдельно). Если необходимо отправить еще какие-то файлы, то вынесите их в отдельный архив (если файлов много) и пришлите. **В противном случае -0.5 балла**\n",
    "---\n",
    "* Пишите, пожалуйста, выводы и ответы на вопросы в текстовых ячейках/при помощи print в коде. При их отсутствии мы не можем понять, сделали ли вы задание и понимаете, что происходит, и **поэтому будем снижать баллы**\n",
    "* Если алгоритм не сказано реализовывать явно, его всегда можно импортировать из библиотеки.\n",
    "---\n",
    "* Про графики. _Штрафы будут применяться к каждому результату команды отображения графика (plt.show() и др. аналогичные). Исключением являются графики, генерируемые функциями каких-либо сторонних библиотек, если их нельзя кастомизировать_\n",
    "\n",
    "    * должно быть название (plt.title) графика; **В противном случае &ndash; -0.05 балла**\n",
    "    * на графиках должны быть подписаны оси (plt.xlabel, plt.ylabel); **В противном случае &ndash; -0.025 балла за каждую ось**\n",
    "    * должны быть подписаны единицы измерения (если это возможно); **В противном случае &ndash; -0.025 балла за каждую ось**\n",
    "    * все названия должны быть понятны любому человеку, знакомому с терминологией, без заглядывания в код; **В противном случае &ndash; -0.05 балла**\n",
    "    * подписи тиков на осях не должны сливаться как на одной оси, так и между ними; **В противном случае &ndash; -0.025 балла за каждую ось**\n",
    "    * если изображено несколько сущностей на одном холсте (например несколько функций), то необходима поясняющая легенда (plt.legend); **В противном случае &ndash; -0.05 балла**\n",
    "    * все линии на графиках должны быть чётко видны (нет похожих цветов или цветов, сливающихся с фоном); **В противном случае &ndash; -0.05 балла**\n",
    "    * если отображена величина, имеющая очевидный диапазон значений (например, проценты могут быть от 0 до 100), то желательно масштабировать ось на весь диапазон значений (исключением является случай, когда вам необходимо показать малое отличие, которое незаметно в таких масштабах);\n",
    "    * графики должны быть не супер-микро и не супер-макро по размерам, так, чтобы можно было увидеть все, что нужно.\n",
    "    * при необходимости улучшения наглядности графиков, можно пользоваться логарифмической шкалой по осям x/y.\n",
    "    \n",
    "    \n",
    "### А также..\n",
    "\n",
    "* Для удобства поиска вопросов, на которые от вас просят ответа, мы пометили их знаком **(?)**\n",
    "* Знак **(!)** означает, что выполнение замечания необходимо для **возможности получения полного балла**\n",
    "* Даем до +0.3 балла за выдающиеся успехи по субъективному мнению проверяющих. Этот **бонус** не апеллируется"
   ]
  },
  {
   "cell_type": "markdown",
   "metadata": {},
   "source": [
    "# Generative model of Labels, Abilities, and Difficulties (GLAD)\n",
    "\n",
    "В [семинаре 15](https://github.com/esokolov/ml-course-hse/blob/master/2020-spring/seminars/sem15-em.pdf) мы рассмотрели задачу восстановления истинной разметки по меткам от экспертов (которым мы не можем доверять в полной мере, более того, их предсказания могут расходиться).\n",
    "\n",
    "Рассмотрим следующую вероятностную модель:\n",
    "\n",
    "$$ p(L, Z | \\alpha, \\beta) = \\prod_{i=1}^{n} \\prod_{j=1}^m \\sigma(\\alpha_j\\beta_i)^{[l_{ij}=z_i]}\\sigma(-\\alpha_j\\beta_i)^{1-[l_{ij}=z_i]} p(z_j)$$\n",
    "\n",
    "где $l_{ij} -$ ответ $j$-го эксперта на задачу $i$, $z_j -$ истинная разметка, $\\alpha_j, \\beta_i-$ уровень экспертизы и сложность задачи соответственно. Для более подробного описания модели можно прочитать материалы семинара, а также [оригинальную статью](http://papers.nips.cc/paper/3644-whose-vote-should-count-more-optimal-integration-of-labels-from-labelers-of-unknown-expertise.pdf). Априорное распределение положим равномерным: $p(z_i) = 0.5$."
   ]
  },
  {
   "cell_type": "code",
   "execution_count": 1,
   "metadata": {},
   "outputs": [],
   "source": [
    "import numpy as np\n",
    "seed = 0xDEADF00D\n",
    "np.random.seed(seed)\n"
   ]
  },
  {
   "cell_type": "code",
   "execution_count": 2,
   "metadata": {},
   "outputs": [
    {
     "name": "stdout",
     "output_type": "stream",
     "text": [
      "Число задач (n_problems): 2000, число экспертов (n_experts): 20\n"
     ]
    }
   ],
   "source": [
    "L = np.load('L.npy')\n",
    "n, m = L.shape\n",
    "print(f\"Число задач (n_problems): {n}, число экспертов (n_experts): {m}\")"
   ]
  },
  {
   "cell_type": "markdown",
   "metadata": {},
   "source": [
    "---"
   ]
  },
  {
   "cell_type": "markdown",
   "metadata": {},
   "source": [
    "**Задание 1. (2 балла)** Реализуйте EM-алгоритм для заданной выше модели. Вы можете воспользоваться предложенными шаблонами или написать свои. \n",
    "\n",
    "Обратите внимание, что правдоподобие моделирует не вероятность метки $l_{ij}$ принять значение 1 или 0, а вероятность того, что она равна скрытой переменной $z_i$, т.е. $p(l_{ij} = z_j|z_j, \\alpha_j, \\beta_i) \\neq p(l_{ij} = 1|\\alpha_j, \\beta_i) $. При этом заранее неизвестно, какая из скрытых переменных соответствует метке 1. Не забывайте, что параметры $\\beta_i$ должны быть неотрицательными; для этого оптимизируйте $\\log \\beta$. На M-шаге можете использовать как один шаг градиентного спуска, так и несколько: разумные результаты у вас должны получаться вне зависимости от числа итераций.\n",
    "\n",
    "**Подсказки (могут быть актуальны на все задание):**\n",
    "\n",
    "* При работе с вероятностями не забывайте о точности:\n",
    " 1. Используйте логарифмы вероятностей.\n",
    " 2. $\\log \\sigma(a)$ лучше преобразовать в $\\log \\sigma(a) = -\\log(1 + \\exp(-a)) = -\\mathrm{softplus}(-a) $\n",
    " 3. Ещё полезные функции: `scipy.special.expit`, `scipy.special.logsumexp`, `np.log1p`\n",
    "* Для отладки может быть полезно проверить градиенты, возвращаемые функциями `alpha_grad_lb` и `logbeta_grad_lb` с помощью `scipy.optimize.check_grad`.\n",
    "* Размеры возвращаемых значений, указанные в докстринге функций могут помочь вам понять, что необходимо возвращать\n",
    "* Почитайте докстринги, в них есть подсказки и ссылки на формулы из семинара\n",
    "* Если у вас вылезают где-то nan/inf -- попробуйте урезать значения снизу. Например, у вас есть место, где берется log(theta) -- тут имеет смысл урезать theta = max(theta, eps), где eps какое-то маленькое число (например 1e-8)"
   ]
  },
  {
   "cell_type": "markdown",
   "metadata": {},
   "source": [
    "---"
   ]
  },
  {
   "cell_type": "code",
   "execution_count": 2,
   "metadata": {},
   "outputs": [],
   "source": [
    "from scipy.special import expit, softmax\n",
    "def softplus(x):\n",
    "    '''stable version of log(1 + exp(x))'''\n",
    "    c = (x > 20) * 1.\n",
    "    return np.log1p(np.exp(x * (1-c)) * (1-c)) + x * c\n",
    "\n",
    "def log_sigma(x):\n",
    "    return -softplus(-x)"
   ]
  },
  {
   "cell_type": "code",
   "execution_count": 4,
   "metadata": {},
   "outputs": [],
   "source": [
    "def posterior(alpha, beta, L):\n",
    "    \"\"\" Posterior over true labels z p(z|l, \\alpha, \\beta)\n",
    "    Args:\n",
    "        alpha: ndarray of shape (n_experts).\n",
    "        beta: ndarray of shape (n_problems).\n",
    "        L: ndarray of shape (n_problems, n_experts).\n",
    "    Returns:\n",
    "        ndarray of shape (2, n_problems)\n",
    "        (2 -- for z = 0 and for z = 1, n_problems -- for each problem in data)\n",
    "    Tip:\n",
    "        You may use function log_likelihood here\n",
    "        See page 7 of seminar, the last formula for details\n",
    "    \"\"\"\n",
    "    res = np.stack([log_likelihood(alpha, beta, L, np.ones_like(beta) * i) for i in range(2)], axis=0)\n",
    "    return softmax(res, axis=0)\n",
    "\n",
    "\n",
    "def log_likelihood(alpha, beta, L, z, eps=1e-7):\n",
    "    \"\"\" p(l=z|z, \\alpha, \\beta)\n",
    "    Args:\n",
    "        alpha: ndarray of shape (n_experts).\n",
    "        beta: ndarray of shape (n_problems).\n",
    "        L: ndarray of shape (n_problems, n_experts).\n",
    "        z: ndarray of shape (n_problems).\n",
    "    Returns:\n",
    "        ndarray of shape (n_problems,)\n",
    "    Tips:\n",
    "        See page 7 of seminar, the second formula for details\n",
    "    \"\"\"\n",
    "    mesh = beta[:, np.newaxis] @ alpha[np.newaxis, :]\n",
    "    mask = (L == z[:, np.newaxis])\n",
    "    apost = log_sigma(mesh) * (mask * 1.0) + log_sigma(-mesh) * (~mask * 1.0)\n",
    "    res = np.maximum(z, eps) + np.sum(apost, axis=1)\n",
    "    return res\n",
    "\n",
    "\n",
    "def alpha_grad_lb(alpha, beta, L, q):\n",
    "    \"\"\" Gradient of lower bound wrt alpha\n",
    "    Args:\n",
    "        alpha: ndarray of shape (n_experts).\n",
    "        beta: ndarray of shape (n_problems).\n",
    "        L: ndarray of shape (n_problems, n_experts).\n",
    "        q: ndarray of shape (2, n_problems).\n",
    "    Returns:\n",
    "        ndarray of shape (n_experts,)\n",
    "    Tips:\n",
    "        See pages 8-9 of seminar for details\n",
    "    \"\"\"\n",
    "    mesh = beta[:, np.newaxis] @ alpha[np.newaxis, :]\n",
    "    mask = L == 1\n",
    "    apost = expit(-mesh) * (mask * 1.0) - expit(mesh) * (~mask * 1.0)\n",
    "    apost *= q[1][:, np.newaxis] # ???\n",
    "    \n",
    "    mask = L == 0\n",
    "    apost_1 = expit(-mesh) * (mask * 1.0) - expit(mesh) * (~mask * 1.0)\n",
    "    apost_1 *= q[0][:, np.newaxis]\n",
    "\n",
    "    res = np.sum((apost + apost_1) * beta[:, np.newaxis], axis=0)\n",
    "    return res\n",
    "\n",
    "\n",
    "def logbeta_grad_lb(alpha, beta, L, q):\n",
    "    \"\"\" Gradient of lower bound wrt beta\n",
    "    Args:\n",
    "        alpha: ndarray of shape (n_experts).\n",
    "        beta: ndarray of shape (n_problems).\n",
    "        L: ndarray of shape (n_problems, n_experts).\n",
    "        q: ndarray of shape (2, n_problems).\n",
    "    Returns:\n",
    "        ndarray of shape (n_problems,)\n",
    "    Tips:\n",
    "        See pages 8-9 of seminar for details\n",
    "    \"\"\"\n",
    "    mesh = beta[:, np.newaxis] @ alpha[np.newaxis, :]\n",
    "    mask = L == 1\n",
    "    apost = expit(-mesh) * (mask * 1.0) - expit(mesh) * (~mask * 1.0)\n",
    "    apost *= q[1][:, np.newaxis]\n",
    "    \n",
    "    mask = L == 0\n",
    "    apost_1 = expit(-mesh) * (mask * 1.0) - expit(mesh) * (~mask * 1.0)\n",
    "    apost_1 *= q[0][:, np.newaxis]\n",
    "\n",
    "    res = np.sum((apost + apost_1) * alpha[np.newaxis, :], axis=1)\n",
    "    return res * beta # in func assume that beta = exp(beta) so grad(beta) = grad(beta) * exp(beta)\n",
    "\n",
    "\n",
    "def lower_bound(alpha, beta, L, q):\n",
    "    \"\"\" Lower bound\n",
    "    Args:\n",
    "        alpha: ndarray of shape (n_experts).\n",
    "        beta: ndarray of shape (n_problems).\n",
    "        L: ndarray of shape (n_problems, n_experts).\n",
    "        q: ndarray of shape (2, n_problems).\n",
    "    Returns:\n",
    "        single value, number\n",
    "    Tips:\n",
    "        You may use function log_likelihood here\n",
    "        See page 8 of seminar, the fourth formula for details\n",
    "    \"\"\"\n",
    "    mesh = beta[:, np.newaxis] @ alpha[np.newaxis, :]\n",
    "    mask = L == 1\n",
    "    apost = log_sigma(mesh) * (mask * 1.0) + log_sigma(-mesh) * (~mask * 1.0)\n",
    "    apost *= q[1][:, np.newaxis]\n",
    "    \n",
    "    mask = L == 0\n",
    "    apost_1 = log_sigma(mesh) * (mask * 1.0) + log_sigma(-mesh) * (~mask * 1.0)\n",
    "    apost_1 *= q[0][:, np.newaxis]\n",
    "\n",
    "    res = np.sum(apost + apost_1)\n",
    "    return res"
   ]
  },
  {
   "cell_type": "markdown",
   "metadata": {},
   "source": [
    "**Подсказка:**\n",
    "* При проверке alpha значения, выдываемые функцией `check_grad` должны быть не более 0.01. Иначе у вас где-то ошибка\n",
    "* При проверке logbeta значения, выдываемые функцией `check_grad` должны быть не более 0.05. Иначе у вас где-то ошибка"
   ]
  },
  {
   "cell_type": "code",
   "execution_count": 5,
   "metadata": {
    "scrolled": true
   },
   "outputs": [
    {
     "data": {
      "text/plain": [
       "0.001196123659119337"
      ]
     },
     "execution_count": 5,
     "metadata": {},
     "output_type": "execute_result"
    }
   ],
   "source": [
    "from scipy.optimize import check_grad\n",
    "\n",
    "alpha, logbeta = np.random.randn(m), np.random.randn(n)\n",
    "beta = np.exp(logbeta)\n",
    "q = np.ones((2, len(beta))) * 0.5\n",
    "\n",
    "check_grad(\n",
    "    lambda a: lower_bound(a, beta, L, q),\n",
    "    lambda a: alpha_grad_lb(a, beta, L, q),\n",
    "    alpha\n",
    ")"
   ]
  },
  {
   "cell_type": "code",
   "execution_count": 6,
   "metadata": {},
   "outputs": [
    {
     "data": {
      "text/plain": [
       "0.010774782402320928"
      ]
     },
     "execution_count": 6,
     "metadata": {},
     "output_type": "execute_result"
    }
   ],
   "source": [
    "check_grad(\n",
    "    lambda lb: lower_bound(alpha, np.exp(lb), L, q),\n",
    "    lambda lb: logbeta_grad_lb(alpha, np.exp(lb), L, q),\n",
    "    logbeta\n",
    ")"
   ]
  },
  {
   "cell_type": "code",
   "execution_count": 7,
   "metadata": {},
   "outputs": [],
   "source": [
    "\n",
    "def em(L, n_steps=1000, lr=1e-3, grad_steps=10):\n",
    "    # initialize parameters\n",
    "    alpha, logbeta = np.random.randn(m), np.random.randn(n)\n",
    "    q = np.ones((2, len(beta))) * 0.5\n",
    "    # eps = 1e-7\n",
    "\n",
    "    for step in range(n_steps):\n",
    "        q = posterior(alpha, np.exp(logbeta), L)\n",
    "        for gr_step in range(grad_steps):\n",
    "            alpha_gr = alpha_grad_lb(alpha, np.exp(logbeta), L, q)\n",
    "            logbeta_gr = logbeta_grad_lb(alpha, np.exp(logbeta), L, q)\n",
    "            alpha += lr * alpha_gr\n",
    "            logbeta += lr * logbeta_gr\n",
    "\n",
    "    return alpha, np.exp(logbeta), q"
   ]
  },
  {
   "cell_type": "code",
   "execution_count": 8,
   "metadata": {},
   "outputs": [],
   "source": [
    "alpha, beta, q = em(L)"
   ]
  },
  {
   "cell_type": "markdown",
   "metadata": {},
   "source": [
    "---"
   ]
  },
  {
   "cell_type": "markdown",
   "metadata": {},
   "source": [
    "**Задание 2. (1 балл)** Загрузите настоящую разметку. Посчитайте `accuracy` разметки, полученной с помощью обычного голосования по большинству среди экспертов, и сравните его с качеством **(?)**, полученным с помощью EM-алгоритма."
   ]
  },
  {
   "cell_type": "markdown",
   "metadata": {},
   "source": [
    "**Разбалловка:**\n",
    "* **0.5 балла** -- качество голосования не менее 0.904\n",
    "* **0.5 балла** -- качестве EM не менее 0.95"
   ]
  },
  {
   "cell_type": "markdown",
   "metadata": {},
   "source": [
    "**Подсказка:**\n",
    "* Помните, что алгоритму не важно, какая метка 0, а какая 1, поэтому если получите качество <0.5, то просто поменяйте метки классов (не забудьте также поменять знак у $\\alpha$). "
   ]
  },
  {
   "cell_type": "markdown",
   "metadata": {},
   "source": [
    "---"
   ]
  },
  {
   "cell_type": "code",
   "execution_count": 9,
   "metadata": {},
   "outputs": [
    {
     "name": "stdout",
     "output_type": "stream",
     "text": [
      "accuracy by GOLOSOVANIE:0.904, by em:0.0495\n"
     ]
    }
   ],
   "source": [
    "def accuracy(y_pred, y_true):\n",
    "    return np.mean(y_pred == y_true)\n",
    "\n",
    "y = np.load('y.npy')\n",
    "# (∩ ￣ー￣)⊃ ✳✨✳✨✳✨✳\n",
    "y_pred = np.mean(L, axis=1)\n",
    "GOLOSOVANIE = accuracy((y_pred > 0.5) * 1.0, y)\n",
    "\n",
    "alpha, beta, q = em(L, grad_steps=1)\n",
    "\n",
    "y_pred_em = np.argmax(q, axis=0)\n",
    "\n",
    "print(f'accuracy by GOLOSOVANIE:{GOLOSOVANIE}, by em:{accuracy(y_pred_em, y)}')"
   ]
  },
  {
   "cell_type": "code",
   "execution_count": 10,
   "metadata": {},
   "outputs": [
    {
     "name": "stdout",
     "output_type": "stream",
     "text": [
      "reversing...\n",
      "accuracy by em:0.9505\n"
     ]
    }
   ],
   "source": [
    "if accuracy(y_pred_em, y) < 0.05:\n",
    "    print('reversing...')\n",
    "    alpha = -alpha\n",
    "    q = q[[1, 0]]\n",
    "    y_pred_em = np.argmax(q, axis=0)\n",
    "    print(f'accuracy by em:{accuracy(y_pred_em, y)}')"
   ]
  },
  {
   "cell_type": "markdown",
   "metadata": {},
   "source": [
    "---"
   ]
  },
  {
   "cell_type": "markdown",
   "metadata": {},
   "source": [
    "**Задание 3. (0.5 балла)** **(?)** Попробуйте проинтерпретировать полученные коэфициенты $\\alpha$. **(?)**  Есть ли в выборке эксперты, которые намеренно голосуют неверно? **(?)**  Как это можно понять по альфам? \n",
    "\n",
    "* Продемонстрируйте, что эксперты действительно чаще голосуют за неверный класс. \n",
    "* Отобразите визуализацию зависимости доли врено размеченных экспертом объектов от коэффициента $\\alpha$.\n",
    "* **(?)**  Прокомментируйте результаты и полученную зависимость."
   ]
  },
  {
   "cell_type": "markdown",
   "metadata": {},
   "source": [
    "**Подсказки:**\n",
    "* Если вы отобразили или хотели отобразить зависимость при помощи обычного plot (график), то посмотрите повнимательнее/подумайте, почему это не очень хорошая визуализация. **Для возможности получения полного балла** правильно будет использовать тип отображения scatter plot.\n",
    "*  Также **для возможности получения полного балла** вам необходимо проинтерпретировать смысл зависимости для всех групп альф, которые вы увидите (спойлер: их должно быть 3:)"
   ]
  },
  {
   "cell_type": "markdown",
   "metadata": {},
   "source": [
    "---"
   ]
  },
  {
   "cell_type": "code",
   "execution_count": 3,
   "metadata": {},
   "outputs": [
    {
     "ename": "NameError",
     "evalue": "name 'L' is not defined",
     "output_type": "error",
     "traceback": [
      "\u001b[0;31m---------------------------------------------------------------------------\u001b[0m",
      "\u001b[0;31mNameError\u001b[0m                                 Traceback (most recent call last)",
      "Cell \u001b[0;32mIn[3], line 5\u001b[0m\n\u001b[1;32m      3\u001b[0m sns\u001b[39m.\u001b[39mset_style(\u001b[39m\"\u001b[39m\u001b[39mdarkgrid\u001b[39m\u001b[39m\"\u001b[39m)\n\u001b[1;32m      4\u001b[0m \u001b[39m# (∩ᄑ_ᄑ)⊃━☆ﾟ*･｡*\u001b[39;00m\n\u001b[0;32m----> 5\u001b[0m true_frac \u001b[39m=\u001b[39m np\u001b[39m.\u001b[39mmean(L \u001b[39m==\u001b[39m y[:, np\u001b[39m.\u001b[39mnewaxis], axis\u001b[39m=\u001b[39m\u001b[39m0\u001b[39m)\n\u001b[1;32m      6\u001b[0m sns\u001b[39m.\u001b[39mscatterplot(x\u001b[39m=\u001b[39malpha, y\u001b[39m=\u001b[39mtrue_frac)\u001b[39m.\u001b[39mset(title \u001b[39m=\u001b[39m \u001b[39m'\u001b[39m\u001b[39mdependancy of the fraction of correct answers on alpha\u001b[39m\u001b[39m'\u001b[39m, xlabel\u001b[39m=\u001b[39m\u001b[39m'\u001b[39m\u001b[39malpha\u001b[39m\u001b[39m'\u001b[39m, ylabel\u001b[39m=\u001b[39m\u001b[39m'\u001b[39m\u001b[39mproportion of correct answers\u001b[39m\u001b[39m'\u001b[39m)\n\u001b[1;32m      7\u001b[0m plt\u001b[39m.\u001b[39mshow()\n",
      "\u001b[0;31mNameError\u001b[0m: name 'L' is not defined"
     ]
    }
   ],
   "source": [
    "import seaborn as sns\n",
    "import matplotlib.pyplot as plt\n",
    "sns.set_style(\"darkgrid\")\n",
    "# (∩ᄑ_ᄑ)⊃━☆ﾟ*･｡*\n",
    "true_frac = np.mean(L == y[:, np.newaxis], axis=0)\n",
    "sns.scatterplot(x=alpha, y=true_frac).set(title = 'dependancy of the fraction of correct answers on alpha', xlabel='alpha', ylabel='proportion of correct answers')\n",
    "plt.show()"
   ]
  },
  {
   "cell_type": "markdown",
   "metadata": {},
   "source": [
    "**Ответы:** Зависимость $\\alpha$ от доли верных ответов линейная. В рамках поставленной вероятностной модели ясно, что при $\\alpha$ < 0 эксперт будет намеренно выдавать неверную разметку (accuracy < 0.5). В данной модели 4 эксперта имеют $\\alpha$ < 0. В этой модели 4 эксперта специально голосуют неверно (точность < 10%), 6 экспертов размечают почти идеально (> 90%). Остальные размечают с точностью ~ 70 %"
   ]
  },
  {
   "cell_type": "markdown",
   "metadata": {},
   "source": [
    "---"
   ]
  },
  {
   "cell_type": "markdown",
   "metadata": {},
   "source": [
    "**Задание 4. (бонус, 1 балл)**  Как уже было замечено выше, модели не важно, какой класс 1, а какой 0. Скажем, если все эксперты оказались максимально противными и ставят метку с точностью наоборот, то у вас будет полная согласованность между экспертами, при этом невозможно понять правильно они разметили выборку или нет, смотря только на такую разметку. Чтобы избежать этого, можно включать в выборку вопрос с заведомо известным ответом, тогда вы сможете определить, ставит ли эксперт специально неверные метки.\n",
    "\n",
    "Чтобы обощить данную модель на случай заданий с заведомо известной меткой, достоточно не делать для них E-шаг, а всегда полагать апостериорное распределение вырожденным в истинном классе. \n",
    "\n",
    "* Реализуйте данную модель и используйте истинную разметку *для нескольких* задач из обучения. \n",
    "* **(?)**  Сравните модифицированный алгоритм с обычным. \n",
    "* **(?)** Проинтерпретируйте полученные результаты."
   ]
  },
  {
   "cell_type": "markdown",
   "metadata": {},
   "source": [
    "**Подсказка:**\n",
    "* Как можно сравнить, что модифицированный алгоритм действительно \"лучше\" обычного: запускаем обычный и модифицированный много раз (например, 100). Для каждой версии считаем распределение полученных accuracy_score. Если все сделано верно, то в модифицированной версии доля больших значений accuracy должна быть выше, чем низких (это как раз и есть сигнал о перепутывании классов), а в обычной версии -- доли должны быть примерно равны. **Для возможности получения полного балла мы ожидаем от вас какого-то такого или похожего сравнения**"
   ]
  },
  {
   "cell_type": "markdown",
   "metadata": {},
   "source": [
    "---"
   ]
  },
  {
   "cell_type": "code",
   "execution_count": 12,
   "metadata": {},
   "outputs": [],
   "source": [
    "# (∩ᄑ_ᄑ)⊃━☆ﾟ*･｡*"
   ]
  },
  {
   "cell_type": "markdown",
   "metadata": {},
   "source": [
    "# Выравнивание слов (Word Alignment)"
   ]
  },
  {
   "cell_type": "markdown",
   "metadata": {},
   "source": [
    "EM-алгоритм также применяют на практике для настройки параметров модели выравнивания слов, более сложные модификации которой используются в статистическом машинном переводе. Мы не будем подробно обсуждать применение word alignment для перевода и ограничимся следующей целью: пусть у нас есть параллельный корпус из предложений на исходном языке и их переводов на целевой язык (в этом задании используются английский и чешский соответственно). \n",
    "\n",
    "Первая задача — определить с помощью этого корпуса, как переводится каждое отдельное слово на целевом языке. Вторая задача — для произвольной пары из предложения и его перевода установить, переводом какого слова в исходном предложении является каждое слово в целевом предложении. Оказывается, у обеих задач существует элегантное и эффективное решение при введении правильной вероятностной модели: в этой части задания вам предстоит его реализовать и оценить результаты работы. Но обо всём по порядку :)\n",
    "\n",
    "---\n",
    "\n",
    "Перед тем, как заниматься машинным обучением, давайте разберёмся с данными и метриками в интересующей нас задаче. В ячейке ниже загружается и разархивируется параллельный английско-чешский корпус, в котором есть разметка выравнивания слов. Нетрудно заметить, что формат XML-файла, использованный его авторами, не вполне стандартный: нет готовой команды , которая позволила бы получить список пар предложений вместе с выравниваниями. Это значит, что нужно разобраться с форматом и написать парсер самостоятельно, используя встроенные средства Python, например, модуль [xml](https://docs.python.org/3.7/library/xml.html).\n",
    "\n",
    "**Подсказка:**\n",
    "* Не обязательно парсить только через xml, если хотите, можете написать парсинг сами"
   ]
  },
  {
   "cell_type": "code",
   "execution_count": 13,
   "metadata": {},
   "outputs": [
    {
     "name": "stderr",
     "output_type": "stream",
     "text": [
      "\n",
      "gzip: stdin: unexpected end of file\n",
      "tar: Child returned status 1\n",
      "tar: Error is not recoverable: exiting now\n"
     ]
    },
    {
     "name": "stdout",
     "output_type": "stream",
     "text": [
      "<?xml version=\"1.0\" encoding=\"utf-8\" ?>\n",
      "<sentences>\n",
      "<s id=\"project_syndicate_bacchetta1-s1\">\n",
      "  <english>Are the Dollar 's Days Numbered ?</english>\n",
      "  <czech>Jsou dny dolaru sečteny ?</czech>\n",
      "  <sure>1-1 3-3 5-2 6-4 7-5</sure>\n",
      "  <possible>2-2 4-3</possible>\n",
      "</s>\n",
      "<s id=\"project_syndicate_bacchetta1-s2\">\n",
      "  <english>Philippe Bacchetta and Eric van Wincoop</english>\n",
      "  <czech>Philippe Bacchetta and Eric van Wincoop</czech>\n",
      "  <sure>1-1 2-2 3-3 4-4 5-5 6-6</sure>\n",
      "  <possible></possible>\n",
      "</s>\n",
      "<s id=\"project_syndicate_bacchetta1-s3\">\n",
      "  <english>A year ago , the dollar bestrode the world like a colossus .</english>\n",
      "  <czech>Ještě před rokem dolar dominoval světu jako imperátor .</czech>\n",
      "  <sure>10-7 12-8 13-9 2-3 3-2 6-4 7-5 9-6</sure>\n",
      "  <possible>1-3 11-8 3-1 5-4 8-6</possible>\n",
      "</s>\n"
     ]
    }
   ],
   "source": [
    "%%bash\n",
    "wget -q https://lindat.mff.cuni.cz/repository/xmlui/bitstream/handle/11234/1-1804/CzEnAli_1.0.tar.gz -O CzEnAli_1.0.tar.gz\n",
    "mkdir -p data\n",
    "tar -xzf CzEnAli_1.0.tar.gz -C data/\n",
    "head -n 20 data/merged_data/project_syndicate/project_syndicate_bacchetta1.wa"
   ]
  },
  {
   "cell_type": "markdown",
   "metadata": {},
   "source": [
    "**Задание -2. (0.5 балла)** Реализуйте функцию `extract_sentences`, которая принимает на вход путь к файлу с XML-разметкой, используемой в этом датасете, и возвращает список параллельных предложений, а также список из «уверенных» (sure) и «возможных» (possible) пар выравниваний. Отправьте вашу реализацию в Яндекс.Контест, чтобы убедиться в её корректности; в следующей ячейке ноутбука соберите все пары размеченных предложений из датасета в два списка `all_sentences` (список `SentencePair`) и `all_targets` (список LabeledAlignment)."
   ]
  },
  {
   "cell_type": "markdown",
   "metadata": {},
   "source": [
    "**Подсказка:**\n",
    "* Брать файлы нужно из всей папки data конструкцией наподобие `for file in glob.glob('data/*/*/*.wa')`\n",
    "* Возможно у вас не будут проходить тесты, но вы не будете понимать, в чем же дело:) Попробуйте в таком случае заменить & на `&amp;` или \n",
    "`&#038;`\n",
    "https://stackoverflow.com/questions/17423495/how-to-solve-ampersand-conversion-issue-in-xml\n"
   ]
  },
  {
   "cell_type": "markdown",
   "metadata": {},
   "source": [
    "---"
   ]
  },
  {
   "cell_type": "markdown",
   "metadata": {},
   "source": [
    "**Замечание:** \n",
    "* **Полностью проходящая все тесты посылка в этом заданиии дает 0.5 балла. За непроходящий хотя бы 1 тест вы получите 0 баллов.**\n",
    "* Здесь и далее соблюдайте сигнатуры функций и пользуйтесь объявленными в модуле `preprocessing.py` классами для организации данных. Стоит заметить, что предложения уже токенизированы (даже отделена пунктуация), поэтому предобработку текстов совершать не нужно. Обратите внимание на формат хранения выравниваний: нумерация начинается с 1 (в таком виде и нужно сохранять), первым в паре идёт слово из англоязычного предложения."
   ]
  },
  {
   "cell_type": "markdown",
   "metadata": {},
   "source": [
    "---\n",
    "**https://contest.yandex.ru/contest/60281/run-report/112331534/**\n",
    "\n",
    "---"
   ]
  },
  {
   "cell_type": "code",
   "execution_count": 2,
   "metadata": {},
   "outputs": [],
   "source": [
    "import glob\n",
    "from preprocessing import extract_sentences\n",
    "\n",
    "all_sentences = []\n",
    "all_targets = []\n",
    "# (´◕▽◕)⊃━☆\n",
    "\n",
    "for file in glob.glob('data/*/*/*.wa'):\n",
    "    sents, targ = extract_sentences(file)\n",
    "    all_sentences += sents\n",
    "    all_targets += targ"
   ]
  },
  {
   "cell_type": "markdown",
   "metadata": {},
   "source": [
    "---"
   ]
  },
  {
   "cell_type": "markdown",
   "metadata": {},
   "source": [
    "**Задание -1. (0.5 балла)** Реализуйте функции `get_token_to_index` и `tokenize_sents` из модуля `preprocessing.py`, постройте словари token->index для обоих языков и постройте список из `TokenizedSentencePair` по выборке. Реализации функций также отправьте в Яндекс.Контест."
   ]
  },
  {
   "cell_type": "markdown",
   "metadata": {},
   "source": [
    "**Замечание:** \n",
    "* **Полностью проходящая все тесты посылка в этом заданиии дает 0.5 балла. За непроходящий хотя бы 1 тест вы получите 0 баллов.**"
   ]
  },
  {
   "cell_type": "markdown",
   "metadata": {},
   "source": [
    "---\n",
    "**https://contest.yandex.ru/contest/60281/run-report/112334663/**\n",
    "\n",
    "---"
   ]
  },
  {
   "cell_type": "code",
   "execution_count": 3,
   "metadata": {},
   "outputs": [],
   "source": [
    "from preprocessing import get_token_to_index, tokenize_sents\n",
    "\n",
    "t_idx_src, t_idx_tgt = get_token_to_index(all_sentences)\n",
    "tokenized_sentences = tokenize_sents(all_sentences, t_idx_src, t_idx_tgt)"
   ]
  },
  {
   "cell_type": "markdown",
   "metadata": {},
   "source": [
    "В качестве бейзлайна для этой задачи мы возьмём способ выравнивания слов по коэффициенту Дайса: слово в исходном языке является переводом слова на целевом языке, если они часто встречаются в одних и тех же предложениях и редко встречаются по отдельности. \n",
    "\n",
    "Математически это записывается по аналогии с мерой Жаккара: пусть $c(x,y)$ — число параллельных предложений, в которых есть и $x$ (на исходном языке), и $y$ (на целевом языке), а $c(x)$ и $c(y)$ — суммарное количество предложений, в которых встречается слово $x$ и $y$ соответственно. Тогда $\\textrm{Dice}(x,y)=\\frac{2 \\cdot c(x,y)}{c(x) + c(y)}$ — характеристика «похожести» слов $x$ и $y$. Она равна 1, если слова встречаются только в контексте друг друга (не бывает предложений только со словом $x$ без $y$ в переводе и наоборот), равна 0, если слова никогда не встречаются в параллельных предложениях и находится между пороговыми значениями в остальных случаях.\n",
    "\n",
    "В файле `models.py` описан абстрактный класс `BaseAligner`, наследником которого должны являться все модели в задании, а также приведён пример реализации `DiceAligner` выравнивания слов описанным выше путём. Ниже вы можете увидеть, как применять эту модель."
   ]
  },
  {
   "cell_type": "code",
   "execution_count": 4,
   "metadata": {},
   "outputs": [],
   "source": [
    "from models import DiceAligner\n",
    "\n",
    "baseline = DiceAligner(len(t_idx_src), len(t_idx_tgt), threshold=0.01)\n",
    "baseline.fit(tokenized_sentences)"
   ]
  },
  {
   "cell_type": "markdown",
   "metadata": {},
   "source": [
    "---"
   ]
  },
  {
   "cell_type": "markdown",
   "metadata": {},
   "source": [
    "Чтобы оценить качество модели выравнивания, пользуясь имеющейся разметкой, существует ряд автоматических метрик. Они подразумевают, что в разметке есть два вида выравниваний — «уверенные» (sure) и «возможные» (possible). Обозначим для конкретного предложения первое множество выравниваний $S$, второе — $P$, а предсказанные выравнивания — $A$; причём, в отличие от разметки в файле, $S\\subseteq P$. Тогда можно предложить три метрики, используя только операции над этими множествами:\n",
    "\n",
    "Precision $=\\frac{|A\\cap P|}{|A|}$. Отражает, какая доля предсказанных нами выравниваний вообще корректна; если мы дадим в качестве ответа все возможные пары слов в предложении, эта метрика сильно просядет.\n",
    "\n",
    "Recall $=\\frac{|A\\cap S|}{|S|}$. Эта метрика показывает, какую долю «уверенных» выравниваний мы обнаружили. Если мы попытаемся сделать слишком консервативную модель, которая выдаёт 0 или 1 предсказание на нетривиальных предложениях, полнота получится крайне низкая. \n",
    "\n",
    "Alignment Error Rate (AER) $=1-\\frac{|A\\cap P|+|A\\cap S|}{|A|+|S|}$. Метрика является комбинацией двух предыдущих и отслеживает общее качество работы системы, штрафуя оба описанных выше вида нежелаемого поведения модели. "
   ]
  },
  {
   "cell_type": "markdown",
   "metadata": {},
   "source": [
    "**Задание 0. (0.5 балла)** Реализуйте функции compute_precision, compute_recall, compute_aer из модуля metrics.py. Оцените качество бейзлайнового метода. Обратите внимание, что нужно использовать микро-усреднение во всех функциях: необходимо просуммировать числитель и знаменатель по всем предложениям и только потом делить."
   ]
  },
  {
   "cell_type": "markdown",
   "metadata": {},
   "source": [
    "**Замечание:**\n",
    "* **Для возможности получения полного балла** ошибка aer должна быть не выше **0.82.** Если получили значение выше -- скорее всего, у вас где-то ошибка\n",
    "* **Полностью проходящая все тесты посылка в этом заданиии дает 0.5 балла. За непроходящий хотя бы 1 тест вы получите 0 баллов.**"
   ]
  },
  {
   "cell_type": "markdown",
   "metadata": {},
   "source": [
    "---\n",
    "**https://contest.yandex.ru/contest/60281/run-report/112334663/**"
   ]
  },
  {
   "cell_type": "markdown",
   "metadata": {},
   "source": [
    "---"
   ]
  },
  {
   "cell_type": "markdown",
   "metadata": {},
   "source": [
    "**TODO: check if its okay to extend POSSIBLE set by SURE**"
   ]
  },
  {
   "cell_type": "code",
   "execution_count": 5,
   "metadata": {},
   "outputs": [
    {
     "data": {
      "text/plain": [
       "0.8115275584918071"
      ]
     },
     "execution_count": 5,
     "metadata": {},
     "output_type": "execute_result"
    }
   ],
   "source": [
    "from metrics import compute_aer\n",
    "\n",
    "compute_aer(all_targets,baseline.align(tokenized_sentences))"
   ]
  },
  {
   "cell_type": "markdown",
   "metadata": {},
   "source": [
    "---"
   ]
  },
  {
   "cell_type": "markdown",
   "metadata": {},
   "source": [
    "Теперь мы можем перейти к базовой вероятностной модели для выравнивания слов. Пусть $S=(s_1,\\ldots,s_n)$ исходное предложение, $T=(t_1,\\ldots,t_m)$ — его перевод. В роли латентных переменных будут выступать выравнивания $A=(a_1,\\ldots,a_m)$ каждого слова в целевом предложении, причём $a_i\\in\\{1,\\ldots,n\\}$ (считаем, что каждое слово в $t$ является переводом какого-то слова из $s$). Параметрами модели является матрица условных вероятностей перевода: каждый её элемент $\\theta(y|x)=p(y|x)$ отражает вероятность того, что переводом слова $x$ с исходного языка на целевой является слово $y$ (нормировка, соответственно, совершается по словарю целевого языка). Правдоподобие латентных переменных и предложения на целевом языке в этой модели записывается так:\n",
    "\n",
    "$$\n",
    "p(A,T|S)=\\prod_{i=1}^m p(a_i)p(t_i|a_i,S)=\\prod_{i=1}^m \\frac{1}{n}\\theta(t_i|s_{a_i}).\n",
    "$$ "
   ]
  },
  {
   "cell_type": "markdown",
   "metadata": {},
   "source": [
    "**Задание 1. (2 балла)** Выведите шаги EM-алгоритма для этой модели, а также получите выражение для подсчёта нижней оценки правдоподобия ($\\mathcal{L}$ в обозначениях лекции и семинара). **Обратите внимание, что на M-шаге нужно найти аналитический максимум по параметрам.**"
   ]
  },
  {
   "cell_type": "markdown",
   "metadata": {},
   "source": [
    "**Замечание:**\n",
    "* _Возможные форматы ответа:_ в ячейке ноутбука, отдельно сданная в энитаск pdf c набранными формулами в LaTex, отдельная сданная в энитаск фотография (или скан) рукописного (и разборчивого) вывода.\n",
    "* Наличие только ответа оценивается **в 0 баллов**\n",
    "* Наличие неочевидных переходов без пояснений влияет на **баллы в меньшую сторону**\n",
    "\n",
    "**Подсказка:**\n",
    "* Не забывайте об ограничениях по значению на $\\theta$, это должно быть тем или иным образом отображено в выводе шагов\n",
    "* Помните, что у вас в корпусе несколько предложений (положим их число равным $R$ например)\n",
    "* А также помните, что длины каждой пары (предложение, перевод) различны. Длины предложений $i-$й пары можно обозначать, например, как $n_i$ и $m_i$. "
   ]
  },
  {
   "cell_type": "markdown",
   "metadata": {},
   "source": [
    "$E-шаг:$\n",
    "$$Q(A) = P(A | T, S) = \\frac{P(A, T | S)}{P(T | S)} = \\frac{\\prod_{i=1}^{m}\\frac{1}{n} \\theta(t_i | s_{a_i})}{\\sum_{\\widehat{A} \\in \\{1:n\\}^m} \\prod_{i=1}^{m}\\frac{1}{n} \\theta(t_i | s_{\\widehat{a}_i})} = \\frac{\\prod_{i=1}^{m} \\theta(t_i | s_{a_i})}{\\sum_{\\widehat{A} \\in \\{1:n\\}^m} \\prod_{i=1}^{m} \\theta(t_i | s_{\\widehat{a}_i})} $$\n",
    "Тогда распределение на A можно записать как матрицу $\\widehat{A} \\in R^{n\\times m}: \\hat{a}_{ij} = \\frac{\\theta(t_j | s_i)}{\\sum_{k=1}^n \\theta(t_j | s_k)}$ и $Q(A) = \\prod_{i=1}^m \\hat{a}_{a_i i}$"
   ]
  },
  {
   "cell_type": "markdown",
   "metadata": {},
   "source": [
    "$M-шаг:$\n",
    "$$\\Theta^{new} = \\argmax_{\\Theta} E_Q \\log P(A, T | S, \\Theta)$$\n",
    "$$\\log P(A, T | S, \\Theta) = \\sum \\log p(a_i) + \\sum_{i=1}^m \\log \\theta(t_i | s_{a_i})$$\n",
    "Тогда $E_Q \\log P(A, T | S, \\Theta) = \\sum_{\\hat{A} \\in \\{1, ..., n\\}^m} (\\sum_{i=1}^m \\log \\theta(t_i | s_{\\hat{a}_i})) P(\\hat{A} | T, S)$\n",
    "\n",
    "\n",
    "Если собрать коэффиценты при $\\log \\theta(t_i | s_{j}) : \\sum_{\\hat{A} : \\hat{a}_i = j} P(\\hat{A} | T, S)  \\#t_i \\#s_j = \\hat{a}_{ji}  \\#t_i \\#s_j$ \n",
    "\n",
    "где $\\#t_i,  \\#s_j$ - число токенов $t_i$ и $s_j$ соответственно в рассматриваемом предложении.\n",
    "\n",
    "\n",
    "Если учесть, что M-шаг делается по нескольким предложениям одновременно, то:\n",
    "\n",
    "Пусть $\\hat{S}, \\hat{T}$ - множество всех токенов исходного и целевого языка, которые использовались в предложениях для M-шага\n",
    "\n",
    "Тогда коэффицент при $\\log \\theta(\\hat{t}_i | \\hat{s}_j) : \\sum_{k=1}^R \\hat{a}_{\\hat{s}_j\\hat{t}_i}^k \\#\\hat{t}_i \\#\\hat{s}_j = A_{ij}$\n",
    "\n",
    "$\\forall i \\in \\{1, ..., m \\}:$\n",
    "\n",
    "$\\sum_{j=1}^n \\log \\theta(\\hat{t}_i | \\hat{s}_j) A_{ij} - max$\n",
    "\n",
    "$\\sum_{j=1}^n \\theta(\\hat{t}_i | \\hat{s}_j) = 1$\n",
    "\n",
    "Нужно решить систему:\n",
    "\n",
    "$\\begin{cases} \\frac{1}{\\theta(\\hat{t}_i | \\hat{s}_j)} A_{ij} + \\lambda = 0, & \\forall j \\in \\{1, ..., n \\}\\\\ \\sum_{j=1}^n \\theta(\\hat{t}_i | \\hat{s}_j) - 1 = 0 \\end{cases}$\n",
    "\n",
    "$\\theta(\\hat{t}_i | \\hat{s}_j) = - \\frac{A_{ij}}{ \\lambda } \\implies -\\frac{\\sum_{j=1}^n A_{ij}}{\\lambda} = 1 \\implies \\lambda = -\\sum_{j=1}^n A_{ij}$\n",
    "\n",
    "$\\theta(\\hat{t}_i | \\hat{s}_j) = \\frac{A_{ij}}{\\sum_{j=1}^n A_{ij}}$"
   ]
  },
  {
   "cell_type": "markdown",
   "metadata": {},
   "source": [
    "(∩｀-´)⊃━☆ﾟ.*･｡ﾟ"
   ]
  },
  {
   "cell_type": "markdown",
   "metadata": {},
   "source": [
    "---"
   ]
  },
  {
   "cell_type": "markdown",
   "metadata": {},
   "source": [
    "**Задание 2. (2 балла)** Реализуйте все методы класса `WordAligner` в соответствии с полученными вами формулами. Протестируйте вашу реализацию через Яндекс.Контест, а здесь обучите модель и посчитайте её AER на истинной разметке. Чтобы предсказать выравнивание для пары предложений в этой модели, следует выбирать в соответствие для слова в целевом предложении с индексом $i$ позицию, соответствующую максимуму апостериорного распределения $p(a_i|T,S)$."
   ]
  },
  {
   "cell_type": "markdown",
   "metadata": {},
   "source": [
    "**Замечание:** \n",
    "* **Полностью проходящая все тесты посылка в этом заданиии дает 1 балл. За хотя бы 1 непройденный тест вы можете получить за это задание максимум 1 балл**\n",
    "* **Для возможности получения полного балла** ошибка aer должна быть не выше **0.6.** Если получили значение выше -- скорее всего, у вас где-то ошибка"
   ]
  },
  {
   "cell_type": "markdown",
   "metadata": {},
   "source": [
    "---\n",
    "**>>Ваша ссылка на посылку:<<**\n",
    "\n",
    "---"
   ]
  },
  {
   "cell_type": "code",
   "execution_count": 14,
   "metadata": {},
   "outputs": [],
   "source": [
    "from importlib import reload\n",
    "import models\n",
    "\n",
    "models = reload(models)"
   ]
  },
  {
   "cell_type": "code",
   "execution_count": 16,
   "metadata": {},
   "outputs": [],
   "source": [
    "a = np.array([2, 3, 4, 3, 3])\n",
    "\n",
    "a.fill(5)"
   ]
  },
  {
   "cell_type": "code",
   "execution_count": 17,
   "metadata": {},
   "outputs": [
    {
     "data": {
      "text/plain": [
       "array([5, 5, 5, 5, 5])"
      ]
     },
     "execution_count": 17,
     "metadata": {},
     "output_type": "execute_result"
    }
   ],
   "source": [
    "a"
   ]
  },
  {
   "cell_type": "code",
   "execution_count": 18,
   "metadata": {},
   "outputs": [
    {
     "name": "stdout",
     "output_type": "stream",
     "text": [
      "Unexpected exception formatting exception. Falling back to standard exception\n"
     ]
    },
    {
     "name": "stderr",
     "output_type": "stream",
     "text": [
      "Traceback (most recent call last):\n",
      "  File \"c:\\Users\\s0221\\projects\\env4vmk\\lib\\site-packages\\IPython\\core\\interactiveshell.py\", line 3526, in run_code\n",
      "    exec(code_obj, self.user_global_ns, self.user_ns)\n",
      "  File \"C:\\Users\\s0221\\AppData\\Local\\Temp\\ipykernel_6300\\3889080975.py\", line 6, in <module>\n",
      "    hist = word_aligner.fit(tokenized_sentences, verbose=0)\n",
      "  File \"c:\\Users\\s0221\\projects\\git\\EM_mmro\\Homework3\\models.py\", line 187, in fit\n",
      "    for i in range(self.num_iters):\n",
      "  File \"c:\\Users\\s0221\\projects\\git\\EM_mmro\\Homework3\\models.py\", line 160, in _m_step\n",
      "KeyboardInterrupt\n",
      "\n",
      "During handling of the above exception, another exception occurred:\n",
      "\n",
      "Traceback (most recent call last):\n",
      "  File \"c:\\Users\\s0221\\projects\\env4vmk\\lib\\site-packages\\IPython\\core\\interactiveshell.py\", line 2120, in showtraceback\n",
      "    stb = self.InteractiveTB.structured_traceback(\n",
      "  File \"c:\\Users\\s0221\\projects\\env4vmk\\lib\\site-packages\\IPython\\core\\ultratb.py\", line 1435, in structured_traceback\n",
      "    return FormattedTB.structured_traceback(\n",
      "  File \"c:\\Users\\s0221\\projects\\env4vmk\\lib\\site-packages\\IPython\\core\\ultratb.py\", line 1326, in structured_traceback\n",
      "    return VerboseTB.structured_traceback(\n",
      "  File \"c:\\Users\\s0221\\projects\\env4vmk\\lib\\site-packages\\IPython\\core\\ultratb.py\", line 1173, in structured_traceback\n",
      "    formatted_exception = self.format_exception_as_a_whole(etype, evalue, etb, number_of_lines_of_context,\n",
      "  File \"c:\\Users\\s0221\\projects\\env4vmk\\lib\\site-packages\\IPython\\core\\ultratb.py\", line 1088, in format_exception_as_a_whole\n",
      "    frames.append(self.format_record(record))\n",
      "  File \"c:\\Users\\s0221\\projects\\env4vmk\\lib\\site-packages\\IPython\\core\\ultratb.py\", line 970, in format_record\n",
      "    frame_info.lines, Colors, self.has_colors, lvals\n",
      "  File \"c:\\Users\\s0221\\projects\\env4vmk\\lib\\site-packages\\IPython\\core\\ultratb.py\", line 792, in lines\n",
      "    return self._sd.lines\n",
      "  File \"c:\\Users\\s0221\\projects\\env4vmk\\lib\\site-packages\\stack_data\\utils.py\", line 145, in cached_property_wrapper\n",
      "    value = obj.__dict__[self.func.__name__] = self.func(obj)\n",
      "  File \"c:\\Users\\s0221\\projects\\env4vmk\\lib\\site-packages\\stack_data\\core.py\", line 734, in lines\n",
      "    pieces = self.included_pieces\n",
      "  File \"c:\\Users\\s0221\\projects\\env4vmk\\lib\\site-packages\\stack_data\\utils.py\", line 145, in cached_property_wrapper\n",
      "    value = obj.__dict__[self.func.__name__] = self.func(obj)\n",
      "  File \"c:\\Users\\s0221\\projects\\env4vmk\\lib\\site-packages\\stack_data\\core.py\", line 681, in included_pieces\n",
      "    pos = scope_pieces.index(self.executing_piece)\n",
      "  File \"c:\\Users\\s0221\\projects\\env4vmk\\lib\\site-packages\\stack_data\\utils.py\", line 145, in cached_property_wrapper\n",
      "    value = obj.__dict__[self.func.__name__] = self.func(obj)\n",
      "  File \"c:\\Users\\s0221\\projects\\env4vmk\\lib\\site-packages\\stack_data\\core.py\", line 660, in executing_piece\n",
      "    return only(\n",
      "  File \"c:\\Users\\s0221\\projects\\env4vmk\\lib\\site-packages\\executing\\executing.py\", line 116, in only\n",
      "    raise NotOneValueFound('Expected one value, found 0')\n",
      "executing.executing.NotOneValueFound: Expected one value, found 0\n"
     ]
    }
   ],
   "source": [
    "from models import WordAligner\n",
    "\n",
    "word_aligner = WordAligner(len(t_idx_src), len(t_idx_tgt), 20)\n",
    "\n",
    "# word_aligner._e_step(tokenized_sentences)\n",
    "hist = word_aligner.fit(tokenized_sentences, verbose=0)\n",
    "\n",
    "# ༼つ ಠ益ಠ༽つ ─=≡ΣO))"
   ]
  },
  {
   "cell_type": "code",
   "execution_count": null,
   "metadata": {},
   "outputs": [
    {
     "data": {
      "image/png": "[encoded data removed]",
      "text/plain": [
       "<Figure size 640x480 with 1 Axes>"
      ]
     },
     "metadata": {},
     "output_type": "display_data"
    }
   ],
   "source": [
    "import seaborn as sns\n",
    "import matplotlib.pyplot as plt\n",
    "\n",
    "sns.lineplot(hist).set(xlabel='num_iter', ylabel='ELBO', title='ELBO values of word aligner model')\n",
    "plt.show()"
   ]
  },
  {
   "cell_type": "code",
   "execution_count": null,
   "metadata": {},
   "outputs": [],
   "source": [
    "aligns = word_aligner.align(tokenized_sentences)"
   ]
  },
  {
   "cell_type": "code",
   "execution_count": null,
   "metadata": {},
   "outputs": [],
   "source": [
    "# aligns1 = aligns"
   ]
  },
  {
   "cell_type": "code",
   "execution_count": null,
   "metadata": {},
   "outputs": [
    {
     "data": {
      "text/plain": [
       "[LabeledAlignment(sure=[(1, 1), (3, 3), (5, 2), (6, 4), (7, 5)], possible=[(2, 2), (4, 3)]),\n",
       " LabeledAlignment(sure=[(1, 1), (2, 2), (3, 3), (4, 4), (5, 5), (6, 6)], possible=[]),\n",
       " LabeledAlignment(sure=[(10, 7), (12, 8), (13, 9), (2, 3), (3, 2), (6, 4), (7, 5), (9, 6)], possible=[(1, 3), (11, 8), (3, 1), (5, 4), (8, 6)]),\n",
       " LabeledAlignment(sure=[(1, 1), (10, 7), (3, 2), (4, 3), (5, 4), (7, 6), (8, 5), (9, 5)], possible=[(2, 2), (6, 6)]),\n",
       " LabeledAlignment(sure=[(1, 1), (12, 4), (13, 5), (14, 6), (15, 7), (16, 8), (17, 9), (3, 2), (4, 1), (5, 1), (6, 1), (7, 1)], possible=[(1, 3), (2, 2), (4, 3), (5, 3), (6, 3), (7, 3)]),\n",
       " LabeledAlignment(sure=[(1, 1), (2, 2), (3, 6), (4, 7), (5, 8), (6, 9), (7, 3), (8, 10)], possible=[]),\n",
       " LabeledAlignment(sure=[(1, 1), (11, 9), (12, 11), (13, 12), (14, 14), (15, 15), (16, 17), (17, 19), (18, 22), (19, 23), (2, 2), (23, 25), (24, 26), (25, 27), (26, 28), (27, 29), (3, 3), (4, 4), (5, 4), (6, 5), (7, 8), (9, 10)], possible=[(10, 10), (13, 13), (16, 16), (18, 20), (18, 21), (19, 21), (7, 6), (7, 7), (8, 10), (8, 9)]),\n",
       " LabeledAlignment(sure=[(15, 10), (19, 18), (20, 19), (4, 1), (5, 3), (6, 8), (7, 7), (8, 4)], possible=[(1, 15), (10, 5), (10, 6), (11, 9), (12, 11), (13, 11), (14, 10), (2, 15), (2, 2), (3, 1), (5, 2), (9, 5), (9, 6)]),\n",
       " LabeledAlignment(sure=[(1, 1), (1, 2), (5, 5), (6, 3), (7, 4), (8, 6)], possible=[(2, 2), (3, 5), (4, 5), (6, 4)]),\n",
       " LabeledAlignment(sure=[(1, 4), (1, 5), (11, 10), (13, 11), (15, 13), (15, 14), (15, 15), (16, 12), (16, 16), (17, 18), (18, 19), (2, 6), (23, 21), (24, 22), (4, 8), (7, 3), (8, 1), (9, 2)], possible=[(10, 10), (12, 11), (14, 16), (19, 20), (20, 20), (21, 20), (22, 20), (3, 7), (3, 9), (5, 7), (5, 9), (6, 3)]),\n",
       " LabeledAlignment(sure=[(1, 1), (10, 7), (11, 10), (2, 3), (4, 4), (7, 5), (9, 6)], possible=[(10, 6), (10, 8), (10, 9), (2, 2), (3, 4), (5, 4), (6, 5), (8, 6), (8, 7), (8, 8), (8, 9), (9, 7), (9, 8), (9, 9)]),\n",
       " LabeledAlignment(sure=[(1, 3), (11, 6), (12, 8), (13, 9), (14, 10), (15, 11), (16, 12), (17, 13), (18, 14), (19, 15), (20, 17), (21, 18), (22, 19), (23, 20), (24, 21), (25, 23), (26, 24), (27, 25), (28, 25), (29, 26), (30, 28), (31, 29), (32, 31), (34, 30), (35, 32), (36, 33), (4, 1), (5, 2), (7, 5), (9, 7)], possible=[(10, 7), (2, 2), (20, 16), (25, 22), (3, 2), (31, 27), (33, 30), (7, 4), (8, 6), (8, 7)]),\n",
       " LabeledAlignment(sure=[(13, 10), (2, 2), (3, 3), (5, 1), (6, 4), (7, 8), (8, 9)], possible=[(1, 1), (1, 3), (4, 3)]),\n",
       " LabeledAlignment(sure=[(10, 10), (11, 11), (12, 12), (14, 15), (15, 16), (16, 17), (17, 19), (18, 20), (2, 2), (22, 28), (23, 29), (26, 23), (27, 30), (28, 31), (29, 32), (3, 4), (30, 33), (32, 26), (33, 34), (4, 4), (5, 5), (6, 6), (7, 8), (8, 9), (9, 9)], possible=[(1, 2), (13, 13), (2, 1), (21, 27), (25, 21), (25, 23), (26, 22), (31, 24), (32, 25)]),\n",
       " LabeledAlignment(sure=[(10, 12), (12, 13), (13, 14), (14, 15), (15, 17), (16, 18), (17, 19), (18, 20), (19, 21), (20, 22), (22, 23), (23, 24), (25, 25), (26, 26), (29, 27), (3, 2), (30, 28), (31, 29), (32, 30), (33, 31), (34, 33), (36, 34), (39, 35), (41, 36), (43, 37), (44, 38), (6, 6), (8, 8)], possible=[(1, 1), (11, 13), (11, 15), (2, 2), (21, 22), (21, 23), (24, 25), (24, 26), (27, 27), (28, 27), (34, 32), (35, 34), (37, 35), (4, 3), (4, 4), (40, 36), (42, 36), (5, 6), (7, 10), (8, 7), (9, 11)]),\n",
       " LabeledAlignment(sure=[(1, 1), (11, 10), (11, 14), (12, 15), (5, 2), (6, 3), (7, 4), (8, 5), (9, 8)], possible=[(10, 14), (2, 6), (3, 6), (4, 2), (7, 5), (9, 7), (9, 9)]),\n",
       " LabeledAlignment(sure=[(11, 8), (12, 9), (14, 10), (17, 11), (19, 12), (2, 1), (20, 13), (21, 14), (22, 16), (23, 18), (24, 19), (24, 20), (24, 21), (26, 23), (27, 24), (28, 25), (29, 26), (3, 2), (30, 28), (31, 27), (32, 29), (4, 3), (5, 4), (7, 5), (8, 6), (9, 7)], possible=[(1, 1), (1, 3), (10, 7), (13, 10), (15, 11), (17, 12), (17, 13), (18, 11), (18, 12), (18, 13), (19, 11), (19, 13), (20, 11), (20, 12), (22, 15), (22, 17), (25, 22), (26, 22), (6, 5)]),\n",
       " LabeledAlignment(sure=[(1, 1), (11, 13), (12, 14), (13, 15), (14, 16), (15, 18), (16, 19), (16, 20), (17, 21), (18, 22), (19, 23), (2, 3), (20, 24), (3, 5), (4, 8), (5, 6), (6, 10), (8, 11), (9, 12)], possible=[(10, 13), (10, 14), (15, 17), (2, 2), (3, 4), (7, 12)]),\n",
       " LabeledAlignment(sure=[(1, 1), (10, 12), (11, 13), (12, 14), (13, 14), (14, 14), (15, 18), (17, 20), (18, 19), (18, 21), (2, 2), (20, 25), (24, 27), (26, 29), (27, 30), (4, 4), (7, 5), (8, 7), (9, 10)], possible=[(1, 2), (10, 11), (15, 15), (15, 16), (15, 17), (16, 20), (19, 25), (2, 1), (21, 27), (22, 27), (23, 27), (24, 26), (25, 27), (25, 29), (26, 28), (3, 4), (4, 5), (4, 6), (5, 4), (5, 5), (5, 6), (6, 3), (6, 4), (6, 5), (6, 6), (7, 4), (7, 6), (9, 9)]),\n",
       " LabeledAlignment(sure=[(1, 4), (10, 8), (12, 9), (13, 10), (15, 11), (3, 2), (5, 5), (8, 6), (9, 7)], possible=[(2, 2), (6, 6), (7, 6)]),\n",
       " LabeledAlignment(sure=[(10, 12), (11, 10), (12, 13), (13, 14), (14, 15), (15, 16), (16, 17), (17, 18), (3, 2), (4, 3), (5, 6), (8, 9), (9, 9)], possible=[(1, 1), (10, 11), (2, 3), (5, 4), (5, 5), (5, 7), (6, 6), (7, 10), (7, 6), (9, 8)]),\n",
       " LabeledAlignment(sure=[(1, 1), (10, 8), (11, 9), (14, 10), (16, 12), (17, 13), (18, 15), (20, 18), (21, 16), (22, 19), (23, 20), (26, 25), (27, 26), (28, 27), (29, 28), (3, 2), (30, 22), (31, 22), (32, 29), (4, 3), (5, 4), (7, 5), (8, 6), (9, 7)], possible=[(12, 10), (13, 10), (14, 11), (15, 13), (18, 14), (19, 16), (2, 3), (20, 17), (23, 21), (24, 20), (24, 21), (25, 22), (25, 25), (26, 23), (26, 24), (6, 5)]),\n",
       " LabeledAlignment(sure=[(10, 10), (11, 11), (12, 12), (5, 1), (6, 2), (8, 8), (9, 9)], possible=[(1, 4), (2, 3), (2, 5), (2, 6), (2, 7), (3, 6), (7, 6), (7, 7)]),\n",
       " LabeledAlignment(sure=[(1, 3), (10, 14), (2, 1), (3, 6), (4, 4), (4, 5), (6, 10), (7, 12), (8, 13), (9, 11)], possible=[(4, 2), (4, 7), (5, 4), (5, 7), (6, 8), (6, 9)]),\n",
       " LabeledAlignment(sure=[(1, 1), (10, 8), (11, 9), (12, 10), (13, 13), (15, 14), (16, 15), (17, 16), (18, 17), (19, 18), (20, 19), (21, 20), (22, 21), (23, 22), (24, 23), (27, 27), (29, 28), (3, 2), (30, 29), (31, 30), (32, 31), (33, 25), (34, 32), (4, 3), (5, 4), (6, 5), (7, 6), (8, 7)], possible=[(13, 11), (13, 12), (14, 13), (14, 15), (2, 2), (2, 3), (25, 24), (25, 27), (26, 24), (26, 27), (27, 24), (27, 26), (28, 27), (9, 10)]),\n",
       " LabeledAlignment(sure=[(1, 1), (10, 10), (12, 11), (14, 13), (16, 15), (17, 16), (18, 17), (3, 3), (3, 4), (4, 5), (5, 6), (6, 7), (9, 8)], possible=[(11, 11), (13, 11), (14, 12), (15, 15), (17, 14), (2, 3), (3, 2), (7, 8), (8, 8), (9, 9)]),\n",
       " LabeledAlignment(sure=[(1, 1), (10, 7), (11, 11), (16, 16), (17, 17), (18, 18), (2, 9), (20, 19), (21, 20), (27, 21), (27, 27), (29, 33), (3, 10), (30, 34), (34, 32), (35, 31), (36, 35), (37, 36), (38, 37), (39, 38), (4, 2), (41, 41), (43, 42), (44, 43), (45, 44), (5, 8), (6, 3), (7, 4), (8, 5), (9, 6)], possible=[(14, 13), (15, 13), (15, 14), (19, 19), (19, 20), (22, 22), (22, 23), (22, 24), (22, 25), (23, 26), (23, 27), (24, 26), (24, 27), (25, 26), (25, 27), (26, 26), (26, 27), (27, 26), (28, 27), (28, 28), (28, 29), (31, 34), (32, 30), (33, 32), (40, 39), (40, 41), (41, 39), (41, 40), (42, 42), (42, 43)]),\n",
       " LabeledAlignment(sure=[(1, 1), (10, 7), (11, 8), (12, 10), (13, 11), (2, 2), (3, 3), (4, 4), (5, 5), (6, 6)], possible=[(8, 7), (9, 7)]),\n",
       " LabeledAlignment(sure=[(13, 13), (14, 14), (15, 12), (16, 18), (17, 15), (19, 16), (2, 1), (20, 17), (21, 19), (22, 20), (22, 21), (23, 22), (25, 23), (26, 24), (27, 25), (28, 27), (3, 3), (30, 26), (31, 28), (31, 29), (32, 31), (33, 32), (37, 34), (38, 35), (5, 4), (5, 5), (6, 6), (7, 7)], possible=[(1, 1), (10, 9), (11, 9), (12, 10), (12, 11), (18, 16), (18, 17), (24, 23), (3, 2), (36, 33), (4, 4), (4, 5), (8, 9), (9, 9)]),\n",
       " LabeledAlignment(sure=[(1, 2), (10, 18), (12, 19), (13, 20), (14, 21), (15, 22), (16, 24), (17, 25), (18, 26), (19, 27), (2, 3), (20, 28), (21, 30), (22, 31), (23, 32), (25, 38), (26, 39), (26, 40), (27, 41), (28, 42), (3, 5), (31, 35), (32, 36), (34, 37), (35, 43), (4, 6), (5, 7), (6, 11), (7, 12), (8, 13)], possible=[(1, 1), (1, 3), (10, 14), (10, 15), (10, 16), (10, 17), (11, 19), (16, 23), (2, 1), (2, 2), (24, 29), (24, 40), (26, 29), (3, 4), (30, 33), (31, 34), (33, 37), (6, 10), (6, 8), (9, 17)]),\n",
       " LabeledAlignment(sure=[(10, 5), (11, 7), (13, 8), (2, 1), (20, 16), (5, 3), (6, 4), (7, 6)], possible=[(1, 10), (12, 8), (14, 11), (14, 9), (15, 12), (16, 15), (17, 13), (17, 14), (18, 14), (19, 15), (3, 2), (4, 3), (8, 5), (9, 5)]),\n",
       " LabeledAlignment(sure=[(1, 10), (10, 7), (11, 11), (2, 9), (4, 1), (5, 2), (7, 4), (8, 5), (9, 7)], possible=[(3, 2), (6, 2), (6, 3), (6, 4), (7, 3)]),\n",
       " LabeledAlignment(sure=[(1, 1), (1, 2), (10, 9), (11, 11), (12, 12), (13, 13), (14, 14), (16, 15), (17, 16), (18, 17), (19, 18), (2, 3), (20, 19), (21, 20), (22, 22), (24, 23), (25, 24), (4, 4), (4, 5), (5, 6), (6, 10), (8, 7), (9, 8)], possible=[(15, 16), (23, 23), (3, 4), (3, 5), (7, 10)]),\n",
       " LabeledAlignment(sure=[(11, 12), (11, 17), (12, 18), (13, 20), (15, 1), (16, 3), (17, 5), (19, 8), (2, 13), (20, 6), (20, 9), (22, 10), (23, 21), (3, 14), (5, 15), (6, 16)], possible=[(10, 17), (13, 19), (14, 11), (17, 4), (18, 2), (21, 10), (4, 16)]),\n",
       " LabeledAlignment(sure=[(1, 1), (1, 2), (11, 12), (12, 13), (16, 19), (17, 20), (18, 21), (19, 22), (2, 3), (20, 23), (3, 4), (4, 4), (5, 6), (6, 8), (7, 10), (8, 9), (9, 11)], possible=[(10, 12), (13, 5)]),\n",
       " LabeledAlignment(sure=[(1, 2), (11, 10), (12, 12), (13, 13), (14, 14), (15, 15), (16, 16), (17, 20), (19, 21), (2, 3), (21, 22), (22, 23), (23, 24), (3, 4), (4, 5), (5, 6), (6, 6), (7, 7), (8, 8), (9, 9)], possible=[(1, 1), (10, 14), (12, 11), (17, 17), (17, 18), (17, 19), (18, 20), (20, 21), (20, 23)]),\n",
       " LabeledAlignment(sure=[(1, 1), (12, 14), (13, 16), (15, 17), (2, 2), (21, 20), (22, 21), (23, 22), (24, 27), (6, 8), (7, 4), (7, 5), (7, 6), (8, 9)], possible=[(10, 10), (10, 11), (10, 12), (10, 13), (10, 14), (11, 10), (11, 11), (11, 12), (11, 13), (11, 14), (12, 10), (12, 11), (12, 12), (12, 13), (13, 15), (14, 17), (16, 19), (16, 25), (17, 18), (17, 19), (17, 23), (17, 24), (17, 25), (17, 26), (18, 18), (18, 23), (18, 24), (18, 25), (18, 26), (19, 18), (19, 23), (19, 24), (19, 25), (19, 26), (20, 18), (20, 23), (20, 24), (20, 25), (20, 26), (3, 3), (3, 7), (3, 8), (4, 3), (4, 7), (4, 8), (5, 3), (5, 7), (5, 8), (6, 3), (6, 7), (9, 10), (9, 11), (9, 12), (9, 13), (9, 14)]),\n",
       " LabeledAlignment(sure=[(10, 16), (12, 15), (13, 15), (14, 11), (15, 12), (16, 13), (16, 14), (17, 17)], possible=[(11, 15), (2, 5), (2, 7), (3, 4), (3, 6), (4, 10), (8, 9), (9, 16)]),\n",
       " LabeledAlignment(sure=[(1, 2), (10, 12), (15, 6), (16, 7), (18, 8), (19, 13), (2, 2), (3, 2), (4, 1), (7, 9), (9, 11)], possible=[(11, 4), (11, 5), (12, 4), (12, 5), (13, 4), (13, 5), (13, 7), (14, 7), (17, 8), (5, 3), (5, 9), (6, 9), (7, 10), (7, 3), (8, 10), (8, 12)]),\n",
       " LabeledAlignment(sure=[(1, 1), (11, 12), (12, 13), (13, 15), (14, 16), (16, 17), (17, 18), (18, 19), (19, 22), (2, 2), (3, 3), (4, 4), (5, 5), (6, 8), (7, 9), (8, 10), (9, 11)], possible=[(10, 13), (13, 14), (15, 19), (6, 7)]),\n",
       " LabeledAlignment(sure=[(1, 3), (10, 8), (11, 9), (12, 5), (14, 6), (15, 14), (17, 15), (20, 18), (22, 21), (23, 22), (3, 1), (5, 10), (7, 12), (8, 13), (9, 7)], possible=[(13, 6), (16, 15), (18, 18), (19, 16), (19, 18), (2, 1), (21, 21), (4, 10), (4, 2), (4, 4), (5, 2), (5, 4), (6, 13), (7, 11)]),\n",
       " LabeledAlignment(sure=[(1, 4), (2, 2), (3, 3), (6, 5), (7, 6), (8, 7)], possible=[(3, 1), (4, 5), (6, 1)]),\n",
       " LabeledAlignment(sure=[(11, 10), (13, 9), (14, 12), (18, 15), (19, 16), (3, 2), (4, 3), (5, 4), (6, 5), (7, 7), (9, 8)], possible=[(1, 13), (10, 9), (12, 10), (15, 11), (15, 13), (16, 13), (16, 14), (17, 13), (17, 14), (2, 4), (7, 6), (8, 8)]),\n",
       " LabeledAlignment(sure=[(1, 1), (10, 13), (11, 15), (12, 8), (13, 9), (14, 11), (17, 16), (4, 2), (7, 5), (9, 12)], possible=[(15, 7), (16, 7), (6, 5), (8, 12), (8, 3), (8, 6), (9, 3), (9, 4), (9, 6)]),\n",
       " LabeledAlignment(sure=[(1, 1), (10, 8), (12, 9), (15, 10), (16, 11), (17, 12), (18, 13), (19, 14), (2, 2), (20, 15), (22, 16), (23, 17), (25, 19), (27, 18), (28, 20), (3, 3), (4, 4), (7, 5), (8, 6), (9, 7)], possible=[(11, 9), (13, 12), (14, 12), (21, 16), (24, 19), (26, 18), (5, 6), (6, 6)]),\n",
       " LabeledAlignment(sure=[(1, 1), (10, 8), (11, 9), (12, 10), (13, 11), (2, 2), (3, 3), (4, 4), (5, 5), (7, 6), (8, 7)], possible=[(6, 6), (9, 8)]),\n",
       " LabeledAlignment(sure=[(2, 1), (5, 2)], possible=[(1, 1), (3, 2), (4, 2)]),\n",
       " LabeledAlignment(sure=[(1, 1), (2, 2)], possible=[]),\n",
       " LabeledAlignment(sure=[(1, 1), (12, 9), (13, 8), (14, 10), (15, 11), (16, 12), (3, 2), (5, 3), (6, 4), (7, 5), (9, 7)], possible=[(11, 9), (2, 2), (4, 4), (7, 6), (8, 6), (8, 7)]),\n",
       " LabeledAlignment(sure=[(10, 2), (11, 4), (14, 12), (15, 13), (17, 16), (19, 14), (20, 15), (21, 17), (7, 1)], possible=[(1, 11), (11, 5), (12, 4), (12, 6), (12, 7), (13, 12), (18, 16), (2, 11), (6, 6), (8, 2), (9, 2)]),\n",
       " LabeledAlignment(sure=[(1, 1), (14, 13), (15, 12), (16, 14), (17, 15), (2, 2), (3, 4), (5, 9), (6, 10), (9, 7), (9, 8)], possible=[(13, 12), (3, 3), (4, 10), (7, 5), (7, 6), (7, 8), (8, 8), (9, 5), (9, 6)]),\n",
       " LabeledAlignment(sure=[(1, 1), (11, 11), (14, 12), (15, 9), (16, 10), (17, 13), (2, 2), (4, 4), (5, 4), (6, 5), (7, 6), (8, 7), (9, 8)], possible=[(10, 11), (12, 12), (13, 12), (3, 4), (4, 3)]),\n",
       " LabeledAlignment(sure=[(10, 9), (12, 10), (15, 11), (16, 12), (18, 13), (20, 15), (22, 17), (23, 14), (24, 18), (3, 2), (5, 5), (6, 6), (7, 7), (9, 8)], possible=[(1, 1), (11, 10), (13, 11), (14, 11), (19, 13), (2, 3), (21, 15), (4, 6), (6, 4), (8, 8)]),\n",
       " LabeledAlignment(sure=[(1, 1), (11, 7), (14, 12), (17, 13), (2, 2), (20, 18), (21, 21), (23, 22), (24, 23), (25, 24), (28, 25), (3, 3), (5, 4), (6, 5), (8, 6)], possible=[(10, 10), (10, 11), (10, 7), (10, 8), (10, 9), (11, 10), (11, 11), (11, 8), (11, 9), (12, 10), (12, 11), (12, 7), (12, 8), (12, 9), (13, 10), (13, 11), (13, 7), (13, 8), (13, 9), (15, 14), (15, 15), (15, 16), (16, 13), (18, 17), (18, 19), (19, 18), (22, 22), (27, 22), (4, 4), (4, 5), (7, 6), (9, 10), (9, 11), (9, 7), (9, 8), (9, 9)]),\n",
       " LabeledAlignment(sure=[(1, 1), (10, 6), (11, 7), (12, 8), (13, 9), (14, 11), (16, 12), (17, 13), (18, 14), (3, 2), (6, 4), (7, 3), (8, 5)], possible=[(15, 11), (2, 2), (5, 4), (9, 5), (9, 8)]),\n",
       " LabeledAlignment(sure=[(10, 8), (13, 13), (14, 14), (15, 16), (16, 17), (17, 18), (18, 19), (19, 20), (2, 2), (20, 21), (3, 3), (4, 4), (5, 6), (6, 7), (9, 9)], possible=[(1, 1), (1, 4), (11, 11), (11, 12), (12, 13), (5, 5), (8, 9)]),\n",
       " LabeledAlignment(sure=[(1, 1), (11, 5), (14, 13), (15, 13), (16, 14), (18, 15), (19, 16), (2, 2), (20, 17), (21, 18), (22, 19), (29, 25), (3, 7), (31, 29), (31, 30), (31, 31), (32, 27), (33, 28), (36, 35), (37, 36), (38, 37), (39, 38), (4, 8), (41, 43), (43, 44), (44, 45), (45, 46), (46, 47), (5, 9), (6, 10), (7, 11), (8, 3), (9, 4)], possible=[(10, 5), (12, 12), (13, 13), (17, 15), (23, 20), (23, 21), (23, 22), (23, 23), (24, 20), (24, 21), (24, 22), (24, 23), (25, 24), (25, 25), (26, 24), (26, 25), (27, 24), (27, 25), (28, 24), (28, 25), (29, 24), (30, 28), (30, 29), (30, 30), (30, 31), (39, 39), (39, 40), (39, 41), (40, 43), (42, 40), (42, 41), (42, 44), (43, 42)]),\n",
       " LabeledAlignment(sure=[(1, 3), (11, 6), (12, 8), (13, 9), (14, 10), (15, 10), (16, 11), (17, 12), (3, 1), (5, 4), (7, 5), (9, 7)], possible=[(10, 7), (14, 11), (15, 11), (16, 10), (2, 1), (4, 4), (5, 2), (6, 5), (8, 7), (8, 8)]),\n",
       " LabeledAlignment(sure=[(1, 1), (11, 9), (13, 10), (14, 11), (15, 12), (2, 1), (3, 2)], possible=[(10, 9), (12, 11), (6, 5), (7, 3), (7, 4), (7, 8), (8, 3), (8, 4), (8, 8)]),\n",
       " LabeledAlignment(sure=[(1, 1), (10, 7), (11, 8), (12, 9), (14, 12), (15, 13), (16, 15), (17, 16), (18, 17), (2, 2), (3, 3), (4, 5), (5, 6), (7, 4), (8, 4)], possible=[(13, 11), (13, 12), (14, 10), (14, 11), (16, 14), (16, 16), (17, 14), (17, 15), (6, 4), (9, 7)]),\n",
       " LabeledAlignment(sure=[(10, 7), (11, 8), (12, 9), (14, 10), (14, 11), (16, 12), (17, 13), (18, 15), (19, 14), (2, 1), (21, 16), (21, 17), (22, 18), (23, 19), (23, 20), (24, 21), (26, 22), (29, 24), (30, 26), (31, 27), (4, 2), (5, 4), (7, 5), (8, 3), (9, 6)], possible=[(1, 1), (13, 10), (13, 9), (15, 12), (20, 16), (25, 22), (27, 22), (28, 24), (28, 25), (28, 26), (29, 25), (29, 26), (3, 1), (3, 2), (30, 24), (30, 25), (6, 5)]),\n",
       " LabeledAlignment(sure=[(1, 8), (10, 11), (11, 12), (13, 13), (15, 15), (18, 14), (19, 17), (2, 9), (20, 18), (21, 19), (22, 16), (23, 21), (24, 23), (26, 24), (29, 27), (30, 28), (31, 30), (4, 3), (6, 2)], possible=[(12, 13), (14, 13), (14, 15), (16, 14), (17, 14), (23, 20), (24, 22), (25, 24), (27, 29), (28, 28), (3, 3), (5, 1), (5, 3), (6, 3), (7, 4), (7, 5), (8, 10), (8, 6), (8, 7), (9, 10)]),\n",
       " LabeledAlignment(sure=[(1, 1), (12, 9), (14, 10), (15, 11), (17, 12), (19, 13), (20, 14), (21, 15), (4, 3), (5, 3)], possible=[(11, 9), (13, 9), (18, 13), (18, 14), (2, 2), (2, 4), (3, 3), (6, 3), (6, 5), (7, 6), (8, 6), (9, 6)]),\n",
       " LabeledAlignment(sure=[(1, 1), (11, 16), (12, 11), (13, 12), (14, 13), (15, 14), (16, 15), (17, 17), (18, 18), (21, 19), (22, 20), (23, 23), (24, 21), (25, 24), (3, 4), (7, 5), (8, 6)], possible=[(10, 16), (11, 10), (2, 3), (23, 22), (4, 7), (4, 8), (5, 7), (5, 8), (6, 7), (6, 8), (9, 9)]),\n",
       " LabeledAlignment(sure=[(10, 12), (11, 11), (12, 13), (13, 14), (14, 15), (17, 18), (18, 20), (19, 21), (2, 1), (21, 22), (22, 23), (23, 25), (25, 26), (26, 28), (27, 29), (30, 33), (31, 31), (32, 32), (34, 34), (35, 35), (36, 36), (4, 3), (5, 4), (6, 6), (7, 7), (8, 8), (9, 10), (9, 9)], possible=[(1, 1), (15, 16), (16, 16), (18, 19), (20, 22), (23, 24), (24, 26), (24, 27), (24, 28), (25, 27), (25, 28), (26, 26), (26, 27), (28, 27), (28, 30), (29, 33), (3, 2), (33, 35), (6, 5)]),\n",
       " LabeledAlignment(sure=[(2, 1), (3, 2), (4, 3), (5, 5), (6, 7), (7, 6), (8, 8)], possible=[(1, 1), (1, 2)]),\n",
       " LabeledAlignment(sure=[(14, 13), (15, 14), (19, 16), (20, 17), (23, 18), (24, 19), (25, 20), (27, 21), (28, 22), (3, 3), (31, 23), (32, 24), (35, 26), (36, 27), (37, 28), (4, 4), (41, 30), (42, 31), (44, 33), (45, 35), (46, 35), (48, 36), (48, 39), (49, 38), (5, 5), (50, 40), (51, 41), (52, 42), (53, 43), (7, 6), (8, 7), (9, 8)], possible=[(1, 1), (1, 2), (10, 11), (11, 11), (12, 11), (13, 12), (16, 15), (17, 17), (18, 17), (18, 18), (2, 4), (21, 18), (22, 18), (26, 22), (26, 23), (29, 23), (30, 23), (33, 26), (34, 26), (35, 25), (37, 29), (39, 29), (40, 30), (43, 32), (43, 33), (46, 34), (47, 39), (50, 37), (6, 8)]),\n",
       " LabeledAlignment(sure=[(1, 1), (10, 8), (11, 9), (13, 11), (14, 12), (16, 13), (17, 14), (18, 15), (19, 16), (2, 2), (3, 3), (4, 4), (5, 5), (6, 6), (8, 7), (9, 7)], possible=[(12, 11), (12, 9), (13, 10)]),\n",
       " LabeledAlignment(sure=[(10, 6), (11, 8), (13, 9), (14, 9), (15, 10), (18, 11), (19, 12), (2, 1), (20, 16), (21, 17), (22, 14), (23, 18), (25, 19), (27, 19), (28, 20), (3, 2), (30, 21), (31, 22), (33, 24), (34, 25), (34, 26), (35, 28), (36, 29), (37, 30), (38, 31), (39, 32), (40, 33), (41, 34), (41, 36), (43, 37), (44, 38), (45, 39), (8, 5), (9, 7)], possible=[(1, 1), (1, 2), (12, 10), (12, 9), (16, 11), (17, 11), (21, 15), (22, 13), (24, 19), (24, 20), (26, 19), (29, 21), (32, 22), (33, 23), (35, 27), (41, 35), (42, 37), (5, 3), (5, 4), (6, 3), (6, 4)]),\n",
       " LabeledAlignment(sure=[(10, 9), (11, 9), (14, 12), (16, 13), (18, 14), (19, 14), (2, 2), (20, 15), (21, 16), (3, 1), (4, 3), (5, 4), (6, 5), (7, 6), (8, 7), (9, 8)], possible=[(1, 1), (15, 11), (17, 14), (17, 15)]),\n",
       " LabeledAlignment(sure=[(1, 2), (10, 8), (14, 12), (16, 13), (18, 14), (19, 15), (2, 1), (4, 3), (5, 4), (6, 5), (7, 6), (9, 7)], possible=[(11, 12), (11, 9), (12, 12), (12, 9), (13, 12), (14, 10), (14, 11), (14, 9), (15, 13), (17, 14), (3, 3), (3, 4), (8, 7)]),\n",
       " LabeledAlignment(sure=[(10, 6), (11, 7), (13, 8), (14, 9), (16, 16), (19, 12), (2, 1), (20, 13), (22, 10), (22, 11), (23, 14), (24, 15), (25, 17), (26, 18), (27, 19), (28, 20), (29, 20), (3, 2), (30, 23), (5, 3), (7, 4), (8, 5)], possible=[(1, 1), (1, 2), (12, 8), (15, 16), (18, 13), (28, 21), (28, 22), (4, 3), (6, 4), (9, 6), (9, 7)]),\n",
       " LabeledAlignment(sure=[(1, 1), (2, 2), (3, 3), (5, 4), (6, 5), (7, 6)], possible=[(4, 4), (4, 5)]),\n",
       " LabeledAlignment(sure=[(1, 1), (10, 8), (12, 9), (13, 10), (14, 11), (16, 12), (17, 15), (18, 13), (2, 2), (20, 16), (23, 20), (25, 21), (26, 22), (27, 23), (28, 24), (3, 3), (30, 29), (31, 29), (32, 28), (33, 29), (34, 25), (35, 26), (36, 30), (4, 4), (5, 5), (7, 6), (8, 7), (9, 7)], possible=[(11, 9), (15, 12), (15, 13), (17, 14), (21, 17), (21, 18), (21, 19), (22, 20), (24, 21), (24, 22), (29, 29), (32, 27), (6, 6)]),\n",
       " LabeledAlignment(sure=[(2, 1), (3, 3), (5, 3), (6, 4)], possible=[(1, 1), (3, 2), (4, 2), (4, 3), (5, 2)]),\n",
       " LabeledAlignment(sure=[(2, 1), (3, 2), (6, 6)], possible=[(1, 1), (1, 2), (4, 3), (4, 4), (4, 5), (5, 3), (5, 4), (5, 5)]),\n",
       " LabeledAlignment(sure=[(11, 16), (13, 15), (15, 17), (16, 20), (18, 22), (19, 23), (2, 1), (21, 24), (23, 24), (24, 25), (25, 26), (3, 2), (4, 3), (4, 6), (6, 4), (7, 7), (8, 8), (9, 10), (9, 9)], possible=[(1, 1), (1, 2), (10, 11), (10, 12), (10, 13), (11, 14), (12, 15), (14, 16), (15, 18), (16, 18), (16, 19), (17, 22), (18, 21), (20, 24), (20, 25), (22, 24), (5, 4)]),\n",
       " LabeledAlignment(sure=[(1, 1), (10, 2), (11, 9), (12, 10), (13, 11), (14, 12), (15, 13), (16, 14), (18, 15), (19, 17), (21, 16), (22, 18), (3, 3), (6, 4), (7, 5), (8, 6), (9, 8)], possible=[(17, 15), (2, 3), (20, 16), (4, 5), (5, 5), (8, 7), (8, 8), (9, 6), (9, 7)]),\n",
       " LabeledAlignment(sure=[(1, 1), (10, 3), (12, 3), (13, 2), (14, 2), (15, 15), (17, 16), (17, 17), (2, 4), (20, 19), (22, 20), (24, 21), (25, 22), (4, 8), (5, 9), (6, 10), (7, 11), (8, 12), (9, 13)], possible=[(11, 3), (15, 14), (16, 16), (17, 18), (18, 16), (18, 18), (19, 19), (21, 20), (21, 21), (23, 20), (3, 9), (5, 7)]),\n",
       " LabeledAlignment(sure=[(12, 8), (13, 9), (14, 10), (15, 11), (16, 12), (17, 14), (18, 15), (2, 1), (5, 2), (6, 3), (8, 4), (9, 5)], possible=[(1, 1), (10, 6), (10, 7), (11, 6), (11, 7), (17, 13), (3, 2), (4, 2), (7, 4), (7, 5)]),\n",
       " LabeledAlignment(sure=[(1, 1), (11, 6), (11, 7), (14, 9), (16, 11), (17, 14), (19, 15), (2, 2), (20, 16), (21, 10), (22, 10), (23, 17), (3, 3), (4, 3), (5, 4), (7, 4), (9, 5)], possible=[(10, 6), (11, 8), (12, 6), (12, 8), (13, 9), (18, 13), (6, 4), (8, 5)]),\n",
       " LabeledAlignment(sure=[(1, 1), (1, 2), (10, 12), (11, 15), (12, 16), (14, 18), (15, 19), (16, 20), (17, 21), (17, 22), (18, 24), (19, 25), (20, 26), (21, 27), (22, 28), (23, 29), (3, 4), (30, 32), (4, 5), (6, 6), (7, 8), (8, 10), (9, 11)], possible=[(12, 17), (13, 17), (13, 18), (19, 23), (2, 1), (24, 30), (25, 30), (26, 31), (27, 31), (28, 31), (29, 31), (3, 3), (5, 10), (5, 6)]),\n",
       " LabeledAlignment(sure=[(1, 1), (10, 15), (11, 16), (12, 17), (13, 18), (14, 19), (16, 20), (17, 21), (18, 21), (19, 4), (19, 5), (19, 6), (19, 7), (2, 2), (20, 8), (24, 9), (25, 23), (3, 3), (6, 11), (7, 12), (8, 13), (9, 14)], possible=[(15, 20), (5, 11)]),\n",
       " LabeledAlignment(sure=[(1, 1), (13, 11)], possible=[(3, 2), (4, 3), (4, 4)]),\n",
       " LabeledAlignment(sure=[(1, 1), (2, 2), (3, 3), (4, 4), (5, 4), (6, 5), (7, 6), (7, 7), (8, 8)], possible=[]),\n",
       " LabeledAlignment(sure=[(11, 9), (12, 11), (13, 11), (14, 12), (16, 13), (17, 14), (19, 15), (2, 1), (20, 16), (21, 17), (23, 18), (24, 19), (25, 20), (25, 21), (26, 22), (27, 23), (3, 2), (4, 4), (5, 5), (6, 6), (8, 7), (9, 8)], possible=[(1, 1), (1, 2), (10, 9), (18, 15), (22, 17), (4, 3), (7, 7)]),\n",
       " LabeledAlignment(sure=[(1, 1), (11, 10), (13, 12), (15, 12), (16, 13), (17, 14), (18, 15), (19, 16), (20, 17), (4, 3), (5, 4), (6, 5), (7, 6), (8, 7), (9, 9)], possible=[(10, 10), (12, 11), (14, 12), (2, 2), (2, 3), (3, 3), (4, 2), (9, 8)]),\n",
       " LabeledAlignment(sure=[(2, 1), (3, 3), (4, 4), (5, 5), (6, 6)], possible=[(1, 1), (3, 2)]),\n",
       " LabeledAlignment(sure=[(2, 1), (3, 2), (4, 3), (5, 4)], possible=[(1, 1)]),\n",
       " LabeledAlignment(sure=[(11, 10), (13, 11), (13, 12), (13, 13), (13, 14), (14, 3), (15, 4), (17, 1), (2, 5), (20, 2), (21, 15), (3, 6), (6, 7), (7, 8), (9, 9)], possible=[(1, 6), (10, 10), (12, 11), (16, 1), (18, 2), (19, 2), (4, 7), (5, 7), (8, 9)]),\n",
       " LabeledAlignment(sure=[(10, 11), (12, 12), (14, 13), (15, 14), (16, 15), (17, 16), (19, 20), (21, 21), (22, 22), (23, 23), (24, 24), (25, 25), (26, 26), (27, 29), (27, 30), (28, 28), (29, 27), (3, 1), (30, 31), (31, 32), (32, 35), (33, 33), (34, 36), (35, 39), (36, 37), (38, 40), (4, 2), (40, 41), (41, 42), (5, 6), (6, 7), (7, 8), (9, 10)], possible=[(11, 12), (13, 12), (13, 13), (18, 20), (2, 1), (20, 21), (20, 23), (32, 34), (37, 40), (39, 41), (5, 3), (5, 4), (8, 9)]),\n",
       " LabeledAlignment(sure=[(11, 21), (12, 24), (13, 25), (14, 26), (15, 27), (18, 29), (21, 30), (22, 33), (23, 2), (25, 1), (26, 3), (27, 5), (28, 7), (29, 8), (3, 12), (30, 9), (31, 34), (5, 15), (7, 16), (8, 18), (9, 19)], possible=[(1, 11), (10, 21), (11, 20), (12, 22), (12, 23), (16, 28), (17, 28), (19, 29), (2, 12), (20, 28), (20, 30), (24, 1), (27, 4), (28, 6), (4, 15), (6, 16), (8, 17)]),\n",
       " LabeledAlignment(sure=[(1, 1), (10, 7), (11, 10), (11, 11), (11, 12), (11, 13), (12, 14), (2, 2), (3, 3), (4, 4), (7, 5), (9, 6)], possible=[(5, 5), (6, 5), (8, 6)]),\n",
       " LabeledAlignment(sure=[(2, 3), (3, 1)], possible=[(1, 1), (2, 2)]),\n",
       " LabeledAlignment(sure=[(1, 1), (2, 2)], possible=[]),\n",
       " LabeledAlignment(sure=[(1, 1), (10, 8), (11, 9), (13, 10), (14, 11), (15, 12), (16, 13), (17, 14), (21, 16), (22, 18), (23, 19), (24, 20), (27, 24), (3, 2), (30, 26), (31, 27), (32, 27), (33, 28), (4, 3), (6, 5), (8, 6), (9, 7)], possible=[(18, 15), (18, 16), (19, 15), (19, 16), (2, 3), (20, 16), (21, 15), (22, 17), (25, 23), (25, 24), (26, 24), (27, 23), (28, 25), (4, 4), (5, 3), (5, 4), (7, 9)]),\n",
       " LabeledAlignment(sure=[(1, 1), (10, 7), (13, 8), (15, 9), (16, 10), (17, 11), (18, 12), (19, 13), (20, 14), (21, 15), (22, 16), (24, 17), (25, 18), (26, 19), (27, 20), (29, 21), (3, 3), (30, 22), (4, 4), (5, 5), (7, 6), (9, 6)], possible=[(11, 7), (11, 8), (12, 8), (14, 10), (2, 2), (2, 4), (23, 17), (23, 20), (28, 21), (3, 2), (4, 2), (6, 6), (6, 7), (8, 6)]),\n",
       " LabeledAlignment(sure=[(1, 2), (2, 1), (3, 6), (4, 5), (5, 3), (6, 4), (7, 4), (8, 4), (9, 7)], possible=[(4, 3), (4, 6), (5, 6)]),\n",
       " LabeledAlignment(sure=[(1, 1), (11, 10), (12, 11), (13, 13), (14, 14), (15, 16), (16, 16), (17, 18), (18, 20), (19, 21), (22, 27), (23, 28), (24, 29), (25, 30), (26, 31), (27, 33), (28, 34), (29, 35), (3, 2), (30, 35), (31, 36), (32, 32), (32, 37), (33, 37), (34, 38), (35, 39), (37, 40), (38, 45), (39, 46), (4, 3), (40, 47), (41, 48), (5, 6), (6, 7), (7, 8), (9, 9)], possible=[(10, 5), (10, 9), (15, 15), (15, 17), (18, 12), (2, 3), (20, 24), (5, 4), (5, 5), (8, 8)]),\n",
       " LabeledAlignment(sure=[(10, 10), (2, 2), (3, 3), (4, 4), (5, 6), (6, 8), (7, 7), (7, 8), (9, 9)], possible=[(2, 1), (5, 5), (8, 8), (8, 9)]),\n",
       " LabeledAlignment(sure=[(1, 1), (10, 9), (11, 10), (13, 11), (15, 12), (16, 13), (18, 15), (2, 2), (20, 16), (24, 17), (25, 14), (26, 18), (3, 3), (4, 4), (5, 6), (6, 7), (7, 8), (8, 9), (9, 9)], possible=[(12, 11), (14, 12), (19, 15), (22, 17), (23, 17), (5, 5)]),\n",
       " LabeledAlignment(sure=[(10, 12), (11, 13), (14, 14), (14, 15), (15, 16), (16, 17), (16, 18), (17, 19), (19, 20), (2, 1), (21, 22), (22, 23), (24, 24), (25, 25), (3, 3), (4, 5), (6, 6), (7, 9), (8, 10), (9, 11)], possible=[(1, 3), (12, 15), (13, 15), (18, 20), (19, 21), (20, 21), (20, 23), (23, 24), (4, 4), (5, 4), (5, 6), (7, 8), (8, 7)]),\n",
       " LabeledAlignment(sure=[(1, 3), (10, 10), (12, 13), (3, 1), (4, 2), (5, 4), (6, 7), (7, 8), (9, 9)], possible=[(11, 11), (11, 12), (2, 3), (6, 5), (8, 10)]),\n",
       " LabeledAlignment(sure=[(1, 3), (11, 11), (12, 13), (14, 14), (17, 15), (18, 16), (19, 17), (2, 4), (3, 5), (4, 6), (6, 7), (8, 8)], possible=[(1, 1), (1, 2), (10, 10), (10, 11), (11, 10), (12, 12), (13, 14), (15, 16), (16, 16), (5, 7), (7, 8), (9, 10), (9, 11)]),\n",
       " LabeledAlignment(sure=[(1, 4), (10, 6), (11, 7), (12, 11), (13, 12), (14, 14), (15, 15), (16, 16), (17, 17), (18, 19), (2, 1), (21, 21), (22, 22), (23, 23), (3, 2), (4, 3), (5, 8), (7, 9), (8, 10), (9, 5)], possible=[(13, 13), (18, 18), (19, 20), (19, 22), (20, 20), (20, 22), (22, 20), (6, 10)]),\n",
       " LabeledAlignment(sure=[(1, 1), (10, 7), (11, 8), (12, 9), (13, 10), (14, 11), (15, 12), (16, 13), (17, 14), (3, 2), (4, 3), (5, 4), (7, 5), (8, 6)], possible=[(13, 13), (16, 10), (2, 2), (6, 5), (9, 7), (9, 9)]),\n",
       " LabeledAlignment(sure=[(1, 1), (1, 2), (10, 9), (12, 10), (15, 11), (16, 12), (17, 13), (19, 14), (20, 15), (21, 16), (22, 17), (23, 18), (24, 19), (26, 22), (28, 25), (31, 30), (32, 27), (33, 28), (34, 29), (35, 31), (36, 32), (37, 33), (38, 34), (4, 4), (5, 5), (6, 3), (7, 3), (8, 6), (8, 7), (9, 8)], possible=[(11, 10), (13, 13), (14, 13), (18, 14), (2, 2), (25, 22), (27, 23), (28, 24), (29, 26), (29, 30), (3, 5), (30, 26), (30, 30), (31, 26)]),\n",
       " LabeledAlignment(sure=[(1, 1), (11, 11), (12, 12), (13, 14), (15, 16), (18, 18), (19, 19), (2, 2), (4, 6), (5, 3), (7, 8), (8, 9), (9, 10)], possible=[(10, 12), (13, 13), (14, 17), (14, 18), (16, 17), (16, 18), (17, 15), (17, 18), (18, 15), (18, 17), (3, 3), (4, 4), (4, 5), (6, 7), (6, 8), (7, 7)]),\n",
       " LabeledAlignment(sure=[(1, 1), (1, 2), (10, 8), (11, 10), (12, 11), (13, 12), (14, 13), (15, 14), (4, 5), (5, 6), (6, 7), (7, 4), (9, 3)], possible=[(14, 9), (2, 2), (3, 4), (3, 5), (8, 4)]),\n",
       " LabeledAlignment(sure=[(11, 7), (12, 9), (13, 10), (14, 11), (15, 12), (16, 13), (18, 14), (19, 15), (2, 2), (20, 16), (21, 17), (22, 18), (4, 3), (5, 4), (7, 5), (9, 6)], possible=[(1, 2), (10, 7), (12, 8), (17, 17), (3, 1), (6, 5), (8, 6)]),\n",
       " LabeledAlignment(sure=[(10, 7), (11, 8), (13, 9), (14, 10), (15, 11), (4, 4), (5, 5), (7, 6), (9, 6)], possible=[(12, 10), (2, 2), (2, 3), (2, 4), (3, 4), (4, 2), (4, 3), (6, 7), (8, 6)]),\n",
       " LabeledAlignment(sure=[(1, 1), (10, 11), (10, 12), (11, 13), (13, 14), (16, 15), (17, 16), (19, 17), (2, 2), (20, 18), (3, 2), (4, 3), (5, 4), (5, 5), (6, 6), (7, 7), (7, 8), (8, 9), (9, 10)], possible=[(12, 14), (14, 15), (15, 15), (18, 17)]),\n",
       " LabeledAlignment(sure=[(1, 1), (10, 11), (12, 10), (13, 12), (14, 14), (15, 13), (16, 13), (17, 22), (19, 25), (20, 26), (21, 27), (22, 15), (24, 16), (25, 17), (26, 19), (27, 20), (28, 21), (3, 3), (3, 4), (32, 31), (33, 30), (34, 32), (4, 2), (5, 5), (6, 7), (7, 6), (8, 8), (9, 9)], possible=[(11, 10), (14, 13), (15, 14), (16, 14), (18, 23), (18, 24), (18, 26), (2, 2), (23, 16), (28, 18), (31, 31)]),\n",
       " LabeledAlignment(sure=[(1, 4), (11, 11), (13, 12), (13, 18), (14, 15), (15, 17), (16, 19), (17, 20), (18, 20), (20, 21), (22, 23), (24, 24), (25, 25), (26, 26), (4, 2), (4, 5), (5, 1), (6, 6), (7, 7), (8, 8)], possible=[(1, 5), (10, 10), (10, 11), (11, 10), (11, 9), (12, 18), (13, 13), (13, 14), (15, 16), (19, 21), (2, 5), (21, 23), (22, 22), (23, 24), (23, 25), (3, 3), (3, 5), (4, 3), (4, 4), (9, 11), (9, 9)]),\n",
       " LabeledAlignment(sure=[(1, 1), (1, 2), (10, 11), (11, 12), (12, 10), (13, 13), (15, 15), (16, 14), (17, 16), (18, 17), (19, 19), (19, 20), (21, 21), (22, 22), (3, 4), (4, 5), (5, 3), (6, 6), (7, 8), (9, 9)], possible=[(14, 14), (14, 15), (2, 2), (20, 21), (7, 7), (8, 9)]),\n",
       " LabeledAlignment(sure=[(10, 6), (11, 10), (12, 11), (14, 13), (15, 12), (16, 14), (17, 15), (2, 1), (4, 2), (5, 3), (6, 5), (7, 8), (9, 9)], possible=[(1, 1), (13, 13), (3, 2), (6, 4), (7, 7), (8, 9)]),\n",
       " LabeledAlignment(sure=[(1, 2), (10, 7), (12, 9), (13, 10), (14, 11), (15, 11), (16, 12), (17, 13), (18, 19), (19, 17), (2, 1), (20, 18), (21, 20), (3, 3), (4, 4), (6, 5), (8, 5), (9, 6)], possible=[(11, 9), (17, 14), (17, 15), (17, 16), (2, 3), (5, 6), (5, 8), (7, 5)]),\n",
       " LabeledAlignment(sure=[(1, 1), (11, 10), (12, 6), (14, 7), (15, 8), (17, 9), (18, 14), (20, 18), (21, 19), (22, 20), (24, 21), (26, 22), (27, 23), (28, 24), (3, 2), (30, 25), (31, 26), (32, 27), (33, 28), (34, 29), (35, 30), (37, 31), (38, 32), (39, 33), (39, 34), (40, 35), (41, 36), (6, 11), (7, 12), (8, 13)], possible=[(10, 10), (11, 3), (11, 4), (11, 5), (13, 7), (16, 9), (2, 2), (23, 21), (25, 23), (29, 25), (36, 32), (5, 12), (9, 10), (9, 3), (9, 5)]),\n",
       " LabeledAlignment(sure=[(1, 1), (11, 10), (12, 12), (13, 13), (15, 14), (16, 15), (17, 15), (18, 16), (20, 16), (21, 17), (22, 18), (23, 19), (24, 20), (25, 21), (26, 22), (27, 23), (28, 24), (29, 25), (3, 4), (30, 26), (31, 27), (32, 28), (33, 28), (34, 29), (36, 31), (37, 30), (38, 32), (39, 33), (4, 5), (40, 34), (5, 6), (7, 7), (8, 8)], possible=[(10, 10), (14, 14), (19, 16), (2, 2), (2, 3), (2, 4), (3, 2), (3, 3), (35, 30), (6, 7), (6, 8), (9, 10)]),\n",
       " LabeledAlignment(sure=[(12, 10), (2, 1), (4, 3), (5, 4), (8, 8), (9, 9)], possible=[(1, 1), (10, 5), (10, 6), (10, 7), (11, 5), (11, 6), (11, 7), (2, 2), (3, 1), (3, 2), (6, 9)]),\n",
       " LabeledAlignment(sure=[(10, 6), (10, 7), (12, 8), (14, 11), (15, 17), (15, 18), (16, 15), (17, 14), (18, 12), (19, 19), (20, 20), (21, 21), (22, 9), (23, 10), (24, 22), (4, 5), (5, 4)], possible=[(1, 1), (1, 2), (1, 3), (11, 8), (13, 12), (15, 16), (17, 13), (2, 1), (2, 2), (2, 3), (3, 1), (3, 2), (3, 3), (7, 6), (8, 6), (9, 6)]),\n",
       " LabeledAlignment(sure=[(1, 1), (10, 9), (11, 10), (12, 10), (13, 10), (14, 10), (16, 11), (17, 12), (18, 13), (19, 14), (2, 2), (20, 15), (21, 16), (22, 17), (28, 18), (29, 19), (31, 20), (32, 22), (33, 23), (34, 24), (37, 26), (38, 28), (4, 3), (40, 28), (43, 31), (44, 32), (5, 5), (7, 7), (8, 6), (9, 8)], possible=[(15, 11), (3, 3), (31, 21), (36, 25), (36, 26), (37, 25), (39, 28), (42, 30), (5, 4), (6, 6)]),\n",
       " LabeledAlignment(sure=[(1, 2), (12, 6), (13, 9), (14, 10), (15, 11), (16, 12), (2, 1), (3, 3), (4, 3), (5, 3), (6, 3), (7, 4), (8, 5), (9, 7)], possible=[(10, 7), (11, 7), (13, 8)]),\n",
       " LabeledAlignment(sure=[(2, 1), (3, 2), (4, 3), (8, 4), (9, 5)], possible=[(1, 2)]),\n",
       " LabeledAlignment(sure=[(1, 1), (10, 6), (11, 7), (12, 9), (13, 14), (14, 12), (15, 13), (17, 15), (19, 16), (2, 2), (20, 17), (21, 18), (22, 21), (23, 23), (25, 25), (26, 26), (29, 27), (3, 4), (30, 28), (31, 29), (32, 30), (33, 33), (34, 31), (35, 32), (36, 34), (37, 36), (38, 37), (39, 38), (4, 3), (40, 39), (42, 44), (43, 45), (45, 46), (47, 47), (48, 48), (49, 49), (5, 5), (50, 50), (7, 8)], possible=[(16, 11), (16, 15), (17, 11), (18, 16), (18, 17), (24, 26), (25, 26), (26, 25), (27, 28), (28, 28), (37, 35), (40, 41), (41, 39), (41, 41), (44, 46), (46, 47), (6, 7), (8, 8), (9, 8)]),\n",
       " LabeledAlignment(sure=[(1, 4), (10, 11), (11, 11), (12, 12), (13, 14), (15, 13), (16, 15), (17, 16), (18, 17), (2, 3), (3, 5), (5, 6), (5, 7), (7, 8), (8, 9), (9, 10)], possible=[(14, 13), (2, 2), (4, 1), (4, 8), (6, 8), (7, 1)]),\n",
       " LabeledAlignment(sure=[(1, 1), (10, 9), (12, 12), (13, 13), (14, 14), (15, 10), (16, 15), (17, 19), (2, 3), (22, 20), (23, 21), (24, 22), (25, 23), (27, 24), (28, 25), (29, 26), (3, 5), (32, 31), (33, 32), (36, 33), (37, 34), (39, 30), (4, 4), (40, 35), (5, 6), (7, 7), (9, 8)], possible=[(1, 2), (11, 10), (12, 11), (15, 11), (18, 17), (18, 20), (19, 16), (19, 20), (20, 20), (21, 20), (22, 16), (22, 17), (22, 18), (26, 24), (30, 27), (30, 28), (30, 29), (30, 30), (31, 31), (31, 32), (34, 34), (35, 33), (35, 34), (38, 30), (39, 27), (39, 28), (39, 29), (6, 7)]),\n",
       " LabeledAlignment(sure=[(10, 7), (11, 8), (12, 9), (13, 10), (13, 11), (14, 13), (15, 12), (17, 14), (18, 15), (19, 16), (2, 1), (20, 18), (21, 23), (22, 20), (23, 21), (24, 24), (26, 26), (28, 26), (29, 27), (3, 2), (30, 28), (5, 4), (6, 3), (7, 5), (9, 6)], possible=[(1, 2), (14, 12), (15, 13), (16, 14), (20, 17), (21, 19), (21, 22), (24, 25), (25, 27), (27, 26), (4, 3), (8, 6), (8, 7)]),\n",
       " LabeledAlignment(sure=[(1, 3), (10, 6), (11, 7), (12, 8), (13, 9), (14, 10), (16, 15), (17, 16), (18, 17), (19, 11), (2, 3), (20, 12), (24, 20), (25, 21), (26, 22), (27, 23), (28, 24), (29, 25), (30, 26), (31, 26), (33, 28), (34, 29), (35, 30), (36, 31), (37, 32), (38, 33), (39, 34), (4, 1), (40, 35), (41, 36), (42, 37), (43, 38), (44, 39), (45, 39), (46, 40), (47, 41), (48, 42), (49, 42), (5, 2), (50, 43), (7, 4), (8, 5)], possible=[(21, 18), (21, 19), (21, 20), (22, 20), (23, 20), (24, 18), (24, 19), (3, 3), (30, 27), (32, 29), (6, 4), (6, 5), (9, 7)]),\n",
       " LabeledAlignment(sure=[(1, 1), (11, 8), (12, 4), (13, 9), (14, 10), (15, 10), (16, 11), (17, 12), (19, 13), (2, 2), (22, 14), (23, 15), (3, 3), (5, 5), (8, 6), (9, 7)], possible=[(1, 2), (1, 3), (10, 8), (18, 13), (2, 1), (2, 3), (20, 14), (21, 14), (3, 1), (3, 2), (4, 1), (4, 2), (4, 3), (6, 7), (7, 7)]),\n",
       " LabeledAlignment(sure=[(1, 1), (10, 8), (11, 9), (13, 10), (14, 11), (15, 12), (16, 13), (17, 14), (18, 15), (19, 16), (2, 2), (20, 17), (21, 18), (22, 19), (23, 20), (5, 4), (6, 5), (7, 6), (8, 3), (9, 7)], possible=[(12, 11), (4, 4)]),\n",
       " LabeledAlignment(sure=[(1, 2), (10, 9), (11, 10), (12, 11), (13, 12), (13, 13), (14, 14), (15, 15), (3, 3), (5, 5), (6, 6), (8, 7), (9, 7)], possible=[(2, 3), (3, 1), (4, 1), (4, 3), (5, 4), (7, 7)]),\n",
       " LabeledAlignment(sure=[(10, 8), (11, 9), (12, 10), (14, 13), (16, 16), (17, 14), (18, 15), (19, 19), (2, 4), (21, 20), (22, 18), (23, 21), (24, 22), (25, 23), (3, 3), (5, 1), (6, 2), (9, 7)], possible=[(1, 3), (13, 13), (14, 12), (15, 16), (2, 5), (20, 20), (4, 1), (4, 2), (7, 6), (8, 9)]),\n",
       " LabeledAlignment(sure=[(1, 1), (3, 6), (4, 6), (5, 2), (6, 5), (7, 3), (8, 7)], possible=[(2, 6), (6, 4)]),\n",
       " LabeledAlignment(sure=[(1, 1), (10, 9), (12, 10), (13, 11), (15, 14), (16, 15), (17, 17), (18, 19), (19, 18), (20, 20), (21, 20), (22, 20), (23, 21), (23, 22), (25, 24), (27, 25), (28, 26), (29, 27), (3, 2), (30, 28), (4, 3), (5, 4), (6, 5), (7, 6), (8, 8), (9, 7)], possible=[(11, 10), (11, 11), (14, 12), (14, 13), (14, 15), (16, 12), (16, 13), (17, 16), (2, 2), (23, 23), (24, 24), (25, 23), (26, 24), (26, 26)]),\n",
       " LabeledAlignment(sure=[(1, 4), (10, 6), (11, 7), (13, 12), (14, 9), (15, 10), (16, 11), (18, 13), (19, 14), (2, 4), (21, 15), (23, 18), (25, 19), (26, 16), (27, 17), (28, 20), (29, 21), (3, 4), (31, 23), (32, 24), (33, 25), (34, 26), (36, 27), (37, 28), (38, 29), (39, 30), (4, 4), (7, 1), (8, 2)], possible=[(10, 3), (10, 5), (12, 7), (17, 13), (20, 15), (22, 17), (24, 18), (30, 22), (30, 23), (31, 22), (35, 28), (5, 4), (6, 2), (9, 3), (9, 5), (9, 6)]),\n",
       " LabeledAlignment(sure=[(1, 1), (11, 9), (13, 10), (15, 11), (17, 14), (18, 15), (19, 16), (2, 2), (21, 13), (22, 17), (4, 3), (5, 4), (7, 5), (9, 8)], possible=[(10, 9), (12, 10), (14, 11), (20, 12), (20, 13), (6, 5), (9, 6)]),\n",
       " LabeledAlignment(sure=[(1, 1), (3, 3), (4, 4), (5, 6)], possible=[(2, 1), (5, 5)]),\n",
       " LabeledAlignment(sure=[(1, 1), (10, 14), (11, 15), (12, 10), (14, 11), (16, 13), (17, 16), (2, 2), (21, 17), (22, 19), (23, 20), (24, 21), (25, 21), (26, 21), (27, 22), (28, 23), (29, 21), (3, 5), (3, 6), (30, 24), (31, 24), (32, 25), (5, 3), (6, 4), (7, 8), (8, 7), (8, 9), (9, 9)], possible=[(13, 11), (15, 13), (16, 12), (4, 6), (9, 7)]),\n",
       " LabeledAlignment(sure=[(12, 11), (13, 13), (14, 12), (15, 15), (16, 16), (18, 20), (19, 22), (21, 18), (22, 24), (23, 24), (24, 25), (25, 26), (26, 27), (29, 29), (3, 1), (35, 33), (6, 9), (9, 5)], possible=[(10, 6), (13, 14), (17, 19), (18, 21), (19, 21), (2, 1), (20, 23), (4, 8), (4, 9), (5, 4), (5, 8), (5, 9), (6, 2), (6, 3), (6, 4), (6, 8), (8, 5)]),\n",
       " LabeledAlignment(sure=[(1, 5), (11, 8), (12, 9), (13, 7), (14, 10), (19, 13), (2, 4), (20, 14), (21, 16), (22, 16), (23, 17), (25, 18), (27, 19), (28, 20), (29, 21)], possible=[(15, 11), (15, 12), (16, 11), (16, 12), (17, 11), (17, 12), (18, 11), (18, 12), (20, 15), (24, 18), (26, 20), (3, 3), (4, 4), (5, 6)]),\n",
       " LabeledAlignment(sure=[(10, 15), (11, 16), (12, 17), (14, 18), (15, 18), (16, 10), (16, 11), (16, 13), (17, 12), (18, 19), (3, 2), (4, 4), (5, 5), (6, 7), (7, 8), (8, 9), (9, 14)], possible=[(1, 3), (13, 18), (6, 6)]),\n",
       " LabeledAlignment(sure=[(10, 6), (13, 9), (14, 10), (15, 13), (16, 18), (17, 14), (19, 16), (2, 2), (21, 19), (5, 1), (8, 3), (9, 4)], possible=[(1, 2), (10, 5), (11, 11), (11, 7), (12, 8), (18, 15), (20, 16), (4, 1), (6, 4), (7, 4)]),\n",
       " LabeledAlignment(sure=[(10, 9), (11, 10), (12, 11), (13, 12), (14, 13), (15, 15), (16, 16), (17, 18), (18, 17), (19, 20), (2, 1), (20, 21), (21, 22), (22, 23), (23, 24), (3, 2), (4, 4), (5, 5), (5, 6), (8, 7), (9, 8)], possible=[(1, 1), (15, 14), (19, 19), (4, 3), (6, 7), (7, 7)]),\n",
       " LabeledAlignment(sure=[(1, 3), (16, 7), (17, 8), (18, 9), (19, 10), (20, 11), (21, 12), (23, 13), (24, 14), (26, 19), (27, 20), (28, 21), (31, 24), (32, 25), (33, 27), (34, 28), (6, 2)], possible=[(1, 4), (13, 16), (14, 16), (14, 17), (15, 8), (22, 13), (25, 15), (26, 18), (3, 1), (30, 22), (30, 23), (33, 26), (4, 1), (5, 1)]),\n",
       " LabeledAlignment(sure=[(1, 1), (10, 10), (11, 11), (13, 12), (14, 13), (15, 14), (16, 15), (2, 1), (21, 20), (22, 20), (23, 22), (25, 21), (26, 23), (3, 2), (30, 25), (34, 26), (35, 27), (4, 3), (5, 5), (6, 6), (7, 4), (8, 9), (9, 9)], possible=[(12, 12), (19, 16), (24, 21), (27, 24), (27, 25), (28, 24), (28, 25), (28, 26), (29, 24), (29, 25), (29, 26), (30, 24), (30, 26), (31, 24), (31, 25), (31, 26), (32, 24), (32, 25), (32, 26), (33, 24), (33, 25), (33, 26), (34, 24), (34, 25)]),\n",
       " LabeledAlignment(sure=[(10, 1), (11, 2), (13, 2), (16, 9), (17, 10), (19, 11), (19, 12), (20, 13), (22, 14), (23, 14), (24, 15), (25, 16), (4, 5)], possible=[(12, 2), (14, 6), (15, 8), (18, 11), (21, 14), (9, 2)]),\n",
       " LabeledAlignment(sure=[(11, 8), (12, 9), (13, 7), (14, 9), (15, 10), (16, 11), (17, 16), (18, 17), (21, 13), (22, 19), (23, 21), (25, 22), (26, 23), (27, 24), (29, 28), (3, 1), (30, 29), (33, 27), (34, 32), (34, 33), (35, 34), (36, 31), (37, 35), (38, 35), (39, 36), (4, 2), (41, 39), (43, 38), (44, 40), (5, 3), (7, 5), (9, 4)], possible=[(10, 6), (19, 12), (2, 2), (20, 12), (20, 13), (22, 18), (23, 20), (24, 22), (28, 28), (31, 27), (32, 27), (33, 26), (40, 39), (41, 37), (42, 38), (6, 5), (8, 4)]),\n",
       " LabeledAlignment(sure=[(1, 1), (11, 10), (12, 11), (2, 4), (3, 2), (3, 3), (6, 9), (7, 7), (8, 8)], possible=[(10, 10), (4, 5), (4, 6), (5, 9)]),\n",
       " LabeledAlignment(sure=[(1, 4), (10, 9), (13, 10), (14, 11), (15, 12), (16, 13), (17, 15), (19, 21), (20, 23), (20, 24), (21, 22), (22, 25), (24, 29), (26, 30), (27, 31), (28, 32), (3, 7), (31, 34), (32, 35), (4, 8), (7, 1), (7, 2), (8, 18)], possible=[(1, 3), (11, 10), (12, 10), (16, 14), (18, 21), (19, 19), (19, 20), (2, 7), (23, 26), (25, 31), (25, 32), (29, 33), (29, 34), (3, 5), (3, 6), (30, 33), (30, 34), (31, 33), (6, 1), (9, 16), (9, 17), (9, 19)]),\n",
       " LabeledAlignment(sure=[(1, 2), (11, 10), (12, 11), (13, 12), (2, 1), (3, 3), (4, 3), (6, 4), (7, 5), (8, 6), (9, 9)], possible=[(10, 10), (10, 11), (5, 4), (5, 5)]),\n",
       " LabeledAlignment(sure=[(1, 1), (10, 10), (11, 6), (14, 14), (2, 13), (5, 2), (8, 3)], possible=[(11, 5), (12, 6), (13, 10), (6, 3), (7, 3), (7, 4), (8, 4), (9, 4)]),\n",
       " LabeledAlignment(sure=[(1, 2), (10, 6), (11, 10), (11, 11), (11, 12), (12, 8), (13, 13), (14, 14), (16, 16), (17, 17), (2, 2), (3, 2), (4, 1), (6, 3), (7, 5), (8, 9)], possible=[(1, 3), (2, 3), (3, 3), (5, 2), (5, 3), (6, 2), (7, 4), (9, 9)]),\n",
       " LabeledAlignment(sure=[(11, 3), (12, 12), (13, 13), (14, 14), (15, 15), (16, 16), (19, 17), (21, 18), (23, 18), (24, 19), (25, 20), (8, 2), (9, 1)], possible=[(2, 5), (2, 7), (2, 9), (22, 18), (3, 5), (3, 6), (3, 7), (3, 8), (3, 9), (4, 5), (4, 6), (4, 7), (4, 8), (4, 9), (5, 10), (6, 11)]),\n",
       " LabeledAlignment(sure=[(11, 8), (12, 9), (14, 10), (15, 14), (16, 15), (18, 16), (2, 3), (21, 13), (22, 17), (4, 4), (5, 5), (7, 7)], possible=[(1, 3), (10, 8), (17, 16), (19, 13), (3, 5), (6, 7), (8, 7), (9, 6)]),\n",
       " LabeledAlignment(sure=[(1, 1), (10, 3), (11, 4), (14, 7), (15, 17), (3, 9), (4, 10), (4, 8), (5, 12), (6, 16), (7, 14), (8, 2)], possible=[(12, 5), (14, 6), (2, 9), (5, 11), (6, 15), (7, 13), (9, 4)]),\n",
       " LabeledAlignment(sure=[(1, 4), (11, 6), (14, 7), (15, 8), (17, 10), (19, 12), (2, 4), (20, 13), (21, 11), (22, 11), (23, 14), (3, 3), (4, 1), (8, 2), (9, 5)], possible=[(10, 6), (12, 8), (16, 9), (17, 9), (18, 13), (5, 2), (6, 2), (7, 2)]),\n",
       " LabeledAlignment(sure=[(1, 2), (10, 15), (11, 12), (12, 12), (13, 12), (14, 16), (3, 1), (4, 3), (5, 4), (6, 6), (7, 11), (8, 10), (9, 13)], possible=[(10, 14), (2, 2), (6, 5), (7, 7), (8, 8)]),\n",
       " LabeledAlignment(sure=[(11, 4), (12, 11), (15, 7), (16, 8), (17, 9), (18, 10), (19, 22), (3, 13), (4, 16), (6, 17), (7, 18), (8, 14), (9, 15)], possible=[(13, 5), (2, 13), (5, 17), (5, 18)]),\n",
       " LabeledAlignment(sure=[(1, 1), (10, 8), (11, 9), (12, 12), (2, 3), (2, 4), (3, 2), (4, 6), (5, 6), (7, 11), (8, 10)], possible=[(4, 5), (6, 7), (9, 9)]),\n",
       " LabeledAlignment(sure=[(1, 1), (10, 11), (10, 2), (11, 13), (12, 14), (13, 17), (14, 20), (16, 18), (19, 21), (2, 3), (20, 23), (22, 24), (22, 25), (24, 26), (25, 27), (26, 28), (27, 29), (28, 30), (3, 4), (30, 31), (31, 32), (34, 39), (36, 35), (37, 40), (38, 41), (4, 7), (6, 5), (9, 10), (9, 9)], possible=[(1, 11), (1, 12), (1, 13), (1, 2), (10, 1), (10, 12), (10, 13), (11, 1), (11, 11), (11, 12), (11, 2), (14, 19), (15, 20), (17, 15), (17, 16), (17, 21), (18, 15), (18, 21), (19, 15), (19, 16), (20, 22), (21, 25), (32, 33), (33, 40), (35, 36), (35, 37), (35, 38), (6, 6), (7, 9), (8, 9)]),\n",
       " LabeledAlignment(sure=[(10, 11), (10, 9), (11, 13), (12, 16), (12, 17), (14, 14), (15, 15), (18, 20), (19, 21), (2, 7), (20, 28), (21, 26), (22, 29), (3, 6), (6, 3), (7, 4), (9, 12)], possible=[(1, 1), (10, 10), (13, 17), (16, 18), (4, 8), (5, 4), (8, 10), (8, 9)]),\n",
       " LabeledAlignment(sure=[(1, 1), (10, 11), (11, 8), (12, 16), (13, 17), (15, 18), (16, 19), (4, 2), (5, 3), (6, 7), (7, 9), (8, 10), (9, 15)], possible=[(14, 18), (2, 1), (3, 2), (3, 3), (3, 5), (4, 3), (4, 5), (5, 2), (5, 5), (6, 6), (9, 14)]),\n",
       " LabeledAlignment(sure=[(1, 1), (10, 11), (2, 3), (3, 4), (4, 5), (5, 6), (6, 10), (8, 8), (9, 9)], possible=[(7, 9)]),\n",
       " LabeledAlignment(sure=[(1, 1), (10, 7), (12, 10), (14, 12), (15, 11), (16, 13), (17, 14), (19, 15), (2, 2), (21, 15), (22, 16), (23, 17), (24, 18), (25, 20), (26, 23), (27, 23), (29, 22), (30, 24), (31, 25), (4, 4), (5, 5), (7, 3), (9, 6)], possible=[(11, 8), (13, 11), (18, 15), (18, 16), (20, 15), (24, 20), (25, 18), (28, 23), (3, 3), (6, 5)]),\n",
       " LabeledAlignment(sure=[(1, 1), (10, 9), (18, 17), (19, 16), (2, 2), (22, 13), (22, 14), (23, 18), (25, 19), (26, 21), (28, 22), (29, 24), (3, 2), (30, 25), (31, 26), (32, 27), (34, 34), (35, 35), (36, 36), (36, 37), (37, 38), (4, 4), (7, 6), (8, 7), (9, 8)], possible=[(11, 5), (12, 15), (13, 15), (14, 15), (15, 15), (16, 16), (17, 16), (20, 13), (21, 13), (24, 19), (26, 20), (28, 23), (28, 24), (29, 22), (29, 23), (33, 29), (33, 31), (33, 32), (33, 33), (4, 3), (5, 4), (6, 10), (6, 11), (6, 12), (7, 5)]),\n",
       " LabeledAlignment(sure=[(1, 1), (10, 9), (11, 10), (12, 11), (13, 14), (15, 15), (16, 16), (17, 17), (18, 18), (19, 20), (2, 2), (21, 19), (22, 21), (24, 27), (25, 22), (26, 28), (3, 3), (4, 6), (5, 4), (5, 5), (8, 13), (9, 8)], possible=[(14, 16), (20, 20), (23, 22), (6, 12), (6, 7), (7, 12)]),\n",
       " LabeledAlignment(sure=[(1, 1), (10, 11), (11, 12), (12, 13), (13, 14), (14, 17), (2, 2), (3, 6), (4, 4), (5, 7), (6, 8), (8, 9), (9, 10)], possible=[(1, 12), (3, 5), (5, 12), (7, 8)]),\n",
       " LabeledAlignment(sure=[(1, 2), (2, 1), (3, 3), (4, 4), (4, 9), (5, 6), (6, 7), (7, 10)], possible=[(5, 5)]),\n",
       " LabeledAlignment(sure=[(1, 1), (10, 9), (14, 3), (15, 4), (16, 10), (2, 2), (4, 6), (6, 7), (8, 8)], possible=[(12, 4), (13, 4), (3, 8)]),\n",
       " LabeledAlignment(sure=[(1, 1), (10, 5), (12, 6), (13, 7), (15, 8), (16, 10), (17, 11), (6, 2), (7, 3), (8, 9)], possible=[(11, 6), (11, 8), (2, 4), (3, 4), (4, 4), (5, 4), (9, 5)]),\n",
       " LabeledAlignment(sure=[(1, 1), (10, 13), (12, 14), (13, 15), (14, 16), (15, 17), (16, 18), (17, 20), (18, 19), (19, 21), (2, 7), (20, 22), (21, 23), (22, 24), (23, 26), (24, 28), (3, 8), (8, 12)], possible=[(11, 15), (4, 2), (7, 3), (7, 4), (7, 6), (9, 13)]),\n",
       " LabeledAlignment(sure=[(1, 1), (12, 6), (16, 9), (18, 10), (19, 11), (2, 2), (21, 16), (22, 18), (23, 19), (24, 17), (26, 20), (27, 21), (28, 22), (29, 25), (3, 3), (31, 23), (32, 24), (33, 26), (34, 27), (35, 29), (36, 28), (37, 30), (5, 4)], possible=[(10, 5), (11, 6), (13, 13), (13, 14), (13, 7), (15, 8), (17, 11), (20, 13), (20, 14), (20, 7), (21, 15), (23, 17), (24, 19), (25, 20), (30, 25)]),\n",
       " LabeledAlignment(sure=[(10, 10), (11, 12), (13, 14), (14, 5), (14, 6), (15, 7), (19, 8), (20, 15), (3, 1), (4, 2), (5, 3), (7, 11), (9, 9)], possible=[(1, 1), (12, 14), (13, 13), (18, 8), (2, 1), (8, 11)]),\n",
       " LabeledAlignment(sure=[(10, 5), (11, 10), (12, 14), (12, 15), (13, 3), (13, 4), (14, 6), (15, 7), (16, 8), (17, 16), (5, 9), (8, 11), (9, 12)], possible=[(1, 1), (1, 2), (11, 13), (12, 13), (2, 1), (2, 2), (3, 1), (3, 2), (4, 9), (6, 10), (6, 11), (7, 11), (7, 12)]),\n",
       " LabeledAlignment(sure=[(1, 1), (10, 10), (11, 14), (4, 4), (5, 5), (7, 11), (8, 13), (9, 8)], possible=[(10, 9), (2, 2), (2, 3), (2, 4), (3, 4), (4, 2), (4, 3), (5, 6), (5, 7), (6, 11), (8, 12)]),\n",
       " LabeledAlignment(sure=[(1, 1), (11, 8), (12, 13), (14, 14), (17, 15), (18, 16), (19, 19), (2, 2), (20, 20), (21, 21), (22, 22), (24, 23), (25, 24), (26, 25), (27, 26), (28, 27), (29, 29), (3, 5), (31, 28), (33, 30), (34, 31), (35, 32), (36, 34), (37, 35), (38, 35), (39, 36), (41, 33), (41, 37), (42, 37), (43, 38), (5, 3), (6, 4), (9, 7)], possible=[(10, 7), (10, 8), (13, 10), (13, 11), (15, 12), (19, 17), (19, 18), (23, 23), (30, 29), (32, 30), (4, 4), (40, 37), (7, 7), (8, 7)]),\n",
       " LabeledAlignment(sure=[(1, 1), (10, 11), (11, 12), (12, 13), (13, 14), (14, 15), (15, 16), (16, 18), (18, 19), (19, 19), (2, 2), (21, 20), (22, 21), (23, 22), (24, 23), (25, 24), (27, 25), (28, 26), (3, 3), (4, 4), (5, 5), (6, 6), (7, 9), (8, 9), (9, 10)], possible=[(16, 17), (17, 17), (17, 19), (20, 19), (26, 25)]),\n",
       " LabeledAlignment(sure=[(1, 1), (10, 11), (13, 13), (16, 14), (16, 15), (18, 16), (23, 18), (25, 19), (26, 20), (4, 4), (5, 5), (5, 8), (6, 12), (8, 9), (9, 10)], possible=[(12, 13), (14, 15), (15, 15), (19, 17), (2, 3), (2, 4), (20, 17), (22, 18), (24, 19), (3, 2), (3, 4), (4, 2), (4, 3), (5, 6), (5, 7)]),\n",
       " LabeledAlignment(sure=[(1, 1), (10, 14), (11, 15), (12, 12), (14, 13), (15, 16), (16, 17), (17, 18), (2, 2), (21, 21), (4, 6), (6, 7), (7, 11)], possible=[(1, 2), (1, 3), (1, 4), (1, 5), (10, 15), (13, 13), (18, 19), (19, 18), (2, 1), (2, 3), (2, 4), (2, 5), (20, 19), (3, 1), (3, 2), (3, 3), (3, 4), (3, 5), (3, 6), (5, 6), (7, 10), (7, 8), (7, 9), (8, 15), (9, 15)]),\n",
       " LabeledAlignment(sure=[(10, 8), (11, 9), (12, 12), (14, 10), (15, 14), (16, 16), (18, 22), (20, 23), (21, 17), (25, 18), (25, 19), (27, 20), (3, 1), (31, 21), (32, 24), (5, 3), (8, 6), (8, 7), (9, 2)], possible=[(13, 10), (14, 11), (16, 15), (17, 22), (19, 23), (28, 19), (29, 21), (30, 21), (4, 4), (4, 5), (6, 7), (7, 7)]),\n",
       " LabeledAlignment(sure=[(1, 1), (2, 2), (3, 3), (4, 4), (6, 5), (7, 6), (8, 7)], possible=[]),\n",
       " LabeledAlignment(sure=[(1, 5), (10, 13), (11, 15), (13, 15), (14, 16), (2, 1), (4, 4), (4, 6), (6, 7), (7, 8), (8, 10), (9, 12)], possible=[(11, 14), (12, 14), (12, 15), (13, 14), (2, 2), (2, 3), (3, 6), (8, 9), (9, 11)]),\n",
       " LabeledAlignment(sure=[(1, 1), (10, 8), (11, 9), (12, 10), (12, 5), (14, 12), (15, 13), (16, 14), (2, 2), (4, 4), (6, 6), (9, 7)], possible=[(12, 11), (13, 11), (13, 13), (3, 3), (7, 8), (8, 8)]),\n",
       " LabeledAlignment(sure=[(1, 1), (11, 11), (12, 12), (13, 13), (14, 13), (15, 14), (16, 15), (17, 16), (20, 17), (21, 18), (22, 19), (23, 23), (25, 24), (26, 25), (3, 2), (5, 3), (6, 7), (8, 8), (9, 11)], possible=[(19, 17), (2, 2), (22, 20), (22, 21), (24, 22), (24, 24), (25, 22), (4, 3), (6, 4), (6, 5), (6, 6), (7, 7), (7, 8)]),\n",
       " LabeledAlignment(sure=[(11, 11), (11, 12), (12, 13), (14, 14), (15, 15), (16, 16), (18, 17), (18, 18), (21, 21), (22, 22), (24, 23), (25, 24), (28, 25), (29, 26), (3, 1), (30, 27), (32, 28), (34, 30), (35, 31), (36, 32), (40, 34), (41, 36), (42, 37), (44, 41), (45, 41), (46, 41), (47, 38), (48, 39), (49, 40), (5, 2), (50, 42), (6, 3), (7, 5), (8, 8), (9, 9)], possible=[(10, 11), (10, 12), (12, 10), (13, 13), (14, 15), (14, 16), (15, 14), (15, 16), (16, 14), (16, 15), (17, 17), (17, 18), (18, 10), (19, 20), (20, 19), (23, 24), (27, 25), (31, 28), (34, 29), (37, 34), (38, 33), (38, 34), (39, 33), (4, 2), (4, 3), (41, 35), (43, 41), (8, 6)]),\n",
       " LabeledAlignment(sure=[(1, 1), (10, 8), (11, 9), (12, 10), (13, 11), (14, 12), (2, 2), (3, 3), (4, 4), (7, 5), (8, 6), (9, 7)], possible=[(5, 5), (6, 5)]),\n",
       " LabeledAlignment(sure=[(1, 1), (2, 3), (3, 3), (4, 4), (4, 5), (4, 6)], possible=[]),\n",
       " LabeledAlignment(sure=[(1, 1), (2, 2)], possible=[]),\n",
       " LabeledAlignment(sure=[(1, 1), (10, 13), (12, 14), (13, 21), (2, 2), (3, 3), (4, 4), (5, 5), (6, 6), (7, 7), (8, 10), (9, 11)], possible=[(11, 16), (11, 17), (11, 18), (11, 19)]),\n",
       " LabeledAlignment(sure=[(10, 11), (11, 12), (12, 13), (14, 14), (16, 16), (18, 20), (19, 19), (2, 2), (20, 21), (3, 3), (4, 4), (4, 5), (5, 5), (6, 6), (7, 8), (8, 9), (9, 10)], possible=[(13, 14), (15, 14), (15, 16), (17, 16), (19, 17)]),\n",
       " LabeledAlignment(sure=[(1, 1), (3, 5), (4, 6), (5, 7), (6, 8)], possible=[(2, 1), (2, 2), (2, 3)]),\n",
       " LabeledAlignment(sure=[(1, 1), (10, 7), (13, 8), (14, 9), (15, 10), (3, 2), (5, 4), (7, 5), (8, 6), (9, 3)], possible=[(11, 7), (12, 7), (2, 2), (6, 4)]),\n",
       " LabeledAlignment(sure=[(1, 1), (10, 12), (11, 13), (12, 15), (13, 15), (14, 15), (15, 16), (2, 3), (5, 6), (6, 8), (7, 9), (8, 10), (9, 11)], possible=[(2, 2), (5, 4), (6, 7)]),\n",
       " LabeledAlignment(sure=[(10, 14), (11, 15), (12, 16), (13, 11), (14, 12), (16, 18), (17, 19), (18, 21), (2, 6), (3, 8), (5, 5), (6, 9), (7, 10), (8, 13)], possible=[(1, 2), (15, 18), (15, 19), (15, 20), (16, 19), (16, 20), (17, 18), (17, 20), (4, 5), (9, 14)]),\n",
       " LabeledAlignment(sure=[(10, 9), (11, 11), (12, 14), (13, 15), (14, 12), (15, 13), (16, 16), (3, 5), (4, 6), (5, 6), (6, 7), (8, 10), (9, 8)], possible=[(1, 2), (2, 5), (4, 3), (7, 9)]),\n",
       " LabeledAlignment(sure=[(1, 1), (2, 3), (3, 4), (4, 5), (5, 6)], possible=[(2, 2)]),\n",
       " LabeledAlignment(sure=[(1, 1), (10, 9), (11, 10), (13, 13), (14, 14), (15, 15), (3, 2), (4, 4), (5, 6), (6, 3), (8, 8), (9, 8)], possible=[(12, 7), (2, 1), (5, 5), (7, 3)]),\n",
       " LabeledAlignment(sure=[(1, 2), (10, 12), (11, 13), (12, 14), (13, 15), (14, 16), (15, 17), (16, 18), (17, 19), (18, 20), (2, 3), (3, 4), (4, 6), (5, 7), (6, 5), (7, 8), (8, 10), (9, 11)], possible=[(1, 1)]),\n",
       " LabeledAlignment(sure=[(1, 1), (10, 13), (12, 14), (15, 15), (16, 16), (17, 17), (18, 18), (19, 19), (2, 2), (20, 20), (20, 21), (24, 24), (25, 26), (26, 27), (4, 3), (5, 4), (6, 7), (7, 8), (8, 9)], possible=[(11, 14), (13, 16), (14, 16), (21, 22), (21, 23), (22, 22), (22, 23), (23, 24), (3, 4), (6, 5)]),\n",
       " LabeledAlignment(sure=[(1, 1), (10, 7), (11, 9), (2, 2), (4, 3), (5, 4), (6, 5), (7, 5), (8, 8)], possible=[(3, 4), (9, 7)]),\n",
       " LabeledAlignment(sure=[(1, 1), (10, 9), (12, 16), (13, 17), (15, 20), (2, 3), (3, 6), (4, 7), (5, 8), (6, 5), (7, 11), (8, 12)], possible=[(11, 14), (12, 15), (14, 18), (14, 19), (2, 2), (7, 10), (7, 4), (9, 13)]),\n",
       " LabeledAlignment(sure=[(1, 1), (10, 7), (11, 8), (14, 10), (15, 12), (16, 13), (17, 14), (18, 15), (19, 16), (20, 17), (4, 2), (6, 3), (7, 4), (7, 5), (9, 6)], possible=[(12, 9), (13, 9), (15, 11), (2, 2), (2, 5), (3, 2), (3, 5), (4, 5), (5, 2), (8, 4), (8, 5)]),\n",
       " LabeledAlignment(sure=[(10, 10), (5, 6), (8, 7), (9, 8), (9, 9)], possible=[(3, 1), (3, 2), (5, 5), (6, 7), (6, 8), (6, 9), (7, 7), (7, 8), (7, 9), (8, 8), (8, 9), (9, 7)]),\n",
       " LabeledAlignment(sure=[(1, 1), (10, 12), (11, 13), (12, 14), (13, 15), (14, 16), (17, 18), (18, 19), (19, 20), (20, 21), (21, 22), (21, 24), (22, 26), (23, 28), (24, 25), (25, 29), (3, 2), (4, 3), (6, 5), (8, 10)], possible=[(15, 18), (16, 18), (17, 17), (2, 1), (21, 23), (5, 5), (6, 4), (7, 10), (9, 12)]),\n",
       " LabeledAlignment(sure=[(1, 1), (10, 9), (11, 9), (12, 10), (13, 11), (14, 12), (16, 13), (17, 14), (18, 16), (19, 18), (2, 2), (21, 22), (22, 23), (23, 24), (25, 27), (26, 29), (3, 5), (5, 3), (6, 6), (7, 7), (9, 8)], possible=[(15, 14), (18, 15), (19, 17), (20, 22), (25, 25), (25, 28), (4, 3), (5, 4), (8, 7)]),\n",
       " LabeledAlignment(sure=[(1, 1), (10, 8), (12, 9), (13, 10), (14, 11), (16, 14), (17, 14), (19, 15), (2, 2), (20, 21), (3, 3), (4, 4), (6, 5), (8, 6), (9, 7)], possible=[(11, 11), (11, 9), (18, 16), (18, 17), (18, 18), (18, 19), (5, 5), (7, 5)]),\n",
       " LabeledAlignment(sure=[(1, 1), (11, 9), (12, 10), (13, 11), (14, 15), (15, 16), (16, 17), (2, 2), (3, 3), (3, 4), (5, 5), (6, 6), (8, 7), (9, 8)], possible=[(10, 9), (4, 5), (7, 6)]),\n",
       " LabeledAlignment(sure=[(1, 1), (10, 8), (11, 9), (12, 10), (14, 11), (16, 12), (17, 14), (18, 15), (2, 2), (3, 3), (4, 4), (6, 5), (7, 6), (9, 7)], possible=[(13, 11), (15, 11), (15, 14), (17, 13), (5, 5), (8, 8)]),\n",
       " LabeledAlignment(sure=[(1, 5), (10, 8), (13, 10), (2, 5), (5, 2), (6, 3), (8, 6), (9, 7)], possible=[(12, 9), (4, 3), (6, 1), (7, 8)]),\n",
       " LabeledAlignment(sure=[(1, 1), (10, 12), (11, 13), (2, 3), (3, 4), (5, 5), (8, 9), (9, 10)], possible=[(4, 5), (6, 6), (6, 7), (6, 8), (7, 6), (7, 7), (7, 8)]),\n",
       " LabeledAlignment(sure=[(1, 6), (10, 13), (13, 1), (14, 3), (15, 14), (16, 17), (17, 20), (19, 18), (20, 21), (3, 7), (5, 8), (6, 4), (7, 4), (8, 9), (9, 10)], possible=[(11, 13), (12, 13), (14, 2), (17, 19), (18, 20), (4, 8), (9, 11), (9, 12)]),\n",
       " LabeledAlignment(sure=[(1, 1), (10, 12), (3, 4), (4, 3), (5, 5), (6, 6), (7, 8), (8, 9), (9, 11)], possible=[(1, 2), (9, 10)]),\n",
       " LabeledAlignment(sure=[(1, 1), (12, 8), (12, 9), (13, 10), (14, 15), (15, 17), (16, 18), (16, 19), (16, 21), (18, 23), (19, 24), (2, 2), (21, 25), (22, 27), (23, 28), (24, 29), (25, 30), (26, 31), (28, 33), (3, 3), (5, 5), (6, 11), (7, 13), (7, 14), (8, 12), (9, 7)], possible=[(10, 6), (10, 7), (11, 10), (11, 8), (16, 20), (17, 23), (17, 24), (20, 22), (20, 26), (27, 32), (4, 5), (9, 6)]),\n",
       " LabeledAlignment(sure=[(1, 1), (10, 19), (11, 21), (12, 20), (13, 6), (14, 8), (15, 9), (16, 10), (17, 22), (3, 2), (4, 13), (6, 15), (8, 16), (9, 17)], possible=[(10, 18), (13, 3), (13, 4), (13, 5), (16, 7), (2, 13), (5, 15), (7, 20)]),\n",
       " LabeledAlignment(sure=[(1, 1), (11, 7), (12, 9), (13, 8), (14, 11), (14, 12), (15, 15), (16, 16), (18, 17), (2, 2), (20, 18), (4, 3), (5, 4), (7, 5), (8, 6), (9, 7)], possible=[(10, 7), (14, 10), (17, 16), (17, 17), (3, 4), (3, 5), (6, 4), (6, 5)]),\n",
       " LabeledAlignment(sure=[(11, 15), (12, 16), (13, 19), (14, 18), (15, 17), (16, 21), (2, 2), (4, 5), (6, 8), (7, 9), (8, 11)], possible=[(1, 1), (1, 2), (1, 3), (10, 15), (2, 1), (2, 3), (3, 5), (5, 5), (7, 4), (9, 10), (9, 12)]),\n",
       " LabeledAlignment(sure=[(1, 1), (11, 15), (12, 16), (13, 17), (15, 12), (16, 18), (2, 6), (3, 4), (5, 5), (6, 9), (8, 10), (9, 10)], possible=[(1, 2), (1, 3), (10, 7), (14, 8), (4, 4), (6, 10), (6, 11), (7, 10), (7, 11), (7, 9), (8, 11), (8, 9), (9, 11), (9, 9)]),\n",
       " LabeledAlignment(sure=[(1, 4), (12, 14), (12, 15), (13, 1), (14, 2), (15, 16), (3, 7), (4, 6), (5, 8), (6, 10), (7, 11), (9, 12)], possible=[(1, 3), (10, 15), (11, 15), (14, 3), (2, 5), (7, 9), (8, 12)]),\n",
       " LabeledAlignment(sure=[(1, 1), (10, 13), (11, 17), (12, 19), (15, 20), (17, 21), (18, 22), (20, 22), (21, 23), (22, 24), (23, 25), (24, 27), (25, 26), (27, 28), (28, 29), (29, 30), (30, 34), (31, 35), (32, 40), (34, 36), (35, 37), (36, 39), (37, 41), (4, 6), (5, 9), (6, 10), (7, 11), (8, 15), (8, 16), (9, 14)], possible=[(1, 2), (1, 3), (1, 4), (12, 18), (13, 20), (14, 20), (16, 23), (19, 22), (2, 1), (2, 2), (2, 3), (2, 4), (26, 29), (3, 1), (3, 2), (3, 3), (3, 4), (33, 40), (4, 5)]),\n",
       " LabeledAlignment(sure=[(1, 1), (10, 11), (11, 12), (12, 13), (15, 16), (16, 17), (17, 18), (18, 19), (19, 20), (2, 2), (21, 21), (22, 22), (25, 23), (26, 24), (4, 3), (5, 5), (6, 4), (7, 8), (9, 9)], possible=[(13, 14), (14, 15), (2, 6), (2, 7), (20, 21), (23, 22), (24, 22), (3, 2), (3, 6), (3, 7)]),\n",
       " LabeledAlignment(sure=[(11, 9), (12, 16), (13, 19), (14, 18), (16, 24), (17, 25), (18, 26), (2, 1), (20, 29), (22, 31), (23, 32), (23, 33), (24, 17), (25, 34), (3, 2), (4, 4), (5, 5), (6, 6), (9, 7)], possible=[(1, 1), (10, 9), (19, 27), (20, 30), (21, 31), (7, 6), (8, 6)]),\n",
       " LabeledAlignment(sure=[(1, 2), (12, 5), (13, 7), (15, 9), (17, 11), (17, 15), (18, 16), (3, 3), (9, 4)], possible=[(1, 1), (10, 4), (11, 4), (13, 8), (14, 7), (14, 8), (16, 12), (16, 15), (17, 12), (2, 3), (8, 6)]),\n",
       " LabeledAlignment(sure=[(10, 10), (12, 8), (13, 11), (14, 12), (16, 13), (17, 14), (18, 15), (4, 4), (5, 6), (5, 7), (6, 5), (9, 9)], possible=[(1, 1), (11, 8), (15, 14), (2, 2), (2, 3), (3, 4), (8, 10), (8, 9)]),\n",
       " LabeledAlignment(sure=[(1, 1), (10, 19), (2, 2), (3, 3), (4, 2), (5, 14), (5, 15), (6, 5), (6, 6), (8, 8), (9, 7)], possible=[(6, 4)]),\n",
       " LabeledAlignment(sure=[(1, 1), (11, 3), (11, 4), (11, 5), (13, 6), (14, 15), (15, 21), (15, 22), (16, 20), (17, 17), (18, 23), (19, 24), (20, 25), (21, 18), (22, 19), (23, 26), (24, 27), (24, 28), (25, 29), (26, 30), (27, 31), (28, 34), (29, 35), (3, 7), (30, 36), (31, 37), (32, 38), (5, 9), (6, 10), (8, 13), (9, 14)], possible=[(10, 6), (10, 7), (12, 6), (12, 7), (2, 7), (27, 32), (27, 33), (3, 2), (3, 8), (7, 14)]),\n",
       " LabeledAlignment(sure=[(2, 1), (3, 2), (4, 3), (5, 4), (5, 5), (6, 7), (7, 6), (8, 9)], possible=[(1, 1), (1, 3), (6, 8)]),\n",
       " LabeledAlignment(sure=[(1, 1), (10, 7), (11, 8), (12, 9), (14, 10), (14, 11), (15, 13), (16, 14), (3, 2), (4, 3), (5, 3), (6, 4), (8, 5), (9, 6)], possible=[(13, 11), (13, 9), (15, 12), (2, 1), (7, 7)]),\n",
       " LabeledAlignment(sure=[(1, 1), (11, 10), (12, 7), (13, 12), (3, 2), (4, 4), (5, 3), (6, 5), (7, 6), (9, 8)], possible=[(10, 9), (2, 1), (8, 7)]),\n",
       " LabeledAlignment(sure=[(10, 11), (11, 14), (12, 17), (13, 12), (14, 13), (15, 18), (16, 23), (17, 25), (19, 27), (2, 2), (20, 28), (21, 29), (22, 30), (24, 34), (25, 33), (27, 35), (28, 36), (3, 3), (3, 4), (30, 37), (32, 38), (33, 39), (4, 5), (5, 6), (7, 7), (8, 8), (9, 9)], possible=[(1, 2), (10, 10), (16, 24), (18, 26), (23, 31), (26, 35), (29, 37), (31, 38), (6, 8)]),\n",
       " LabeledAlignment(sure=[(1, 1), (1, 2), (10, 17), (11, 19), (13, 21), (14, 22), (15, 25), (17, 26), (18, 27), (19, 28), (20, 29), (21, 30), (22, 32), (23, 35), (24, 36), (25, 38), (3, 6), (30, 41), (31, 42), (32, 43), (33, 44), (34, 45), (5, 7), (6, 10), (8, 15), (9, 16)], possible=[(12, 20), (15, 23), (15, 24), (16, 26), (2, 3), (2, 4), (2, 5), (2, 6), (22, 31), (23, 34), (25, 37), (26, 39), (27, 40), (3, 3), (3, 4), (3, 5), (4, 7), (6, 11), (7, 12), (7, 13), (7, 14)]),\n",
       " LabeledAlignment(sure=[(10, 17), (11, 16), (12, 18), (13, 19), (14, 20), (15, 21), (16, 22), (17, 24), (18, 25), (2, 1), (20, 26), (21, 27), (23, 28), (24, 29), (25, 30), (27, 31), (28, 33), (29, 32), (3, 2), (30, 34), (4, 3), (6, 12), (7, 13), (8, 14), (9, 14)], possible=[(1, 1), (19, 27), (22, 28), (26, 31), (5, 11), (5, 4), (8, 15), (9, 15)]),\n",
       " LabeledAlignment(sure=[(1, 1), (10, 10), (11, 11), (13, 12), (14, 14), (15, 15), (17, 19), (18, 20), (2, 2), (20, 26), (21, 27), (22, 28), (23, 29), (24, 30), (25, 31), (26, 32), (28, 33), (29, 34), (3, 3), (30, 35), (31, 36), (4, 4), (5, 5), (6, 6), (7, 7), (8, 8), (9, 9)], possible=[(12, 12), (12, 13), (16, 19), (17, 18), (19, 13), (19, 25), (27, 33)]),\n",
       " LabeledAlignment(sure=[(1, 1), (10, 14), (12, 16), (14, 21), (15, 22), (18, 24), (18, 25), (2, 3), (20, 32), (24, 33), (25, 38), (3, 4), (4, 5), (5, 6), (6, 8), (7, 9), (9, 13)], possible=[(11, 15), (13, 19), (13, 20), (16, 21), (16, 23), (17, 23), (17, 25), (21, 34), (21, 35), (21, 36), (21, 37), (22, 35), (22, 36), (22, 37), (23, 35), (23, 36), (23, 37), (8, 10)]),\n",
       " LabeledAlignment(sure=[(10, 7), (10, 8), (11, 9), (12, 10), (14, 12), (15, 11), (15, 13), (16, 14), (17, 15), (17, 16), (18, 17), (19, 19), (20, 21), (21, 22), (22, 23), (23, 24), (24, 27), (25, 28), (26, 29), (27, 31), (6, 4), (7, 5), (8, 6)], possible=[(1, 1), (1, 2), (1, 3), (19, 18), (2, 1), (2, 2), (2, 3), (23, 25), (23, 26), (26, 30), (3, 1), (3, 2), (3, 3), (4, 1), (4, 2), (4, 3), (5, 4), (5, 5), (9, 10)]),\n",
       " LabeledAlignment(sure=[(1, 1), (10, 17), (11, 8), (12, 9), (13, 10), (14, 11), (15, 18), (3, 2), (4, 3), (5, 5), (6, 4), (6, 6), (9, 16)], possible=[(2, 1), (7, 6), (7, 7), (8, 17)]),\n",
       " LabeledAlignment(sure=[(10, 9), (11, 10), (12, 11), (13, 13), (6, 5), (7, 7), (8, 8)], possible=[(10, 12), (12, 12), (2, 4), (3, 4), (4, 2), (5, 3), (6, 6), (9, 12), (9, 9)]),\n",
       " LabeledAlignment(sure=[(1, 1), (10, 10), (11, 11), (12, 12), (13, 13), (14, 14), (15, 17), (16, 16), (18, 18), (19, 19), (2, 2), (20, 21), (21, 20), (22, 22), (4, 4), (5, 5), (6, 6), (7, 7), (8, 8), (9, 9)], possible=[(17, 18), (3, 4)]),\n",
       " LabeledAlignment(sure=[(2, 1), (3, 2), (4, 3), (6, 3), (7, 4)], possible=[(1, 1), (5, 3)]),\n",
       " LabeledAlignment(sure=[(1, 1), (2, 2)], possible=[]),\n",
       " LabeledAlignment(sure=[(1, 1), (2, 2)], possible=[]),\n",
       " LabeledAlignment(sure=[(1, 1), (11, 14), (12, 15), (13, 16), (14, 17), (15, 18), (16, 19), (18, 23), (19, 24), (2, 2), (20, 24), (21, 25), (22, 27), (24, 31), (25, 33), (26, 32), (27, 28), (28, 29), (29, 34), (3, 6), (30, 35), (4, 5), (5, 8), (5, 9), (6, 11), (8, 12), (9, 13)], possible=[(10, 14), (10, 16), (17, 19), (22, 26), (23, 33), (24, 33), (26, 33), (6, 10)]),\n",
       " LabeledAlignment(sure=[(1, 1), (10, 10), (2, 3), (3, 4), (4, 2), (6, 5), (7, 6), (8, 8), (9, 9)], possible=[(5, 4), (5, 5)]),\n",
       " LabeledAlignment(sure=[(10, 5), (11, 6), (12, 11), (2, 9), (3, 10), (7, 2), (8, 3), (9, 4)], possible=[(1, 10), (1, 9), (4, 7), (5, 7), (6, 6)]),\n",
       " LabeledAlignment(sure=[(10, 11), (12, 1), (13, 2), (16, 14), (17, 15), (18, 15), (2, 5), (20, 16), (21, 17), (22, 18), (23, 18), (26, 19), (28, 20), (29, 21), (3, 6), (31, 22), (32, 23), (5, 7), (6, 8), (7, 9), (9, 10)], possible=[(1, 5), (14, 3), (15, 14), (19, 15), (19, 17), (24, 18), (24, 19), (25, 19), (27, 21), (30, 22), (4, 8), (8, 11)]),\n",
       " LabeledAlignment(sure=[(10, 8), (11, 9), (2, 1), (3, 2), (4, 3), (5, 4), (6, 5), (7, 6), (8, 7), (9, 8)], possible=[(1, 1)]),\n",
       " LabeledAlignment(sure=[(1, 1), (10, 9), (12, 11), (13, 11), (14, 10), (16, 13), (17, 14), (18, 15), (19, 16), (2, 2), (20, 17), (21, 18), (22, 19), (23, 21), (24, 25), (25, 28), (26, 26), (27, 27), (28, 29), (4, 4), (5, 4), (6, 5), (7, 6), (8, 7), (9, 8)], possible=[(11, 11), (15, 11), (15, 14), (23, 20), (24, 22), (3, 4)]),\n",
       " LabeledAlignment(sure=[(10, 8), (11, 10), (13, 14), (14, 15), (16, 16), (17, 16), (18, 18), (19, 19), (2, 1), (3, 3), (4, 4), (5, 5), (7, 6), (8, 6), (9, 7)], possible=[(1, 1), (12, 11), (12, 12), (12, 13), (15, 16), (18, 17), (3, 2), (6, 6)]),\n",
       " LabeledAlignment(sure=[(10, 8), (14, 11), (15, 12), (3, 1), (4, 1), (5, 2), (6, 3), (7, 4), (8, 5), (9, 6)], possible=[(1, 1), (10, 7), (13, 11), (2, 1)]),\n",
       " LabeledAlignment(sure=[(10, 6), (11, 7), (12, 8), (2, 3), (3, 3), (4, 2), (5, 4), (8, 5), (9, 5)], possible=[(1, 3), (6, 5), (7, 5)]),\n",
       " LabeledAlignment(sure=[(1, 1), (11, 11), (12, 12), (19, 19), (2, 2), (23, 24), (5, 5), (6, 6), (9, 8)], possible=[(10, 10), (10, 9), (16, 15), (17, 17), (18, 16), (18, 17), (19, 18), (20, 21), (21, 20), (22, 22), (22, 23), (3, 3), (3, 4), (3, 5), (4, 4), (4, 5), (5, 3), (5, 4), (6, 7), (7, 6), (8, 6), (8, 7)]),\n",
       " LabeledAlignment(sure=[(1, 1), (10, 6), (11, 12), (12, 13), (2, 1), (3, 2), (5, 5), (6, 7), (7, 8), (8, 9)], possible=[(4, 3), (4, 4), (9, 6)]),\n",
       " LabeledAlignment(sure=[(12, 14), (13, 14), (15, 15), (16, 16), (17, 17), (18, 18), (2, 1), (21, 20), (22, 23), (24, 27), (25, 28), (3, 2), (4, 5), (5, 6), (6, 8), (7, 9), (9, 11)], possible=[(1, 1), (10, 14), (11, 14), (12, 13), (14, 15), (14, 16), (19, 19), (19, 21), (20, 20), (23, 27), (4, 3), (4, 4), (8, 10), (8, 11), (8, 7), (9, 10), (9, 7)]),\n",
       " LabeledAlignment(sure=[(1, 1), (11, 10), (12, 11), (13, 12), (14, 14), (16, 15), (17, 17), (18, 18), (19, 19), (24, 23), (25, 24), (26, 25), (27, 26), (28, 27), (29, 28), (30, 32), (32, 34), (33, 35), (34, 36), (35, 37), (6, 5), (7, 7), (8, 8), (9, 9)], possible=[(10, 10), (13, 13), (15, 15), (17, 16), (2, 1), (2, 2), (20, 20), (21, 21), (22, 22), (23, 22), (3, 3), (3, 5), (31, 31), (31, 33), (4, 4), (4, 5), (5, 5), (6, 3), (6, 4), (7, 6)]),\n",
       " LabeledAlignment(sure=[(1, 1), (10, 9), (11, 10), (12, 11), (13, 12), (18, 14), (19, 17), (2, 2), (23, 24), (24, 25), (3, 3), (4, 4), (5, 6), (8, 7), (9, 8)], possible=[(17, 14), (21, 18), (21, 19), (22, 20), (6, 5), (6, 6), (7, 5), (7, 6)]),\n",
       " LabeledAlignment(sure=[(11, 16), (12, 17), (13, 20), (14, 20), (15, 21), (16, 22), (17, 23), (18, 28), (19, 29), (2, 1), (20, 30), (23, 32), (24, 34), (25, 35), (26, 36), (27, 34), (35, 46), (36, 48), (37, 49), (38, 50), (40, 51), (41, 52), (6, 7), (7, 8), (8, 9), (9, 10)], possible=[(1, 1), (1, 2), (1, 3), (1, 4), (1, 5), (10, 15), (2, 2), (2, 3), (2, 4), (2, 5), (21, 26), (22, 26), (27, 33), (3, 1), (3, 2), (3, 3), (3, 4), (3, 5), (30, 42), (31, 45), (32, 43), (32, 45), (33, 46), (34, 46), (35, 47), (39, 51), (4, 6), (4, 7), (5, 6), (5, 7), (6, 6)]),\n",
       " LabeledAlignment(sure=[(1, 1), (10, 12), (11, 13), (13, 14), (14, 15), (17, 16), (18, 17), (19, 18), (2, 2), (20, 23), (20, 24), (22, 22), (23, 25), (25, 27), (26, 28), (3, 3), (4, 4), (6, 7), (7, 9), (8, 10), (9, 11)], possible=[(12, 15), (15, 17), (16, 17), (20, 21), (21, 22), (21, 24), (24, 26), (5, 8), (5, 9), (7, 5), (7, 6), (7, 8)]),\n",
       " LabeledAlignment(sure=[(1, 1), (10, 11), (11, 12), (12, 13), (14, 14), (16, 15), (16, 16), (17, 17), (18, 18), (19, 19), (20, 21), (21, 22), (3, 2), (4, 3), (5, 4), (6, 5), (7, 6), (8, 7), (9, 8)], possible=[(13, 14), (2, 2), (20, 20), (4, 2), (9, 10), (9, 9)]),\n",
       " LabeledAlignment(sure=[(1, 1), (12, 9), (13, 10), (14, 11), (16, 12), (17, 13), (18, 15), (2, 1), (21, 17), (22, 17), (23, 17), (25, 18), (26, 20), (27, 21), (28, 23), (29, 22), (30, 24), (5, 3), (6, 4), (7, 6)], possible=[(10, 7), (10, 8), (10, 9), (11, 7), (11, 8), (15, 13), (18, 14), (19, 16), (19, 17), (20, 16), (20, 17), (21, 16), (24, 18), (26, 19), (3, 1), (3, 2), (4, 3), (7, 5), (8, 9), (9, 9)]),\n",
       " LabeledAlignment(sure=[(10, 8), (14, 16), (15, 17), (16, 18), (17, 20), (18, 19), (6, 7), (9, 9)], possible=[(11, 10), (12, 15), (13, 15), (2, 1), (3, 1), (4, 1), (6, 6), (8, 9)]),\n",
       " LabeledAlignment(sure=[(1, 1), (10, 10), (11, 12), (12, 16), (15, 19), (16, 20), (17, 21), (18, 22), (20, 23), (21, 24), (22, 25), (24, 26), (25, 27), (26, 28), (28, 32), (3, 2), (30, 33), (31, 36), (33, 37), (34, 38), (38, 46), (4, 4), (40, 47), (41, 50), (42, 51), (44, 52), (45, 53), (46, 54), (47, 55), (48, 56), (5, 5), (50, 58), (51, 59), (52, 60), (53, 61), (54, 64), (54, 65), (56, 68), (57, 69), (59, 67), (6, 6), (60, 70), (7, 7), (8, 8)], possible=[(13, 18), (14, 18), (19, 23), (2, 2), (23, 26), (27, 29), (27, 32), (28, 30), (29, 33), (30, 34), (30, 35), (32, 38), (36, 41), (37, 46), (39, 46), (39, 47), (43, 52), (48, 57), (49, 56), (49, 57), (55, 66), (58, 67), (9, 10), (9, 11)]),\n",
       " LabeledAlignment(sure=[(12, 14), (13, 15), (15, 16), (16, 13), (17, 13), (18, 17), (2, 1), (20, 18), (21, 20), (22, 21), (4, 7), (5, 8), (6, 9), (9, 11)], possible=[(1, 1), (10, 10), (10, 12), (14, 16), (19, 18), (19, 20), (3, 5), (7, 11), (8, 11)]),\n",
       " LabeledAlignment(sure=[(1, 3), (10, 9), (11, 10), (12, 11), (13, 13), (14, 14), (15, 15), (16, 16), (17, 17), (18, 18), (3, 2), (3, 4), (4, 5), (5, 5), (7, 6), (8, 7), (9, 8)], possible=[(17, 12), (2, 1), (2, 4), (3, 1), (6, 6)]),\n",
       " LabeledAlignment(sure=[(1, 2), (2, 1), (3, 1), (5, 4), (7, 5), (8, 6), (9, 7)], possible=[(4, 4), (6, 6)]),\n",
       " LabeledAlignment(sure=[(1, 2), (10, 10), (11, 11), (2, 3), (3, 4), (5, 1), (8, 5), (9, 9)], possible=[(4, 1), (6, 1)]),\n",
       " LabeledAlignment(sure=[(1, 1), (10, 13), (12, 14), (14, 20), (17, 24), (19, 25), (2, 3), (20, 27), (21, 29), (22, 31), (23, 32), (24, 30), (25, 33), (26, 34), (27, 28), (28, 35), (3, 5), (3, 6), (30, 36), (32, 37), (34, 38), (36, 39), (37, 41), (38, 42), (6, 8)], possible=[(1, 2), (10, 10), (11, 14), (13, 20), (15, 18), (16, 21), (16, 22), (16, 23), (18, 25), (20, 26), (29, 36), (31, 37), (33, 40), (33, 41), (37, 40), (8, 13)]),\n",
       " LabeledAlignment(sure=[(1, 1), (11, 13), (12, 12), (13, 14), (2, 2), (4, 3), (5, 5), (7, 7)], possible=[(10, 10), (10, 13), (10, 8), (11, 11), (3, 3), (6, 7), (8, 10), (8, 8), (9, 10), (9, 8)]),\n",
       " LabeledAlignment(sure=[(1, 1), (14, 16), (15, 16), (17, 18), (19, 20), (20, 22), (24, 24), (25, 25), (3, 5), (4, 5), (8, 9), (9, 11)], possible=[(10, 12), (10, 13), (11, 12), (11, 13), (12, 12), (12, 13), (13, 12), (13, 13), (17, 19), (18, 20), (2, 5), (2, 6), (20, 23), (21, 22), (21, 23), (22, 22), (22, 23), (23, 24), (3, 6), (4, 6), (5, 5), (5, 6), (6, 9), (7, 9), (8, 8)]),\n",
       " LabeledAlignment(sure=[(10, 10), (11, 11), (2, 4), (4, 3), (4, 9), (5, 8), (6, 5), (8, 6), (9, 1)], possible=[(1, 9), (2, 9), (3, 9), (4, 2), (5, 7), (7, 6), (9, 7)]),\n",
       " LabeledAlignment(sure=[(1, 1), (10, 14), (11, 16), (13, 18), (14, 19), (15, 20), (16, 21), (17, 22), (18, 23), (19, 24), (2, 3), (20, 25), (21, 28), (3, 4), (4, 9), (5, 5), (6, 6), (7, 7), (8, 8)], possible=[(10, 12), (10, 13), (11, 15), (12, 18), (20, 26), (20, 27), (9, 12), (9, 13), (9, 14)]),\n",
       " LabeledAlignment(sure=[(10, 14), (3, 5), (5, 6), (6, 12), (7, 13), (8, 10), (9, 11)], possible=[(4, 6), (7, 9)]),\n",
       " LabeledAlignment(sure=[(1, 1), (11, 12), (12, 13), (12, 14), (13, 16), (14, 17), (18, 26), (19, 27), (2, 2), (20, 27), (22, 23), (23, 28), (24, 29), (25, 25), (25, 29), (26, 30), (28, 32), (29, 34), (3, 3), (30, 35), (31, 36), (32, 37), (33, 38), (34, 39), (4, 4), (5, 5), (6, 7), (7, 6), (8, 9)], possible=[(10, 10), (10, 11), (15, 18), (16, 19), (17, 22), (22, 24), (27, 31), (27, 32), (29, 33), (8, 8), (9, 9)]),\n",
       " LabeledAlignment(sure=[(1, 1), (11, 14), (12, 15), (13, 16), (19, 20), (2, 4), (24, 22), (26, 23), (27, 24), (3, 5), (4, 6), (5, 7), (6, 8), (7, 10), (8, 12), (9, 13)], possible=[(1, 2), (1, 3), (10, 15), (14, 21), (15, 21), (18, 18), (18, 19), (22, 22), (25, 23), (7, 9), (8, 11)]),\n",
       " LabeledAlignment(sure=[(12, 10), (14, 16), (15, 17), (16, 18), (17, 14), (18, 20), (19, 20), (2, 1), (20, 22), (27, 29), (29, 28), (3, 3), (32, 31), (33, 32), (34, 33), (35, 34), (36, 35), (37, 36), (38, 37), (4, 5), (42, 41), (44, 42), (46, 43), (47, 44), (5, 6), (6, 7), (7, 4), (8, 8), (9, 9)], possible=[(1, 1), (10, 10), (11, 10), (13, 16), (20, 21), (20, 23), (20, 24), (23, 23), (23, 24), (24, 25), (24, 29), (25, 25), (25, 29), (26, 29), (27, 25), (28, 27), (28, 28), (3, 2), (30, 27), (31, 30), (39, 38), (39, 41), (40, 38), (40, 41), (41, 41), (42, 38), (43, 42), (45, 43)]),\n",
       " LabeledAlignment(sure=[(10, 10), (11, 11), (12, 12), (14, 13), (15, 14), (3, 4), (5, 5), (6, 6), (8, 7), (9, 9)], possible=[(1, 1), (1, 4), (13, 13), (2, 3), (2, 4), (3, 3), (4, 5), (4, 6), (7, 10), (8, 8)]),\n",
       " LabeledAlignment(sure=[(1, 2), (11, 12), (13, 13), (14, 14), (15, 15), (2, 3), (3, 4), (4, 5), (6, 6), (6, 7)], possible=[(10, 12), (12, 14), (5, 6), (5, 7), (7, 11), (7, 9), (8, 11), (8, 9), (9, 11), (9, 9)]),\n",
       " LabeledAlignment(sure=[(10, 12), (11, 14), (12, 15), (13, 17), (14, 18), (15, 19), (2, 1), (2, 2), (3, 1), (4, 4), (5, 3), (6, 5), (7, 6), (9, 13)], possible=[(1, 1), (14, 16)]),\n",
       " LabeledAlignment(sure=[(1, 1), (10, 12), (12, 22), (13, 22), (14, 13), (16, 18), (17, 17), (17, 20), (18, 23), (2, 2), (3, 2), (5, 3), (7, 7), (8, 8), (9, 10)], possible=[(10, 11), (11, 22), (15, 18), (4, 2), (6, 4), (6, 5), (6, 6)]),\n",
       " LabeledAlignment(sure=[(1, 1), (12, 9), (13, 10), (14, 11), (16, 16), (18, 14), (19, 17), (2, 2), (20, 19), (22, 22), (23, 21), (24, 24), (25, 26), (26, 26), (28, 27), (29, 28), (3, 3), (30, 29), (31, 30), (4, 4), (5, 4), (6, 5), (9, 6)], possible=[(10, 9), (11, 7), (11, 8), (15, 16), (17, 14), (20, 18), (21, 20), (24, 23), (27, 26), (7, 6), (7, 7), (8, 6), (8, 7), (9, 7)]),\n",
       " LabeledAlignment(sure=[(10, 13), (11, 14), (12, 15), (13, 16), (14, 17), (15, 18), (16, 19), (17, 20), (18, 21), (2, 1), (20, 22), (21, 23), (22, 25), (24, 26), (25, 28), (26, 29), (27, 30), (3, 5), (4, 6), (5, 7), (6, 8), (7, 9), (8, 12)], possible=[(1, 3), (19, 23), (22, 24), (23, 26), (7, 10), (7, 11)]),\n",
       " LabeledAlignment(sure=[(11, 11), (12, 12), (13, 13), (14, 14), (15, 14), (16, 15), (17, 16), (19, 17), (2, 3), (2, 5), (20, 18), (21, 19), (22, 20), (23, 21), (24, 22), (26, 23), (27, 24), (28, 25), (29, 26), (3, 4), (30, 27), (33, 28), (34, 29), (35, 32), (36, 31), (37, 33), (37, 34), (38, 35), (39, 37), (4, 6), (40, 38), (42, 39), (44, 40), (45, 41), (46, 42), (47, 43), (48, 44), (8, 9)], possible=[(1, 3), (1, 5), (10, 12), (14, 15), (15, 15), (16, 14), (18, 17), (25, 23), (31, 30), (31, 36), (32, 30), (32, 36), (41, 38), (43, 40), (7, 9), (9, 10)]),\n",
       " LabeledAlignment(sure=[(1, 1), (10, 10), (11, 11), (12, 12), (13, 13), (14, 14), (15, 15), (17, 18), (19, 17), (2, 3), (20, 19), (21, 20), (25, 24), (27, 25), (28, 26), (3, 4), (33, 28), (34, 30), (35, 29), (4, 5), (5, 6), (6, 7), (8, 8), (9, 9)], possible=[(16, 18), (18, 17), (19, 16), (2, 7), (22, 21), (22, 22), (22, 24), (23, 22), (23, 24), (24, 23), (24, 24), (25, 21), (25, 22), (25, 23), (26, 26), (29, 28), (7, 15), (7, 9)]),\n",
       " LabeledAlignment(sure=[(10, 8), (11, 9), (13, 10), (14, 11), (15, 12), (17, 13), (18, 14), (19, 15), (2, 1), (20, 16), (21, 17), (22, 18), (23, 19), (24, 20), (25, 25), (25, 26), (26, 27), (28, 28), (29, 29), (3, 2), (30, 30), (31, 31), (32, 33), (35, 39), (36, 40), (43, 36), (44, 37), (45, 42), (47, 43), (49, 44), (5, 4), (5, 5), (50, 45), (51, 46), (52, 49)], possible=[(1, 1), (1, 2), (10, 6), (12, 11), (16, 14), (27, 31), (3, 1), (32, 32), (33, 34), (33, 35), (34, 38), (37, 37), (4, 4), (45, 41), (46, 43), (48, 48)]),\n",
       " LabeledAlignment(sure=[(1, 2), (10, 12), (11, 13), (11, 14), (12, 11), (13, 15), (14, 16), (15, 18), (2, 1), (20, 19), (21, 20), (22, 21), (23, 23), (24, 24), (25, 25), (26, 27), (27, 26), (28, 28), (29, 29), (3, 4), (30, 30), (31, 31), (32, 32), (34, 35), (35, 34), (36, 36), (37, 37), (38, 38), (39, 40), (41, 41), (43, 42), (44, 43), (45, 44), (46, 46), (51, 49), (52, 50), (53, 51), (6, 6), (7, 7), (8, 9), (9, 10)], possible=[(19, 19), (3, 5), (33, 22), (33, 33), (33, 34), (33, 36), (35, 22), (35, 33), (35, 36), (36, 22), (36, 33), (36, 34), (39, 39), (4, 7), (40, 41), (42, 43), (45, 45), (46, 45), (47, 48), (48, 48), (49, 48), (5, 7), (50, 50), (8, 8)]),\n",
       " LabeledAlignment(sure=[(10, 10), (11, 11), (12, 12), (13, 14), (14, 16), (15, 17), (17, 19), (21, 21), (22, 22), (23, 23), (24, 24), (25, 25), (26, 26), (3, 5), (4, 5), (5, 1), (6, 2), (7, 7), (9, 9)], possible=[(1, 5), (13, 13), (14, 15), (16, 19), (2, 5), (20, 20), (7, 6), (8, 9), (9, 8)]),\n",
       " LabeledAlignment(sure=[(1, 1), (11, 6), (12, 9), (2, 2), (3, 3), (5, 4), (6, 5), (8, 7), (9, 8)], possible=[(10, 6), (4, 4), (4, 5), (7, 8)]),\n",
       " LabeledAlignment(sure=[(1, 1), (10, 15), (11, 16), (13, 17), (14, 18), (15, 19), (2, 2), (3, 3), (4, 4), (5, 8), (6, 10), (7, 11), (8, 13), (9, 14)], possible=[]),\n",
       " LabeledAlignment(sure=[(1, 1), (2, 2), (3, 3)], possible=[]),\n",
       " LabeledAlignment(sure=[(1, 1), (2, 2)], possible=[]),\n",
       " LabeledAlignment(sure=[(1, 1), (2, 2)], possible=[]),\n",
       " LabeledAlignment(sure=[(1, 2), (10, 11), (12, 14), (13, 15), (14, 16), (15, 20), (16, 21), (17, 22), (2, 3), (4, 1), (5, 4), (7, 8), (8, 9), (9, 10)], possible=[(11, 15), (3, 3), (5, 5)]),\n",
       " LabeledAlignment(sure=[(1, 2), (10, 8), (13, 17), (2, 3), (3, 6), (4, 5), (5, 4), (7, 7)], possible=[(11, 8), (6, 7), (8, 7), (9, 8)]),\n",
       " LabeledAlignment(sure=[(1, 1), (11, 16), (12, 17), (14, 18), (15, 19), (16, 20), (17, 21), (18, 22), (2, 2), (20, 5), (20, 6), (23, 9), (24, 23), (4, 3), (6, 12), (7, 11), (8, 13), (9, 15)], possible=[(21, 9), (22, 9), (3, 2), (5, 12), (9, 14)]),\n",
       " LabeledAlignment(sure=[(10, 12), (12, 13), (13, 14), (14, 15), (15, 16), (16, 17), (17, 18), (18, 19), (19, 20), (2, 1), (21, 21), (22, 22), (23, 23), (24, 23), (25, 23), (26, 23), (27, 25), (28, 24), (29, 27), (3, 3), (5, 4), (6, 8), (7, 9), (8, 10), (9, 11)], possible=[(1, 1), (11, 13), (20, 21), (4, 4), (5, 7)]),\n",
       " LabeledAlignment(sure=[(3, 8)], possible=[(1, 4), (1, 7), (2, 4), (2, 7)]),\n",
       " LabeledAlignment(sure=[(1, 1), (10, 10), (2, 2), (3, 3), (4, 4), (5, 9), (6, 5), (8, 6), (8, 7), (9, 8)], possible=[(7, 6), (7, 8)]),\n",
       " LabeledAlignment(sure=[(1, 1), (11, 5), (12, 6), (13, 7), (14, 8), (16, 9), (17, 10), (18, 11), (19, 12), (21, 15), (23, 16), (25, 23), (3, 19), (5, 21), (7, 22), (9, 4)], possible=[(1, 2), (10, 5), (15, 9), (2, 3), (20, 15), (3, 20), (4, 20), (6, 21), (8, 13)]),\n",
       " LabeledAlignment(sure=[(1, 1), (11, 10), (12, 11), (13, 12), (14, 15), (2, 3), (20, 19), (4, 4), (5, 4), (7, 5), (7, 6), (8, 8), (9, 9)], possible=[(10, 9), (15, 13), (15, 14), (15, 16), (15, 17), (15, 18), (16, 13), (16, 14), (16, 16), (16, 17), (16, 18), (17, 13), (17, 14), (17, 16), (17, 17), (17, 18), (18, 13), (18, 14), (18, 16), (18, 17), (18, 18), (19, 13), (19, 14), (19, 16), (19, 17), (19, 18), (3, 4), (5, 2), (6, 5), (9, 7)]),\n",
       " LabeledAlignment(sure=[(1, 1), (11, 10), (2, 2), (4, 3), (5, 4), (6, 5), (7, 7)], possible=[(3, 3), (3, 5), (7, 6), (8, 9), (9, 9)]),\n",
       " LabeledAlignment(sure=[(1, 1), (11, 7), (12, 8), (14, 9), (15, 10), (17, 11), (19, 12), (20, 13), (26, 15), (27, 16), (3, 2), (5, 3), (6, 4), (7, 5), (9, 6)], possible=[(10, 8), (16, 11), (18, 13), (18, 14), (2, 2), (21, 14), (23, 14), (25, 15), (4, 3), (4, 4), (8, 6)]),\n",
       " LabeledAlignment(sure=[(10, 10), (11, 11), (13, 12), (14, 13), (15, 14), (17, 15), (5, 6), (6, 7), (7, 8), (9, 9)], possible=[(12, 12), (3, 1), (4, 3), (5, 4), (5, 5), (8, 9)]),\n",
       " LabeledAlignment(sure=[(10, 10), (11, 11), (12, 12), (13, 13), (14, 17), (15, 19), (16, 20), (17, 23), (19, 33), (2, 1), (21, 34), (22, 35), (24, 36), (25, 37), (28, 29), (3, 2), (30, 31), (31, 38), (4, 6), (6, 7), (8, 9), (9, 8)], possible=[(1, 1), (13, 14), (13, 15), (13, 16), (15, 18), (18, 34), (21, 32), (23, 37), (26, 28), (27, 30), (29, 31), (4, 4), (4, 5), (5, 7), (7, 8)]),\n",
       " LabeledAlignment(sure=[(1, 1), (10, 9), (12, 11), (15, 17), (16, 18), (17, 19), (18, 20), (2, 1), (3, 1), (5, 3)], possible=[(11, 11), (13, 14), (13, 15), (13, 16), (14, 14), (14, 15), (14, 16), (6, 7), (6, 8), (7, 7), (7, 8), (8, 7), (8, 8), (9, 7), (9, 8), (9, 9)]),\n",
       " LabeledAlignment(sure=[(1, 1), (1, 2), (15, 13), (16, 14), (2, 3), (3, 4), (4, 5), (5, 6), (6, 7)], possible=[(11, 12), (14, 8), (8, 9)]),\n",
       " LabeledAlignment(sure=[(1, 1), (10, 9), (11, 10), (13, 11), (14, 13), (15, 15), (16, 14), (17, 16), (18, 17), (20, 19), (21, 20), (22, 21), (23, 22), (25, 23), (27, 25), (28, 26), (29, 27), (3, 2), (30, 27), (31, 28), (4, 3), (5, 4), (6, 5), (7, 6), (8, 7), (9, 8)], possible=[(12, 11), (18, 18), (2, 12), (2, 3), (24, 23), (25, 24), (26, 25)]),\n",
       " LabeledAlignment(sure=[(10, 7), (11, 8), (12, 9), (14, 13), (15, 14), (16, 15), (18, 17), (19, 18), (2, 1), (20, 19), (3, 2), (5, 3), (6, 4), (8, 5), (9, 6)], possible=[(1, 1), (13, 13), (14, 10), (14, 11), (14, 12), (17, 17), (17, 18), (4, 3), (4, 5), (7, 4)]),\n",
       " LabeledAlignment(sure=[(11, 8), (12, 9), (13, 11), (15, 13), (16, 14), (18, 15), (19, 17), (2, 1), (21, 18), (23, 19), (24, 21), (25, 22), (26, 20), (3, 2), (30, 24), (31, 25), (35, 28), (38, 27), (39, 29), (4, 3), (40, 30), (5, 5), (7, 6), (9, 7)], possible=[(1, 1), (1, 2), (10, 9), (13, 10), (13, 12), (14, 13), (14, 14), (17, 17), (20, 18), (28, 23), (29, 25), (34, 28), (36, 28), (37, 26), (5, 4), (5, 6), (6, 4), (6, 5), (6, 6), (7, 4), (7, 5), (8, 7)]),\n",
       " LabeledAlignment(sure=[(12, 9), (13, 10), (14, 11), (15, 12), (16, 13), (19, 16), (2, 1), (21, 17), (23, 23), (25, 19), (26, 24), (4, 2), (6, 3), (7, 4), (8, 7), (9, 8)], possible=[(1, 1), (10, 12), (11, 12), (20, 16), (21, 14), (22, 15), (22, 17), (24, 18), (24, 20), (24, 21), (3, 3), (5, 2), (9, 6)]),\n",
       " LabeledAlignment(sure=[(11, 9), (12, 7), (13, 9), (16, 15), (17, 16), (19, 13), (20, 17), (21, 19), (22, 20), (23, 22), (24, 23), (26, 29), (28, 26), (29, 27), (32, 31), (33, 32), (36, 34), (4, 4), (5, 6)], possible=[(10, 7), (14, 10), (15, 13), (15, 16), (18, 16), (21, 18), (25, 24), (27, 21), (30, 25), (31, 28), (31, 30), (35, 33), (4, 3)]),\n",
       " LabeledAlignment(sure=[(11, 9), (12, 10), (13, 11), (15, 12), (16, 13), (17, 14), (19, 15), (20, 16), (21, 17), (23, 17), (24, 18), (26, 19), (27, 20), (29, 21), (3, 2), (30, 22), (31, 23), (32, 23), (33, 26), (34, 24), (35, 27), (36, 29), (38, 28), (39, 30), (4, 4), (40, 31), (41, 32), (42, 33), (43, 34), (44, 35), (45, 36), (46, 37), (47, 43), (48, 39), (49, 40), (5, 5), (50, 41), (51, 46), (7, 7), (8, 6), (9, 8)], possible=[(1, 2), (10, 10), (14, 12), (18, 15), (2, 1), (2, 2), (22, 17), (25, 21), (3, 1), (33, 25), (4, 3), (6, 8)]),\n",
       " LabeledAlignment(sure=[(11, 8), (12, 9), (14, 10), (15, 11), (8, 6), (9, 7)], possible=[(10, 7), (6, 4), (7, 4), (8, 5)]),\n",
       " LabeledAlignment(sure=[(1, 1), (11, 11), (13, 12), (15, 13), (16, 14), (17, 15), (18, 18), (21, 24), (22, 25), (23, 26), (24, 27), (25, 28), (28, 32), (29, 34), (3, 6), (30, 33), (31, 37), (32, 38), (4, 7)], possible=[(10, 10), (10, 11), (11, 10), (12, 10), (14, 13), (14, 14), (19, 17), (19, 19), (2, 1), (20, 22), (20, 29), (27, 30), (28, 31), (9, 10), (9, 11)]),\n",
       " LabeledAlignment(sure=[(1, 1), (1, 2), (11, 7), (12, 8), (13, 9), (14, 10), (15, 10), (19, 14), (20, 15), (21, 16), (22, 17), (23, 18), (25, 18), (26, 19), (27, 20), (28, 23), (3, 4), (30, 24), (32, 25), (33, 27), (34, 28), (5, 5), (8, 3)], possible=[(10, 8), (16, 11), (17, 11), (17, 12), (18, 13), (24, 18), (28, 21), (28, 22), (29, 24), (31, 25), (4, 4), (6, 6), (9, 6), (9, 8)]),\n",
       " LabeledAlignment(sure=[(1, 2), (10, 9), (12, 10), (13, 11), (14, 15), (15, 16), (18, 18), (2, 1), (3, 1), (6, 4), (7, 3), (8, 5), (9, 7)], possible=[(1, 1), (1, 4), (11, 11), (14, 14), (16, 17), (17, 17), (2, 2), (2, 4), (3, 2), (3, 4), (4, 1), (4, 2), (4, 4), (5, 1), (5, 2), (5, 4), (6, 1), (6, 2), (9, 6), (9, 8)]),\n",
       " LabeledAlignment(sure=[(1, 1), (11, 8), (11, 9), (13, 11), (14, 11), (16, 13), (17, 14), (18, 15), (19, 16), (20, 17), (20, 18), (22, 20), (23, 21), (26, 22), (28, 23), (29, 24), (3, 2), (30, 25), (31, 26), (32, 27), (35, 31), (37, 32), (38, 33), (39, 35), (40, 35), (41, 34), (42, 35), (43, 35), (44, 36), (5, 3), (7, 4), (8, 5)], possible=[(10, 6), (12, 9), (13, 12), (14, 12), (15, 14), (2, 1), (20, 19), (21, 20), (24, 22), (27, 26), (33, 29), (34, 29), (35, 30), (36, 33), (4, 6), (6, 4), (6, 5), (9, 6), (9, 7)]),\n",
       " LabeledAlignment(sure=[(1, 2), (10, 9), (11, 10), (12, 11), (14, 12), (15, 13), (16, 14), (18, 16), (19, 15), (2, 3), (20, 17), (21, 17), (22, 18), (24, 18), (25, 19), (27, 21), (28, 24), (29, 25), (3, 4), (30, 27), (31, 28), (31, 32), (32, 33), (4, 5), (7, 6), (9, 8)], possible=[(11, 7), (13, 13), (17, 16), (23, 18), (26, 20), (30, 26), (6, 6), (8, 9)]),\n",
       " LabeledAlignment(sure=[(10, 12), (11, 13), (12, 15), (16, 14), (17, 16), (19, 17), (2, 6), (25, 24), (26, 25), (27, 26), (28, 27), (29, 29), (3, 7), (30, 30), (32, 31), (33, 31), (34, 31), (35, 33), (38, 39), (40, 40), (41, 41), (5, 8), (7, 9), (8, 10), (9, 11)], possible=[(1, 1), (1, 2), (1, 3), (1, 4), (1, 5), (14, 14), (15, 14), (18, 17), (20, 17), (24, 24), (29, 28), (31, 31), (31, 33), (36, 36), (36, 37), (36, 38), (37, 39), (39, 40), (4, 11), (6, 9)]),\n",
       " LabeledAlignment(sure=[(1, 5), (11, 10), (12, 12), (13, 14), (14, 15), (15, 16), (16, 17), (18, 18), (19, 19), (20, 20), (21, 21), (23, 22), (24, 23), (25, 24), (26, 25), (27, 26), (29, 27), (3, 1), (34, 29), (35, 28), (36, 30), (37, 31), (38, 32), (39, 33), (4, 2), (42, 36), (43, 37), (44, 39), (46, 43), (46, 44), (46, 45), (49, 46), (5, 4), (50, 40), (51, 42), (52, 47), (6, 6), (7, 7), (9, 8)], possible=[(10, 10), (11, 9), (12, 11), (17, 19), (2, 5), (22, 21), (28, 29), (30, 27), (31, 27), (32, 27), (33, 27), (4, 3), (40, 13), (40, 34), (40, 35), (41, 37), (43, 35), (44, 38), (45, 43), (47, 46), (48, 46), (50, 41), (50, 42), (51, 40), (51, 41), (8, 8)]),\n",
       " LabeledAlignment(sure=[(1, 37), (10, 7), (11, 9), (12, 8), (13, 10), (14, 11), (15, 12), (16, 13), (18, 14), (19, 14), (2, 38), (20, 14), (21, 15), (22, 16), (23, 17), (24, 18), (25, 19), (26, 20), (28, 21), (29, 22), (30, 23), (31, 24), (32, 25), (34, 27), (36, 28), (38, 29), (39, 30), (4, 1), (40, 31), (41, 32), (42, 33), (43, 34), (44, 35), (45, 36), (46, 46), (47, 47), (48, 48), (49, 49), (5, 2), (52, 53), (54, 54), (6, 3), (7, 4), (9, 6)], possible=[(17, 16), (27, 24), (33, 26), (35, 28), (37, 32), (51, 53), (8, 8)]),\n",
       " LabeledAlignment(sure=[(1, 7), (10, 8), (11, 9), (13, 10), (15, 11), (18, 15), (20, 16), (4, 2), (5, 3), (6, 4), (7, 5), (9, 6)], possible=[(12, 10), (14, 11), (17, 15), (3, 2), (8, 6)]),\n",
       " LabeledAlignment(sure=[(1, 1), (13, 8), (15, 22), (16, 20), (17, 9), (2, 2), (20, 11), (21, 12), (24, 13), (25, 14), (26, 15), (27, 16), (28, 33), (5, 3), (6, 5), (7, 6), (8, 7)], possible=[(12, 32), (14, 20), (14, 9), (16, 21), (17, 10), (18, 10), (18, 9), (19, 12), (22, 13), (23, 13), (4, 3), (5, 4)]),\n",
       " LabeledAlignment(sure=[(1, 2), (12, 11), (12, 12), (12, 8), (13, 10), (14, 13), (7, 6), (9, 7)], possible=[(10, 8), (7, 5), (8, 7)]),\n",
       " LabeledAlignment(sure=[(1, 4), (10, 7), (11, 8), (12, 9), (14, 12), (15, 14), (18, 15), (19, 19), (2, 4), (20, 20), (21, 21), (9, 6)], possible=[(13, 10), (13, 11), (16, 15), (17, 15), (3, 4)]),\n",
       " LabeledAlignment(sure=[(1, 2), (10, 10), (11, 12), (12, 13), (13, 15), (15, 14), (15, 16), (16, 17), (17, 18), (18, 19), (19, 20), (20, 21), (21, 22), (22, 23), (3, 3), (9, 11)], possible=[(14, 16), (2, 2), (3, 1), (4, 4), (8, 10)]),\n",
       " LabeledAlignment(sure=[(1, 1), (10, 12), (11, 13), (12, 14), (13, 15), (14, 16), (15, 17), (2, 2), (3, 4), (4, 4), (5, 5), (6, 7), (9, 11)], possible=[(6, 6), (7, 8), (8, 8)]),\n",
       " LabeledAlignment(sure=[(10, 3), (11, 4), (12, 5), (13, 6), (15, 16), (18, 9), (19, 8), (20, 20), (5, 2), (7, 19)], possible=[(1, 18), (14, 16), (2, 18), (3, 18), (6, 19), (8, 1), (9, 1), (9, 3)]),\n",
       " LabeledAlignment(sure=[(1, 1), (10, 9), (11, 10), (12, 11), (13, 14), (15, 12), (15, 13), (17, 16), (18, 16), (19, 17), (19, 18), (2, 3), (20, 19), (21, 20), (3, 2), (4, 4), (5, 6), (7, 7), (9, 8)], possible=[(14, 12), (16, 16), (6, 7), (8, 8)]),\n",
       " LabeledAlignment(sure=[(11, 12), (11, 13), (12, 14), (16, 15), (17, 17), (18, 18), (19, 19), (2, 1), (20, 20), (21, 16), (22, 21), (24, 24), (28, 28), (29, 29), (3, 2), (4, 4), (5, 5), (6, 7), (7, 6), (8, 8), (9, 11)], possible=[(1, 1), (10, 13), (25, 24), (26, 25), (27, 28), (28, 26), (28, 27), (4, 3)]),\n",
       " LabeledAlignment(sure=[(18, 12), (19, 13), (20, 14), (21, 15), (22, 16), (23, 17), (25, 18), (26, 19), (27, 20), (28, 21), (29, 22), (30, 23), (31, 24), (32, 26), (33, 27), (34, 28), (35, 29), (36, 30), (37, 31), (38, 32), (4, 6), (40, 33), (41, 34), (43, 35), (45, 36), (46, 37), (7, 1), (8, 2)], possible=[(10, 3), (11, 3), (14, 9), (15, 9), (16, 11), (17, 11), (17, 12), (24, 18), (24, 19), (3, 6), (35, 25), (39, 33), (42, 36), (44, 35), (9, 3)]),\n",
       " LabeledAlignment(sure=[(15, 12), (16, 8), (17, 9), (18, 20), (2, 1), (3, 4), (4, 6), (9, 17)], possible=[(1, 1), (10, 18), (11, 18), (12, 13), (12, 18), (13, 12), (13, 7), (14, 12), (4, 5), (5, 17), (6, 16), (7, 16), (8, 15)]),\n",
       " LabeledAlignment(sure=[(1, 13), (11, 3), (13, 4), (14, 5), (16, 6), (17, 6), (18, 7), (19, 18), (3, 15), (7, 1), (9, 2)], possible=[(10, 4), (12, 3), (15, 7), (2, 13), (4, 8), (4, 9), (5, 8), (5, 9), (6, 8), (6, 9), (8, 2)]),\n",
       " LabeledAlignment(sure=[(10, 12), (2, 1), (4, 3), (5, 4), (6, 4), (7, 6), (8, 10), (9, 11)], possible=[(1, 1), (3, 2), (3, 3), (4, 2), (7, 5), (9, 7), (9, 8), (9, 9)]),\n",
       " LabeledAlignment(sure=[(11, 17), (12, 14), (13, 18), (14, 19), (15, 23), (16, 24), (18, 25), (21, 28), (23, 29), (26, 30), (27, 31), (3, 6), (4, 7), (6, 9), (7, 10)], possible=[(1, 1), (10, 11), (17, 25), (19, 21), (19, 22), (2, 6), (20, 26), (22, 28), (25, 27), (5, 10), (8, 5), (9, 5)]),\n",
       " LabeledAlignment(sure=[(1, 2), (2, 3), (4, 4), (5, 6), (6, 8), (7, 9), (8, 10), (8, 7), (9, 11)], possible=[(3, 4), (5, 5)]),\n",
       " LabeledAlignment(sure=[(14, 19), (17, 21), (18, 21), (19, 22), (2, 5), (20, 24), (22, 23), (23, 25), (24, 26), (3, 6), (4, 2), (5, 7)], possible=[(10, 10), (11, 11), (11, 12), (12, 13), (13, 13), (14, 18), (16, 21), (21, 24), (3, 4), (6, 8), (7, 8), (8, 10), (9, 9)]),\n",
       " LabeledAlignment(sure=[(1, 1), (10, 7), (11, 8), (12, 9), (13, 10), (14, 11), (16, 12), (17, 13), (18, 14), (2, 2), (20, 14), (23, 15), (25, 16), (26, 17), (27, 18), (28, 19), (29, 20), (3, 3), (30, 21), (4, 4), (7, 5), (9, 6)], possible=[(15, 12), (19, 14), (21, 15), (22, 15), (24, 17), (5, 5), (6, 5), (8, 7)]),\n",
       " LabeledAlignment(sure=[(11, 5), (12, 6), (16, 4), (19, 9), (4, 1), (7, 7), (8, 8)], possible=[(10, 5), (15, 4), (6, 6)]),\n",
       " LabeledAlignment(sure=[(1, 1), (2, 2), (3, 3), (5, 4), (6, 5)], possible=[(4, 4)]),\n",
       " LabeledAlignment(sure=[(1, 1), (2, 2)], possible=[]),\n",
       " LabeledAlignment(sure=[(1, 1), (10, 8), (13, 13), (15, 12), (19, 17), (20, 18), (21, 19), (22, 20), (23, 21), (26, 24), (27, 25), (28, 26), (29, 27), (3, 4), (31, 28), (32, 29), (34, 30), (35, 31), (5, 5), (5, 6), (6, 3), (8, 8), (9, 7)], possible=[(10, 2), (11, 9), (12, 13), (13, 11), (14, 10), (16, 10), (19, 16), (2, 4), (21, 18), (24, 22), (24, 23), (24, 29), (25, 24), (25, 28), (32, 22), (32, 23), (33, 30), (4, 4), (6, 2), (7, 8)]),\n",
       " LabeledAlignment(sure=[(1, 1), (11, 6), (14, 13), (15, 14), (16, 15), (17, 15), (2, 1), (21, 21), (22, 21), (23, 22), (24, 23), (26, 26), (27, 27), (28, 25), (29, 30), (30, 32), (36, 49), (37, 47), (4, 2), (44, 50), (7, 4), (8, 5)], possible=[(1, 16), (1, 17), (10, 3), (12, 11), (12, 9), (13, 11), (13, 7), (13, 8), (13, 9), (16, 16), (16, 17), (19, 20), (25, 27), (28, 28), (29, 28), (29, 29), (3, 2), (33, 38), (33, 40), (39, 41), (40, 31), (40, 41), (42, 46), (43, 42), (43, 43), (5, 2), (5, 3), (6, 5), (9, 5)]),\n",
       " LabeledAlignment(sure=[(13, 14), (14, 15), (15, 16), (17, 17), (19, 10), (20, 19), (22, 21), (23, 21), (24, 22), (25, 23), (26, 24), (27, 25), (28, 26), (3, 2), (36, 35), (37, 36), (5, 3), (6, 4), (8, 5), (9, 7)], possible=[(1, 1), (1, 2), (11, 12), (12, 11), (12, 12), (12, 13), (12, 9), (16, 17), (18, 10), (2, 1), (2, 2), (21, 25), (29, 31), (3, 1), (32, 30), (32, 31), (34, 32), (35, 35), (4, 1), (4, 2), (5, 4), (5, 5), (6, 3), (6, 5), (7, 3), (7, 4), (7, 5), (8, 3), (8, 4), (9, 6)]),\n",
       " LabeledAlignment(sure=[(1, 1), (10, 9), (11, 10), (2, 2), (4, 6), (7, 7), (9, 8)], possible=[(3, 6), (5, 6), (6, 5), (6, 7), (7, 5), (8, 8), (8, 9)]),\n",
       " LabeledAlignment(sure=[(10, 11), (11, 11), (12, 12), (13, 13), (14, 14), (14, 15), (15, 16), (17, 17), (18, 18), (3, 5), (4, 6), (5, 7), (8, 9), (9, 10)], possible=[(1, 1), (1, 2), (1, 3), (16, 17), (2, 1), (2, 2), (2, 3), (3, 4), (5, 8), (6, 7), (6, 8), (7, 9)]),\n",
       " LabeledAlignment(sure=[(11, 7), (12, 8), (13, 11), (14, 12), (16, 13), (18, 16), (19, 17), (2, 1), (20, 18), (21, 19), (22, 20), (23, 21), (26, 22), (27, 23), (28, 24), (29, 25), (3, 2), (32, 26), (33, 26), (34, 27), (35, 28), (36, 29), (37, 30), (38, 31), (39, 32), (5, 4), (7, 5), (8, 6), (9, 7)], possible=[(1, 1), (1, 2), (10, 7), (12, 10), (12, 9), (16, 14), (16, 15), (17, 17), (24, 25), (25, 25), (30, 27), (31, 27), (4, 4), (5, 3), (6, 5), (6, 7)]),\n",
       " LabeledAlignment(sure=[(1, 1), (1, 2), (1, 3), (10, 13), (11, 15), (12, 16), (13, 19), (14, 20), (18, 21), (2, 4), (20, 23), (21, 25), (22, 27), (23, 28), (3, 6), (4, 5), (4, 9), (6, 7), (8, 11), (9, 12)], possible=[(11, 14), (15, 17), (15, 18), (15, 21), (16, 21), (17, 21), (18, 17), (18, 18), (18, 22), (19, 22), (19, 23), (21, 24), (22, 26), (3, 10), (4, 8), (5, 7), (7, 5), (7, 8), (7, 9), (8, 10)]),\n",
       " LabeledAlignment(sure=[(1, 1), (2, 2), (3, 3), (4, 4)], possible=[]),\n",
       " LabeledAlignment(sure=[(10, 7), (11, 8), (13, 9), (14, 10), (17, 12), (18, 13), (3, 1), (4, 2), (5, 3), (7, 4), (8, 6)], possible=[(12, 10), (12, 9), (14, 11), (15, 10), (15, 11), (16, 12), (6, 6), (7, 5), (8, 5), (9, 8)]),\n",
       " LabeledAlignment(sure=[(1, 2), (10, 13), (12, 15), (15, 16), (18, 16), (19, 16), (2, 3), (20, 16), (21, 17), (23, 18), (24, 19), (26, 20), (28, 26), (30, 27), (31, 28), (32, 29), (33, 30), (35, 31), (37, 21), (38, 22), (4, 6), (40, 32), (7, 9), (8, 11), (9, 12)], possible=[(11, 15), (13, 16), (14, 16), (16, 16), (17, 16), (22, 19), (25, 20), (27, 23), (28, 25), (29, 26), (29, 29), (3, 6), (34, 31), (4, 5), (5, 1), (5, 8), (6, 1), (6, 7), (6, 8), (8, 10)]),\n",
       " LabeledAlignment(sure=[(1, 1), (10, 7), (11, 13), (12, 15), (13, 16), (14, 17), (16, 18), (17, 19), (19, 21), (21, 23), (23, 25), (24, 26), (25, 27), (26, 28), (3, 2), (4, 5), (6, 9), (7, 8), (8, 6)], possible=[(15, 18), (19, 20), (2, 2), (20, 22), (20, 23), (21, 22), (21, 24), (22, 24), (22, 25), (3, 3), (5, 8), (9, 7)]),\n",
       " LabeledAlignment(sure=[(1, 2), (3, 3), (4, 4), (5, 1), (6, 5), (7, 6)], possible=[(2, 2), (2, 3)]),\n",
       " LabeledAlignment(sure=[(1, 1), (10, 9), (11, 10), (12, 11), (13, 12), (14, 13), (15, 15), (16, 17), (17, 18), (18, 19), (19, 20), (2, 2), (20, 21), (21, 23), (22, 22), (24, 24), (25, 26), (26, 27), (27, 29), (28, 30), (29, 30), (3, 3), (30, 28), (31, 28), (32, 31), (4, 4), (5, 5), (6, 6), (8, 7), (9, 8)], possible=[(15, 14), (16, 16), (23, 24), (24, 25), (7, 7)]),\n",
       " LabeledAlignment(sure=[(10, 17), (11, 18), (12, 19), (14, 20), (15, 21), (16, 22), (18, 23), (19, 24), (20, 25), (21, 26), (22, 29), (24, 30), (3, 4), (4, 5), (5, 6), (6, 11), (7, 7), (8, 13), (9, 12), (9, 15), (9, 16)], possible=[(1, 1), (1, 2), (1, 3), (13, 20), (17, 24), (2, 1), (2, 2), (2, 3), (22, 28), (23, 27), (23, 28), (6, 10), (7, 8), (7, 9), (8, 14)]),\n",
       " LabeledAlignment(sure=[(1, 1), (10, 7), (11, 8), (12, 9), (13, 13), (14, 15), (15, 14), (17, 14), (18, 16), (19, 17), (2, 1), (20, 19), (21, 20), (22, 21), (3, 2), (5, 5), (7, 6), (9, 11)], possible=[(1, 4), (13, 12), (14, 14), (15, 15), (16, 14), (16, 15), (17, 15), (2, 4), (4, 4), (6, 9), (9, 10)]),\n",
       " LabeledAlignment(sure=[(1, 2), (11, 11), (12, 13), (13, 14), (14, 16), (16, 19), (17, 20), (18, 18), (19, 21), (2, 3), (3, 4), (4, 6), (5, 7), (6, 8), (8, 9), (9, 10)], possible=[(10, 11), (12, 12), (14, 15), (14, 17), (15, 20), (2, 1), (3, 1), (4, 5), (7, 10)]),\n",
       " LabeledAlignment(sure=[(11, 9), (12, 11), (13, 12), (14, 13), (15, 14), (16, 15), (17, 16), (18, 17), (19, 18), (20, 20), (21, 19), (22, 21), (25, 24), (27, 22), (28, 23), (30, 30), (31, 31), (33, 27), (34, 27), (35, 32), (37, 33), (38, 33), (39, 34), (4, 1), (40, 35), (45, 39), (46, 40), (47, 41), (49, 41), (5, 2), (50, 42), (51, 44), (52, 46), (53, 47), (6, 3), (9, 9)], possible=[(1, 8), (10, 9), (11, 10), (2, 6), (2, 7), (2, 8), (23, 25), (24, 24), (25, 25), (26, 25), (29, 26), (3, 3), (31, 29), (33, 28), (34, 28), (36, 33), (44, 36), (45, 37), (45, 38), (48, 41), (51, 45), (6, 4), (6, 5), (9, 10)]),\n",
       " LabeledAlignment(sure=[(1, 1), (11, 10), (12, 12), (13, 11), (14, 13), (16, 15), (17, 14), (18, 16), (19, 17), (2, 2), (20, 18), (21, 19), (22, 20), (23, 21), (24, 22), (26, 24), (27, 23), (28, 25), (3, 3), (5, 4), (6, 5)], possible=[(10, 7), (10, 8), (10, 9), (15, 14), (25, 23), (4, 3), (4, 5), (7, 7), (7, 8), (7, 9), (8, 7), (8, 8), (8, 9), (9, 7), (9, 8), (9, 9)]),\n",
       " LabeledAlignment(sure=[(10, 9), (11, 10), (12, 11), (13, 12), (14, 13), (15, 14), (2, 1), (3, 2), (4, 3), (5, 4), (7, 6), (8, 7), (9, 8)], possible=[(1, 1), (1, 4), (6, 5), (6, 7), (8, 5)]),\n",
       " LabeledAlignment(sure=[(1, 2), (10, 8), (11, 3), (13, 20), (14, 21), (16, 23), (17, 25), (18, 24), (19, 26), (2, 1), (21, 27), (22, 28), (23, 29), (24, 31), (25, 32), (26, 33), (27, 34), (28, 35), (3, 4), (4, 5), (5, 6), (8, 17), (9, 7)], possible=[(12, 19), (14, 22), (15, 21), (15, 22), (20, 28), (6, 8), (7, 8)]),\n",
       " LabeledAlignment(sure=[(10, 20), (11, 21), (13, 19), (14, 16), (15, 17), (16, 22), (18, 25), (19, 24), (20, 26), (20, 27), (21, 28), (22, 29), (23, 30), (25, 31), (26, 32), (27, 33), (28, 34), (29, 35), (3, 4), (32, 36), (33, 37), (36, 38), (37, 39), (39, 39), (4, 5), (40, 40), (43, 41), (44, 42), (47, 44), (48, 45), (5, 6), (6, 7), (7, 9), (8, 10), (9, 11)], possible=[(1, 1), (1, 2), (1, 3), (12, 18), (12, 19), (17, 24), (2, 7), (24, 32), (30, 36), (30, 37), (31, 36), (31, 37), (34, 38), (34, 40), (35, 38), (35, 40), (38, 39), (41, 41), (42, 41), (45, 23), (45, 44), (46, 43), (46, 44), (47, 23), (47, 43)]),\n",
       " LabeledAlignment(sure=[(1, 2), (10, 10), (11, 14), (2, 1), (3, 3), (4, 4), (5, 5), (6, 6), (7, 7), (8, 8), (9, 9)], possible=[(9, 11), (9, 12), (9, 13)]),\n",
       " LabeledAlignment(sure=[(1, 26), (11, 4), (12, 5), (13, 6), (14, 7), (15, 8), (17, 9), (18, 10), (20, 12), (21, 11), (22, 13), (23, 14), (25, 1), (26, 16), (28, 15), (29, 18), (3, 28), (30, 20), (32, 30), (5, 23), (6, 24), (7, 25)], possible=[(10, 3), (16, 9), (2, 27), (2, 28), (24, 17), (25, 2), (26, 1), (27, 15), (29, 17), (30, 21), (31, 19), (31, 29), (4, 22), (9, 1), (9, 2)]),\n",
       " LabeledAlignment(sure=[(1, 1), (10, 15), (11, 16), (13, 19), (17, 20), (18, 21), (19, 22), (2, 3), (20, 24), (21, 26), (22, 27), (3, 6), (4, 7), (6, 9), (7, 11), (8, 13), (9, 14)], possible=[(12, 18), (12, 19), (13, 18), (2, 2), (3, 5), (3, 8), (5, 6), (5, 8)]),\n",
       " LabeledAlignment(sure=[(1, 1), (11, 11), (12, 12), (13, 13), (16, 16), (17, 15), (17, 17), (2, 3), (20, 19), (21, 20), (22, 21), (24, 22), (25, 23), (26, 24), (27, 25), (3, 4), (4, 5), (5, 2), (5, 6), (5, 7), (7, 8), (8, 10), (9, 9)], possible=[(10, 12), (14, 14), (14, 17), (15, 14), (15, 17), (17, 14), (17, 18), (18, 17), (18, 18), (19, 19), (19, 21), (23, 24), (6, 8)]),\n",
       " LabeledAlignment(sure=[(14, 8), (15, 9), (18, 13), (19, 14), (2, 1), (20, 15), (22, 18), (23, 16), (24, 19), (3, 2), (4, 3), (5, 4), (7, 5)], possible=[(13, 6), (13, 7), (14, 10), (14, 9), (15, 10), (15, 8), (16, 6), (16, 7), (17, 12), (17, 7), (21, 16), (21, 18), (22, 17), (6, 5)]),\n",
       " LabeledAlignment(sure=[(1, 1), (10, 10), (11, 11), (12, 12), (13, 13), (14, 14), (15, 15), (2, 2), (3, 3), (4, 4), (5, 5), (6, 6), (7, 7), (8, 9)], possible=[(5, 6), (5, 7), (6, 5), (6, 7), (7, 5), (7, 6), (8, 8), (9, 11)]),\n",
       " LabeledAlignment(sure=[(1, 3), (10, 9), (11, 10), (12, 11), (13, 12), (3, 2), (5, 1), (6, 1), (8, 6), (9, 7)], possible=[(10, 8), (2, 2), (4, 1), (7, 5), (7, 6), (7, 7), (8, 5), (8, 7), (9, 5), (9, 6)]),\n",
       " LabeledAlignment(sure=[(11, 11), (13, 10), (14, 8), (15, 9), (16, 12), (17, 15), (18, 13), (19, 14), (20, 16), (21, 17), (22, 18), (23, 19), (24, 20), (25, 21), (27, 22), (30, 26), (31, 27), (33, 28), (34, 28), (36, 29), (37, 30), (38, 31), (4, 2), (5, 1), (6, 3), (7, 4), (8, 6), (9, 7)], possible=[(1, 5), (10, 11), (12, 11), (2, 5), (25, 22), (27, 21), (28, 23), (29, 24), (3, 1), (30, 25), (32, 28), (35, 29), (7, 5)]),\n",
       " LabeledAlignment(sure=[(1, 5), (14, 10), (15, 11), (17, 12), (18, 13), (18, 14), (19, 15), (20, 16), (21, 17), (23, 18), (24, 18), (25, 19), (27, 21), (28, 22), (29, 23), (3, 2), (31, 24), (32, 25), (33, 26), (5, 3), (6, 1), (7, 4), (7, 6)], possible=[(10, 4), (10, 6), (10, 7), (11, 11), (11, 9), (12, 11), (15, 9), (16, 12), (2, 5), (22, 19), (28, 20), (30, 25), (4, 2), (7, 7), (8, 4), (8, 6), (8, 7), (9, 4), (9, 6), (9, 7)]),\n",
       " LabeledAlignment(sure=[(1, 1), (10, 12), (12, 13), (14, 13), (15, 14), (16, 15), (17, 16), (19, 17), (19, 18), (2, 2), (20, 20), (21, 21), (22, 22), (24, 23), (26, 24), (27, 26), (28, 27), (3, 4), (4, 7), (5, 8), (6, 5), (9, 11)], possible=[(11, 14), (13, 13), (20, 19), (23, 23), (25, 25), (26, 25), (3, 3), (6, 6), (7, 10), (7, 11), (8, 11), (8, 9), (9, 10), (9, 9)]),\n",
       " LabeledAlignment(sure=[(2, 1), (3, 2), (4, 3), (5, 4)], possible=[(1, 1)]),\n",
       " LabeledAlignment(sure=[(1, 1), (13, 12), (14, 13), (17, 19), (19, 21), (2, 2), (20, 22), (3, 3), (4, 4), (5, 6), (6, 7), (7, 5), (8, 8)], possible=[(10, 10), (10, 11), (10, 9), (11, 10), (11, 11), (11, 9), (12, 13), (15, 14), (15, 15), (15, 16), (15, 17), (15, 18), (16, 17), (17, 20), (18, 21), (19, 20), (9, 10), (9, 11), (9, 9)]),\n",
       " LabeledAlignment(sure=[(1, 1), (11, 9), (12, 10), (12, 11), (15, 13), (17, 15), (18, 19), (19, 16), (20, 17), (21, 20), (3, 5), (4, 6), (6, 3), (8, 7), (9, 8)], possible=[(10, 6), (13, 12), (13, 13), (15, 14), (16, 13), (16, 14), (18, 18), (2, 2), (2, 6), (3, 6), (4, 2), (4, 5), (5, 3), (5, 8), (6, 4), (7, 4)]),\n",
       " LabeledAlignment(sure=[(1, 2), (10, 7), (11, 8), (14, 6), (15, 10), (2, 1), (4, 3), (5, 4), (6, 9), (8, 5)], possible=[(13, 6), (3, 3), (3, 9), (7, 5), (9, 8)]),\n",
       " LabeledAlignment(sure=[(10, 15), (11, 11), (11, 12), (11, 13), (12, 17), (16, 16), (17, 20), (18, 21), (2, 6), (21, 24), (22, 22), (23, 25), (3, 7), (4, 8), (5, 5), (6, 2), (6, 3), (7, 9), (8, 10), (9, 14)], possible=[(1, 1), (1, 3), (10, 14), (13, 19), (14, 18), (14, 19), (15, 18), (15, 19), (19, 22), (20, 22), (20, 24), (5, 4), (6, 1), (6, 4), (9, 15)]),\n",
       " LabeledAlignment(sure=[(10, 6), (11, 9), (12, 7), (14, 11), (15, 13), (17, 14), (19, 15), (2, 1), (20, 16), (22, 18), (23, 21), (30, 39), (31, 42), (32, 43), (33, 44), (34, 40), (36, 24), (39, 27), (39, 28), (40, 45), (5, 2), (6, 3), (8, 5)], possible=[(1, 1), (11, 8), (13, 11), (15, 12), (16, 14), (18, 16), (21, 18), (22, 17), (23, 22), (24, 22), (29, 19), (29, 20), (3, 3), (31, 41), (36, 25), (37, 29), (39, 26), (4, 3), (7, 4), (9, 7)]),\n",
       " LabeledAlignment(sure=[(1, 4), (10, 5), (11, 5), (12, 6), (14, 7), (16, 8), (17, 9), (18, 10), (2, 4), (20, 11), (21, 12), (22, 13), (23, 14), (24, 15), (25, 16), (26, 17), (27, 19), (28, 20), (29, 21), (31, 22), (32, 22), (33, 23), (34, 24), (35, 25), (4, 1), (6, 1), (7, 2), (8, 3), (9, 5)], possible=[(13, 7), (15, 9), (19, 12), (27, 18), (3, 4), (30, 22), (5, 1)]),\n",
       " LabeledAlignment(sure=[(11, 9), (12, 10), (14, 11), (15, 12), (17, 13), (18, 14), (19, 15), (2, 1), (3, 2), (5, 3), (6, 5), (7, 6), (8, 4), (9, 7)], possible=[(1, 1), (10, 10), (13, 12), (16, 14), (4, 4)]),\n",
       " LabeledAlignment(sure=[(1, 2), (11, 10), (12, 11), (13, 12), (14, 13), (15, 15), (16, 14), (17, 17), (18, 19), (19, 19), (2, 1), (20, 21), (21, 20), (23, 22), (24, 23), (25, 23), (26, 23), (27, 24), (3, 3), (4, 4), (6, 7), (7, 8), (8, 9), (9, 10)], possible=[(10, 10), (14, 6), (15, 16), (22, 22), (4, 5)]),\n",
       " LabeledAlignment(sure=[(1, 2), (10, 11), (11, 12), (12, 13), (13, 15), (14, 16), (15, 17), (16, 18), (2, 5), (3, 3), (4, 6), (5, 7), (7, 8), (8, 9), (9, 10)], possible=[(1, 1), (13, 14), (2, 4), (3, 4), (6, 8)]),\n",
       " LabeledAlignment(sure=[(1, 1), (10, 8), (12, 9), (13, 10), (14, 12), (15, 16), (16, 15), (17, 17), (17, 18), (2, 2), (20, 21), (5, 3), (7, 4), (7, 5), (7, 6), (8, 7)], possible=[(11, 10), (14, 11), (16, 14), (18, 13), (18, 14), (18, 19), (18, 20), (19, 13), (19, 14), (19, 19), (19, 20), (6, 7), (9, 8)]),\n",
       " LabeledAlignment(sure=[(1, 1), (10, 15), (12, 6), (13, 7), (14, 8), (15, 9), (16, 10), (18, 11), (19, 12), (2, 2), (20, 16), (5, 4), (9, 14)], possible=[(10, 3), (11, 7), (17, 12), (3, 5), (4, 4), (4, 5), (5, 5), (6, 5), (7, 15), (7, 3), (8, 15)]),\n",
       " LabeledAlignment(sure=[(1, 1), (11, 9), (13, 12), (14, 13), (15, 14), (16, 15), (17, 16), (18, 17), (19, 18), (2, 3), (2, 4), (21, 19), (23, 20), (24, 21), (25, 22), (26, 23), (4, 8), (5, 6), (6, 7), (9, 10), (9, 9)], possible=[(10, 10), (10, 11), (10, 9), (11, 10), (11, 11), (12, 10), (12, 11), (12, 9), (2, 2), (20, 19), (22, 22), (3, 5), (3, 8), (4, 5), (9, 11)]),\n",
       " LabeledAlignment(sure=[(1, 1), (10, 11), (10, 9), (11, 10), (12, 10), (13, 13), (14, 12), (16, 20), (16, 21), (18, 14), (2, 2), (21, 17), (22, 18), (23, 22), (3, 3), (7, 6), (8, 7), (9, 8)], possible=[(14, 15), (14, 16), (15, 21), (17, 21), (19, 15), (19, 16), (20, 19), (22, 19), (4, 5), (5, 5), (6, 5)]),\n",
       " LabeledAlignment(sure=[(1, 1), (11, 5), (12, 6), (13, 7), (14, 10), (15, 11), (16, 12), (19, 14), (2, 2), (20, 15), (22, 13), (23, 16), (3, 3), (5, 4), (7, 9), (9, 5)], possible=[(10, 5), (17, 15), (18, 15), (19, 13), (19, 15), (20, 13), (20, 14), (21, 13), (21, 14), (21, 15), (22, 14), (22, 15), (4, 4), (6, 8), (8, 9)]),\n",
       " LabeledAlignment(sure=[(1, 1), (10, 9), (4, 2), (5, 3), (6, 7), (7, 8), (8, 5), (8, 6), (9, 4)], possible=[(2, 1), (3, 3)]),\n",
       " LabeledAlignment(sure=[(2, 3), (4, 7), (7, 6), (8, 8)], possible=[(1, 1), (3, 4), (3, 7), (4, 4), (5, 5), (6, 5)]),\n",
       " LabeledAlignment(sure=[(1, 1), (2, 1), (3, 2), (4, 3), (5, 4), (7, 7), (7, 8), (8, 9)], possible=[(6, 7), (6, 8), (7, 5), (7, 6)]),\n",
       " LabeledAlignment(sure=[(10, 13), (12, 9), (13, 10), (15, 15), (18, 16), (4, 1), (5, 2), (9, 12)], possible=[(10, 11), (11, 13), (13, 8), (14, 14), (7, 4)]),\n",
       " LabeledAlignment(sure=[(10, 14), (11, 15), (12, 16), (14, 17), (14, 18), (15, 11), (16, 11), (17, 19), (2, 2), (4, 7), (5, 7), (6, 8), (7, 10), (8, 12), (9, 13)], possible=[(1, 3), (13, 18), (2, 1), (3, 6), (7, 9)]),\n",
       " LabeledAlignment(sure=[(4, 4), (5, 1), (7, 5)], possible=[(1, 2), (2, 2), (3, 1)]),\n",
       " LabeledAlignment(sure=[(10, 8), (12, 9), (14, 10), (15, 13), (18, 17), (19, 15), (2, 1), (20, 18), (3, 2), (4, 3), (6, 5), (6, 6), (7, 4), (9, 7)], possible=[(1, 2), (11, 10), (13, 9), (15, 11), (18, 16), (19, 14), (5, 5), (5, 6), (8, 7)]),\n",
       " LabeledAlignment(sure=[(1, 2), (1, 3), (10, 11), (11, 12), (12, 15), (14, 13), (15, 14), (17, 16), (18, 17), (19, 17), (2, 4), (20, 17), (21, 18), (23, 19), (24, 20), (24, 21), (25, 22), (26, 23), (27, 24), (28, 25), (29, 26), (3, 1), (30, 27), (31, 28), (4, 5), (5, 6), (6, 8), (7, 7), (8, 9), (9, 10)], possible=[(13, 15), (16, 16), (22, 19), (29, 27), (3, 5), (30, 26), (4, 1)]),\n",
       " LabeledAlignment(sure=[(1, 1), (10, 9), (12, 10), (14, 13), (15, 17), (3, 3), (4, 6), (9, 7), (9, 8)], possible=[(11, 10), (13, 11), (13, 12), (13, 13), (2, 2), (2, 4), (4, 5), (5, 15), (5, 16), (6, 15), (6, 16), (7, 15), (7, 16), (8, 7)]),\n",
       " LabeledAlignment(sure=[(14, 6), (15, 7), (2, 4), (22, 8), (4, 4), (6, 4), (8, 1), (9, 2)], possible=[(1, 3), (1, 4), (10, 5), (11, 5), (13, 7), (2, 3), (3, 3), (3, 4), (4, 3), (5, 3), (5, 4), (6, 3)]),\n",
       " LabeledAlignment(sure=[(11, 9), (12, 10), (14, 11), (15, 12), (16, 13), (17, 14), (17, 15), (18, 16), (18, 17), (19, 18), (21, 19), (22, 22), (23, 23), (25, 21), (26, 24), (34, 28), (35, 29), (36, 30), (38, 1), (39, 32), (39, 33), (4, 3), (40, 34), (41, 35), (42, 36), (43, 37), (44, 38), (6, 4), (8, 6)], possible=[(13, 12), (22, 20), (22, 21), (24, 23), (25, 20), (25, 22), (28, 25), (29, 25), (33, 30), (37, 31), (5, 4), (7, 6), (8, 5)]),\n",
       " LabeledAlignment(sure=[(1, 1), (10, 10), (2, 3), (4, 7), (5, 8), (6, 9), (7, 4), (8, 5), (9, 6)], possible=[(2, 2), (3, 7), (3, 9)]),\n",
       " LabeledAlignment(sure=[(11, 12), (13, 9), (14, 10), (15, 11), (16, 13), (4, 4), (7, 7), (8, 8), (9, 8)], possible=[(1, 2), (10, 11), (12, 12), (2, 4), (3, 4), (5, 2), (5, 6), (6, 3), (6, 6)]),\n",
       " LabeledAlignment(sure=[(1, 5), (10, 9), (11, 12), (13, 13), (14, 14), (17, 15), (18, 16), (19, 17), (2, 2), (21, 18), (23, 19), (23, 20), (24, 21), (26, 22), (27, 23), (28, 24), (29, 25), (3, 3), (30, 26), (31, 27), (35, 28), (36, 29), (37, 30), (38, 31), (5, 1), (6, 4), (6, 6), (7, 8), (9, 11)], possible=[(12, 13), (12, 14), (15, 15), (16, 15), (20, 18), (22, 18), (25, 23), (36, 30), (37, 29), (4, 3), (7, 7), (8, 10)]),\n",
       " LabeledAlignment(sure=[(10, 12), (11, 13), (12, 14), (13, 14), (14, 14), (15, 15), (16, 16), (18, 18), (19, 19), (2, 1), (20, 20), (21, 21), (22, 22), (23, 23), (24, 24), (27, 29), (3, 2), (32, 33), (33, 34), (34, 35), (35, 36), (36, 38), (39, 37), (4, 4), (4, 5), (41, 40), (42, 39), (43, 42), (44, 41), (45, 43), (5, 6), (5, 8), (50, 46), (51, 46), (53, 47), (56, 53), (57, 54), (58, 55), (59, 56), (60, 57), (61, 58), (62, 59), (63, 60), (64, 61), (66, 62), (67, 63), (68, 64), (7, 10), (7, 9), (9, 11)], possible=[(1, 1), (16, 17), (17, 19), (25, 27), (26, 25), (26, 27), (27, 28), (28, 31), (29, 30), (30, 32), (31, 34), (37, 37), (38, 37), (46, 48), (46, 49), (48, 46), (49, 45), (49, 46), (5, 7), (50, 45), (54, 51), (55, 52), (6, 10), (6, 9), (63, 61), (64, 60), (65, 63), (8, 12)]),\n",
       " LabeledAlignment(sure=[(1, 3), (11, 8), (13, 10), (14, 11), (16, 9), (17, 12), (25, 23), (28, 22), (29, 25), (3, 1), (4, 1), (5, 4), (6, 2), (7, 5)], possible=[(10, 6), (10, 7), (12, 9), (15, 11), (17, 13), (18, 21), (19, 23), (2, 1), (23, 17), (23, 18), (23, 19), (24, 20), (26, 22), (27, 22), (8, 6), (8, 7), (9, 6), (9, 7)]),\n",
       " LabeledAlignment(sure=[(1, 3), (10, 8), (11, 9), (15, 12), (16, 13), (17, 14), (3, 1), (4, 2), (5, 5), (6, 5), (7, 5), (8, 5), (9, 7)], possible=[(14, 13), (2, 3), (9, 6)]),\n",
       " LabeledAlignment(sure=[(10, 11), (11, 12), (14, 15), (15, 16), (16, 18), (18, 19), (20, 21), (22, 24), (25, 27), (26, 28), (27, 29), (3, 1), (4, 2), (4, 3), (4, 4), (5, 7), (7, 8), (8, 9), (9, 10)], possible=[(1, 6), (13, 14), (15, 13), (17, 19), (19, 21), (2, 1), (21, 22), (22, 22), (22, 23), (23, 25), (24, 26), (5, 5), (6, 12)]),\n",
       " LabeledAlignment(sure=[(13, 10), (14, 12), (15, 11), (19, 16), (2, 1), (20, 17), (22, 20), (23, 20), (27, 19), (28, 21), (3, 2), (5, 3)], possible=[(1, 1), (10, 9), (12, 9), (17, 14), (18, 16), (21, 20), (4, 3), (7, 4), (8, 5), (9, 6), (9, 8)]),\n",
       " LabeledAlignment(sure=[(1, 4), (2, 2), (5, 7)], possible=[(3, 6), (4, 1), (4, 3), (4, 5), (4, 6)]),\n",
       " LabeledAlignment(sure=[(1, 1), (10, 6), (11, 8), (12, 11), (13, 12), (15, 9), (16, 10), (17, 13), (18, 13), (19, 14), (3, 2), (5, 3), (8, 7), (9, 5), (9, 7)], possible=[(14, 12), (2, 2), (4, 3), (7, 7)]),\n",
       " LabeledAlignment(sure=[(10, 5), (11, 6), (12, 7), (13, 8), (14, 9), (15, 10), (17, 11), (2, 2), (20, 12), (21, 12), (22, 13), (23, 14), (25, 15), (26, 16), (27, 18), (28, 19), (29, 20), (3, 1), (32, 17), (33, 22), (34, 23), (37, 25), (38, 26), (6, 3), (7, 3), (9, 4)], possible=[(1, 2), (16, 11), (18, 12), (19, 12), (23, 15), (23, 16), (24, 14), (24, 15), (24, 16), (25, 14), (25, 16), (26, 14), (26, 15), (30, 21), (30, 22), (31, 17), (31, 23), (35, 25), (36, 25), (37, 24), (5, 3), (8, 4), (8, 6)]),\n",
       " LabeledAlignment(sure=[(10, 4), (11, 9), (5, 5), (6, 6), (8, 8)], possible=[(1, 1), (7, 7), (9, 4)]),\n",
       " LabeledAlignment(sure=[(2, 3), (3, 1), (4, 2), (5, 2), (6, 5), (7, 4), (8, 5), (9, 6)], possible=[(1, 3)]),\n",
       " LabeledAlignment(sure=[(2, 3), (3, 4), (4, 1), (9, 9)], possible=[(1, 1), (2, 2), (3, 2), (5, 5), (5, 6), (5, 7), (5, 8), (6, 5), (6, 6), (6, 7), (6, 8), (7, 5), (7, 6), (7, 7), (7, 8), (8, 5), (8, 6), (8, 7), (8, 8)]),\n",
       " LabeledAlignment(sure=[(10, 9), (2, 6), (3, 5), (4, 7), (5, 8), (6, 1), (7, 2), (8, 3), (9, 4)], possible=[(1, 6)]),\n",
       " LabeledAlignment(sure=[(1, 1), (11, 10), (12, 11), (14, 12), (15, 13), (16, 14), (17, 15), (18, 16), (19, 17), (2, 4), (21, 18), (22, 19), (3, 4), (4, 3), (5, 6), (7, 8), (8, 7), (9, 9)], possible=[(10, 10), (13, 12), (2, 2), (2, 3), (2, 5), (2, 6), (20, 18), (3, 2), (3, 3), (3, 5), (3, 6), (4, 2), (4, 4), (4, 5), (4, 6), (5, 2), (5, 3), (5, 4), (5, 5), (6, 2), (6, 3), (6, 4), (6, 5), (6, 6), (6, 8)]),\n",
       " LabeledAlignment(sure=[(2, 2), (3, 3), (4, 4), (5, 6), (7, 5), (8, 10)], possible=[(1, 1), (6, 5)]),\n",
       " LabeledAlignment(sure=[(10, 8), (12, 9), (13, 11), (17, 12), (19, 14), (20, 15), (22, 27), (24, 31), (25, 32), (26, 29), (26, 30), (29, 22), (30, 23), (31, 24), (32, 25), (34, 16), (34, 17), (35, 18), (36, 20), (40, 19), (41, 34), (6, 5), (8, 6), (9, 7)], possible=[(14, 1), (15, 1), (16, 1), (18, 12), (18, 14), (21, 27), (23, 27), (23, 28), (3, 4), (37, 19), (38, 19), (4, 4), (5, 5), (7, 6), (7, 7)]),\n",
       " LabeledAlignment(sure=[(1, 2), (11, 14), (13, 12), (14, 13), (15, 15), (3, 1), (4, 3), (8, 8)], possible=[(10, 6), (11, 9), (12, 10), (2, 1), (2, 3), (3, 3), (4, 1), (5, 5), (6, 5), (7, 7), (9, 6)]),\n",
       " LabeledAlignment(sure=[(1, 1), (10, 11), (12, 12), (13, 13), (14, 14), (15, 15), (17, 16), (18, 17), (19, 18), (2, 2), (21, 19), (23, 22), (24, 23), (26, 24), (27, 25), (28, 29), (29, 30), (3, 3), (30, 31), (31, 32), (33, 34), (33, 35), (34, 36), (35, 37), (5, 7), (6, 8), (7, 9), (8, 10), (9, 6)], possible=[(11, 13), (16, 16), (20, 18), (20, 19), (22, 21), (25, 24), (28, 27), (28, 28), (9, 4), (9, 5)]),\n",
       " LabeledAlignment(sure=[(10, 7), (13, 8), (14, 9), (17, 10), (18, 11), (19, 12), (21, 13), (22, 14), (24, 15), (25, 16), (26, 17), (27, 17), (28, 17), (29, 18), (31, 19), (32, 20), (33, 21), (34, 22), (35, 23), (36, 24), (37, 25), (38, 27), (39, 28), (40, 29), (41, 30), (42, 31), (43, 32), (45, 36), (46, 37), (47, 38), (48, 39), (49, 40), (50, 41), (7, 5), (9, 6)], possible=[(1, 1), (1, 2), (11, 7), (11, 9), (12, 9), (15, 10), (16, 10), (2, 1), (2, 2), (20, 13), (20, 15), (23, 14), (23, 15), (3, 1), (3, 2), (30, 18), (30, 19), (4, 1), (4, 2), (42, 32), (43, 31), (43, 33), (43, 34), (44, 33), (44, 35), (6, 5), (8, 7)]),\n",
       " LabeledAlignment(sure=[(11, 7), (12, 7), (13, 11), (16, 21), (18, 22), (19, 5), (2, 1), (20, 5), (22, 19), (23, 15), (25, 16), (26, 17), (28, 18), (29, 23), (4, 2), (5, 3), (8, 9), (9, 10)], possible=[(1, 1), (10, 6), (10, 7), (14, 12), (14, 14), (14, 19), (15, 12), (15, 13), (15, 14), (15, 19), (17, 21), (17, 22), (22, 13), (24, 16), (24, 18), (27, 17), (27, 18), (3, 2), (7, 10)]),\n",
       " LabeledAlignment(sure=[(10, 8), (12, 9), (13, 10), (14, 12), (14, 13), (15, 13), (16, 14), (17, 15), (19, 16), (19, 17), (2, 1), (22, 20), (24, 22), (25, 22), (26, 23), (3, 2), (4, 3), (6, 4), (8, 5), (9, 7)], possible=[(1, 1), (1, 2), (11, 10), (18, 17), (2, 2), (20, 18), (21, 18), (23, 18), (23, 20), (24, 21), (25, 21), (3, 1), (5, 4), (7, 5)]),\n",
       " LabeledAlignment(sure=[(10, 11), (11, 13), (13, 14), (14, 15), (15, 17), (16, 18), (17, 19), (2, 1), (3, 2), (6, 7), (7, 8), (8, 9), (9, 10)], possible=[(1, 1), (1, 2), (12, 14), (4, 6), (5, 3), (5, 4), (5, 5), (5, 6)]),\n",
       " LabeledAlignment(sure=[(1, 11), (10, 1), (11, 2), (12, 10), (17, 13), (18, 16), (2, 12), (20, 17), (21, 18), (22, 21), (23, 24), (24, 23), (25, 25), (27, 26), (28, 27), (3, 6), (30, 28), (31, 29), (32, 30), (33, 31), (34, 32), (36, 33), (37, 34), (38, 35), (39, 36), (4, 7), (41, 37), (5, 8), (6, 9)], possible=[(14, 13), (15, 13), (16, 13), (19, 17), (22, 19), (22, 20), (23, 22), (26, 27), (35, 33), (7, 3), (7, 4), (7, 5), (8, 5), (9, 3), (9, 4), (9, 5)]),\n",
       " LabeledAlignment(sure=[(10, 1), (11, 2), (23, 25), (27, 13), (29, 14), (3, 7), (30, 15), (32, 20), (33, 20), (35, 24), (39, 26), (4, 7), (6, 9), (7, 10), (8, 11)], possible=[(1, 7), (13, 21), (13, 22), (14, 21), (14, 22), (15, 5), (16, 6), (2, 7), (24, 12), (25, 12), (28, 15), (31, 20), (32, 18), (32, 19), (34, 24), (5, 8), (9, 1)]),\n",
       " LabeledAlignment(sure=[(10, 8), (12, 9), (13, 11), (16, 16), (17, 17), (18, 19), (19, 20), (2, 1), (21, 21), (22, 22), (5, 4), (6, 6), (7, 5), (8, 5), (9, 7)], possible=[(11, 9), (14, 16), (15, 16), (16, 15), (17, 18), (20, 21)]),\n",
       " LabeledAlignment(sure=[(1, 1), (1, 2), (10, 10), (11, 11), (12, 15), (13, 16), (14, 12), (17, 22), (18, 23), (19, 24), (2, 3), (20, 25), (21, 26), (22, 27), (23, 28), (24, 29), (25, 30), (26, 31), (27, 32), (28, 33), (29, 34), (30, 35), (31, 36), (33, 37), (34, 38), (35, 39), (4, 5), (8, 8), (9, 9)], possible=[(1, 3), (1, 4), (15, 17), (15, 18), (16, 19), (16, 20), (16, 21), (2, 1), (2, 2), (2, 4), (3, 5), (32, 38), (5, 6), (5, 7), (5, 8), (5, 9), (6, 6), (6, 7), (6, 8), (6, 9), (7, 6), (7, 7), (7, 8), (7, 9), (8, 6), (8, 7), (8, 9), (9, 6), (9, 7), (9, 8)]),\n",
       " LabeledAlignment(sure=[(1, 1), (2, 4), (6, 5)], possible=[(3, 2), (3, 3), (4, 2), (4, 3), (5, 2), (5, 3)]),\n",
       " LabeledAlignment(sure=[(1, 1), (10, 8), (11, 7), (11, 9), (13, 11), (14, 13), (15, 14), (16, 15), (17, 16), (17, 17), (19, 19), (20, 20), (21, 21), (22, 22), (24, 23), (25, 24), (26, 25), (27, 26), (4, 2), (5, 3), (7, 10), (8, 12)], possible=[(12, 11), (2, 3), (23, 23), (3, 4), (3, 5), (3, 6), (9, 9)]),\n",
       " LabeledAlignment(sure=[(2, 1), (4, 2), (5, 2), (6, 3), (7, 4)], possible=[(1, 1), (3, 2)]),\n",
       " LabeledAlignment(sure=[(1, 1), (1, 2), (10, 8), (11, 9), (13, 10), (14, 14), (15, 15), (16, 11), (19, 13), (20, 16), (21, 17), (22, 20), (27, 22), (3, 4), (31, 26), (32, 27), (34, 28), (35, 29), (36, 30), (4, 6), (5, 7), (6, 7), (7, 8), (8, 8)], possible=[(12, 10), (17, 11), (18, 13), (19, 12), (2, 4), (2, 6), (22, 19), (24, 23), (25, 24), (26, 25), (28, 23), (28, 25), (29, 27), (30, 27), (33, 29), (9, 8)]),\n",
       " LabeledAlignment(sure=[(10, 6), (11, 8), (13, 9), (14, 11), (15, 12), (16, 14), (18, 15), (19, 16), (2, 3), (20, 17), (3, 4), (5, 1), (9, 5)], possible=[(1, 1), (11, 7), (12, 9), (17, 15), (17, 16), (4, 1), (5, 2), (6, 1), (7, 1), (8, 2)]),\n",
       " LabeledAlignment(sure=[(1, 1), (1, 2), (1, 3), (2, 4), (3, 7), (4, 5), (5, 8)], possible=[]),\n",
       " LabeledAlignment(sure=[(10, 9), (11, 8), (14, 11), (15, 13), (16, 14), (16, 15), (17, 16), (18, 17), (19, 18), (2, 1), (27, 29), (28, 30), (29, 31), (3, 2), (6, 4), (7, 3), (8, 5), (8, 6), (8, 7)], possible=[(1, 12), (12, 10), (13, 11), (18, 12), (20, 28), (21, 28), (22, 28), (23, 23), (24, 22), (24, 23), (25, 22), (25, 23), (26, 22), (26, 23), (4, 3), (5, 3), (9, 8), (9, 9)]),\n",
       " LabeledAlignment(sure=[(11, 9), (12, 9), (14, 12), (17, 10), (17, 11), (2, 1), (22, 17), (23, 18), (24, 19), (25, 20), (26, 21), (28, 23), (29, 22), (30, 26), (31, 27), (32, 28), (32, 29), (35, 30), (36, 31), (37, 32), (4, 4), (41, 39), (43, 40), (44, 41), (47, 43), (49, 44), (50, 46), (50, 47), (50, 48), (54, 36), (55, 50), (6, 7), (8, 6)], possible=[(1, 1), (10, 8), (10, 9), (11, 8), (12, 8), (13, 12), (20, 14), (21, 14), (21, 15), (22, 25), (22, 26), (27, 22), (3, 2), (33, 30), (34, 30), (4, 5), (40, 39), (47, 42), (48, 44), (49, 45), (5, 7), (53, 36), (7, 6)]),\n",
       " LabeledAlignment(sure=[(10, 4), (11, 9), (12, 10), (14, 11), (17, 14), (18, 15), (19, 16), (21, 18), (22, 19), (23, 20), (24, 23), (25, 24), (27, 21), (28, 21), (29, 21), (3, 1), (30, 27), (34, 32), (36, 33), (37, 34), (41, 35), (42, 35), (43, 37), (5, 2), (6, 3), (9, 4)], possible=[(1, 7), (10, 5), (10, 6), (13, 11), (15, 14), (16, 14), (2, 1), (20, 18), (30, 26), (4, 3), (7, 4), (8, 4), (9, 5), (9, 6)]),\n",
       " LabeledAlignment(sure=[(10, 4), (10, 5), (11, 7), (12, 8), (13, 9), (3, 1), (4, 2), (7, 3)], possible=[(10, 6), (12, 6), (5, 3), (6, 3), (9, 5)]),\n",
       " LabeledAlignment(sure=[(1, 1), (13, 8), (14, 9), (15, 11), (2, 2), (3, 3), (4, 5), (5, 4), (6, 6)], possible=[(7, 7)]),\n",
       " LabeledAlignment(sure=[(1, 1), (11, 10), (12, 11), (13, 12), (14, 13), (16, 9), (17, 7), (17, 8), (18, 14), (3, 2), (4, 3), (6, 5), (7, 6), (8, 4)], possible=[(10, 10), (15, 8), (2, 2), (5, 4)]),\n",
       " LabeledAlignment(sure=[(1, 1), (12, 10), (13, 12), (14, 13), (16, 14), (17, 18), (19, 19), (2, 2), (20, 20), (21, 21), (24, 23), (25, 22), (26, 24), (3, 3), (4, 4), (5, 5), (6, 5), (7, 6), (7, 7), (7, 8), (8, 9), (9, 11)], possible=[(10, 10), (11, 10), (15, 18), (18, 19), (22, 23), (23, 23)]),\n",
       " LabeledAlignment(sure=[(10, 6), (11, 7), (12, 8), (13, 9), (15, 10), (17, 11), (19, 12), (2, 1), (20, 13), (4, 2), (6, 3), (8, 4), (9, 5)], possible=[(1, 1), (16, 11), (18, 12), (3, 2), (5, 3), (7, 9)]),\n",
       " LabeledAlignment(sure=[(10, 8), (11, 9), (12, 10), (13, 11), (15, 12), (17, 13), (19, 15), (2, 1), (20, 14), (21, 18), (23, 19), (24, 20), (5, 3), (6, 4), (7, 5), (8, 6), (9, 7)], possible=[(1, 1), (14, 12), (16, 13), (18, 15), (21, 16), (21, 17), (22, 19), (3, 3), (4, 3), (5, 2)]),\n",
       " LabeledAlignment(sure=[(1, 2), (10, 10), (11, 11), (12, 12), (2, 3), (3, 4), (4, 5), (5, 6), (6, 7), (7, 1), (8, 8), (9, 9)], possible=[]),\n",
       " LabeledAlignment(sure=[(10, 7), (12, 8), (13, 9), (2, 1), (4, 2), (5, 3), (8, 5), (9, 6)], possible=[(1, 1), (11, 8), (3, 3), (6, 5), (7, 5), (8, 4)]),\n",
       " LabeledAlignment(sure=[(1, 1), (10, 8), (11, 9), (14, 10), (15, 11), (17, 12), (18, 13), (19, 14), (2, 2), (4, 3), (6, 4), (7, 5), (8, 6), (9, 7)], possible=[(12, 10), (13, 10), (16, 13), (3, 3), (5, 4)]),\n",
       " LabeledAlignment(sure=[(10, 10), (11, 11), (13, 12), (15, 13), (16, 14), (17, 15), (4, 1), (5, 2), (6, 3), (6, 4), (6, 5), (7, 6), (8, 7), (9, 9)], possible=[(12, 12), (14, 14), (3, 2), (9, 8)]),\n",
       " LabeledAlignment(sure=[(1, 1), (10, 7), (11, 6), (12, 8), (13, 9), (14, 10), (15, 11), (16, 12), (17, 13), (19, 14), (21, 15), (22, 16), (23, 17), (24, 18), (25, 19), (3, 2), (5, 5), (7, 4), (8, 3)], possible=[(18, 14), (2, 2), (2, 3), (20, 16), (6, 4)]),\n",
       " LabeledAlignment(sure=[(10, 8), (11, 9), (12, 10), (13, 11), (14, 12), (16, 13), (17, 14), (18, 15), (19, 16), (2, 1), (20, 18), (21, 19), (22, 20), (25, 22), (26, 23), (28, 24), (29, 25), (30, 26), (30, 27), (32, 28), (33, 29), (35, 30), (37, 31), (38, 32), (4, 2), (5, 3), (6, 4), (7, 5), (8, 6), (9, 7)], possible=[(1, 1), (15, 13), (20, 17), (23, 21), (23, 22), (24, 22), (25, 21), (27, 24), (3, 3), (31, 29), (34, 31), (36, 30)]),\n",
       " LabeledAlignment(sure=[(10, 7), (11, 8), (12, 9), (13, 10), (14, 11), (15, 12), (2, 5), (3, 1), (4, 2), (5, 4), (6, 3), (7, 3), (8, 6)], possible=[(1, 5), (9, 7)]),\n",
       " LabeledAlignment(sure=[(11, 6), (12, 7), (13, 8), (14, 9), (15, 10), (16, 11), (17, 12), (18, 13), (19, 14), (2, 1), (20, 15), (21, 16), (22, 17), (23, 18), (24, 19), (25, 20), (26, 21), (27, 22), (29, 23), (3, 3), (30, 24), (31, 25), (5, 4), (6, 3), (9, 5)], possible=[(1, 1), (10, 6), (10, 7), (28, 23), (4, 4), (7, 5), (8, 5)]),\n",
       " LabeledAlignment(sure=[(1, 1), (2, 4), (3, 5), (4, 6), (5, 2), (6, 3), (7, 7)], possible=[]),\n",
       " LabeledAlignment(sure=[(1, 1), (10, 6), (11, 7), (12, 8), (13, 10), (14, 11), (16, 11), (17, 12), (18, 13), (19, 14), (2, 2), (20, 15), (21, 16), (23, 17), (24, 18), (25, 19), (3, 3), (5, 3), (7, 4), (9, 5)], possible=[(12, 9), (13, 9), (15, 11), (22, 17), (4, 3), (6, 4), (8, 5)]),\n",
       " LabeledAlignment(sure=[(10, 6), (12, 7), (13, 8), (14, 9), (2, 1), (3, 2), (4, 3), (6, 4), (9, 5)], possible=[(1, 2), (11, 8), (5, 4), (7, 6), (8, 6)]),\n",
       " LabeledAlignment(sure=[(12, 4), (13, 8), (2, 1), (3, 2), (6, 7), (8, 5), (9, 6)], possible=[(1, 1), (10, 3), (10, 4), (11, 4), (12, 3), (5, 6), (7, 7)]),\n",
       " LabeledAlignment(sure=[(11, 7), (13, 8), (2, 1), (3, 2), (5, 3), (6, 4), (7, 5), (9, 6)], possible=[(1, 2), (10, 7), (12, 6), (4, 3), (8, 6)]),\n",
       " LabeledAlignment(sure=[(1, 2), (2, 1), (3, 3), (4, 4), (5, 5), (6, 1), (7, 6), (8, 8)], possible=[]),\n",
       " LabeledAlignment(sure=[(10, 8), (11, 9), (13, 10), (14, 10), (16, 11), (18, 12), (19, 13), (3, 1), (4, 2), (4, 3), (6, 4), (7, 5), (8, 6), (9, 7)], possible=[(1, 1), (1, 2), (1, 3), (12, 10), (15, 11), (17, 12), (2, 1), (2, 2), (2, 3), (3, 2), (3, 3), (4, 1)]),\n",
       " LabeledAlignment(sure=[(1, 1), (3, 2), (4, 3), (5, 4), (6, 5)], possible=[(2, 2)]),\n",
       " LabeledAlignment(sure=[(1, 4), (2, 5), (3, 6)], possible=[]),\n",
       " LabeledAlignment(sure=[(12, 13), (13, 14), (15, 15), (16, 12), (17, 12), (18, 12), (19, 16), (3, 6), (4, 7), (5, 8), (6, 9), (8, 1), (8, 2), (9, 4)], possible=[(1, 10), (1, 11), (1, 5), (10, 13), (11, 13), (14, 14), (2, 6), (7, 1), (9, 3)]),\n",
       " LabeledAlignment(sure=[(1, 1), (10, 10), (3, 4), (3, 8), (5, 9), (6, 5), (8, 6), (9, 7)], possible=[(1, 2), (1, 3), (2, 4), (2, 5), (2, 8), (2, 9), (3, 5), (3, 9), (4, 4), (4, 5), (4, 8), (4, 9), (5, 4), (5, 5), (5, 8), (6, 4), (6, 8), (6, 9), (7, 7)]),\n",
       " LabeledAlignment(sure=[(10, 11), (2, 1), (3, 3), (4, 4), (5, 6), (6, 7), (7, 10), (8, 8), (9, 9)], possible=[(1, 1), (1, 2), (1, 3), (2, 2), (2, 3), (3, 1), (3, 2), (5, 5)]),\n",
       " LabeledAlignment(sure=[(10, 7), (3, 1), (4, 1), (5, 3), (7, 4), (8, 5), (9, 6)], possible=[(1, 1), (2, 1), (4, 2), (6, 6)]),\n",
       " LabeledAlignment(sure=[(1, 1), (11, 10), (12, 9), (14, 11), (15, 12), (16, 12), (17, 13), (2, 3), (4, 4), (5, 5), (6, 6), (8, 7), (9, 8)], possible=[(1, 2), (10, 9), (13, 11), (3, 6)]),\n",
       " LabeledAlignment(sure=[(10, 10), (3, 1), (5, 3), (6, 4), (7, 6), (8, 8), (9, 9)], possible=[(1, 1), (2, 1), (3, 2), (4, 3), (4, 4), (7, 5), (8, 7)]),\n",
       " LabeledAlignment(sure=[(1, 1), (10, 8), (11, 9), (12, 10), (12, 11), (12, 12), (13, 13), (14, 14), (15, 17), (17, 15), (18, 16), (19, 18), (20, 19), (21, 20), (22, 21), (24, 22), (25, 23), (26, 24), (27, 25), (28, 26), (29, 27), (3, 2), (30, 28), (5, 2), (6, 3), (7, 4), (8, 6), (9, 7)], possible=[(16, 17), (2, 1), (23, 22), (4, 2)]),\n",
       " LabeledAlignment(sure=[(10, 6), (12, 10), (13, 10), (14, 9), (15, 11), (2, 1), (4, 2), (5, 3), (7, 4), (8, 5)], possible=[(1, 1), (11, 10), (3, 2), (6, 4), (9, 6)]),\n",
       " LabeledAlignment(sure=[(1, 4), (10, 3), (10, 7), (11, 8), (3, 1), (4, 2), (6, 5), (8, 6)], possible=[(7, 5), (9, 7)]),\n",
       " LabeledAlignment(sure=[(10, 2), (11, 10), (2, 5), (3, 7), (4, 6), (5, 8), (7, 9), (8, 4), (9, 1)], possible=[(1, 5)]),\n",
       " LabeledAlignment(sure=[(1, 1), (10, 7), (12, 8), (13, 9), (15, 10), (16, 11), (2, 2), (3, 3), (4, 3), (5, 4), (7, 5), (9, 6)], possible=[(11, 8), (11, 9), (14, 10), (6, 5), (8, 6)]),\n",
       " LabeledAlignment(sure=[(1, 1), (10, 7), (11, 8), (12, 9), (2, 2), (3, 3), (4, 4), (5, 5), (7, 6)], possible=[(6, 6), (8, 6), (8, 8), (9, 8)]),\n",
       " LabeledAlignment(sure=[(10, 9), (11, 10), (2, 1), (3, 2), (5, 3), (7, 6)], possible=[(1, 1), (4, 3), (6, 4), (6, 5), (9, 9)]),\n",
       " LabeledAlignment(sure=[(10, 11), (11, 12), (12, 13), (14, 4), (16, 2), (17, 14), (2, 5), (4, 6), (5, 7), (6, 8), (7, 9), (8, 10)], possible=[(1, 5), (14, 3), (15, 2), (3, 6), (9, 11)]),\n",
       " LabeledAlignment(sure=[(1, 4), (11, 5), (13, 6), (14, 7), (15, 10), (2, 1), (4, 2), (5, 3), (9, 9)], possible=[(10, 8), (10, 9), (3, 3), (7, 9), (8, 8), (8, 9), (9, 8)]),\n",
       " LabeledAlignment(sure=[(1, 1), (10, 9), (11, 10), (12, 11), (14, 12), (15, 13), (16, 14), (17, 15), (18, 16), (19, 17), (5, 2), (7, 3), (8, 4), (9, 9)], possible=[(10, 8), (13, 11), (3, 2), (4, 2), (6, 3), (8, 5), (8, 6), (8, 7)]),\n",
       " LabeledAlignment(sure=[(1, 1), (10, 11), (11, 13), (12, 14), (13, 15), (14, 12), (15, 16), (17, 18), (19, 17), (2, 2), (20, 17), (21, 17), (23, 19), (24, 22), (25, 19), (26, 20), (28, 21), (29, 23), (3, 5), (4, 4), (5, 7), (6, 8), (7, 9), (8, 9), (9, 10)], possible=[(1, 3), (16, 18), (18, 17), (22, 19), (27, 21), (5, 6)]),\n",
       " LabeledAlignment(sure=[(10, 7), (11, 7), (12, 8), (2, 2), (3, 1), (5, 3), (6, 4), (7, 5), (8, 5), (9, 6)], possible=[(1, 1), (4, 3)]),\n",
       " LabeledAlignment(sure=[(12, 10), (13, 11), (14, 12), (15, 13), (16, 14), (18, 15), (2, 1), (20, 16), (22, 17), (24, 20), (26, 22), (27, 21), (27, 23), (28, 24), (29, 25), (3, 2), (30, 26), (31, 27), (32, 28), (33, 29), (34, 30), (35, 31), (36, 32), (37, 33), (38, 34), (39, 35), (4, 3), (40, 36), (42, 37), (44, 38), (46, 39), (47, 40), (5, 5), (6, 6), (9, 6)], possible=[(1, 1), (10, 6), (17, 15), (19, 16), (21, 17), (23, 19), (24, 18), (25, 22), (27, 19), (41, 37), (43, 38), (45, 39), (5, 4), (6, 7), (7, 6), (7, 7), (8, 6), (8, 7)]),\n",
       " LabeledAlignment(sure=[(1, 1), (10, 8), (11, 10), (13, 11), (14, 13), (15, 14), (16, 15), (18, 16), (2, 2), (20, 17), (21, 18), (22, 18), (23, 19), (24, 20), (25, 22), (26, 23), (27, 24), (28, 25), (29, 26), (3, 3), (31, 27), (32, 28), (33, 29), (4, 4), (6, 5), (7, 7), (8, 8), (9, 9)], possible=[(12, 11), (14, 12), (17, 16), (25, 21), (30, 28), (5, 5), (7, 6)]),\n",
       " LabeledAlignment(sure=[(1, 1), (10, 9), (12, 6), (13, 7), (14, 11), (15, 12), (16, 13), (17, 14), (18, 15), (19, 16), (2, 2), (20, 17), (5, 3), (7, 5), (8, 5), (9, 5)], possible=[(10, 8), (11, 9), (14, 10), (2, 3), (2, 4), (3, 2), (3, 3), (3, 4), (4, 2), (4, 3), (4, 4), (5, 2), (5, 4), (6, 2), (6, 3), (6, 4), (6, 5)]),\n",
       " LabeledAlignment(sure=[(1, 1), (10, 8), (11, 8), (12, 12), (13, 14), (13, 15), (14, 16), (15, 17), (16, 18), (18, 19), (19, 20), (2, 2), (20, 13), (21, 21), (22, 23), (23, 24), (24, 25), (25, 26), (3, 4), (4, 3), (5, 5), (6, 7), (8, 9), (9, 10)], possible=[(12, 11), (17, 19), (6, 6), (7, 10)]),\n",
       " LabeledAlignment(sure=[(1, 1), (10, 9), (11, 10), (13, 11), (14, 12), (2, 2), (3, 3), (4, 4), (5, 5), (7, 6), (8, 7)], possible=[(10, 8), (12, 11), (6, 6), (9, 10)]),\n",
       " LabeledAlignment(sure=[(10, 11), (12, 14), (13, 15), (14, 16), (15, 17), (17, 18), (18, 19), (19, 20), (2, 1), (20, 21), (21, 22), (22, 23), (23, 24), (24, 25), (25, 26), (3, 2), (5, 8), (7, 5), (7, 9), (8, 6), (9, 7)], possible=[(1, 1), (10, 10), (11, 14), (12, 12), (16, 18), (4, 4), (6, 9)]),\n",
       " LabeledAlignment(sure=[(10, 10), (11, 11), (12, 12), (13, 13), (14, 14), (15, 16), (16, 15), (2, 2), (5, 3), (6, 5), (7, 7), (8, 8), (9, 9)], possible=[(1, 2), (2, 1), (3, 3), (4, 3), (6, 1), (6, 4), (7, 6)]),\n",
       " LabeledAlignment(sure=[(1, 2), (10, 11), (11, 12), (12, 13), (13, 14), (2, 4), (3, 5), (4, 6), (5, 6), (6, 6), (8, 8), (9, 10)], possible=[(7, 3), (7, 7), (9, 8), (9, 9)]),\n",
       " LabeledAlignment(sure=[(1, 8), (11, 10), (13, 13), (14, 14), (15, 15), (16, 16), (17, 17), (3, 1), (4, 2), (5, 3), (6, 4), (7, 6), (8, 7), (9, 9)], possible=[(10, 10), (12, 10), (13, 12), (2, 1)]),\n",
       " LabeledAlignment(sure=[(10, 10), (11, 9), (12, 11), (13, 12), (2, 1), (3, 3), (4, 4), (6, 5), (7, 7), (8, 8)], possible=[(1, 1), (3, 2), (5, 5), (8, 6), (9, 10)]),\n",
       " LabeledAlignment(sure=[(1, 1), (10, 11), (12, 12), (13, 13), (14, 14), (15, 15), (2, 2), (3, 3), (4, 4), (5, 5), (6, 6), (7, 7), (8, 9), (9, 10)], possible=[(11, 12)]),\n",
       " LabeledAlignment(sure=[(1, 2), (10, 11), (11, 12), (12, 13), (13, 14), (14, 15), (16, 18), (17, 18), (19, 28), (2, 3), (20, 29), (20, 30), (21, 31), (22, 34), (23, 32), (24, 33), (25, 35), (26, 19), (27, 21), (28, 22), (29, 23), (3, 4), (30, 24), (31, 25), (32, 36), (4, 5), (5, 6), (6, 7), (7, 8), (8, 9), (9, 10)], possible=[(15, 18), (18, 21)]),\n",
       " LabeledAlignment(sure=[(1, 1), (10, 7), (11, 9), (12, 10), (13, 11), (16, 12), (17, 13), (19, 16), (20, 14), (20, 15), (21, 17), (22, 18), (23, 19), (24, 20), (25, 21), (26, 22), (27, 23), (28, 24), (29, 25), (3, 6), (30, 26), (5, 2), (6, 3), (7, 4), (9, 8)], possible=[(14, 12), (15, 12), (18, 15), (2, 4), (2, 5), (4, 6)]),\n",
       " LabeledAlignment(sure=[(10, 9), (11, 10), (12, 11), (2, 1), (3, 2), (4, 3), (5, 4), (6, 5), (7, 6), (8, 7), (9, 8)], possible=[(1, 2)]),\n",
       " LabeledAlignment(sure=[(10, 8), (11, 9), (12, 10), (13, 11), (14, 12), (15, 13), (16, 14), (17, 15), (18, 16), (2, 1), (3, 2), (4, 4), (5, 4), (6, 4), (7, 5), (8, 6), (9, 7)], possible=[(1, 2), (4, 3), (5, 3), (6, 3)]),\n",
       " LabeledAlignment(sure=[(2, 3), (3, 4), (4, 1), (5, 2), (6, 5), (7, 6), (8, 7)], possible=[(1, 3)]),\n",
       " LabeledAlignment(sure=[(1, 2), (10, 13), (11, 14), (12, 10), (14, 8), (16, 11), (18, 15), (19, 21), (20, 22), (21, 23), (23, 19), (24, 18), (26, 16), (27, 24), (3, 1), (4, 3), (5, 4), (6, 5), (7, 7), (8, 6), (8, 7), (9, 12)], possible=[(14, 9), (2, 2), (22, 18), (26, 17)]),\n",
       " LabeledAlignment(sure=[(1, 1), (2, 3), (3, 3), (4, 4), (5, 5), (6, 6), (7, 7)], possible=[(3, 2)]),\n",
       " LabeledAlignment(sure=[(10, 10), (11, 11), (12, 12), (13, 13), (19, 14), (2, 1), (20, 17), (21, 15), (22, 18), (3, 2), (4, 3), (5, 8), (8, 9)], possible=[(1, 2), (14, 4), (15, 5), (16, 5), (16, 6), (17, 6), (17, 7), (18, 4), (18, 7), (18, 8), (6, 9), (7, 9), (9, 10), (9, 13)]),\n",
       " LabeledAlignment(sure=[(1, 5), (10, 7), (11, 8), (12, 9), (13, 15), (2, 1), (3, 1), (5, 10), (6, 11), (7, 12), (8, 13), (9, 14)], possible=[(2, 2), (2, 3), (2, 4), (3, 2), (3, 3), (3, 4), (4, 10), (5, 6)]),\n",
       " LabeledAlignment(sure=[(10, 9), (11, 10), (12, 11), (13, 12), (14, 13), (15, 14), (16, 15), (2, 1), (3, 2), (4, 3), (5, 4), (6, 5), (7, 6), (8, 7), (9, 8)], possible=[(1, 1)]),\n",
       " LabeledAlignment(sure=[(12, 16), (14, 17), (16, 18), (17, 19), (19, 13), (2, 4), (20, 14), (22, 21), (23, 22), (24, 23), (25, 24), (26, 25), (27, 26), (28, 27), (29, 28), (29, 30), (3, 6), (31, 33), (32, 34), (33, 35), (34, 36), (35, 32), (4, 7), (5, 8), (7, 9), (8, 10), (9, 11)], possible=[(1, 1), (1, 2), (1, 3), (1, 4), (1, 5), (10, 12), (10, 15), (11, 15), (11, 16), (11, 17), (11, 18), (11, 19), (11, 20), (12, 15), (14, 18), (14, 19), (14, 20), (16, 15), (16, 16), (16, 17), (16, 19), (16, 20), (17, 15), (17, 16), (17, 17), (17, 18), (17, 20), (2, 1), (2, 2), (2, 3), (2, 5), (20, 12), (25, 25), (26, 24), (30, 31), (35, 31), (36, 37), (6, 8)]),\n",
       " LabeledAlignment(sure=[(1, 2), (2, 3), (3, 4), (4, 5), (5, 6)], possible=[]),\n",
       " LabeledAlignment(sure=[(1, 3), (10, 17), (12, 15), (14, 18), (19, 19), (2, 1), (3, 2), (5, 8), (6, 9), (7, 4), (8, 5), (9, 11)], possible=[(12, 16), (16, 12), (16, 13), (16, 14), (16, 6), (16, 7), (17, 12), (17, 13), (17, 14), (18, 12), (18, 13), (18, 14), (4, 5), (7, 5), (8, 4)]),\n",
       " LabeledAlignment(sure=[(1, 1), (10, 9), (14, 15), (16, 13), (18, 16), (2, 2), (20, 18), (21, 19), (22, 20), (26, 21), (29, 24), (3, 3), (31, 26), (33, 27), (34, 28), (35, 29), (4, 4), (5, 5), (6, 7), (7, 6), (8, 8)], possible=[(11, 10), (11, 11), (11, 12), (12, 10), (12, 11), (12, 12), (13, 15), (16, 14), (19, 17), (27, 22), (27, 23), (28, 22), (28, 23), (30, 26), (30, 28), (31, 25), (31, 28), (32, 25), (32, 26), (32, 28), (34, 25), (34, 26), (9, 9)]),\n",
       " LabeledAlignment(sure=[(1, 1), (10, 16), (11, 18), (11, 19), (11, 20), (13, 22), (14, 23), (15, 24), (16, 25), (16, 26), (17, 27), (18, 28), (19, 29), (2, 3), (2, 4), (2, 5), (2, 6), (2, 7), (20, 30), (21, 31), (22, 32), (23, 33), (24, 34), (25, 34), (26, 35), (27, 36), (28, 37), (30, 39), (31, 40), (32, 41), (33, 42), (34, 43), (4, 9), (5, 10), (5, 11), (6, 12), (7, 13), (8, 14), (9, 15)], possible=[(11, 17), (12, 21), (12, 24), (2, 17), (2, 2), (29, 38), (29, 42), (3, 8), (3, 9)]),\n",
       " LabeledAlignment(sure=[(1, 2), (2, 3), (3, 4), (4, 5), (5, 6)], possible=[]),\n",
       " LabeledAlignment(sure=[(1, 3), (11, 9), (13, 12), (14, 13), (15, 14), (16, 15), (17, 16), (18, 17), (19, 18), (2, 1), (20, 19), (21, 20), (22, 21), (3, 2), (4, 4), (5, 5), (6, 6), (7, 7), (8, 8), (9, 11)], possible=[(11, 10), (18, 18), (19, 17)]),\n",
       " LabeledAlignment(sure=[(10, 9), (11, 10), (12, 11), (13, 12), (14, 14), (15, 15), (16, 16), (17, 17), (18, 18), (19, 19), (2, 1), (22, 22), (24, 24), (26, 25), (27, 26), (28, 27), (3, 2), (4, 3), (5, 4), (6, 5), (7, 6)], possible=[(1, 2), (14, 13), (20, 20), (20, 21), (21, 20), (21, 21), (23, 24), (23, 26), (24, 23), (24, 26), (25, 23), (25, 24), (25, 26), (27, 23), (27, 24), (8, 7), (8, 8), (9, 7), (9, 8)]),\n",
       " LabeledAlignment(sure=[(1, 1), (10, 20), (12, 21), (13, 22), (14, 23), (15, 23), (16, 24), (17, 25), (18, 26), (2, 3), (2, 4), (2, 5), (20, 28), (21, 29), (22, 30), (23, 31), (24, 32), (4, 7), (5, 8), (5, 9), (6, 10), (7, 11), (7, 12), (7, 13), (7, 14), (7, 15), (9, 17), (9, 18), (9, 19)], possible=[(11, 21), (19, 27), (19, 31), (2, 2), (3, 6), (3, 7), (8, 16), (8, 19)]),\n",
       " LabeledAlignment(sure=[(1, 2), (2, 3), (3, 4), (4, 5), (5, 6), (6, 7), (7, 8)], possible=[]),\n",
       " LabeledAlignment(sure=[(1, 3), (10, 12), (11, 13), (12, 14), (13, 16), (13, 17), (13, 18), (14, 19), (15, 20), (16, 21), (2, 1), (3, 2), (4, 4), (5, 9), (6, 5), (7, 6), (7, 7), (8, 10), (9, 11)], possible=[]),\n",
       " LabeledAlignment(sure=[(1, 1), (10, 18), (11, 10), (12, 11), (12, 12), (13, 13), (14, 14), (14, 15), (15, 19), (17, 21), (18, 22), (19, 20), (2, 2), (20, 23), (22, 24), (24, 25), (25, 26), (26, 27), (27, 28), (28, 29), (29, 30), (3, 3), (31, 35), (34, 37), (34, 38), (35, 39), (4, 4), (5, 5), (6, 6), (7, 9), (9, 17)], possible=[(16, 23), (21, 24), (23, 26), (29, 31), (29, 32), (30, 35), (31, 34), (32, 35), (34, 36), (7, 8), (8, 18)]),\n",
       " LabeledAlignment(sure=[(1, 1), (10, 11), (10, 13), (11, 14), (12, 15), (13, 16), (14, 17), (15, 18), (15, 19), (16, 20), (19, 23), (2, 2), (20, 25), (21, 26), (22, 27), (23, 28), (24, 29), (24, 30), (25, 31), (26, 32), (27, 33), (29, 36), (3, 4), (32, 39), (33, 41), (34, 42), (34, 43), (35, 44), (4, 5), (5, 9), (6, 6), (7, 7), (7, 8), (8, 10), (9, 12)], possible=[(17, 21), (17, 22), (18, 21), (18, 22), (21, 24), (28, 34), (28, 35), (30, 37), (30, 38), (31, 37), (31, 38), (34, 40), (4, 3)]),\n",
       " LabeledAlignment(sure=[(1, 2), (2, 3), (3, 4), (4, 5), (5, 6), (6, 7)], possible=[]),\n",
       " LabeledAlignment(sure=[(1, 3), (10, 12), (11, 13), (12, 14), (13, 15), (14, 16), (2, 1), (3, 2), (4, 4), (5, 9), (6, 5), (7, 6), (7, 7), (8, 10)], possible=[(9, 11), (9, 14)]),\n",
       " LabeledAlignment(sure=[(1, 1), (10, 16), (11, 17), (12, 9), (13, 10), (13, 11), (14, 12), (15, 13), (15, 14), (16, 18), (2, 2), (3, 3), (4, 4), (5, 5), (6, 6), (7, 7), (8, 8)], possible=[(9, 15), (9, 17)]),\n",
       " LabeledAlignment(sure=[(1, 1), (2, 2), (3, 3), (4, 3), (5, 4), (6, 6), (7, 7)], possible=[(6, 5)]),\n",
       " LabeledAlignment(sure=[(1, 2), (2, 3), (3, 4), (4, 5), (5, 6), (6, 7), (7, 8)], possible=[]),\n",
       " LabeledAlignment(sure=[(1, 3), (10, 12), (11, 13), (12, 14), (13, 15), (2, 1), (3, 2), (4, 4), (5, 5), (5, 6), (6, 7), (7, 8), (7, 9), (8, 10)], possible=[(9, 11), (9, 13)]),\n",
       " LabeledAlignment(sure=[(1, 7), (10, 16), (11, 17), (12, 11), (13, 12), (14, 13), (14, 14), (15, 19), (16, 20), (18, 21), (19, 22), (19, 23), (2, 8), (20, 24), (20, 25), (22, 26), (23, 27), (24, 28), (25, 28), (26, 29), (27, 30), (28, 31), (29, 34), (30, 35), (31, 36), (31, 37), (32, 38), (4, 1), (5, 4), (5, 5), (6, 2), (7, 9), (8, 10)], possible=[(17, 23), (21, 26), (3, 8), (31, 32), (31, 33), (5, 3), (9, 14), (9, 15)]),\n",
       " LabeledAlignment(sure=[(10, 6), (2, 1), (3, 2), (4, 2), (5, 3), (8, 4), (9, 5)], possible=[(1, 1), (6, 5), (7, 5)]),\n",
       " LabeledAlignment(sure=[(10, 9), (12, 12), (13, 13), (14, 14), (15, 15), (16, 16), (17, 17), (18, 18), (19, 19), (2, 1), (20, 20), (21, 21), (22, 22), (23, 23), (24, 24), (3, 2), (3, 3), (4, 4), (5, 4), (6, 5), (8, 7), (9, 8)], possible=[(1, 3), (11, 14), (7, 6), (7, 8)]),\n",
       " LabeledAlignment(sure=[(10, 9), (11, 10), (2, 1), (3, 2), (3, 3), (4, 4), (5, 4), (6, 5), (7, 6), (9, 8)], possible=[(1, 3), (8, 7), (8, 9)]),\n",
       " LabeledAlignment(sure=[(10, 17), (11, 18), (12, 10), (13, 10), (14, 11), (14, 12), (15, 19), (16, 20), (18, 22), (19, 23), (19, 24), (2, 2), (20, 26), (21, 27), (22, 28), (23, 29), (3, 3), (3, 4), (4, 6), (6, 7), (7, 8), (9, 9)], possible=[(1, 4), (17, 24), (19, 21), (20, 25), (3, 1), (4, 5), (5, 7), (8, 12)]),\n",
       " LabeledAlignment(sure=[(1, 2), (10, 13), (11, 14), (13, 17), (14, 18), (15, 19), (17, 21), (19, 22), (2, 3), (20, 23), (22, 24), (23, 25), (24, 26), (26, 27), (26, 28), (27, 29), (28, 31), (29, 32), (3, 4), (30, 33), (32, 35), (33, 34), (34, 36), (5, 7), (6, 8), (6, 9), (7, 10), (8, 11), (9, 12)], possible=[(12, 16), (12, 17), (13, 16), (17, 20), (18, 23), (20, 20), (21, 25), (25, 27), (27, 30), (31, 34), (4, 9)]),\n",
       " LabeledAlignment(sure=[(10, 11), (11, 12), (12, 13), (13, 14), (2, 1), (3, 2), (3, 3), (4, 4), (5, 5), (6, 6), (7, 7), (8, 8)], possible=[(1, 3), (10, 10), (9, 11)]),\n",
       " LabeledAlignment(sure=[(10, 3), (11, 4), (12, 2), (13, 15), (2, 5), (3, 5), (3, 7), (4, 8), (5, 10), (5, 9), (6, 12), (7, 13), (8, 14), (9, 6)], possible=[(12, 1), (2, 6), (3, 6), (6, 11), (9, 5)]),\n",
       " LabeledAlignment(sure=[(1, 2), (10, 15), (12, 16), (13, 11), (15, 12), (16, 13), (17, 17), (18, 18), (19, 19), (2, 3), (20, 20), (21, 21), (22, 22), (23, 26), (24, 27), (25, 23), (26, 24), (27, 25), (28, 28), (3, 4), (30, 32), (31, 33), (32, 34), (33, 35), (34, 30), (35, 36), (36, 38), (37, 39), (38, 40), (4, 5), (5, 6), (6, 7), (7, 8), (8, 9), (9, 10), (9, 14)], possible=[(11, 16), (14, 13), (34, 31), (37, 37)]),\n",
       " LabeledAlignment(sure=[(1, 1), (2, 2), (3, 3), (4, 4), (5, 5), (6, 6), (7, 7), (8, 8)], possible=[]),\n",
       " LabeledAlignment(sure=[(1, 1), (10, 8), (12, 18), (13, 16), (14, 17), (15, 12), (16, 13), (17, 9), (18, 10), (19, 11), (2, 2), (20, 19), (21, 21), (23, 23), (24, 23), (25, 24), (27, 22), (28, 26), (29, 27), (3, 3), (30, 29), (31, 29), (32, 32), (33, 30), (34, 31), (35, 33), (36, 34), (37, 36), (38, 37), (39, 38), (4, 4), (40, 39), (42, 40), (42, 41), (43, 42), (44, 43), (5, 5), (7, 6), (8, 7)], possible=[(11, 13), (22, 22), (26, 24), (29, 25), (36, 35), (41, 42)]),\n",
       " LabeledAlignment(sure=[(1, 1), (10, 10), (11, 11), (12, 12), (13, 14), (14, 15), (15, 15), (16, 16), (17, 17), (19, 17), (2, 3), (21, 18), (22, 20), (23, 21), (24, 21), (25, 22), (26, 23), (27, 24), (28, 25), (29, 26), (3, 2), (30, 27), (31, 28), (32, 29), (33, 30), (33, 31), (34, 32), (36, 33), (36, 34), (37, 35), (4, 13), (4, 4), (6, 5), (6, 6), (8, 8), (9, 9)], possible=[(22, 19), (35, 34), (5, 6), (7, 11), (7, 7)]),\n",
       " LabeledAlignment(sure=[(10, 9), (11, 10), (2, 3), (3, 4), (5, 1), (6, 5), (7, 7), (8, 6), (9, 8)], possible=[(1, 1), (1, 4), (3, 2), (4, 4)]),\n",
       " LabeledAlignment(sure=[(1, 1), (10, 9), (12, 11), (13, 13), (14, 12), (15, 14), (16, 15), (17, 16), (3, 4), (3, 5), (4, 3), (6, 7), (7, 6), (8, 10), (9, 8)], possible=[(2, 3)]),\n",
       " LabeledAlignment(sure=[(1, 1), (10, 13), (11, 14), (12, 15), (13, 16), (15, 17), (16, 19), (17, 20), (18, 21), (19, 22), (2, 2), (20, 23), (3, 3), (4, 4), (5, 5), (6, 6), (7, 7), (8, 10), (8, 11), (8, 9), (9, 12)], possible=[(14, 17), (18, 18)]),\n",
       " LabeledAlignment(sure=[(1, 1), (1, 2), (1, 3), (11, 14), (12, 17), (13, 18), (14, 19), (15, 21), (16, 20), (17, 22), (18, 23), (19, 24), (20, 25), (21, 26), (22, 27), (25, 29), (26, 28), (27, 30), (3, 9), (4, 7), (5, 8), (6, 4), (7, 10), (8, 11), (8, 12), (8, 13)], possible=[(10, 14), (2, 4), (5, 5), (9, 14)]),\n",
       " LabeledAlignment(sure=[(1, 1), (10, 7), (11, 6), (11, 9), (12, 12), (13, 11), (14, 13), (15, 14), (16, 18), (17, 20), (18, 19), (19, 21), (2, 4), (3, 4), (4, 5), (5, 5), (6, 2), (7, 3), (8, 8)], possible=[(12, 10)]),\n",
       " LabeledAlignment(sure=[(1, 1), (10, 13), (12, 14), (13, 15), (14, 17), (16, 18), (17, 19), (18, 20), (2, 2), (3, 3), (4, 4), (5, 9), (6, 10), (7, 5), (8, 6), (9, 7)], possible=[(6, 8)]),\n",
       " LabeledAlignment(sure=[(10, 10), (10, 8), (12, 14), (13, 15), (14, 16), (16, 18), (17, 19), (18, 23), (19, 21), (2, 1), (20, 22), (21, 23), (22, 25), (23, 24), (24, 27), (25, 26), (26, 28), (3, 2), (4, 3), (5, 4), (6, 5), (7, 6), (8, 7), (9, 9)], possible=[(1, 2), (11, 12), (11, 14), (15, 18), (18, 20), (21, 20)]),\n",
       " LabeledAlignment(sure=[(1, 1), (10, 9), (11, 10), (12, 11), (13, 12), (14, 13), (15, 14), (16, 15), (2, 2), (20, 21), (21, 22), (22, 23), (23, 26), (24, 27), (25, 28), (26, 25), (27, 24), (28, 24), (29, 35), (3, 5), (30, 33), (31, 34), (32, 36), (33, 29), (34, 30), (35, 31), (36, 37), (37, 39), (38, 38), (39, 40), (4, 3), (5, 4), (7, 6), (8, 7), (9, 8)], possible=[(17, 16), (17, 17), (17, 18), (17, 19), (17, 20), (18, 16), (18, 17), (18, 18), (18, 19), (18, 20), (19, 16), (19, 17), (19, 18), (19, 19), (19, 20), (21, 20), (31, 32), (6, 7)]),\n",
       " LabeledAlignment(sure=[(1, 2), (10, 11), (11, 17), (13, 13), (14, 20), (15, 18), (16, 19), (17, 21), (18, 22), (19, 23), (2, 3), (20, 14), (22, 15), (23, 16), (24, 24), (3, 4), (4, 5), (6, 6), (6, 7), (7, 8), (8, 9), (9, 10)], possible=[(1, 1), (12, 13), (21, 16), (5, 1)]),\n",
       " LabeledAlignment(sure=[(1, 1), (10, 12), (11, 15), (12, 13), (13, 14), (14, 16), (15, 18), (16, 19), (17, 20), (17, 21), (17, 22), (18, 23), (19, 24), (2, 2), (20, 25), (21, 26), (22, 27), (23, 28), (24, 29), (26, 30), (27, 31), (27, 32), (28, 33), (3, 6), (4, 3), (5, 4), (6, 5), (7, 7), (7, 8), (8, 10), (9, 11)], possible=[(25, 32), (9, 9)]),\n",
       " LabeledAlignment(sure=[(1, 1), (10, 13), (11, 9), (12, 14), (14, 16), (15, 15), (16, 17), (2, 2), (3, 3), (4, 4), (5, 5), (5, 6), (6, 7), (8, 8), (9, 10), (9, 11), (9, 12)], possible=[(13, 16), (7, 8), (7, 9)]),\n",
       " LabeledAlignment(sure=[(1, 1), (10, 14), (2, 2), (3, 3), (3, 4), (4, 6), (5, 7), (6, 10), (7, 13), (8, 11), (9, 12)], possible=[(5, 5)]),\n",
       " LabeledAlignment(sure=[(1, 1), (2, 2), (3, 3)], possible=[]),\n",
       " LabeledAlignment(sure=[(1, 4), (10, 10), (11, 11), (12, 12), (13, 16), (14, 19), (15, 20), (17, 21), (18, 22), (19, 23), (2, 5), (22, 26), (24, 24), (25, 25), (26, 27), (3, 6), (5, 1), (6, 2), (7, 13), (8, 14), (9, 15), (9, 9)], possible=[(16, 20), (16, 23), (20, 25), (21, 25), (21, 26), (23, 26), (4, 5), (4, 7), (4, 8)]),\n",
       " LabeledAlignment(sure=[(10, 9), (11, 13), (12, 14), (13, 15), (14, 18), (15, 16), (16, 17), (19, 21), (2, 2), (20, 20), (21, 22), (22, 23), (24, 25), (26, 27), (27, 28), (3, 3), (30, 30), (31, 31), (32, 32), (33, 33), (35, 26), (36, 26), (37, 26), (38, 35), (4, 4), (5, 5), (6, 6), (7, 7), (8, 8), (9, 1)], possible=[(1, 2), (17, 19), (23, 24), (28, 29), (34, 34)]),\n",
       " LabeledAlignment(sure=[(10, 6), (13, 9), (14, 10), (15, 11), (16, 12), (18, 14), (18, 15), (2, 1), (21, 16), (24, 17), (25, 18), (26, 19), (28, 21), (29, 22), (3, 2), (30, 23), (31, 24), (32, 25), (34, 28), (35, 29), (36, 30), (37, 31), (38, 32), (4, 3), (6, 4), (8, 7), (9, 5)], possible=[(1, 2), (11, 8), (17, 13), (19, 16), (20, 16), (22, 19), (23, 19), (27, 21), (33, 31), (5, 4), (7, 6), (7, 7)]),\n",
       " LabeledAlignment(sure=[(1, 1), (10, 7), (11, 8), (12, 9), (17, 12), (19, 10), (2, 2), (20, 11), (22, 16), (23, 17), (25, 18), (26, 19), (3, 3), (5, 4), (7, 5), (8, 6)], possible=[(18, 12), (21, 13), (24, 18), (9, 11), (9, 9)]),\n",
       " LabeledAlignment(sure=[(1, 1), (10, 11), (11, 9), (12, 10), (13, 12), (14, 13), (15, 14), (16, 15), (18, 16), (19, 17), (20, 18), (21, 19), (22, 20), (23, 23), (24, 27), (25, 25), (26, 26), (29, 29), (3, 2), (30, 30), (31, 32), (33, 33), (34, 34), (35, 35), (4, 3), (6, 6), (7, 7), (8, 4), (9, 8)], possible=[(17, 17), (2, 3), (27, 28), (32, 34)]),\n",
       " LabeledAlignment(sure=[(1, 9), (10, 1), (12, 4), (12, 5), (13, 2), (14, 3), (15, 18), (2, 6), (2, 7), (2, 8), (3, 13), (4, 11), (5, 12), (8, 15), (9, 16)], possible=[(1, 10), (11, 3), (6, 14)]),\n",
       " LabeledAlignment(sure=[(1, 7), (10, 6), (12, 12), (13, 10), (14, 11), (15, 9), (16, 13), (17, 15), (18, 16), (2, 1), (22, 20), (23, 23), (24, 23), (25, 25), (26, 26), (28, 27), (29, 27), (30, 29), (31, 30), (32, 33), (35, 34), (36, 35), (37, 36), (38, 37), (4, 2), (5, 3), (7, 4), (8, 4), (9, 5)], possible=[(11, 9), (17, 14), (19, 17), (19, 18), (19, 19), (19, 20), (20, 17), (20, 18), (20, 19), (20, 20), (21, 24), (22, 17), (22, 18), (22, 19), (28, 28), (28, 29), (29, 28), (29, 29), (3, 2), (30, 27), (30, 28), (33, 33), (33, 35), (34, 35), (6, 5)]),\n",
       " LabeledAlignment(sure=[(11, 7), (12, 8), (13, 11), (14, 13), (16, 15), (17, 12), (19, 16), (2, 1), (20, 16), (21, 16), (23, 17), (24, 18), (25, 19), (27, 20), (28, 22), (31, 23), (32, 24), (33, 25), (34, 26), (4, 3), (5, 2), (6, 4), (7, 5), (8, 10), (9, 9)], possible=[(1, 1), (10, 8), (15, 13), (16, 14), (22, 19), (26, 20), (28, 21), (29, 25), (3, 2), (3, 3), (30, 25)]),\n",
       " LabeledAlignment(sure=[(10, 7), (12, 9), (13, 12), (14, 10), (15, 13), (17, 14), (18, 15), (19, 16), (2, 1), (20, 17), (21, 18), (22, 20), (23, 21), (24, 19), (25, 19), (26, 19), (27, 22), (3, 3), (6, 2), (7, 4), (7, 5), (8, 6), (9, 8)], possible=[(1, 3), (11, 7), (13, 11), (16, 14), (5, 2)]),\n",
       " LabeledAlignment(sure=[(1, 1), (10, 11), (11, 10), (12, 12), (13, 13), (14, 14), (15, 17), (16, 19), (17, 18), (18, 20), (4, 2), (5, 3), (8, 8), (9, 7)], possible=[(11, 9), (2, 4), (2, 5), (2, 6), (3, 4), (3, 5), (3, 6)]),\n",
       " LabeledAlignment(sure=[(1, 1), (2, 2), (3, 3), (4, 4), (8, 7)], possible=[(5, 6), (6, 5), (6, 6), (7, 5), (7, 6)]),\n",
       " LabeledAlignment(sure=[(1, 1), (12, 9), (13, 11), (14, 12), (15, 13), (16, 14), (18, 10), (19, 15), (2, 2), (20, 16), (21, 26), (22, 24), (23, 25), (24, 20), (25, 22), (27, 21), (28, 21), (29, 17), (3, 3), (31, 18), (32, 19), (33, 27), (4, 4), (5, 6), (6, 7), (8, 8)], possible=[(10, 13), (11, 13), (17, 10), (26, 22), (30, 19), (7, 8), (9, 13)]),\n",
       " LabeledAlignment(sure=[(1, 1), (10, 13), (13, 14), (14, 15), (15, 16), (16, 19), (18, 17), (18, 18), (19, 20), (2, 2), (3, 5), (4, 7), (4, 8), (4, 9), (5, 6), (6, 10), (7, 11), (8, 12)], possible=[(11, 15), (12, 15), (9, 13)]),\n",
       " LabeledAlignment(sure=[(1, 5), (10, 1), (10, 2), (12, 3), (13, 13), (14, 15), (16, 17), (17, 18), (18, 16), (2, 4), (20, 19), (22, 20), (23, 24), (24, 25), (25, 26), (26, 27), (28, 31), (29, 31), (3, 6), (30, 32), (31, 33), (32, 34), (33, 35), (4, 9), (5, 7), (6, 8), (8, 10), (9, 11)], possible=[(11, 3), (15, 16), (21, 20), (27, 29), (27, 30), (27, 31), (28, 29), (28, 30), (29, 29), (29, 30), (7, 11)]),\n",
       " LabeledAlignment(sure=[(1, 1), (11, 10), (12, 11), (13, 12), (14, 13), (15, 14), (17, 19), (19, 18), (2, 2), (21, 20), (23, 22), (24, 23), (25, 24), (26, 25), (27, 28), (28, 29), (29, 30), (31, 32), (33, 34), (34, 37), (35, 35), (36, 36), (37, 38), (5, 3), (6, 4), (7, 5), (9, 8)], possible=[(10, 21), (10, 9), (19, 17), (22, 21), (22, 9), (31, 31), (32, 33), (4, 4), (8, 8)]),\n",
       " LabeledAlignment(sure=[(1, 1), (10, 7), (11, 5), (12, 10), (13, 11), (14, 14), (15, 17), (16, 15), (17, 16), (21, 19), (22, 20), (23, 21), (25, 24), (26, 28), (27, 26), (28, 27), (3, 2), (32, 30), (33, 31), (34, 32), (36, 25), (37, 25), (38, 25), (39, 34), (4, 3), (5, 4), (7, 8), (9, 6)], possible=[(13, 9), (18, 18), (2, 4), (24, 22), (29, 29), (35, 33), (8, 8)]),\n",
       " LabeledAlignment(sure=[(1, 1), (2, 2), (3, 3), (4, 4)], possible=[]),\n",
       " LabeledAlignment(sure=[(1, 4), (10, 9), (11, 11), (12, 12), (14, 19), (15, 20), (16, 16), (17, 16), (18, 17), (19, 14), (2, 5), (20, 13), (21, 14), (23, 21), (25, 22), (26, 23), (27, 24), (29, 25), (30, 26), (31, 30), (33, 31), (34, 32), (36, 35), (38, 36), (39, 37), (4, 2), (40, 38), (41, 39), (5, 1), (6, 10), (6, 6), (7, 7), (9, 8)], possible=[(13, 15), (13, 17), (15, 18), (16, 17), (17, 17), (18, 16), (22, 21), (24, 24), (28, 26), (3, 5), (32, 30), (32, 32), (35, 33), (35, 34), (37, 34), (37, 35), (40, 33), (8, 9)]),\n",
       " LabeledAlignment(sure=[(1, 1), (10, 9), (11, 11), (12, 12), (14, 14), (15, 18), (16, 16), (17, 17), (2, 3), (20, 21), (21, 20), (22, 22), (23, 23), (25, 15), (26, 15), (27, 15), (28, 24), (3, 4), (4, 7), (5, 5), (6, 6), (9, 10)], possible=[(1, 2), (13, 13), (18, 19), (7, 8)]),\n",
       " LabeledAlignment(sure=[(10, 17), (11, 15), (12, 16), (13, 9), (15, 10), (16, 13), (17, 11), (18, 18), (19, 20), (2, 1), (21, 21), (22, 22), (23, 23), (25, 24), (26, 24), (27, 25), (28, 26), (29, 27), (3, 2), (30, 29), (31, 30), (33, 31), (35, 32), (36, 33), (37, 34), (39, 35), (40, 36), (41, 37), (5, 5), (6, 8), (7, 7)], possible=[(1, 1), (12, 14), (14, 11), (16, 12), (20, 22), (20, 23), (24, 25), (30, 28), (34, 33), (34, 34), (38, 36), (4, 5), (6, 6), (8, 9), (9, 9)]),\n",
       " LabeledAlignment(sure=[(1, 1), (10, 13), (11, 13), (12, 15), (13, 16), (14, 17), (15, 18), (16, 20), (17, 20), (19, 21), (2, 2), (2, 3), (20, 22), (3, 4), (4, 5), (5, 6), (6, 7), (7, 8), (8, 10), (8, 9), (9, 11)], possible=[(10, 14), (11, 14), (16, 19), (17, 19), (18, 20), (18, 21)]),\n",
       " LabeledAlignment(sure=[(10, 7), (11, 11), (12, 13), (13, 14), (14, 15), (15, 16), (16, 17), (18, 20), (19, 20), (20, 21), (21, 22), (22, 24), (23, 25), (24, 26), (25, 27), (25, 28), (26, 29), (27, 30), (28, 31), (3, 1), (31, 32), (32, 33), (33, 33), (34, 34), (35, 35), (4, 3), (5, 9), (6, 10), (8, 5), (9, 6)], possible=[(1, 1), (1, 2), (1, 3), (1, 4), (15, 12), (17, 21), (2, 1), (2, 2), (2, 3), (2, 4), (24, 23), (29, 32), (3, 2), (3, 3), (3, 4), (30, 32), (4, 1), (4, 2), (4, 4), (7, 10)]),\n",
       " LabeledAlignment(sure=[(1, 2), (10, 18), (11, 19), (16, 6), (17, 7), (18, 21), (2, 3), (3, 1), (4, 4), (6, 14), (7, 13), (9, 20)], possible=[(11, 17), (13, 5), (13, 8), (14, 10), (14, 8), (14, 9), (15, 10), (15, 8), (15, 9), (17, 5), (5, 11), (9, 17)]),\n",
       " LabeledAlignment(sure=[(1, 1), (10, 4), (11, 5), (12, 6), (14, 11), (16, 15), (17, 16), (18, 12), (19, 13), (19, 14), (2, 2), (20, 13), (20, 14), (21, 17), (3, 3), (5, 9), (6, 10), (7, 7), (9, 8)], possible=[(15, 12), (4, 7), (8, 8)]),\n",
       " LabeledAlignment(sure=[(11, 13), (11, 14), (12, 10), (13, 11), (14, 15), (2, 2), (3, 1), (4, 3), (5, 4), (6, 7), (7, 8), (8, 5), (9, 9)], possible=[(1, 1), (10, 11), (7, 6)]),\n",
       " LabeledAlignment(sure=[(1, 1), (10, 9), (11, 10), (12, 4), (13, 5), (14, 6), (15, 14), (16, 16), (17, 19), (18, 17), (19, 18), (2, 2), (20, 21), (21, 24), (22, 22), (23, 23), (24, 25), (26, 28), (26, 29), (27, 27), (28, 30), (3, 3), (5, 12), (6, 13), (7, 7), (9, 8)], possible=[(25, 26), (25, 27), (4, 7), (6, 11), (8, 10)]),\n",
       " LabeledAlignment(sure=[(1, 1), (10, 11), (12, 9), (13, 16), (14, 17), (15, 20), (16, 18), (17, 19), (19, 23), (2, 2), (20, 22), (21, 24), (3, 4), (4, 3), (5, 12), (6, 15), (7, 13), (8, 14), (9, 8)], possible=[(12, 10), (18, 21), (18, 22), (18, 23), (19, 21), (19, 22), (20, 21), (20, 23)]),\n",
       " LabeledAlignment(sure=[(1, 8), (10, 15), (11, 16), (12, 19), (13, 17), (14, 18), (15, 20), (16, 21), (18, 22), (18, 23), (19, 24), (2, 9), (21, 27), (21, 28), (22, 25), (24, 31), (25, 30), (26, 32), (4, 5), (4, 6), (5, 1), (5, 2), (7, 11), (8, 13), (9, 14)], possible=[(17, 23), (21, 26), (23, 29), (23, 30), (23, 31), (24, 29), (24, 30), (25, 29), (25, 31), (3, 7), (3, 9), (4, 3), (4, 4), (6, 10), (6, 11), (7, 10), (9, 12)]),\n",
       " LabeledAlignment(sure=[(1, 1), (10, 13), (11, 15), (14, 16), (15, 17), (17, 26), (18, 25), (19, 18), (2, 2), (21, 19), (23, 23), (24, 23), (25, 20), (26, 21), (27, 27), (3, 3), (4, 8), (5, 9), (6, 4), (7, 5), (8, 6), (9, 10)], possible=[(11, 14), (12, 15), (12, 17), (13, 17), (16, 24), (16, 25), (16, 26), (17, 24), (17, 25), (18, 24), (18, 26), (20, 19), (22, 21), (24, 22), (5, 7)]),\n",
       " LabeledAlignment(sure=[(1, 1), (10, 11), (2, 2), (3, 3), (4, 8), (5, 9), (6, 10), (7, 4), (9, 6)], possible=[(4, 7), (6, 7), (8, 5), (8, 6)]),\n",
       " LabeledAlignment(sure=[(1, 1), (10, 10), (11, 13), (12, 11), (13, 12), (16, 16), (17, 15), (18, 17), (19, 18), (21, 21), (22, 24), (23, 22), (24, 23), (27, 27), (28, 26), (29, 28), (3, 2), (30, 29), (33, 32), (34, 31), (35, 33), (4, 3), (6, 5), (7, 4), (8, 8), (9, 9)], possible=[(14, 14), (2, 3), (20, 19), (20, 20), (25, 25), (31, 30), (32, 31), (32, 32), (33, 31), (34, 32), (6, 6), (9, 7)]),\n",
       " LabeledAlignment(sure=[(6, 3), (7, 4), (8, 5), (9, 6)], possible=[(1, 1), (2, 1), (3, 1), (4, 1), (5, 1)]),\n",
       " LabeledAlignment(sure=[(1, 1), (10, 6), (11, 9), (13, 11), (14, 10), (15, 10), (16, 10), (19, 13), (2, 1), (20, 14), (21, 15), (22, 16), (24, 12), (25, 12), (26, 17), (27, 18), (28, 19), (3, 1), (30, 20), (31, 21), (32, 22), (33, 23), (35, 25), (36, 26), (38, 27), (39, 28), (4, 1), (41, 29), (41, 30), (42, 31), (5, 2), (6, 3), (8, 4), (8, 5), (9, 7), (9, 8)], possible=[(12, 11), (18, 13), (18, 16), (23, 12), (29, 21), (34, 23), (34, 24), (35, 24), (37, 27), (40, 29), (40, 30), (7, 3)]),\n",
       " LabeledAlignment(sure=[(1, 1), (10, 9), (11, 10), (12, 11), (13, 12), (14, 13), (15, 15), (16, 14), (17, 14), (18, 16), (2, 2), (20, 17), (21, 18), (22, 19), (23, 20), (3, 3), (4, 4), (5, 4), (6, 5), (7, 6), (8, 7)], possible=[(10, 8), (19, 17), (9, 9)]),\n",
       " LabeledAlignment(sure=[(1, 1), (10, 11), (11, 13), (12, 13), (13, 14), (15, 16), (16, 17), (17, 18), (2, 3), (3, 4), (5, 8), (6, 5), (8, 9), (9, 10)], possible=[(11, 12), (12, 12), (14, 15), (14, 16), (15, 15), (2, 2), (4, 5), (5, 6), (5, 7)]),\n",
       " LabeledAlignment(sure=[(1, 1), (10, 6), (2, 1), (3, 1), (6, 2), (7, 2), (8, 3), (9, 5)], possible=[(5, 2), (8, 4)]),\n",
       " LabeledAlignment(sure=[(1, 1), (10, 10), (11, 12), (13, 12), (15, 13), (15, 14), (15, 15), (16, 8), (17, 16), (19, 19), (2, 2), (24, 17), (25, 18), (26, 21), (3, 3), (4, 4), (6, 5), (7, 6), (8, 7), (9, 9)], possible=[(18, 20), (20, 20), (21, 20), (22, 20), (23, 17), (23, 18), (24, 18), (25, 17), (5, 5), (5, 7)]),\n",
       " LabeledAlignment(sure=[(1, 1), (10, 9), (11, 10), (12, 11), (13, 12), (14, 13), (15, 17), (16, 18), (17, 19), (2, 2), (3, 3), (4, 4), (5, 5), (6, 6), (7, 7), (8, 8)], possible=[(15, 15), (15, 16)]),\n",
       " LabeledAlignment(sure=[(1, 1), (10, 10), (11, 6), (12, 7), (13, 8), (14, 9), (15, 13), (2, 2), (3, 3), (4, 4), (5, 5), (7, 11), (8, 12), (9, 6)], possible=[(6, 11), (6, 12)]),\n",
       " LabeledAlignment(sure=[(10, 9), (11, 7), (12, 11), (13, 12), (14, 15), (15, 15), (16, 16), (16, 17), (16, 18), (18, 20), (19, 22), (2, 1), (20, 21), (21, 23), (3, 3), (4, 2), (5, 4), (6, 5), (7, 6), (9, 8)], possible=[(1, 1), (12, 10), (13, 13), (14, 14), (15, 14), (17, 20), (19, 19), (8, 6)]),\n",
       " LabeledAlignment(sure=[(1, 1), (10, 10), (11, 11), (12, 12), (13, 12), (14, 12), (15, 13), (16, 14), (17, 15), (18, 16), (19, 17), (2, 2), (3, 3), (4, 4), (5, 5), (6, 6), (7, 7), (8, 8), (9, 9)], possible=[]),\n",
       " LabeledAlignment(sure=[(11, 7), (12, 8), (13, 9), (14, 10), (15, 11), (17, 12), (18, 13), (19, 14), (2, 1), (20, 17), (22, 19), (23, 15), (25, 16), (26, 20), (3, 2), (8, 6), (9, 6)], possible=[(1, 1), (1, 2), (10, 3), (10, 4), (10, 5), (10, 6), (16, 12), (16, 13), (21, 19), (22, 18), (24, 16), (4, 3), (4, 4), (4, 5), (4, 6), (5, 3), (5, 4), (5, 5), (5, 6), (6, 3), (6, 4), (6, 5), (6, 6), (7, 3), (7, 4), (7, 5), (7, 6), (8, 3), (8, 4), (8, 5), (9, 3), (9, 4), (9, 5)]),\n",
       " LabeledAlignment(sure=[(1, 1), (2, 1), (5, 3), (6, 2), (7, 4), (8, 5)], possible=[(4, 3)]),\n",
       " LabeledAlignment(sure=[(1, 2), (10, 11), (11, 4), (12, 5), (15, 7), (16, 6), (17, 12), (3, 1), (4, 1), (6, 3), (7, 8), (8, 9), (9, 10)], possible=[(13, 6), (14, 6)]),\n",
       " LabeledAlignment(sure=[(1, 1), (10, 4), (11, 9), (12, 10), (13, 11), (14, 12), (15, 13), (16, 14), (17, 15), (18, 16), (20, 17), (21, 18), (23, 19), (25, 20), (26, 21), (27, 22), (3, 8), (4, 5), (5, 6), (8, 7), (9, 3)], possible=[(19, 17), (19, 18), (2, 8), (22, 19), (22, 21), (24, 20), (3, 5), (3, 6), (3, 7), (4, 6), (4, 7), (4, 8), (5, 5), (5, 7), (5, 8), (6, 5), (6, 6), (6, 7), (6, 8), (7, 5), (7, 6), (7, 7), (7, 8), (8, 5), (8, 6), (8, 8), (9, 2)]),\n",
       " LabeledAlignment(sure=[(10, 2), (11, 3), (13, 5), (14, 6), (15, 7), (16, 8), (17, 9), (18, 10), (19, 11), (2, 13), (20, 19), (21, 12), (3, 14), (4, 18), (7, 15), (7, 16), (7, 17), (8, 1)], possible=[(1, 13), (12, 4), (5, 18), (9, 3)]),\n",
       " LabeledAlignment(sure=[(10, 11), (11, 13), (11, 14), (12, 16), (13, 18), (14, 19), (15, 20), (16, 21), (17, 21), (18, 21), (19, 17), (2, 3), (20, 22), (21, 23), (22, 26), (23, 27), (25, 28), (26, 29), (28, 30), (29, 24), (3, 1), (31, 25), (32, 31), (4, 4), (6, 7), (6, 8), (7, 9), (8, 10), (9, 12)], possible=[(1, 1), (24, 29), (27, 30), (30, 25), (5, 8)]),\n",
       " LabeledAlignment(sure=[(1, 1), (10, 8), (11, 10), (13, 13), (14, 14), (15, 11), (16, 12), (17, 15), (18, 16), (20, 17), (21, 18), (5, 4), (6, 5), (7, 6), (8, 7)], possible=[(11, 9), (12, 13), (19, 17), (2, 2), (2, 3), (3, 2), (3, 3), (4, 2), (4, 3), (9, 8)]),\n",
       " LabeledAlignment(sure=[(1, 1), (3, 2), (4, 3), (5, 4), (6, 5), (7, 6), (8, 7), (9, 8)], possible=[(2, 2)]),\n",
       " LabeledAlignment(sure=[(10, 8), (11, 9), (12, 10), (2, 2), (3, 1), (4, 1), (5, 3), (6, 4), (8, 5), (9, 6)], possible=[(1, 1), (7, 5)]),\n",
       " LabeledAlignment(sure=[(10, 7), (11, 8), (2, 1), (3, 1), (4, 5), (5, 3), (6, 4), (7, 6), (8, 6), (9, 6)], possible=[(1, 1), (1, 2), (2, 2), (3, 2)]),\n",
       " LabeledAlignment(sure=[(1, 1), (10, 10), (11, 11), (13, 12), (14, 13), (16, 14), (17, 15), (18, 16), (2, 1), (20, 17), (21, 19), (22, 22), (23, 23), (24, 24), (3, 4), (4, 2), (5, 5), (7, 7), (8, 8), (9, 9)], possible=[(12, 12), (15, 14), (19, 17), (20, 18), (21, 20), (6, 7), (7, 6)]),\n",
       " LabeledAlignment(sure=[(1, 1), (11, 8), (12, 10), (15, 11), (18, 12), (19, 13), (21, 15), (22, 16), (23, 14), (24, 17), (25, 17), (26, 20), (27, 21), (28, 22), (29, 23), (3, 2), (30, 26), (31, 28), (32, 29), (33, 27), (34, 30), (36, 32), (38, 31), (39, 33), (4, 3), (40, 34), (5, 4), (7, 5), (9, 6)], possible=[(12, 9), (13, 11), (13, 9), (14, 11), (16, 13), (17, 13), (2, 2), (35, 31), (35, 32), (37, 32), (6, 7), (8, 6)]),\n",
       " LabeledAlignment(sure=[(10, 6), (12, 2), (13, 8), (2, 1), (3, 1), (4, 3), (5, 3), (7, 4), (8, 5), (9, 7)], possible=[(1, 1), (11, 2), (6, 4), (6, 6)]),\n",
       " LabeledAlignment(sure=[(1, 2), (12, 12), (13, 9), (14, 13), (2, 4), (3, 3), (4, 5), (5, 7), (6, 7), (7, 7), (8, 6), (9, 8)], possible=[(10, 9), (11, 9), (12, 10), (12, 11)]),\n",
       " LabeledAlignment(sure=[(1, 1), (10, 8), (11, 9), (12, 7), (13, 10), (14, 11), (15, 13), (15, 14), (17, 17), (18, 18), (19, 19), (20, 20), (21, 18), (22, 18), (24, 23), (25, 24), (27, 25), (28, 26), (3, 2), (30, 28), (31, 27), (32, 29), (34, 31), (38, 32), (39, 33), (40, 34), (6, 6), (7, 3)], possible=[(1, 2), (15, 12), (15, 15), (18, 21), (2, 1), (2, 2), (21, 21), (22, 21), (23, 18), (23, 21), (26, 25), (29, 27), (29, 28), (3, 1), (33, 30), (35, 30), (36, 30), (37, 30), (4, 3), (4, 4), (5, 3), (6, 5), (9, 9)]),\n",
       " LabeledAlignment(sure=[(10, 9), (11, 10), (12, 11), (14, 12), (15, 13), (16, 13), (17, 14), (18, 15), (19, 16), (2, 2), (20, 17), (3, 1), (5, 3), (6, 4), (7, 5), (8, 6), (9, 7)], possible=[(1, 1), (13, 12), (4, 3)]),\n",
       " LabeledAlignment(sure=[(10, 8), (11, 9), (12, 10), (13, 11), (14, 12), (15, 13), (16, 14), (17, 15), (18, 16), (19, 17), (2, 1), (20, 18), (21, 19), (23, 23), (25, 20), (26, 20), (27, 21), (28, 22), (29, 24), (3, 4), (30, 26), (31, 27), (32, 28), (33, 29), (4, 2), (6, 5), (8, 6), (9, 7)], possible=[(1, 2), (22, 22), (24, 23), (7, 7)]),\n",
       " LabeledAlignment(sure=[(1, 2), (10, 9), (11, 11), (12, 12), (13, 13), (14, 10), (16, 15), (18, 16), (2, 3), (20, 19), (22, 18), (23, 20), (24, 20), (26, 21), (27, 22), (28, 23), (29, 24), (3, 4), (5, 7), (6, 6), (7, 5)], possible=[(1, 1), (15, 14), (17, 16), (19, 19), (25, 23), (4, 6), (4, 7), (9, 9)]),\n",
       " LabeledAlignment(sure=[(10, 9), (12, 10), (16, 12), (17, 13), (18, 14), (19, 15), (2, 1), (4, 3), (5, 5), (7, 6), (8, 7), (9, 8)], possible=[(1, 3), (11, 10), (13, 11), (14, 11), (15, 11), (2, 2), (2, 3), (3, 1), (3, 2), (3, 3), (4, 1), (4, 2), (5, 4), (6, 7)]),\n",
       " LabeledAlignment(sure=[(10, 10), (11, 3), (12, 4), (13, 11), (2, 1), (6, 2), (6, 6), (7, 5), (8, 5), (9, 7)], possible=[(1, 1), (11, 4), (12, 3)]),\n",
       " LabeledAlignment(sure=[(1, 2), (10, 11), (11, 12), (2, 3), (4, 4), (5, 5), (6, 6), (6, 7), (8, 9), (9, 10)], possible=[(3, 7), (8, 8)]),\n",
       " LabeledAlignment(sure=[(1, 1), (10, 11), (11, 12), (12, 13), (13, 14), (13, 15), (14, 16), (15, 16), (17, 17), (18, 18), (20, 19), (21, 20), (4, 4), (5, 6), (6, 5), (7, 7), (9, 8)], possible=[(1, 2), (16, 17), (19, 19), (3, 4), (4, 3), (8, 8)]),\n",
       " LabeledAlignment(sure=[(1, 1), (10, 10), (11, 11), (12, 13), (13, 14), (14, 14), (16, 17), (17, 18), (18, 18), (19, 19), (20, 20), (21, 21), (22, 22), (23, 23), (24, 24), (25, 25), (27, 26), (28, 29), (29, 28), (3, 2), (30, 30), (31, 31), (32, 32), (33, 33), (34, 34), (35, 35), (36, 40), (38, 36), (39, 37), (4, 2), (40, 38), (41, 41), (6, 5), (7, 6), (8, 8), (9, 9)], possible=[(15, 17), (2, 2), (25, 27), (25, 29), (26, 26), (28, 25), (28, 27), (37, 40), (5, 5), (5, 6), (8, 7)]),\n",
       " LabeledAlignment(sure=[(1, 1), (10, 13), (12, 15), (13, 16), (14, 18), (15, 18), (16, 18), (17, 19), (18, 20), (2, 2), (4, 5), (5, 4), (6, 6), (7, 10), (7, 7), (8, 9), (9, 12)], possible=[(11, 16), (16, 17), (3, 5), (4, 3), (8, 8), (9, 11)]),\n",
       " LabeledAlignment(sure=[(10, 11), (11, 12), (2, 2), (4, 4), (5, 5), (6, 6), (7, 6), (8, 10), (9, 7)], possible=[(1, 2), (3, 3), (8, 8), (8, 9), (9, 8)]),\n",
       " LabeledAlignment(sure=[(10, 12), (11, 13), (12, 14), (13, 7), (14, 15), (15, 17), (16, 18), (17, 16), (19, 19), (20, 20), (21, 21), (22, 22), (23, 23), (3, 4), (4, 3), (7, 8), (8, 8), (9, 11)], possible=[(1, 1), (12, 10), (18, 16), (18, 20), (2, 3), (2, 4)]),\n",
       " LabeledAlignment(sure=[(1, 1), (10, 13), (11, 14), (12, 15), (13, 16), (15, 17), (17, 19), (18, 22), (2, 3), (20, 23), (20, 24), (20, 25), (21, 20), (22, 21), (23, 26), (3, 4), (5, 6), (5, 7), (6, 5), (7, 8), (8, 9), (9, 10), (9, 11)], possible=[(10, 12), (14, 17), (19, 22), (19, 23)]),\n",
       " LabeledAlignment(sure=[(11, 10), (11, 9), (13, 12), (14, 14), (15, 15), (17, 16), (18, 18), (19, 13), (2, 2), (21, 19), (22, 20), (23, 20), (24, 22), (25, 21), (26, 23), (27, 24), (28, 25), (29, 26), (3, 3), (30, 27), (31, 28), (32, 30), (33, 31), (4, 4), (5, 5), (6, 5), (7, 6), (8, 7), (9, 8)], possible=[(1, 2), (10, 8), (12, 11), (16, 16), (20, 17), (22, 22), (23, 22), (24, 20), (3, 1), (32, 29)]),\n",
       " LabeledAlignment(sure=[(10, 5), (11, 9), (12, 10), (14, 11), (15, 12), (17, 14), (19, 13), (2, 1), (21, 15), (23, 16), (24, 17), (26, 18), (27, 19), (28, 20), (3, 2), (4, 3), (5, 4), (6, 6), (8, 7), (9, 8)], possible=[(1, 1), (13, 11), (13, 12), (16, 14), (16, 15), (18, 14), (25, 18), (4, 4), (5, 3), (7, 8)]),\n",
       " LabeledAlignment(sure=[(1, 1), (11, 12), (12, 10), (12, 9), (13, 13), (13, 8), (14, 14), (15, 14), (16, 14), (17, 14), (18, 15), (19, 16), (2, 2), (20, 18), (22, 20), (4, 3), (5, 4), (7, 7), (8, 6), (9, 5)], possible=[(20, 17), (20, 19), (21, 17), (21, 19), (3, 3), (6, 6), (6, 7)]),\n",
       " LabeledAlignment(sure=[(1, 1), (10, 8), (10, 9), (11, 11), (12, 11), (13, 11), (14, 12), (4, 2), (5, 2), (6, 5), (7, 6), (8, 7), (9, 10)], possible=[(2, 2), (3, 2)]),\n",
       " LabeledAlignment(sure=[(10, 9), (11, 9), (13, 11), (14, 12), (15, 13), (16, 14), (17, 15), (18, 20), (19, 21), (2, 6), (20, 22), (21, 23), (23, 16), (24, 17), (25, 17), (26, 18), (27, 19), (28, 24), (6, 7), (7, 7), (8, 8)], possible=[(1, 6), (12, 12), (3, 1), (3, 2), (3, 4), (4, 1), (4, 2), (4, 7), (5, 1), (5, 2), (5, 7), (6, 5), (7, 5), (9, 9)]),\n",
       " LabeledAlignment(sure=[(1, 1), (10, 6), (11, 12), (13, 8), (14, 9), (15, 10), (16, 13), (19, 14), (2, 2), (21, 15), (23, 17), (24, 18), (3, 3), (6, 4), (7, 5), (8, 6), (9, 11)], possible=[(10, 12), (11, 6), (12, 7), (12, 8), (13, 7), (20, 15), (22, 17), (23, 16), (5, 5), (8, 12)]),\n",
       " LabeledAlignment(sure=[(10, 8), (11, 8), (12, 10), (14, 11), (15, 12), (4, 3), (5, 3), (6, 3), (7, 5), (8, 6), (9, 7)], possible=[(12, 9), (13, 10), (13, 11), (13, 9), (2, 2), (2, 3), (3, 2), (3, 3), (4, 2), (5, 2), (6, 2)]),\n",
       " LabeledAlignment(sure=[(1, 1), (10, 9), (13, 10), (14, 11), (15, 12), (16, 13), (17, 14), (18, 18), (19, 15), (2, 3), (21, 16), (22, 17), (23, 17), (24, 19), (3, 4), (4, 5), (6, 6), (6, 7), (8, 8)], possible=[(11, 12), (12, 12), (2, 2), (20, 16), (5, 7), (7, 8), (9, 9)]),\n",
       " LabeledAlignment(sure=[(1, 1), (10, 11), (11, 12), (12, 14), (13, 15), (14, 13), (15, 13), (17, 16), (3, 3), (4, 2), (8, 8), (9, 9)], possible=[(10, 10), (16, 13), (2, 3), (5, 4), (5, 5), (5, 6), (6, 4), (6, 5), (6, 6), (7, 4), (7, 5), (7, 6)]),\n",
       " LabeledAlignment(sure=[(2, 1), (3, 2)], possible=[]),\n",
       " LabeledAlignment(sure=[(1, 1), (2, 2), (3, 3)], possible=[]),\n",
       " LabeledAlignment(sure=[(1, 1), (10, 11), (11, 12), (11, 13), (11, 14), (12, 15), (13, 16), (15, 19), (16, 17), (17, 18), (19, 20), (2, 2), (21, 21), (22, 22), (23, 23), (24, 27), (25, 28), (28, 24), (29, 25), (3, 3), (30, 26), (31, 29), (4, 4), (5, 5), (7, 8), (8, 9), (9, 10)], possible=[(14, 19), (18, 20), (20, 22), (27, 26), (6, 9)]),\n",
       " LabeledAlignment(sure=[(1, 1), (2, 2), (3, 2), (4, 3), (5, 4)], possible=[]),\n",
       " LabeledAlignment(sure=[(1, 1), (10, 8), (11, 12), (12, 13), (13, 14), (14, 15), (14, 16), (15, 17), (16, 20), (20, 23), (21, 25), (3, 2), (4, 3), (5, 4), (6, 5), (7, 7), (8, 10), (9, 11)], possible=[(10, 6), (17, 21), (17, 22), (18, 21), (18, 22), (19, 23), (9, 9)]),\n",
       " LabeledAlignment(sure=[(1, 1), (10, 6), (11, 9), (13, 10), (13, 11), (15, 12), (17, 13), (18, 14), (2, 2), (3, 3), (5, 8), (7, 4), (8, 5), (9, 7)], possible=[(10, 7), (12, 11), (14, 12), (16, 13), (4, 7), (4, 8), (6, 8), (9, 6)]),\n",
       " LabeledAlignment(sure=[(1, 12), (1, 13), (1, 14), (10, 9), (11, 10), (12, 11), (14, 15), (15, 16), (17, 19), (18, 20), (19, 31), (20, 36), (21, 34), (22, 35), (23, 21), (24, 22), (25, 23), (26, 24), (28, 26), (3, 1), (30, 28), (33, 25), (34, 37), (4, 2), (4, 3), (5, 4), (6, 5), (8, 7), (9, 8)], possible=[(16, 16), (16, 18), (19, 30), (22, 33), (27, 25), (27, 26)]),\n",
       " LabeledAlignment(sure=[(1, 1), (10, 8), (11, 9), (12, 10), (2, 2), (5, 4), (7, 5), (8, 6), (9, 7)], possible=[(3, 3), (3, 4), (4, 4), (6, 6)]),\n",
       " LabeledAlignment(sure=[(1, 1), (2, 2), (3, 3)], possible=[]),\n",
       " LabeledAlignment(sure=[(10, 6), (11, 7), (12, 8), (13, 9), (14, 10), (15, 13), (17, 16), (18, 14), (18, 15), (19, 19), (2, 1), (2, 2), (20, 20), (21, 21), (22, 22), (23, 23), (24, 24), (25, 25), (27, 26), (29, 27), (3, 3), (30, 28), (31, 29), (4, 4), (6, 11), (7, 12), (9, 5)], possible=[(1, 4), (16, 13), (26, 28), (28, 26), (5, 12), (5, 5), (8, 12)]),\n",
       " LabeledAlignment(sure=[(1, 1), (10, 9), (11, 10), (12, 11), (13, 12), (14, 13), (15, 14), (16, 15), (17, 16), (18, 17), (19, 17), (2, 2), (21, 18), (22, 21), (23, 22), (24, 19), (25, 23), (26, 25), (27, 26), (3, 3), (4, 4), (5, 4), (9, 7)], possible=[(20, 19), (25, 24), (5, 5), (5, 8), (6, 4), (6, 5), (6, 6), (6, 8), (7, 7), (8, 7)]),\n",
       " LabeledAlignment(sure=[(10, 6), (11, 7), (13, 8), (14, 9), (15, 10), (17, 11), (18, 12), (19, 13), (2, 1), (4, 2), (5, 3), (6, 4), (9, 5)], possible=[(1, 1), (12, 8), (16, 11), (16, 12), (3, 2), (7, 6), (8, 6)]),\n",
       " LabeledAlignment(sure=[(1, 1), (10, 10), (12, 12), (13, 13), (14, 14), (15, 15), (17, 22), (18, 23), (18, 25), (19, 24), (2, 3), (20, 23), (20, 25), (21, 26), (22, 27), (22, 28), (23, 18), (24, 19), (26, 21), (27, 20), (28, 29), (3, 4), (4, 5), (5, 6), (6, 7), (7, 8), (9, 10)], possible=[(10, 11), (11, 11), (16, 16), (17, 17), (17, 23), (17, 25), (18, 17), (18, 22), (2, 2), (20, 17), (20, 22), (25, 19), (8, 9), (9, 11)]),\n",
       " LabeledAlignment(sure=[(1, 1), (10, 13), (11, 14), (12, 15), (13, 16), (14, 17), (15, 17), (16, 18), (17, 19), (18, 21), (19, 22), (21, 23), (22, 24), (23, 25), (24, 26), (25, 27), (3, 2), (4, 5), (5, 6), (6, 7), (7, 10), (8, 9), (9, 12)], possible=[(20, 23), (3, 4), (8, 8)]),\n",
       " LabeledAlignment(sure=[(1, 1), (10, 9), (12, 13), (13, 14), (15, 15), (16, 15), (19, 17), (19, 18), (19, 19), (2, 2), (20, 16), (21, 20), (3, 3), (5, 10), (6, 11), (7, 12)], possible=[(10, 4), (10, 5), (10, 6), (10, 7), (11, 13), (11, 4), (11, 5), (11, 6), (11, 7), (11, 9), (14, 15), (17, 16), (18, 16), (8, 4), (8, 5), (8, 6), (8, 7), (8, 9), (9, 4), (9, 5), (9, 6), (9, 7), (9, 9)]),\n",
       " LabeledAlignment(sure=[(1, 4), (12, 9), (13, 10), (14, 11), (15, 12), (16, 13), (18, 14), (19, 15), (20, 16), (21, 17), (4, 2), (5, 3), (6, 5), (7, 7), (9, 8)], possible=[(10, 9), (11, 9), (17, 16), (3, 3), (5, 1), (8, 8)]),\n",
       " LabeledAlignment(sure=[(1, 1), (10, 5), (12, 8), (13, 9), (14, 10), (15, 11), (17, 13), (18, 14), (19, 15), (20, 18), (21, 19), (22, 16), (23, 17), (24, 20), (3, 2), (4, 3), (5, 3), (6, 3), (7, 3), (9, 4)], possible=[(11, 7), (16, 14), (2, 2), (8, 5)]),\n",
       " LabeledAlignment(sure=[(1, 5), (10, 9), (11, 11), (12, 12), (13, 13), (14, 13), (15, 13), (17, 14), (18, 15), (19, 16), (2, 1), (3, 2), (4, 3), (5, 4), (6, 6), (8, 9), (9, 9)], possible=[(16, 15), (7, 9)]),\n",
       " LabeledAlignment(sure=[(1, 12), (10, 20), (11, 21), (12, 22), (13, 23), (15, 25), (17, 1), (19, 3), (2, 13), (20, 4), (21, 5), (22, 6), (23, 7), (24, 8), (25, 24), (3, 15), (4, 16), (5, 17), (6, 14), (7, 14), (8, 18), (9, 19)], possible=[(16, 1), (18, 5), (18, 6)]),\n",
       " LabeledAlignment(sure=[(1, 3), (10, 9), (11, 12), (12, 13), (13, 14), (14, 15), (16, 16), (17, 17), (18, 18), (2, 4), (20, 19), (21, 20), (22, 21), (23, 23), (24, 25), (25, 26), (26, 27), (27, 28), (28, 29), (29, 30), (3, 5), (30, 30), (31, 31), (32, 32), (33, 32), (34, 33), (36, 35), (37, 34), (38, 36), (4, 6), (5, 7), (6, 1), (7, 8), (8, 9), (9, 9)], possible=[(15, 11), (15, 16), (19, 19), (35, 35)]),\n",
       " LabeledAlignment(sure=[(1, 1), (10, 12), (11, 13), (12, 14), (16, 15), (17, 16), (18, 17), (19, 23), (2, 2), (20, 24), (22, 31), (23, 31), (24, 31), (25, 32), (26, 33), (27, 34), (28, 35), (29, 36), (3, 3), (30, 37), (31, 27), (32, 30), (33, 28), (34, 38), (5, 7), (6, 7), (7, 8), (8, 10), (9, 11)], possible=[(13, 17), (14, 18), (14, 19), (14, 20), (14, 21), (14, 22), (15, 18), (15, 19), (15, 20), (15, 21), (15, 22), (21, 31), (4, 6)]),\n",
       " LabeledAlignment(sure=[(10, 13), (11, 14), (12, 15), (15, 16), (16, 17), (17, 18), (2, 1), (3, 5), (4, 6), (5, 6), (6, 8), (6, 9), (7, 7), (8, 11), (9, 12)], possible=[(1, 1), (13, 16), (14, 16)]),\n",
       " LabeledAlignment(sure=[(10, 11), (11, 4), (12, 5), (13, 12), (2, 1), (3, 2), (4, 3), (6, 8), (8, 8), (9, 9)], possible=[(1, 1), (5, 8), (6, 6), (6, 7), (7, 6), (7, 7), (7, 8), (8, 6), (8, 7)]),\n",
       " LabeledAlignment(sure=[(1, 1), (11, 9), (12, 10), (13, 11), (14, 12), (15, 12), (16, 13), (16, 14), (18, 21), (18, 22), (18, 23), (18, 24), (18, 25), (19, 17), (20, 18), (21, 19), (22, 20), (23, 15), (25, 26), (26, 28), (27, 29), (29, 30), (3, 1), (30, 31), (31, 32), (33, 33), (34, 34), (35, 35), (36, 36), (37, 38), (39, 39), (40, 40), (5, 2), (6, 3), (7, 4), (8, 5), (9, 6)], possible=[(10, 10), (10, 9), (17, 15), (21, 16), (24, 26), (26, 27), (28, 29), (32, 33), (32, 34), (37, 37), (38, 39)]),\n",
       " LabeledAlignment(sure=[(1, 1), (10, 8), (11, 9), (12, 10), (13, 13), (14, 16), (16, 14), (18, 12), (20, 11), (21, 17), (3, 2), (4, 3), (6, 6), (8, 7)], possible=[(16, 15), (17, 10), (17, 12), (19, 11), (5, 7)]),\n",
       " LabeledAlignment(sure=[(1, 1), (11, 9), (12, 11), (14, 14), (16, 15), (18, 12), (19, 13), (21, 16), (23, 17), (24, 18), (25, 19), (26, 20), (27, 21), (28, 22), (29, 24), (3, 7), (31, 26), (34, 27), (35, 29), (39, 30), (39, 31), (4, 5), (40, 32), (41, 33), (42, 34), (43, 35), (46, 37), (47, 39), (5, 5), (6, 6), (7, 2), (8, 4), (9, 8)], possible=[(10, 9), (13, 14), (13, 15), (2, 7), (20, 16), (22, 17), (30, 25), (30, 26), (31, 25), (32, 27), (33, 27), (36, 32), (44, 38), (45, 37), (45, 38), (46, 36), (46, 38), (7, 3), (7, 4), (8, 2), (8, 3)]),\n",
       " LabeledAlignment(sure=[(1, 5), (10, 4), (11, 8), (13, 11), (14, 12), (15, 13), (17, 14), (18, 15), (20, 16), (22, 17), (23, 18), (25, 19), (27, 20), (28, 21), (29, 22), (3, 6), (31, 27), (32, 28), (33, 29), (34, 30), (35, 31), (36, 32), (36, 33), (36, 34), (37, 35), (38, 36), (4, 7), (6, 1)], possible=[(12, 11), (12, 12), (16, 15), (19, 16), (19, 17), (21, 16), (24, 19), (26, 22), (30, 27), (7, 2), (7, 3), (8, 2), (8, 3)]),\n",
       " LabeledAlignment(sure=[(1, 2), (10, 10), (12, 11), (13, 12), (14, 8), (15, 7), (16, 13), (18, 15), (2, 3), (20, 14), (23, 16), (25, 17), (27, 18), (28, 19), (30, 22), (32, 23), (33, 24), (34, 26), (36, 27), (37, 28), (38, 29), (39, 31), (4, 4), (40, 30), (41, 32), (42, 33), (43, 34), (5, 5), (6, 6), (8, 9)], possible=[(1, 1), (17, 14), (19, 15), (22, 16), (24, 17), (29, 22), (3, 5), (31, 24), (34, 25), (35, 29), (7, 10)]),\n",
       " LabeledAlignment(sure=[(10, 6), (13, 6), (16, 8), (17, 10), (2, 3), (20, 11), (21, 12), (22, 13), (23, 14), (4, 4), (6, 1), (7, 2), (8, 5)], possible=[(1, 2), (1, 4), (10, 7), (10, 8), (11, 6), (11, 7), (11, 8), (12, 6), (12, 7), (12, 8), (13, 7), (13, 8), (14, 6), (14, 7), (14, 8), (15, 6), (15, 7), (15, 8), (16, 6), (16, 7), (18, 13), (19, 13), (9, 6), (9, 7), (9, 8)]),\n",
       " LabeledAlignment(sure=[(1, 1), (11, 11), (13, 13), (14, 16), (15, 17), (19, 21), (2, 3), (20, 23), (21, 24), (22, 25), (23, 26), (25, 15), (26, 14), (27, 19), (29, 20), (3, 2), (30, 27), (5, 5), (6, 4), (7, 7), (8, 8), (9, 10)], possible=[(10, 11), (13, 12), (17, 21), (18, 21), (19, 22), (19, 23), (20, 21), (20, 22), (24, 15), (27, 18), (28, 20), (4, 4), (7, 6)]),\n",
       " LabeledAlignment(sure=[(1, 3), (10, 8), (11, 9), (12, 10), (2, 4), (4, 5), (7, 1), (8, 2), (9, 6), (9, 7)], possible=[(3, 5), (5, 1), (5, 2), (6, 1), (6, 2)]),\n",
       " LabeledAlignment(sure=[(1, 1), (10, 13), (11, 9), (12, 11), (13, 12), (14, 10), (15, 14), (3, 2), (4, 4), (5, 3), (6, 6), (8, 7), (9, 8)], possible=[(6, 5), (7, 7), (7, 8)]),\n",
       " LabeledAlignment(sure=[(1, 1), (11, 10), (13, 9), (14, 11), (15, 13), (17, 14), (18, 17), (19, 15), (20, 18), (21, 21), (22, 19), (23, 20), (24, 22), (25, 23), (27, 24), (28, 25), (3, 2), (4, 3), (5, 5), (6, 7), (8, 6), (8, 8)], possible=[(10, 10), (10, 9), (12, 10), (15, 12), (16, 15), (18, 16), (2, 3), (26, 24), (5, 4), (7, 8), (9, 9)]),\n",
       " LabeledAlignment(sure=[(1, 15), (10, 5), (13, 6), (14, 7), (15, 8), (16, 9), (17, 10), (18, 11), (19, 12), (20, 13), (21, 16), (22, 18), (24, 19), (25, 20), (26, 22), (26, 23), (26, 24), (27, 21), (28, 25), (29, 28), (30, 26), (31, 29), (4, 1), (5, 2), (6, 3), (7, 3), (8, 4)], possible=[(1, 14), (11, 6), (11, 7), (12, 6), (12, 7), (22, 17), (23, 21), (3, 2), (9, 5)]),\n",
       " LabeledAlignment(sure=[(1, 1), (10, 7), (11, 7), (12, 8), (13, 9), (14, 10), (15, 11), (16, 14), (18, 12), (19, 16), (20, 17), (22, 17), (24, 18), (24, 19), (25, 20), (26, 21), (28, 24), (29, 22), (3, 2), (31, 23), (33, 26), (35, 28), (36, 29), (38, 27), (39, 30), (4, 3), (6, 6), (8, 6)], possible=[(18, 13), (19, 15), (27, 21), (27, 24), (30, 23), (32, 25), (32, 26), (33, 25), (34, 27), (37, 29), (5, 6)]),\n",
       " LabeledAlignment(sure=[(10, 11), (11, 12), (13, 10), (14, 13), (2, 1), (4, 4), (5, 5), (6, 6), (7, 7), (8, 8), (9, 9)], possible=[(1, 1), (12, 10), (3, 5)]),\n",
       " LabeledAlignment(sure=[(1, 1), (10, 9), (11, 10), (12, 11), (13, 12), (14, 13), (16, 14), (18, 15), (19, 16), (2, 2), (20, 19), (21, 20), (22, 21), (26, 22), (27, 23), (28, 26), (29, 27), (3, 3), (30, 28), (31, 24), (32, 25), (33, 29), (4, 4), (5, 5), (6, 5), (7, 6), (8, 7), (9, 8)], possible=[(17, 15), (19, 17), (19, 18), (23, 23)]),\n",
       " LabeledAlignment(sure=[(10, 5), (11, 10), (12, 14), (13, 15), (14, 16), (15, 17), (16, 18), (19, 27), (2, 1), (20, 25), (21, 26), (22, 20), (22, 21), (23, 22), (25, 30), (26, 31), (27, 32), (28, 33), (29, 34), (30, 35), (31, 36), (32, 37), (33, 39), (35, 41), (36, 41), (37, 41), (39, 44), (40, 45), (41, 46), (42, 43), (44, 47), (45, 48), (46, 50), (47, 49), (48, 51), (49, 52), (50, 53), (51, 53), (52, 53), (53, 53), (54, 54), (55, 55), (56, 56), (7, 2), (8, 3), (9, 4)], possible=[(1, 1), (12, 15), (13, 14), (17, 22), (17, 23), (18, 22), (22, 19), (23, 19), (24, 28), (24, 29), (24, 34), (3, 5), (33, 38), (34, 40), (34, 41), (38, 43), (4, 5), (5, 6), (5, 7), (5, 8), (5, 9), (6, 6), (6, 7), (6, 8), (6, 9)]),\n",
       " LabeledAlignment(sure=[(10, 13), (12, 14), (13, 15), (14, 16), (15, 17), (16, 18), (17, 19), (17, 20), (17, 21), (18, 22), (19, 23), (2, 1), (20, 24), (21, 25), (22, 26), (3, 2), (4, 5), (5, 6), (6, 6), (7, 7), (8, 10), (8, 11), (8, 12), (9, 8)], possible=[(1, 1), (8, 9)]),\n",
       " LabeledAlignment(sure=[(1, 1), (10, 9), (13, 13), (14, 14), (15, 12), (16, 15), (17, 16), (18, 16), (19, 17), (2, 3), (21, 18), (22, 19), (23, 20), (24, 21), (25, 22), (26, 23), (27, 24), (28, 25), (3, 2), (3, 3), (30, 26), (31, 27), (33, 29), (34, 30), (35, 30), (36, 32), (37, 32), (38, 34), (39, 33), (4, 6), (40, 35), (41, 36), (42, 36), (43, 37), (44, 38), (6, 7), (8, 8), (9, 10), (9, 11)], possible=[(11, 5), (12, 14), (2, 2), (20, 18), (29, 26), (5, 7), (7, 9)]),\n",
       " LabeledAlignment(sure=[(10, 9), (11, 12), (12, 15), (13, 13), (14, 14), (15, 16), (16, 17), (17, 17), (18, 18), (19, 10), (2, 1), (2, 2), (20, 11), (21, 19), (22, 22), (23, 23), (24, 24), (25, 27), (26, 25), (27, 26), (28, 28), (29, 29), (3, 3), (30, 30), (6, 4), (7, 5), (8, 8), (9, 9)], possible=[(1, 2), (22, 20), (22, 21), (4, 4), (5, 4)]),\n",
       " LabeledAlignment(sure=[(10, 13), (12, 11), (14, 14), (15, 16), (16, 17), (17, 18), (18, 18), (19, 18), (2, 1), (22, 24), (24, 26), (25, 27), (26, 28), (27, 19), (28, 20), (29, 31), (3, 2), (5, 8), (6, 6), (7, 9), (8, 9), (9, 10)], possible=[(1, 1), (12, 12), (20, 21), (21, 21), (23, 25), (26, 29), (26, 30), (4, 6), (5, 7)]),\n",
       " LabeledAlignment(sure=[(1, 1), (10, 7), (12, 10), (13, 9), (14, 11), (15, 12), (16, 16), (18, 14), (19, 15), (20, 17), (21, 13), (22, 18), (23, 19), (24, 20), (26, 27), (28, 26), (29, 23), (29, 24), (3, 2), (31, 25), (32, 28), (4, 3), (5, 3), (6, 3), (7, 4), (8, 5), (9, 6)], possible=[(10, 8), (11, 10), (11, 9), (12, 9), (13, 10), (13, 8), (17, 16), (25, 27), (27, 27), (30, 25)]),\n",
       " LabeledAlignment(sure=[(1, 1), (10, 11), (13, 12), (14, 13), (15, 14), (16, 15), (17, 16), (18, 17), (19, 18), (2, 3), (20, 20), (21, 21), (22, 22), (23, 24), (24, 24), (28, 25), (29, 26), (30, 27), (5, 4), (6, 5), (7, 8), (8, 9), (9, 10)], possible=[(11, 12), (12, 12), (2, 2), (20, 19), (24, 23), (25, 24), (26, 24), (27, 25), (3, 4), (4, 4)]),\n",
       " LabeledAlignment(sure=[(10, 11), (11, 12), (12, 5), (14, 6), (15, 7), (16, 8), (17, 16), (18, 18), (19, 17), (2, 1), (20, 19), (23, 20), (24, 21), (25, 22), (4, 4), (5, 9), (6, 13), (7, 14), (8, 15), (9, 10)], possible=[(1, 1), (13, 8), (3, 4)]),\n",
       " LabeledAlignment(sure=[(10, 10), (11, 11), (12, 12), (13, 13), (16, 15), (18, 16), (2, 2), (26, 19), (27, 20), (28, 21), (29, 24), (3, 1), (33, 25), (34, 26), (35, 27), (4, 3), (6, 6), (7, 7), (8, 8), (9, 9)], possible=[(1, 1), (17, 16), (19, 17), (19, 18), (20, 17), (21, 17), (21, 18), (22, 17), (22, 18), (23, 17), (23, 18), (24, 17), (24, 18), (25, 17), (25, 18), (25, 19), (30, 23), (31, 22), (31, 23), (32, 23), (5, 6)]),\n",
       " LabeledAlignment(sure=[(1, 1), (10, 8), (11, 8), (12, 9), (13, 12), (14, 10), (15, 11), (16, 13), (17, 14), (19, 15), (20, 16), (3, 2), (4, 3), (5, 4), (6, 5), (8, 6), (9, 7)], possible=[(18, 15), (2, 2), (7, 6)]),\n",
       " LabeledAlignment(sure=[(10, 5), (12, 10), (13, 11), (14, 7), (15, 8), (18, 18), (2, 2), (4, 1), (6, 3), (7, 4), (9, 5)], possible=[(1, 1), (1, 2), (11, 6), (11, 9), (13, 9), (14, 6), (16, 12), (16, 13), (16, 14), (16, 15), (16, 16), (16, 17), (17, 12), (17, 13), (17, 14), (17, 15), (17, 16), (17, 17), (3, 2)]),\n",
       " LabeledAlignment(sure=[(11, 33), (12, 35), (12, 36), (12, 37), (13, 34), (15, 2), (16, 3), (17, 4), (18, 5), (19, 8), (20, 9), (21, 10), (22, 11), (22, 12), (23, 13), (24, 14), (25, 15), (26, 16), (27, 17), (28, 20), (3, 27), (30, 18), (30, 19), (31, 38), (4, 28), (6, 29), (7, 30), (8, 31), (9, 32)], possible=[(1, 23), (1, 26), (10, 33), (10, 34), (2, 27), (5, 29)]),\n",
       " LabeledAlignment(sure=[(10, 13), (11, 16), (12, 14), (13, 15), (14, 17), (15, 18), (16, 19), (17, 20), (18, 21), (19, 22), (2, 1), (20, 23), (21, 24), (22, 25), (23, 26), (25, 30), (26, 28), (27, 29), (29, 31), (30, 32), (31, 33), (32, 34), (33, 35), (34, 36), (4, 3), (4, 4), (4, 5), (4, 6), (5, 2), (6, 7), (7, 10), (8, 11), (9, 12)], possible=[(1, 1), (23, 27), (24, 29), (3, 2)]),\n",
       " LabeledAlignment(sure=[(1, 1), (10, 7), (11, 12), (2, 2), (2, 3), (3, 4), (5, 10), (6, 11), (7, 5), (9, 6)], possible=[(3, 9), (4, 8), (8, 8)]),\n",
       " LabeledAlignment(sure=[(1, 1), (10, 12), (12, 10), (13, 13), (14, 14), (16, 15), (18, 16), (2, 2), (20, 17), (21, 18), (23, 19), (24, 21), (25, 22), (26, 25), (27, 25), (28, 25), (29, 25), (3, 5), (30, 24), (31, 23), (32, 26), (4, 6), (5, 7), (5, 8), (6, 7), (6, 8), (7, 9), (9, 11)], possible=[(11, 10), (15, 15), (19, 18), (22, 19), (24, 20), (26, 24), (27, 24), (28, 24), (29, 24), (30, 25)]),\n",
       " LabeledAlignment(sure=[(1, 1), (11, 13), (12, 14), (13, 15), (14, 16), (15, 17), (16, 18), (17, 19), (18, 20), (2, 2), (3, 5), (5, 6), (6, 8), (7, 9), (8, 10), (8, 11), (9, 12)], possible=[(10, 14), (4, 6), (5, 7)]),\n",
       " LabeledAlignment(sure=[(10, 9), (12, 14), (12, 15), (12, 16), (12, 17), (13, 12), (14, 20), (15, 19), (16, 20), (18, 21), (19, 22), (2, 1), (21, 23), (22, 24), (23, 25), (24, 26), (3, 2), (4, 2), (5, 3), (5, 5), (6, 6), (7, 7), (9, 8)], possible=[(1, 1), (11, 12), (12, 13), (12, 18), (15, 20), (17, 22), (20, 23), (5, 4), (8, 8)]),\n",
       " LabeledAlignment(sure=[(1, 2), (10, 9), (11, 10), (12, 11), (13, 12), (14, 13), (15, 14), (16, 15), (17, 16), (18, 17), (19, 18), (20, 19), (3, 1), (4, 3), (5, 4), (6, 5), (7, 6), (9, 7)], possible=[(10, 8), (18, 18), (19, 17), (8, 7)]),\n",
       " LabeledAlignment(sure=[(1, 1), (10, 8), (11, 9), (12, 10), (13, 11), (14, 12), (15, 13), (16, 14), (17, 15), (18, 16), (20, 17), (22, 18), (24, 19), (25, 20), (27, 21), (28, 22), (29, 23), (3, 3), (30, 24), (31, 25), (32, 26), (4, 2), (5, 4), (7, 6), (7, 7), (8, 5)], possible=[(19, 17), (2, 4), (21, 18), (21, 20)]),\n",
       " LabeledAlignment(sure=[(1, 1), (10, 8), (11, 12), (2, 2), (3, 3), (5, 4), (6, 5), (7, 6), (9, 7)], possible=[]),\n",
       " LabeledAlignment(sure=[(1, 1), (10, 11), (11, 12), (13, 13), (14, 13), (17, 24), (18, 23), (18, 25), (18, 26), (19, 16), (2, 2), (20, 14), (22, 18), (23, 19), (24, 20), (25, 21), (26, 27), (27, 30), (29, 28), (3, 3), (30, 31), (4, 4), (5, 5), (6, 6), (7, 7), (8, 8)], possible=[(12, 13), (15, 14), (17, 22), (17, 23), (17, 25), (17, 26), (18, 22), (18, 24), (19, 15), (21, 20), (29, 29)]),\n",
       " LabeledAlignment(sure=[(1, 1), (10, 10), (12, 12), (13, 13), (14, 14), (15, 15), (16, 17), (17, 16), (18, 18), (2, 2), (20, 19), (21, 19), (22, 19), (23, 20), (26, 21), (27, 22), (28, 23), (29, 24), (3, 3), (31, 25), (33, 26), (34, 29), (35, 30), (35, 31), (37, 32), (39, 33), (4, 4), (40, 34), (41, 35), (43, 36), (44, 37), (5, 5), (6, 6), (8, 9), (9, 9)], possible=[(10, 9), (11, 11), (11, 12), (12, 11), (19, 19), (24, 22), (25, 22), (30, 25), (32, 26), (36, 31), (36, 32), (38, 34), (42, 36), (8, 10), (9, 10)]),\n",
       " LabeledAlignment(sure=[(1, 1), (10, 13), (11, 14), (12, 15), (12, 16), (12, 17), (13, 18), (14, 19), (15, 20), (17, 21), (18, 22), (19, 23), (2, 2), (20, 39), (23, 40), (25, 40), (27, 42), (28, 41), (3, 3), (30, 30), (31, 31), (32, 32), (33, 33), (34, 34), (36, 29), (37, 35), (38, 36), (39, 37), (4, 4), (40, 38), (41, 46), (5, 5), (6, 6), (8, 10), (8, 9)], possible=[(12, 18), (13, 15), (13, 16), (13, 17), (16, 21), (21, 41), (22, 41), (29, 26), (29, 27), (29, 29), (35, 34), (36, 28), (9, 13)]),\n",
       " LabeledAlignment(sure=[(1, 1), (10, 7), (11, 8), (12, 9), (4, 2), (5, 2), (6, 3), (7, 4), (8, 5), (9, 6)], possible=[(2, 3), (3, 3)]),\n",
       " LabeledAlignment(sure=[(1, 1), (10, 10), (11, 10), (12, 11), (13, 12), (15, 19), (16, 17), (17, 15), (18, 15), (19, 16), (2, 2), (20, 20), (3, 3), (4, 4), (5, 5), (6, 6), (7, 9)], possible=[(10, 11), (11, 11), (12, 10), (14, 17), (15, 18), (8, 10), (8, 11), (9, 10), (9, 11)]),\n",
       " LabeledAlignment(sure=[(10, 8), (11, 9), (12, 11), (13, 10), (14, 13), (15, 15), (16, 18), (17, 16), (18, 19), (2, 2), (3, 1), (6, 5), (8, 7), (9, 8)], possible=[(1, 1), (10, 6), (10, 9), (11, 6), (11, 8), (15, 14), (16, 17), (4, 5), (7, 6), (7, 8), (7, 9), (9, 6), (9, 9)]),\n",
       " LabeledAlignment(sure=[(1, 1), (10, 11), (13, 12), (14, 13), (15, 14), (16, 15), (17, 16), (18, 17), (19, 18), (2, 2), (20, 21), (22, 19), (23, 22), (3, 3), (4, 4), (5, 5), (6, 6), (7, 9), (8, 10)], possible=[(11, 11), (12, 13), (22, 20), (9, 11)]),\n",
       " LabeledAlignment(sure=[(10, 9), (11, 11), (12, 11), (13, 12), (2, 1), (3, 2), (4, 3), (5, 6), (6, 4), (9, 8)], possible=[(1, 1), (11, 10), (12, 10), (6, 5), (7, 5), (7, 7), (8, 8)]),\n",
       " LabeledAlignment(sure=[(1, 8), (10, 14), (11, 13), (12, 15), (13, 16), (14, 17), (15, 18), (17, 20), (18, 21), (2, 7), (20, 22), (24, 23), (25, 24), (27, 25), (28, 26), (29, 27), (3, 1), (30, 28), (31, 29), (33, 31), (34, 32), (36, 30), (37, 34), (38, 35), (4, 2), (5, 3), (6, 4), (7, 5), (8, 12)], possible=[(1, 10), (1, 7), (1, 9), (2, 10), (2, 8), (2, 9), (21, 19), (22, 19), (23, 19), (26, 30), (32, 30), (32, 32), (35, 32), (36, 33), (37, 33)]),\n",
       " LabeledAlignment(sure=[(1, 1), (10, 12), (12, 10), (14, 15), (15, 16), (16, 17), (17, 18), (18, 19), (19, 20), (2, 2), (20, 21), (21, 22), (26, 25), (3, 3), (30, 13), (31, 14), (32, 28), (4, 4), (5, 5), (6, 6), (7, 8), (9, 9)], possible=[(12, 11), (22, 25), (23, 25), (24, 23), (24, 26), (24, 27), (25, 24), (25, 26), (25, 27), (27, 24), (27, 26), (27, 27), (29, 13), (7, 7), (8, 9)]),\n",
       " LabeledAlignment(sure=[(1, 2), (10, 10), (10, 11), (10, 9), (11, 6), (12, 7), (13, 12), (14, 13), (15, 16), (16, 17), (17, 19), (18, 20), (19, 22), (2, 1), (20, 23), (21, 24), (22, 25), (24, 21), (25, 26), (4, 3), (6, 4), (7, 4), (8, 5)], possible=[(10, 8), (14, 14), (16, 15), (17, 18), (23, 21), (5, 5), (9, 7), (9, 8)]),\n",
       " LabeledAlignment(sure=[(1, 6), (10, 15), (11, 11), (13, 12), (16, 3), (17, 1), (18, 2), (19, 4), (2, 7), (20, 4), (21, 17), (5, 9), (6, 10), (7, 13), (8, 16), (9, 14)], possible=[(12, 16), (14, 15), (15, 5), (3, 8), (3, 9), (4, 9)]),\n",
       " LabeledAlignment(sure=[(1, 4), (10, 13), (13, 10), (15, 11), (16, 15), (17, 16), (18, 17), (19, 18), (2, 2), (2, 3), (21, 19), (22, 20), (23, 22), (24, 26), (25, 24), (25, 25), (26, 23), (27, 27), (3, 1), (4, 5), (5, 6), (6, 8), (7, 9), (8, 12), (9, 14)], possible=[(11, 15), (12, 16), (14, 14), (20, 19), (26, 21), (7, 7)]),\n",
       " LabeledAlignment(sure=[(1, 1), (10, 11), (11, 12), (2, 2), (3, 3), (4, 4), (5, 9), (6, 10), (8, 7), (9, 8)], possible=[(7, 11)]),\n",
       " LabeledAlignment(sure=[(1, 1), (10, 11), (11, 7), (12, 10), (13, 12), (2, 2), (3, 4), (4, 5), (5, 8), (7, 9), (9, 6)], possible=[(4, 3), (6, 11), (8, 10)]),\n",
       " LabeledAlignment(sure=[(10, 9), (11, 10), (12, 11), (14, 12), (16, 12), (18, 13), (19, 14), (20, 15), (22, 18), (23, 19), (25, 22), (26, 20), (27, 21), (29, 21), (31, 22), (32, 23), (33, 24), (34, 25), (35, 26), (36, 27), (37, 28), (38, 31), (38, 32), (39, 29), (4, 3), (40, 33), (41, 34), (42, 35), (43, 35), (44, 35), (45, 36), (46, 37), (47, 37), (48, 40), (49, 38), (5, 4), (50, 41), (6, 5), (7, 6), (8, 7), (9, 8)], possible=[(1, 1), (1, 2), (13, 12), (2, 1), (2, 2), (21, 19), (24, 22), (3, 1), (3, 2), (38, 30), (48, 39)]),\n",
       " LabeledAlignment(sure=[(1, 2), (10, 10), (13, 13), (15, 15), (17, 16), (18, 17), (2, 3), (21, 18), (22, 19), (23, 20), (3, 6), (4, 7), (6, 9), (8, 10)], possible=[(12, 11), (13, 12), (16, 17), (19, 18), (19, 19), (20, 18), (20, 19), (5, 8), (7, 10)]),\n",
       " LabeledAlignment(sure=[(10, 8), (12, 8), (14, 9), (15, 10), (16, 11), (17, 12), (18, 13), (19, 14), (2, 1), (21, 15), (22, 16), (23, 17), (4, 2), (6, 3), (7, 6), (8, 7)], possible=[(1, 1), (20, 16), (9, 8)]),\n",
       " LabeledAlignment(sure=[(1, 1), (10, 10), (11, 11), (13, 13), (14, 14), (15, 15), (16, 16), (17, 17), (18, 18), (19, 19), (2, 2), (20, 20), (23, 21), (24, 21), (26, 24), (28, 22), (29, 23), (3, 3), (30, 25), (4, 4), (5, 5), (6, 6), (7, 7), (8, 8), (9, 9)], possible=[(12, 14), (21, 23), (22, 23), (25, 24), (27, 24)]),\n",
       " LabeledAlignment(sure=[(1, 1), (10, 5), (12, 7), (13, 8), (14, 9), (15, 10), (17, 12), (18, 11), (19, 13), (2, 1), (20, 14), (21, 15), (22, 16), (23, 17), (25, 18), (26, 19), (29, 20), (30, 21), (31, 22), (32, 23), (33, 24), (34, 26), (35, 27), (38, 28), (39, 30), (40, 34), (41, 31), (42, 34), (43, 34), (44, 36), (45, 38), (46, 37), (47, 39), (48, 40), (49, 41), (5, 2), (50, 42), (51, 43), (52, 44), (54, 45), (55, 47), (56, 48), (57, 49), (58, 50), (59, 51), (6, 3), (9, 4)], possible=[(16, 11), (16, 12), (17, 11), (18, 12), (24, 19), (24, 6), (27, 20), (28, 20), (3, 1), (36, 28), (37, 28), (39, 29), (4, 3), (40, 33), (40, 35), (40, 36), (41, 32), (42, 33), (42, 35), (42, 36), (43, 33), (43, 35), (43, 36), (44, 33), (44, 34), (44, 35), (53, 45), (7, 5), (8, 5)]),\n",
       " LabeledAlignment(sure=[(1, 1), (10, 10), (10, 11), (11, 12), (12, 13), (14, 15), (15, 16), (17, 14), (18, 17), (19, 20), (2, 2), (20, 18), (21, 21), (3, 3), (4, 4), (4, 5), (5, 6), (7, 7), (8, 8), (9, 9)], possible=[(13, 14), (13, 16), (16, 16), (6, 8)]),\n",
       " LabeledAlignment(sure=[(1, 1), (11, 16), (12, 14), (13, 15), (14, 17), (15, 18), (15, 19), (16, 21), (17, 20), (18, 22), (19, 23), (21, 8), (22, 9), (24, 12), (25, 10), (26, 11), (27, 24), (3, 4), (3, 5), (4, 2), (5, 3), (7, 7), (8, 6), (9, 13)], possible=[(10, 15), (2, 3), (23, 11)]),\n",
       " LabeledAlignment(sure=[(1, 1), (10, 10), (11, 12), (12, 15), (14, 16), (17, 13), (18, 17), (19, 14), (20, 18), (21, 19), (22, 20), (3, 2), (4, 3), (6, 6), (7, 7), (8, 8), (9, 9)], possible=[(11, 11), (13, 17), (15, 18), (16, 19), (5, 6)]),\n",
       " LabeledAlignment(sure=[(1, 2), (10, 10), (11, 6), (12, 9), (13, 11), (2, 1), (3, 3), (4, 4), (5, 7), (7, 8), (9, 5)], possible=[(6, 10), (8, 9)]),\n",
       " LabeledAlignment(sure=[(1, 1), (10, 12), (11, 13), (12, 15), (13, 16), (13, 17), (14, 19), (15, 18), (16, 20), (17, 21), (19, 5), (2, 2), (20, 9), (21, 7), (22, 8), (23, 6), (24, 6), (25, 22), (4, 4), (5, 3), (6, 10), (7, 11), (9, 14)], possible=[(8, 13)]),\n",
       " LabeledAlignment(sure=[(1, 1), (10, 4), (11, 8), (12, 9), (13, 13), (14, 16), (15, 14), (16, 15), (17, 17), (18, 18), (18, 19), (20, 23), (24, 11), (26, 12), (3, 2), (30, 24), (31, 21), (32, 25), (33, 26), (34, 27), (4, 3), (7, 6), (9, 5)], possible=[(12, 7), (13, 22), (19, 24), (2, 3), (21, 25), (22, 26), (23, 10), (24, 20), (25, 16), (27, 15), (29, 18), (29, 19), (6, 5), (6, 6), (8, 6)]),\n",
       " LabeledAlignment(sure=[(1, 1), (10, 11), (11, 7), (12, 10), (13, 12), (2, 2), (3, 4), (4, 5), (5, 8), (7, 9), (9, 6)], possible=[(4, 3), (6, 11), (8, 10)]),\n",
       " LabeledAlignment(sure=[(10, 9), (11, 8), (12, 7), (13, 11), (14, 12), (16, 14), (17, 15), (18, 17), (19, 16), (2, 5), (20, 18), (3, 5), (4, 6), (5, 6), (7, 3), (8, 2)], possible=[(1, 1), (1, 4), (14, 10), (15, 14), (5, 4), (6, 3)]),\n",
       " LabeledAlignment(sure=[(1, 2), (11, 10), (12, 11), (14, 12), (16, 13), (18, 19), (19, 20), (2, 3), (20, 21), (21, 22), (22, 23), (25, 17), (26, 24), (28, 25), (29, 26), (3, 4), (30, 27), (33, 28), (34, 29), (4, 5), (5, 6), (7, 9), (8, 9), (9, 9)], possible=[(10, 10), (13, 13), (15, 13), (15, 14), (15, 15), (16, 14), (16, 15), (17, 18), (17, 22), (23, 14), (24, 15), (27, 25), (31, 28), (32, 28), (6, 9)]),\n",
       " LabeledAlignment(sure=[(11, 17), (11, 18), (12, 15), (13, 14), (14, 11), (15, 19), (16, 20), (17, 26), (18, 29), (19, 28), (2, 1), (20, 30), (21, 31), (22, 21), (23, 22), (24, 23), (25, 25), (26, 24), (27, 32), (3, 2), (4, 3), (5, 5), (6, 6), (6, 7), (7, 9), (8, 10)], possible=[(1, 2), (10, 11), (10, 18), (11, 16), (13, 12), (13, 13), (17, 27), (5, 4), (6, 8), (9, 11), (9, 18)]),\n",
       " LabeledAlignment(sure=[(1, 8), (10, 15), (12, 19), (13, 20), (14, 16), (15, 17), (16, 18), (17, 22), (18, 23), (19, 24), (20, 24), (21, 25), (22, 26), (23, 27), (25, 29), (26, 28), (27, 30), (28, 31), (3, 1), (30, 34), (32, 39), (33, 40), (34, 41), (35, 36), (35, 37), (35, 38), (38, 42), (39, 43), (4, 3), (4, 4), (40, 44), (42, 46), (43, 47), (5, 2), (6, 9), (7, 10), (9, 12)], possible=[(1, 6), (11, 20), (2, 8), (24, 28), (29, 31), (29, 34), (31, 40), (34, 35), (36, 42), (37, 42), (4, 2), (4, 5), (41, 46), (5, 3), (5, 4), (8, 13), (8, 14)]),\n",
       " LabeledAlignment(sure=[(1, 1), (10, 12), (11, 13), (12, 14), (14, 15), (15, 16), (16, 18), (17, 19), (18, 20), (19, 21), (20, 22), (21, 23), (22, 24), (23, 25), (24, 29), (24, 30), (25, 26), (26, 31), (3, 2), (4, 4), (5, 6), (6, 11), (7, 7), (8, 10), (8, 9), (9, 8)], possible=[(13, 15), (2, 2), (24, 27), (24, 28), (8, 8), (9, 10), (9, 9)]),\n",
       " LabeledAlignment(sure=[(1, 2), (10, 13), (13, 11), (14, 9), (16, 15), (17, 16), (18, 17), (19, 18), (21, 14), (22, 20), (24, 24), (25, 25), (26, 26), (3, 3), (4, 4), (5, 6), (8, 7), (9, 12)], possible=[(11, 8), (11, 9), (12, 9), (14, 8), (15, 14), (2, 3), (20, 14), (23, 21), (23, 22), (23, 23), (23, 24), (24, 21), (24, 22), (24, 23), (5, 5)]),\n",
       " LabeledAlignment(sure=[(11, 10), (14, 13), (15, 11), (16, 15), (17, 18), (18, 19), (19, 20), (2, 2), (20, 24), (21, 26), (22, 27), (23, 21), (24, 22), (25, 23), (28, 16), (29, 17), (3, 1), (30, 28), (4, 3), (5, 6), (6, 7), (6, 8), (8, 9)], possible=[(1, 1), (10, 10), (12, 11), (13, 11), (16, 14), (26, 17), (27, 17), (6, 9), (7, 7), (7, 8), (7, 9), (8, 7), (8, 8), (9, 10)]),\n",
       " LabeledAlignment(sure=[(1, 1), (10, 9), (12, 10), (13, 12), (14, 13), (15, 14), (16, 15), (17, 17), (18, 16), (2, 2), (20, 20), (21, 19), (22, 18), (23, 21), (3, 3), (4, 2), (5, 5), (7, 7), (8, 8)], possible=[(11, 13), (19, 19), (4, 4), (6, 7), (9, 9)]),\n",
       " LabeledAlignment(sure=[(10, 8), (11, 11), (13, 10), (14, 13), (17, 15), (2, 1), (20, 16), (21, 17), (24, 18), (25, 20), (26, 22), (27, 23), (28, 24), (29, 25), (3, 2), (30, 27), (31, 28), (32, 29), (33, 30), (34, 31), (36, 33), (37, 34), (38, 35), (39, 36), (4, 4), (40, 37), (41, 38), (42, 39), (5, 6), (6, 5), (7, 7), (8, 7)], possible=[(1, 1), (12, 11), (13, 9), (15, 7), (18, 14), (22, 18), (23, 18), (25, 19), (26, 21), (35, 34), (4, 3), (9, 8)]),\n",
       " LabeledAlignment(sure=[(1, 1), (10, 9), (11, 11), (12, 16), (13, 15), (14, 14), (15, 17), (2, 2), (3, 3), (4, 4), (6, 6), (7, 5), (8, 7), (9, 10)], possible=[(12, 12), (12, 13)]),\n",
       " LabeledAlignment(sure=[(10, 8), (11, 9), (12, 10), (14, 13), (15, 13), (17, 18), (18, 16), (19, 17), (2, 1), (20, 19), (20, 20), (21, 14), (22, 21), (23, 22), (25, 31), (26, 32), (27, 33), (28, 34), (29, 35), (30, 36), (33, 26), (34, 27), (35, 28), (35, 29), (37, 37), (4, 2), (5, 3), (6, 4), (7, 5), (8, 6), (9, 7)], possible=[(1, 1), (13, 13), (16, 14), (24, 23), (3, 3), (31, 37), (32, 30), (32, 36), (33, 24), (33, 25), (36, 23), (36, 28), (36, 29)]),\n",
       " LabeledAlignment(sure=[(1, 1), (11, 7), (12, 10), (13, 8), (14, 9), (15, 11), (16, 12), (17, 13), (18, 14), (19, 15), (20, 16), (21, 17), (28, 22), (3, 2), (4, 3), (5, 4), (6, 5)], possible=[(10, 10), (10, 9), (22, 18), (22, 19), (23, 18), (23, 19), (24, 20), (24, 21), (25, 20), (25, 21), (26, 20), (26, 21), (27, 20), (27, 21)]),\n",
       " LabeledAlignment(sure=[(13, 8), (14, 9), (15, 10), (16, 11), (17, 12), (18, 13), (19, 14), (2, 1), (20, 15), (21, 16), (22, 17), (23, 18), (24, 19), (25, 20), (3, 2), (30, 27), (30, 28), (31, 23), (32, 24), (33, 25), (34, 29), (4, 2), (6, 3), (7, 4), (8, 5)], possible=[(1, 1), (10, 6), (10, 7), (11, 6), (11, 7), (12, 10), (26, 21), (26, 22), (27, 21), (27, 22), (28, 24), (28, 25), (29, 24), (29, 25), (34, 26), (5, 2), (5, 4), (9, 6), (9, 7)]),\n",
       " LabeledAlignment(sure=[(1, 2), (10, 7), (11, 11), (12, 12), (15, 19), (16, 17), (17, 18), (20, 20), (21, 21), (23, 22), (24, 23), (26, 24), (27, 25), (29, 26), (3, 3), (30, 27), (31, 28), (32, 29), (33, 31), (34, 32), (35, 33), (36, 34), (37, 35), (38, 36), (5, 1), (6, 4), (6, 5), (7, 6), (8, 9), (9, 10)], possible=[(12, 13), (12, 14), (12, 15), (12, 16), (13, 12), (13, 13), (13, 14), (13, 15), (13, 16), (14, 12), (14, 13), (14, 14), (14, 15), (14, 16), (18, 15), (19, 16), (25, 24), (28, 28), (30, 28), (31, 27), (4, 3), (9, 8)]),\n",
       " LabeledAlignment(sure=[(1, 1), (10, 8), (11, 9), (12, 10), (13, 11), (14, 12), (15, 13), (16, 14), (17, 23), (18, 23), (19, 20), (20, 15), (21, 16), (22, 17), (23, 18), (24, 19), (26, 21), (27, 22), (28, 24), (29, 25), (3, 2), (30, 26), (32, 27), (33, 28), (34, 29), (35, 30), (36, 31), (37, 32), (4, 3), (5, 4), (6, 5), (7, 6), (9, 7)], possible=[(2, 2), (8, 7)]),\n",
       " LabeledAlignment(sure=[(1, 3), (3, 1), (4, 4), (5, 5), (6, 5), (7, 6), (8, 7), (9, 8)], possible=[(2, 2), (2, 3)]),\n",
       " LabeledAlignment(sure=[(1, 1), (2, 2), (3, 3), (4, 3), (5, 4), (6, 5), (6, 6), (7, 7)], possible=[]),\n",
       " LabeledAlignment(sure=[(1, 1), (11, 10), (12, 10), (13, 11), (14, 12), (15, 13), (16, 14), (17, 15), (18, 16), (19, 17), (2, 2), (20, 18), (23, 19), (25, 19), (27, 22), (28, 20), (29, 23), (3, 3), (4, 4), (5, 5), (7, 6), (7, 7), (9, 9)], possible=[(21, 20), (22, 20), (27, 21), (8, 6), (8, 7), (8, 8), (9, 8)]),\n",
       " LabeledAlignment(sure=[(1, 1), (11, 11), (12, 12), (14, 13), (14, 14), (15, 15), (16, 15), (19, 16), (19, 17), (2, 2), (20, 18), (21, 19), (22, 20), (3, 3), (4, 4), (5, 5), (6, 6), (7, 7), (8, 8), (9, 9)], possible=[(10, 10), (13, 13), (13, 14), (13, 15), (17, 19), (18, 19)]),\n",
       " LabeledAlignment(sure=[(1, 1), (10, 10), (11, 11), (12, 12), (13, 13), (14, 15), (15, 14), (17, 16), (18, 18), (2, 2), (20, 21), (21, 21), (22, 19), (23, 21), (25, 20), (26, 23), (27, 24), (29, 26), (3, 3), (30, 26), (31, 25), (32, 27), (33, 28), (35, 29), (37, 30), (40, 31), (41, 32), (42, 33), (7, 7), (8, 8), (9, 9)], possible=[(16, 16), (18, 17), (19, 21), (24, 20), (26, 22), (28, 26), (36, 30), (38, 32), (39, 32), (4, 4), (4, 5), (5, 4), (5, 5), (6, 11), (6, 6)]),\n",
       " LabeledAlignment(sure=[(11, 4), (13, 5), (14, 9), (15, 10), (18, 11), (20, 12), (21, 16), (22, 13), (23, 14), (24, 17), (26, 18), (28, 19), (3, 6), (30, 20), (4, 7), (5, 8), (7, 2), (9, 3)], possible=[(1, 8), (12, 1), (12, 2), (16, 11), (17, 11), (19, 14), (25, 19), (6, 1), (6, 2), (7, 1), (8, 3), (8, 4)]),\n",
       " LabeledAlignment(sure=[(1, 2), (10, 6), (11, 7), (12, 8), (13, 9), (14, 10), (15, 11), (16, 12), (17, 17), (18, 18), (19, 19), (2, 2), (20, 20), (21, 21), (23, 14), (23, 15), (24, 13), (25, 22), (5, 1), (7, 3), (8, 4), (9, 5)], possible=[(22, 16), (22, 21), (3, 1), (4, 1), (6, 2)]),\n",
       " LabeledAlignment(sure=[(10, 8), (11, 9), (12, 10), (13, 17), (15, 30), (15, 31), (16, 32), (16, 33), (17, 18), (18, 19), (19, 20), (2, 1), (20, 21), (21, 22), (22, 23), (23, 25), (25, 26), (28, 34), (3, 2), (30, 46), (30, 47), (31, 48), (31, 49), (32, 35), (33, 36), (34, 37), (35, 38), (36, 39), (37, 40), (39, 43), (40, 50), (5, 3), (6, 13), (7, 14), (7, 15), (7, 16), (8, 6), (9, 7)], possible=[(1, 1), (14, 20), (23, 24), (27, 27), (31, 38), (4, 8), (40, 39)]),\n",
       " LabeledAlignment(sure=[(10, 12), (12, 11), (13, 13), (15, 14), (15, 15), (16, 16), (18, 20), (19, 17), (19, 18), (2, 4), (23, 23), (24, 26), (26, 24), (26, 25), (27, 27), (3, 1), (3, 2), (4, 5), (4, 6), (5, 9), (7, 7), (7, 8), (8, 10)], possible=[(1, 2), (11, 12), (17, 18), (18, 19), (2, 3), (20, 21), (20, 22), (21, 21), (21, 22), (22, 23), (9, 11)]),\n",
       " LabeledAlignment(sure=[(1, 1), (10, 10), (12, 11), (13, 12), (14, 14), (15, 15), (16, 15), (17, 16), (18, 19), (18, 20), (19, 17), (19, 18), (2, 4), (20, 21), (21, 23), (22, 24), (23, 24), (24, 25), (25, 26), (26, 27), (27, 29), (28, 30), (29, 31), (3, 2), (30, 32), (31, 33), (32, 34), (33, 35), (34, 36), (35, 37), (37, 42), (38, 43), (39, 38), (40, 39), (41, 45), (42, 46), (43, 47), (44, 47), (45, 48), (46, 49), (47, 50), (48, 51), (49, 52), (5, 5), (50, 53), (51, 54), (52, 55), (53, 56), (54, 57), (55, 58), (56, 59), (7, 6), (7, 7), (8, 8), (9, 9)], possible=[(14, 15), (15, 14), (16, 14), (27, 28), (36, 39), (37, 43), (38, 40), (38, 41), (38, 42), (41, 44), (6, 9)]),\n",
       " LabeledAlignment(sure=[(11, 11), (11, 12), (11, 13), (11, 14), (12, 8), (13, 9), (14, 10), (15, 16), (16, 17), (18, 18), (18, 19), (2, 1), (20, 21), (21, 22), (22, 23), (23, 24), (3, 2), (4, 2), (5, 3), (7, 5), (8, 6), (9, 7)], possible=[(1, 1), (10, 10), (15, 15), (17, 19), (19, 20), (19, 23), (4, 3), (5, 2), (6, 2)]),\n",
       " LabeledAlignment(sure=[(1, 1), (11, 7), (12, 8), (14, 9), (15, 10), (16, 11), (17, 12), (18, 15), (19, 16), (2, 2), (20, 17), (22, 18), (24, 19), (25, 20), (26, 21), (28, 23), (29, 24), (3, 2), (31, 13), (33, 14), (34, 25), (4, 2), (5, 2), (6, 3), (7, 4), (8, 5), (9, 6)], possible=[(10, 6), (10, 7), (11, 6), (13, 9), (21, 18), (23, 19), (27, 24), (32, 14), (9, 7)]),\n",
       " LabeledAlignment(sure=[(1, 1), (10, 6), (11, 8), (2, 2), (3, 3), (4, 3), (5, 4), (7, 7), (9, 5)], possible=[(6, 7), (8, 7)]),\n",
       " LabeledAlignment(sure=[(1, 1), (10, 8), (11, 7), (12, 10), (12, 9), (13, 11), (14, 12), (15, 13), (17, 15), (18, 16), (2, 1), (20, 17), (21, 18), (22, 19), (23, 20), (24, 22), (25, 23), (27, 31), (28, 32), (3, 2), (30, 33), (31, 34), (32, 35), (33, 27), (34, 27), (35, 28), (37, 29), (38, 30), (39, 27), (4, 4), (41, 24), (42, 24), (44, 25), (45, 26), (46, 36), (5, 5), (7, 6)], possible=[(11, 10), (11, 9), (12, 7), (16, 15), (17, 14), (19, 17), (25, 21), (26, 31), (29, 32), (36, 30), (4, 3), (40, 24), (6, 6), (9, 8)]),\n",
       " LabeledAlignment(sure=[(1, 1), (10, 8), (11, 12), (11, 13), (13, 15), (15, 21), (16, 17), (17, 23), (19, 24), (2, 2), (20, 18), (21, 22), (22, 26), (23, 28), (25, 29), (26, 30), (27, 31), (28, 32), (3, 3), (4, 4), (5, 5), (6, 6), (8, 7), (9, 10), (9, 11), (9, 9)], possible=[(10, 10), (10, 11), (10, 9), (12, 12), (12, 13), (12, 14), (13, 14), (14, 19), (14, 20), (24, 27), (7, 8), (9, 8)]),\n",
       " LabeledAlignment(sure=[(10, 10), (11, 11), (12, 12), (13, 13), (14, 14), (15, 15), (16, 16), (17, 16), (19, 17), (2, 1), (20, 18), (21, 19), (22, 20), (23, 21), (24, 22), (25, 25), (27, 23), (28, 26), (3, 3), (4, 2), (5, 4), (5, 5), (6, 7), (7, 8), (8, 9)], possible=[(1, 1), (18, 18), (26, 24), (26, 25), (7, 6), (9, 11)]),\n",
       " LabeledAlignment(sure=[(1, 1), (10, 6), (11, 7), (12, 8), (13, 15), (14, 13), (15, 14), (16, 9), (17, 10), (18, 17), (19, 18), (20, 19), (21, 20), (22, 21), (23, 22), (24, 23), (25, 24), (26, 25), (27, 26), (28, 27), (29, 28), (3, 2), (30, 29), (31, 29), (32, 29), (33, 30), (34, 31), (35, 32), (36, 34), (37, 35), (38, 36), (40, 39), (41, 37), (42, 40), (43, 42), (44, 43), (45, 44), (46, 45), (48, 47), (48, 48), (49, 46), (50, 49), (51, 50), (52, 52), (53, 53), (54, 54), (55, 55), (57, 59), (57, 60), (58, 57), (58, 58), (59, 56), (6, 3), (60, 61), (8, 4), (9, 5)], possible=[(18, 16), (39, 37), (39, 39), (4, 3), (40, 38), (47, 46), (5, 3), (56, 56), (7, 10)]),\n",
       " LabeledAlignment(sure=[(1, 1), (11, 7), (12, 7), (13, 8), (15, 9), (18, 10), (2, 3), (20, 11), (21, 12), (23, 13), (24, 14), (26, 20), (27, 17), (28, 19), (29, 21), (4, 4), (5, 5), (8, 6), (9, 7)], possible=[(10, 2), (10, 7), (11, 2), (12, 2), (14, 9), (16, 10), (17, 10), (19, 15), (25, 20), (27, 18), (6, 3), (9, 2)]),\n",
       " LabeledAlignment(sure=[(10, 10), (11, 11), (13, 13), (14, 12), (15, 14), (19, 15), (20, 18), (21, 21), (22, 19), (23, 20), (23, 21), (24, 22), (25, 22), (27, 24), (28, 25), (29, 26), (30, 27), (31, 28), (33, 23), (34, 29), (4, 6), (5, 7), (6, 8), (7, 4), (8, 4), (9, 9)], possible=[(1, 1), (1, 2), (1, 3), (12, 12), (16, 14), (16, 15), (17, 17), (18, 16), (2, 1), (2, 2), (2, 3), (21, 20), (26, 23), (32, 29)]),\n",
       " LabeledAlignment(sure=[(1, 1), (11, 9), (12, 8), (14, 2), (15, 2), (16, 11), (17, 13), (18, 14), (2, 1), (21, 18), (22, 16), (23, 19), (24, 20), (25, 21), (26, 22), (4, 3), (5, 4), (6, 5)], possible=[(10, 8), (13, 10), (19, 14), (19, 15), (20, 16), (7, 6), (7, 7), (8, 6), (8, 7), (9, 8)]),\n",
       " LabeledAlignment(sure=[(11, 2), (12, 3), (13, 4), (14, 14), (2, 13), (3, 12), (4, 9), (5, 6), (5, 7), (5, 8), (6, 9), (7, 9), (8, 10), (9, 11)], possible=[(1, 12), (10, 4), (13, 5), (14, 5)]),\n",
       " LabeledAlignment(sure=[(11, 13), (14, 19), (15, 16), (15, 17), (16, 21), (17, 25), (18, 26), (19, 22), (2, 7), (20, 23), (21, 24), (22, 27), (3, 8), (5, 5), (7, 6), (8, 10), (9, 12)], possible=[(1, 1), (1, 2), (1, 3), (1, 4), (10, 13), (12, 17), (16, 20), (17, 20), (4, 9), (9, 11)]),\n",
       " LabeledAlignment(sure=[(1, 1), (10, 8), (12, 9), (13, 10), (13, 12), (14, 10), (14, 12), (16, 13), (17, 14), (18, 15), (19, 16), (2, 3), (21, 17), (22, 18), (3, 2), (4, 2), (5, 4), (6, 5), (7, 6), (8, 7)], possible=[(11, 9), (13, 11), (14, 11), (15, 10), (15, 11), (15, 12), (9, 8)]),\n",
       " LabeledAlignment(sure=[(10, 10), (11, 14), (12, 13), (13, 16), (14, 17), (14, 19), (15, 18), (17, 20), (2, 5), (3, 4), (4, 6), (6, 7), (8, 8), (9, 9)], possible=[(11, 15), (12, 12), (13, 12), (14, 18), (15, 17), (15, 19), (16, 15), (16, 17), (16, 18), (16, 19), (2, 1), (2, 2), (2, 3), (2, 4), (3, 1), (3, 2), (3, 3), (3, 5), (7, 9)]),\n",
       " LabeledAlignment(sure=[(1, 2), (11, 20), (12, 18), (13, 19), (17, 21), (17, 22), (18, 23), (19, 24), (2, 3), (20, 25), (21, 26), (22, 27), (23, 28), (24, 29), (25, 30), (26, 31), (3, 4), (4, 5), (5, 6), (6, 7), (7, 8), (9, 11)], possible=[(10, 15), (14, 13), (14, 14), (14, 15), (15, 13), (15, 14), (15, 15), (16, 13), (16, 14), (16, 15), (8, 11)]),\n",
       " LabeledAlignment(sure=[(1, 1), (10, 10), (11, 11), (12, 12), (13, 13), (16, 17), (17, 16), (17, 18), (18, 14), (19, 15), (2, 2), (20, 19), (22, 20), (23, 21), (25, 22), (26, 23), (28, 25), (29, 26), (3, 3), (30, 27), (31, 28), (32, 29), (36, 32), (37, 33), (38, 34), (39, 35), (4, 4), (40, 36), (42, 47), (42, 48), (43, 47), (43, 48), (44, 40), (45, 41), (46, 42), (47, 43), (48, 44), (48, 45), (49, 37), (5, 5), (51, 52), (52, 53), (53, 54), (54, 55), (55, 57), (56, 58), (58, 60), (59, 61), (6, 6), (7, 7), (8, 8), (9, 9)], possible=[(14, 15), (21, 20), (24, 23), (27, 24), (27, 27), (33, 30), (33, 31), (34, 30), (34, 31), (35, 30), (35, 31), (41, 37), (41, 40), (42, 46), (43, 46), (52, 56), (56, 56), (58, 59)]),\n",
       " LabeledAlignment(sure=[(1, 1), (10, 12), (11, 15), (12, 15), (14, 13), (15, 14), (16, 16), (2, 2), (3, 3), (4, 4), (6, 9), (7, 10), (8, 5), (9, 11)], possible=[(13, 14), (5, 5)]),\n",
       " LabeledAlignment(sure=[(10, 11), (11, 11), (12, 10), (13, 11), (14, 12), (16, 14), (17, 15), (18, 16), (19, 17), (2, 1), (20, 18), (21, 19), (22, 20), (25, 26), (26, 27), (27, 28), (29, 24), (3, 4), (30, 29), (31, 29), (32, 32), (33, 32), (34, 30), (35, 31), (36, 33), (4, 4), (5, 8), (8, 6), (9, 7)], possible=[(1, 1), (15, 13), (23, 22), (23, 23), (23, 24), (24, 22), (24, 23), (24, 24), (28, 25), (28, 28), (29, 22), (29, 23), (3, 8), (4, 8), (5, 4), (6, 7), (7, 5), (7, 7)]),\n",
       " LabeledAlignment(sure=[(10, 7), (12, 8), (13, 9), (14, 10), (15, 11), (16, 12), (17, 13), (18, 14), (18, 15), (2, 1), (21, 17), (22, 18), (23, 19), (24, 20), (25, 21), (26, 23), (28, 25), (29, 26), (3, 2), (30, 27), (31, 28), (32, 29), (33, 30), (35, 31), (36, 32), (37, 33), (38, 34), (39, 35), (40, 36), (41, 37), (42, 38), (43, 39), (48, 42), (49, 43), (5, 3), (50, 44), (51, 45), (6, 5), (8, 6), (9, 7)], possible=[(1, 1), (11, 8), (17, 14), (17, 15), (18, 13), (20, 17), (27, 23), (27, 24), (34, 30), (34, 32), (4, 3), (44, 40), (44, 41), (45, 40), (45, 41), (46, 40), (46, 41), (47, 44), (6, 4), (7, 7)]),\n",
       " LabeledAlignment(sure=[(1, 1), (10, 10), (11, 11), (12, 13), (13, 14), (14, 15), (15, 16), (17, 17), (18, 18), (19, 19), (2, 2), (20, 20), (21, 21), (3, 2), (4, 3), (5, 4), (6, 5), (7, 6), (8, 8), (9, 9)], possible=[(16, 18), (8, 7)]),\n",
       " LabeledAlignment(sure=[(1, 1), (11, 12), (13, 13), (14, 14), (15, 15), (17, 17), (18, 16), (19, 18), (20, 19), (21, 20), (22, 21), (24, 22), (26, 24), (27, 26), (29, 27), (29, 28), (3, 2), (3, 3), (30, 31), (31, 32), (32, 33), (33, 34), (35, 35), (37, 36), (38, 37), (39, 38), (4, 4), (4, 5), (5, 7), (7, 8), (8, 9), (9, 11)], possible=[(10, 12), (12, 14), (16, 17), (25, 23), (25, 24), (26, 23), (27, 25), (28, 27), (28, 28), (34, 35), (36, 36), (36, 37), (5, 6)]),\n",
       " LabeledAlignment(sure=[(1, 1), (10, 8), (3, 2), (4, 3), (6, 4), (7, 5), (8, 6), (9, 7)], possible=[(2, 3), (5, 4), (5, 6)]),\n",
       " LabeledAlignment(sure=[(1, 1), (10, 7), (11, 4), (12, 8), (14, 9), (15, 9), (16, 10), (18, 12), (19, 14), (2, 1), (20, 16), (22, 18), (23, 20), (25, 21), (26, 22), (27, 23), (28, 24), (29, 24), (3, 1), (30, 25), (32, 26), (35, 28), (36, 27), (37, 29), (5, 2), (6, 3), (8, 5), (9, 6)], possible=[(13, 10), (13, 9), (17, 12), (23, 19), (24, 22), (31, 25), (33, 28), (4, 3)]),\n",
       " LabeledAlignment(sure=[(11, 6), (12, 7), (13, 9), (15, 8), (16, 10), (17, 14), (18, 15), (19, 19), (2, 1), (20, 20), (21, 21), (22, 22), (23, 23), (24, 16), (25, 11), (27, 12), (28, 13), (29, 24), (3, 2), (4, 2), (5, 2), (6, 3), (7, 4), (8, 5)], possible=[(1, 1), (10, 6), (14, 8), (15, 10), (16, 8), (26, 13), (9, 6)]),\n",
       " LabeledAlignment(sure=[(1, 1), (10, 10), (12, 14), (14, 15), (16, 16), (17, 17), (18, 18), (19, 19), (2, 2), (21, 20), (22, 21), (23, 22), (24, 23), (25, 24), (26, 25), (27, 26), (3, 3), (30, 28), (31, 27), (32, 29), (4, 4), (5, 5), (7, 6), (8, 7), (9, 9)], possible=[(11, 14), (13, 15), (15, 16), (20, 20), (20, 21), (28, 28), (6, 6)]),\n",
       " LabeledAlignment(sure=[(13, 10), (2, 1), (3, 3), (5, 6), (7, 7), (8, 4), (9, 8)], possible=[(1, 1), (10, 9), (11, 9), (12, 9), (3, 2), (4, 6), (6, 7)]),\n",
       " LabeledAlignment(sure=[(1, 2), (15, 15), (16, 16), (17, 17), (18, 18), (19, 19), (2, 1), (20, 20), (21, 21), (22, 22), (23, 24), (25, 25), (26, 26), (28, 27), (28, 28), (29, 29), (3, 5), (31, 30), (33, 32), (34, 33), (35, 34), (36, 35), (37, 36), (38, 37), (39, 38), (4, 6), (40, 39), (41, 40), (42, 42), (43, 43), (44, 44), (45, 45), (46, 46), (47, 47), (48, 48), (49, 49), (5, 7), (50, 50), (51, 51), (52, 52), (53, 53), (54, 54), (55, 55), (56, 56), (57, 57), (6, 8), (7, 10), (9, 11)], possible=[(10, 11), (10, 13), (10, 14), (12, 12), (14, 11), (14, 13), (14, 14), (23, 23), (24, 25), (27, 28), (3, 4), (30, 30), (32, 31), (32, 32), (33, 31), (42, 41), (7, 9), (8, 11), (8, 13), (8, 14), (9, 13), (9, 14)]),\n",
       " LabeledAlignment(sure=[(1, 1), (10, 8), (12, 9), (13, 10), (16, 11), (18, 12), (2, 2), (20, 14), (22, 13), (23, 15), (24, 15), (26, 18), (27, 16), (28, 17), (29, 18), (3, 3), (30, 22), (31, 24), (32, 23), (33, 24), (34, 20), (35, 21), (36, 25), (4, 4), (7, 5), (8, 6), (9, 7)], possible=[(11, 10), (11, 9), (14, 11), (14, 14), (15, 11), (15, 14), (17, 12), (19, 13), (19, 14), (20, 13), (21, 13), (21, 14), (22, 14), (25, 18), (31, 25), (34, 24), (34, 25), (35, 19), (5, 6), (6, 6)]),\n",
       " LabeledAlignment(sure=[(11, 7), (12, 8), (15, 13), (16, 14), (17, 10), (17, 11), (17, 12), (18, 16), (19, 16), (2, 1), (21, 17), (22, 18), (23, 19), (24, 20), (25, 21), (26, 22), (28, 23), (28, 24), (29, 25), (3, 3), (30, 26), (32, 27), (34, 28), (35, 30), (36, 31), (37, 31), (38, 31), (40, 32), (41, 33), (43, 34), (44, 35), (45, 36), (46, 37), (47, 38), (48, 39), (49, 40), (50, 41), (51, 41), (52, 41), (53, 42), (54, 43)], possible=[(1, 1), (10, 8), (12, 6), (13, 10), (13, 9), (14, 10), (14, 12), (17, 9), (20, 18), (27, 24), (31, 26), (33, 28), (33, 29), (39, 31), (4, 4), (4, 5), (4, 6), (42, 36), (5, 4), (5, 5), (5, 6), (6, 4), (6, 5), (6, 6), (7, 4), (7, 5), (7, 6), (8, 4), (8, 5), (8, 6), (9, 8)]),\n",
       " LabeledAlignment(sure=[(1, 4), (10, 8), (12, 10), (13, 11), (15, 13), (16, 13), (19, 14), (3, 1), (6, 2), (7, 3), (8, 5)], possible=[(11, 8), (12, 9), (13, 12), (13, 13), (15, 11), (15, 12), (16, 11), (16, 12), (17, 11), (17, 12), (17, 13), (18, 11), (18, 12), (18, 13), (4, 2), (5, 2), (9, 8)]),\n",
       " LabeledAlignment(sure=[(1, 1), (10, 9), (11, 10), (12, 11), (14, 12), (15, 13), (16, 14), (17, 16), (18, 16), (2, 3), (21, 17), (22, 17), (23, 15), (24, 15), (27, 20), (29, 18), (3, 2), (31, 21), (32, 22), (33, 23), (4, 4), (5, 5), (7, 6), (8, 7), (9, 8)], possible=[(13, 13), (19, 16), (19, 17), (20, 17), (25, 18), (25, 20), (26, 18), (26, 20), (28, 20), (6, 8)]),\n",
       " LabeledAlignment(sure=[(10, 10), (11, 11), (13, 13), (13, 14), (13, 15), (14, 12), (15, 1), (16, 3), (17, 2), (19, 17), (2, 4), (20, 19), (21, 20), (23, 18), (24, 21), (25, 22), (26, 23), (27, 24), (28, 25), (30, 26), (31, 27), (32, 28), (33, 29), (34, 30), (35, 31), (37, 34), (38, 35), (4, 6), (5, 7), (6, 8), (7, 5), (9, 9)], possible=[(1, 4), (12, 12), (18, 16), (18, 17), (22, 20), (29, 28), (3, 5), (35, 32), (35, 33), (35, 34), (36, 31), (36, 32), (36, 33), (36, 34), (37, 31), (37, 32), (37, 33), (8, 10)]),\n",
       " LabeledAlignment(sure=[(10, 12), (11, 13), (12, 14), (13, 15), (13, 16), (14, 17), (16, 18), (17, 19), (17, 20), (18, 21), (20, 22), (21, 23), (24, 26), (26, 24), (27, 29), (4, 8), (6, 9), (7, 10), (8, 11), (9, 12)], possible=[(1, 1), (1, 2), (1, 3), (1, 4), (1, 5), (1, 6), (1, 7), (19, 23), (2, 1), (2, 2), (2, 3), (2, 4), (2, 5), (2, 6), (2, 7), (22, 24), (22, 26), (23, 24), (23, 26), (25, 26), (3, 1), (3, 2), (3, 3), (3, 4), (3, 5), (3, 6), (3, 7), (5, 9)]),\n",
       " LabeledAlignment(sure=[(1, 1), (11, 7), (12, 8), (13, 9), (14, 13), (15, 10), (16, 11), (16, 12), (17, 14), (18, 15), (2, 2), (20, 17), (21, 16), (22, 18), (4, 3), (5, 4), (6, 5), (8, 6), (9, 8)], possible=[(10, 8), (19, 16), (3, 3)]),\n",
       " LabeledAlignment(sure=[(1, 1), (10, 6), (11, 7), (12, 8), (13, 9), (14, 10), (15, 11), (16, 11), (17, 12), (19, 15), (2, 2), (21, 16), (22, 17), (23, 18), (24, 19), (26, 20), (27, 20), (29, 23), (3, 3), (3, 4), (30, 22), (31, 24), (5, 5), (6, 5), (7, 5)], possible=[(18, 15), (20, 16), (25, 20), (28, 20), (8, 6), (9, 6)]),\n",
       " LabeledAlignment(sure=[(1, 6), (10, 1), (11, 8), (12, 9), (13, 10), (14, 11), (15, 12), (16, 13), (17, 15), (18, 16), (19, 17), (2, 7), (20, 19), (21, 20), (22, 21), (26, 22), (28, 24), (28, 25), (29, 27), (30, 23), (31, 29), (32, 30), (35, 31), (36, 32), (36, 33), (36, 34), (37, 35), (5, 4), (7, 5), (8, 2), (9, 1)], possible=[(21, 18), (27, 23), (29, 26), (3, 3), (32, 28), (33, 31), (34, 31), (4, 1)]),\n",
       " LabeledAlignment(sure=[(10, 10), (10, 11), (10, 9), (13, 12), (14, 13), (17, 14), (18, 15), (19, 16), (2, 1), (20, 18), (21, 19), (22, 20), (23, 23), (24, 24), (26, 21), (27, 22), (28, 25), (29, 29), (3, 2), (30, 28), (31, 26), (34, 30), (36, 32), (37, 33), (38, 34), (39, 31), (4, 4), (40, 35), (6, 5), (7, 6), (8, 7), (9, 8)], possible=[(1, 1), (12, 13), (15, 14), (16, 14), (25, 24), (32, 27), (33, 27), (35, 33), (4, 3)]),\n",
       " LabeledAlignment(sure=[(1, 1), (11, 10), (11, 9), (12, 12), (14, 13), (15, 14), (17, 15), (18, 16), (2, 2), (21, 17), (22, 18), (23, 19), (3, 3), (4, 4), (6, 5), (8, 6), (9, 7)], possible=[(10, 8), (10, 9), (13, 13), (16, 16), (19, 18), (20, 18), (5, 5), (7, 6), (7, 7)]),\n",
       " LabeledAlignment(sure=[(10, 21), (11, 24), (12, 25), (13, 22), (14, 5), (16, 7), (17, 8), (18, 9), (19, 6), (21, 10), (22, 11), (23, 12), (24, 13), (25, 14), (26, 15), (28, 16), (29, 26), (3, 4), (30, 27), (31, 30), (32, 31), (34, 32), (35, 33), (36, 34), (37, 34), (38, 35), (39, 36), (40, 37), (42, 42), (43, 45), (44, 47), (44, 48), (44, 49), (45, 46), (47, 44), (49, 51), (5, 19), (50, 52), (51, 52), (52, 53), (53, 54), (54, 55), (55, 56), (7, 17), (8, 18), (9, 20)], possible=[(1, 1), (1, 3), (12, 23), (13, 23), (15, 6), (2, 4), (27, 16), (31, 31), (31, 34), (32, 30), (32, 34), (33, 30), (33, 31), (33, 34), (36, 30), (36, 31), (37, 30), (37, 31), (4, 19), (41, 42), (41, 43), (41, 44), (42, 43), (42, 44), (46, 42), (46, 43), (46, 44), (47, 42), (47, 43), (48, 50), (6, 19)]),\n",
       " LabeledAlignment(sure=[(1, 1), (10, 10), (11, 11), (12, 12), (13, 13), (14, 15), (15, 16), (17, 17), (18, 18), (2, 1), (22, 19), (23, 20), (24, 21), (25, 22), (26, 23), (28, 24), (3, 2), (30, 25), (31, 26), (4, 3), (5, 7), (6, 8), (8, 4), (9, 5)], possible=[(14, 14), (16, 17), (27, 25), (29, 24), (7, 6), (7, 9)]),\n",
       " LabeledAlignment(sure=[(10, 9), (11, 10), (12, 11), (13, 12), (15, 13), (16, 14), (17, 15), (18, 16), (19, 18), (2, 1), (20, 17), (21, 19), (22, 20), (23, 21), (3, 2), (5, 6), (6, 6), (7, 5), (8, 8)], possible=[(13, 13), (14, 12), (14, 13), (15, 12), (4, 6), (9, 10)]),\n",
       " LabeledAlignment(sure=[(1, 2), (10, 10), (11, 11), (14, 12), (15, 13), (16, 14), (17, 15), (18, 16), (19, 17), (2, 1), (21, 18), (22, 20), (24, 21), (25, 22), (27, 23), (28, 24), (29, 25), (4, 3), (4, 4), (5, 6), (6, 7), (7, 8), (8, 9)], possible=[(12, 13), (13, 13), (20, 18), (22, 19), (23, 21), (26, 24), (3, 4), (5, 5), (9, 10), (9, 11)]),\n",
       " LabeledAlignment(sure=[(11, 10), (12, 13), (13, 14), (14, 14), (16, 15), (17, 16), (18, 11), (18, 12), (2, 1), (20, 19), (22, 20), (23, 21), (24, 24), (26, 27), (26, 28), (27, 25), (28, 29), (4, 2), (5, 3), (5, 4), (6, 5), (7, 8), (9, 9)], possible=[(1, 1), (10, 9), (11, 17), (11, 18), (15, 14), (19, 10), (19, 17), (19, 18), (21, 22), (21, 23), (25, 25), (26, 25), (26, 26), (27, 26), (27, 27), (27, 28), (3, 3), (7, 7), (8, 9)]),\n",
       " LabeledAlignment(sure=[(10, 13), (11, 14), (12, 15), (13, 16), (14, 17), (15, 18), (16, 19), (17, 20), (18, 21), (19, 23), (2, 1), (20, 24), (21, 26), (22, 27), (23, 28), (24, 25), (25, 24), (29, 33), (30, 30), (31, 32), (32, 34), (4, 7), (5, 3), (7, 9), (8, 11), (9, 12)], possible=[(1, 1), (19, 22), (26, 31), (26, 33), (27, 31), (27, 33), (28, 31), (28, 33), (29, 31), (3, 2), (3, 3), (3, 4), (3, 5), (3, 6), (3, 7), (3, 8), (4, 2), (4, 3), (4, 4), (4, 5), (4, 6), (4, 8), (5, 2), (5, 4), (5, 5), (5, 6), (5, 7), (5, 8), (8, 10)]),\n",
       " LabeledAlignment(sure=[(1, 1), (10, 9), (2, 2), (3, 2), (5, 3), (7, 8), (8, 7)], possible=[(4, 3), (6, 4), (6, 5), (6, 6), (6, 8), (7, 4), (7, 5), (7, 6)]),\n",
       " LabeledAlignment(sure=[(1, 1), (10, 12), (13, 13), (13, 14), (14, 15), (15, 16), (16, 17), (17, 18), (18, 19), (2, 2), (2, 4), (20, 20), (21, 21), (22, 22), (24, 23), (25, 24), (26, 25), (27, 26), (28, 27), (29, 28), (3, 3), (3, 5), (30, 29), (31, 30), (32, 30), (33, 30), (34, 30), (35, 31), (36, 32), (37, 33), (38, 33), (39, 33), (4, 7), (40, 34), (40, 35), (41, 36), (43, 37), (44, 38), (45, 39), (47, 40), (48, 41), (49, 43), (50, 42), (51, 44), (52, 45), (6, 8), (7, 9), (8, 10), (9, 11)], possible=[(11, 14), (12, 14), (19, 21), (23, 24), (31, 31), (32, 31), (33, 31), (34, 31), (35, 30), (4, 6), (42, 37), (46, 40), (5, 9)]),\n",
       " LabeledAlignment(sure=[(1, 1), (10, 8), (12, 10), (12, 11), (12, 9), (13, 12), (15, 13), (16, 14), (17, 15), (18, 16), (19, 17), (21, 18), (22, 19), (23, 20), (24, 21), (25, 22), (27, 24), (28, 25), (29, 26), (30, 27), (31, 27), (32, 28), (33, 29), (34, 30), (35, 30), (36, 31), (37, 31), (38, 31), (4, 2), (40, 32), (40, 33), (41, 34), (42, 35), (5, 3), (5, 4), (6, 5)], possible=[(11, 12), (14, 14), (2, 4), (20, 18), (26, 24), (27, 23), (3, 4), (30, 28), (31, 28), (32, 27), (39, 33), (7, 6), (7, 7), (8, 6), (8, 7), (9, 6), (9, 7)]),\n",
       " LabeledAlignment(sure=[(11, 9), (12, 10), (13, 11), (15, 12), (16, 13), (17, 14), (2, 1), (3, 2), (4, 4), (5, 5), (6, 5), (7, 6), (8, 7), (9, 8)], possible=[(1, 1), (1, 2), (10, 9), (14, 13), (5, 3), (6, 3)]),\n",
       " LabeledAlignment(sure=[(1, 1), (10, 7), (11, 8), (13, 11), (14, 12), (15, 13), (3, 2), (4, 2), (6, 4), (7, 3), (8, 5), (9, 6)], possible=[(12, 11), (2, 2), (4, 4), (5, 4)]),\n",
       " LabeledAlignment(sure=[(2, 1), (3, 2), (4, 3), (5, 4)], possible=[(1, 1)]),\n",
       " LabeledAlignment(sure=[(11, 10), (14, 11), (15, 12), (16, 13), (17, 14), (18, 15), (19, 22), (2, 1), (20, 23), (23, 25), (24, 21), (26, 19), (28, 20), (29, 16), (3, 2), (30, 17), (32, 18), (33, 26), (5, 5), (6, 5), (7, 5), (8, 6)], possible=[(1, 2), (10, 10), (12, 9), (13, 9), (22, 21), (23, 24), (27, 20), (31, 17), (4, 5), (9, 8)]),\n",
       " LabeledAlignment(sure=[(10, 8), (11, 9), (2, 1), (2, 2), (3, 4), (5, 5), (8, 6), (9, 7)], possible=[(1, 1), (1, 2), (4, 5), (6, 6), (6, 7), (7, 7)]),\n",
       " LabeledAlignment(sure=[(10, 10), (11, 11), (12, 12), (13, 13), (14, 14), (16, 15), (17, 17), (19, 18), (2, 1), (20, 19), (21, 20), (22, 20), (23, 21), (24, 22), (26, 23), (28, 24), (29, 25), (30, 26), (31, 27), (32, 28), (33, 29), (34, 29), (35, 29), (36, 30), (4, 2), (5, 5), (6, 5), (7, 7), (8, 8), (9, 9)], possible=[(1, 1), (15, 15), (17, 16), (18, 18), (25, 23), (27, 23), (3, 2), (5, 6), (6, 6)]),\n",
       " LabeledAlignment(sure=[(1, 1), (10, 9), (11, 10), (12, 11), (12, 12), (12, 13), (12, 14), (13, 8), (15, 15), (17, 16), (19, 17), (2, 1), (20, 18), (21, 19), (22, 20), (23, 21), (24, 22), (25, 23), (26, 24), (27, 26), (28, 25), (29, 27), (30, 28), (31, 29), (33, 31), (34, 30), (35, 32), (36, 33), (37, 34), (38, 35), (39, 36), (4, 2), (40, 37), (42, 40), (43, 41), (44, 42), (45, 43), (46, 44), (47, 45), (49, 46), (5, 4), (50, 47), (51, 48), (52, 49), (53, 50), (54, 51), (6, 5), (7, 6), (8, 7)], possible=[(14, 15), (16, 8), (18, 18), (3, 2), (32, 30), (41, 39), (41, 40), (48, 46), (5, 3), (9, 8)]),\n",
       " LabeledAlignment(sure=[(1, 1), (1, 2), (1, 3), (11, 8), (12, 9), (13, 10), (14, 10), (15, 11), (4, 4), (7, 5), (8, 7), (9, 7)], possible=[(10, 8), (3, 4), (5, 4), (6, 6)]),\n",
       " LabeledAlignment(sure=[(1, 1), (10, 9), (11, 10), (12, 11), (13, 15), (14, 16), (17, 12), (17, 13), (17, 14), (19, 21), (19, 22), (20, 23), (22, 25), (23, 25), (24, 26), (25, 26), (26, 27), (29, 28), (3, 2), (30, 29), (31, 31), (32, 30), (33, 32), (4, 3), (5, 4), (6, 5), (7, 6), (8, 7), (9, 8)], possible=[(15, 17), (16, 16), (2, 3), (27, 28), (28, 28)]),\n",
       " LabeledAlignment(sure=[(10, 10), (11, 11), (12, 12), (14, 13), (15, 14), (18, 18), (2, 1), (20, 16), (20, 17), (21, 20), (22, 21), (24, 22), (25, 23), (26, 24), (27, 27), (28, 28), (3, 2), (30, 25), (31, 26), (32, 29), (4, 3), (4, 4), (5, 5), (6, 6), (7, 7), (8, 9), (9, 8)], possible=[(1, 1), (13, 13), (16, 15), (16, 19), (17, 18), (17, 21), (19, 18), (20, 15), (22, 19), (29, 28), (30, 26), (31, 25)]),\n",
       " LabeledAlignment(sure=[(1, 1), (10, 10), (11, 11), (13, 15), (14, 16), (15, 17), (16, 20), (17, 18), (18, 18), (19, 13), (2, 2), (20, 14), (21, 21), (23, 22), (24, 24), (25, 26), (26, 25), (27, 28), (27, 29), (29, 30), (3, 3), (31, 32), (32, 30), (34, 31), (37, 33), (39, 34), (4, 4), (40, 35), (5, 5), (7, 6), (8, 7), (9, 8)], possible=[(10, 9), (12, 15), (16, 19), (20, 12), (22, 22), (24, 23), (28, 30), (30, 32), (33, 31), (35, 33), (36, 33), (38, 34), (6, 6), (6, 8)]),\n",
       " LabeledAlignment(sure=[(1, 1), (2, 2), (3, 3), (4, 4), (5, 5), (5, 6), (6, 7), (8, 8)], possible=[(7, 7)]),\n",
       " LabeledAlignment(sure=[(10, 7), (11, 8), (12, 9), (13, 10), (14, 11), (14, 12), (16, 13), (17, 14), (2, 2), (20, 15), (21, 16), (22, 17), (23, 18), (24, 19), (4, 1), (5, 4), (7, 5), (8, 6), (9, 3)], possible=[(1, 1), (1, 2), (15, 14), (18, 18), (19, 18), (3, 2), (6, 6)]),\n",
       " LabeledAlignment(sure=[(10, 9), (11, 10), (12, 11), (13, 12), (14, 13), (15, 14), (16, 15), (17, 16), (18, 17), (19, 19), (2, 4), (20, 20), (22, 21), (23, 22), (24, 24), (27, 27), (27, 28), (27, 29), (28, 32), (3, 5), (30, 33), (31, 31), (35, 35), (36, 36), (37, 37), (39, 38), (4, 1), (40, 39), (41, 40), (44, 41), (6, 2), (8, 7), (9, 8)], possible=[(1, 3), (1, 4), (1, 5), (1, 7), (1, 8), (2, 3), (2, 5), (2, 7), (2, 8), (24, 23), (25, 25), (25, 26), (25, 27), (25, 28), (25, 29), (26, 25), (26, 26), (26, 27), (26, 28), (26, 29), (27, 25), (27, 26), (29, 33), (3, 3), (3, 4), (3, 7), (3, 8), (31, 30), (33, 34), (34, 34), (35, 34), (38, 38), (5, 2), (7, 3), (7, 4), (7, 5), (7, 7), (7, 8), (8, 3), (8, 4), (8, 5), (8, 8), (9, 3), (9, 4), (9, 5), (9, 7)]),\n",
       " LabeledAlignment(sure=[(1, 1), (10, 7), (11, 8), (12, 9), (13, 10), (14, 11), (15, 12), (17, 13), (18, 14), (2, 2), (4, 3), (5, 4), (7, 5), (8, 6)], possible=[(16, 13), (3, 3), (6, 5), (9, 7)]),\n",
       " LabeledAlignment(sure=[(10, 8), (11, 9), (12, 10), (13, 11), (14, 12), (15, 13), (16, 14), (18, 24), (2, 1), (20, 15), (20, 16), (20, 17), (20, 18), (20, 19), (20, 20), (20, 21), (20, 22), (21, 23), (22, 25), (3, 2), (4, 3), (6, 4), (7, 5), (8, 6), (9, 7)], possible=[(1, 2), (17, 24), (19, 24), (5, 4)]),\n",
       " LabeledAlignment(sure=[(10, 12), (11, 13), (12, 14), (13, 15), (13, 16), (17, 2), (18, 3), (19, 4), (2, 6), (21, 5), (22, 17), (4, 7), (5, 8), (6, 9), (7, 10), (8, 11), (9, 11)], possible=[(1, 6), (14, 1), (15, 1), (16, 3), (20, 5), (3, 9)]),\n",
       " LabeledAlignment(sure=[(10, 8), (11, 9), (12, 10), (12, 11), (12, 12), (13, 13), (2, 2), (4, 1), (5, 4), (5, 5), (5, 6), (8, 7), (9, 7)], possible=[(1, 2), (2, 1), (3, 1), (3, 2), (4, 2)]),\n",
       " LabeledAlignment(sure=[(12, 11), (13, 12), (14, 13), (15, 14), (16, 15), (18, 17), (19, 18), (20, 19), (22, 22), (23, 21), (24, 20), (25, 20), (26, 23), (3, 3), (4, 4), (5, 5), (6, 6), (7, 7), (8, 8)], possible=[(1, 1), (1, 2), (10, 10), (10, 9), (11, 10), (11, 9), (17, 17), (2, 1), (2, 2), (21, 21), (21, 22), (9, 10), (9, 9)]),\n",
       " LabeledAlignment(sure=[(1, 1), (10, 7), (11, 8), (12, 14), (13, 15), (14, 13), (15, 12), (16, 16), (17, 17), (18, 9), (19, 11), (20, 10), (21, 18), (3, 2), (4, 3), (6, 4), (8, 5), (9, 6)], possible=[(2, 2), (5, 4), (7, 5)]),\n",
       " LabeledAlignment(sure=[(1, 1), (10, 12), (11, 12), (14, 10), (16, 11), (17, 11), (18, 14), (20, 15), (22, 17), (23, 18), (24, 19), (25, 20), (26, 21), (3, 3), (4, 2), (5, 4), (7, 5), (8, 6), (9, 8)], possible=[(10, 9), (11, 9), (12, 12), (12, 9), (13, 12), (13, 9), (15, 11), (19, 15), (2, 2), (2, 3), (2, 4), (3, 2), (4, 3), (6, 6), (9, 7)]),\n",
       " LabeledAlignment(sure=[(1, 1), (10, 9), (11, 12), (12, 18), (13, 19), (15, 17), (16, 14), (17, 15), (18, 15), (19, 20), (3, 2), (4, 4), (5, 3), (6, 5), (7, 6), (8, 7), (9, 8)], possible=[(11, 11), (14, 17), (15, 13), (2, 3), (7, 7), (8, 6)]),\n",
       " LabeledAlignment(sure=[(1, 1), (10, 11), (12, 13), (13, 12), (14, 13), (15, 14), (16, 15), (18, 16), (19, 17), (2, 2), (3, 3), (4, 4), (5, 5), (7, 6), (8, 7), (9, 9)], possible=[(11, 13), (12, 10), (14, 10), (17, 16), (6, 7), (9, 8)]),\n",
       " LabeledAlignment(sure=[(1, 1), (2, 2), (3, 3), (4, 4), (5, 5), (6, 6)], possible=[]),\n",
       " LabeledAlignment(sure=[(10, 9), (11, 11), (12, 12), (13, 16), (14, 19), (15, 21), (16, 22), (18, 23), (19, 24), (2, 2), (3, 1), (4, 3), (5, 5), (6, 6), (7, 7), (8, 10), (9, 10)], possible=[(1, 2), (10, 8), (14, 17), (14, 18), (16, 20), (17, 23), (5, 4)]),\n",
       " LabeledAlignment(sure=[(1, 1), (10, 13), (11, 9), (12, 14), (14, 17), (15, 16), (17, 18), (18, 19), (2, 2), (3, 3), (4, 4), (5, 5), (6, 6), (8, 7)], possible=[(10, 12), (11, 10), (11, 11), (11, 14), (11, 15), (11, 8), (12, 10), (12, 11), (12, 15), (12, 8), (12, 9), (13, 16), (15, 15), (16, 18), (7, 8), (9, 10), (9, 11), (9, 14), (9, 15), (9, 8), (9, 9)]),\n",
       " LabeledAlignment(sure=[(1, 2), (10, 9), (2, 1), (3, 3), (4, 4), (6, 5), (7, 6), (8, 7), (9, 8)], possible=[(5, 8)]),\n",
       " LabeledAlignment(sure=[(1, 1), (10, 13), (11, 14), (12, 15), (14, 17), (15, 16), (16, 19), (17, 21), (19, 20), (20, 22), (3, 6), (4, 3), (6, 9), (7, 10), (8, 12)], possible=[(13, 17), (17, 20), (18, 20), (18, 21), (19, 21), (2, 3), (2, 6), (3, 4), (4, 2), (8, 11), (9, 14)]),\n",
       " LabeledAlignment(sure=[(10, 7), (11, 8), (12, 9), (14, 14), (15, 15), (16, 16), (17, 13), (18, 18), (19, 19), (2, 1), (20, 10), (21, 11), (22, 12), (23, 20), (25, 21), (27, 24), (28, 25), (29, 22), (3, 1), (31, 23), (32, 26), (33, 27), (35, 28), (36, 29), (37, 30), (38, 31), (39, 32), (4, 2), (41, 35), (43, 33), (44, 36), (46, 37), (47, 38), (48, 39), (49, 40), (5, 2), (6, 3), (7, 4), (8, 5), (9, 6)], possible=[(1, 2), (13, 16), (19, 17), (24, 21), (26, 24), (30, 23), (34, 28), (40, 35), (42, 33), (43, 34), (45, 39)]),\n",
       " LabeledAlignment(sure=[(10, 11), (11, 12), (13, 13), (14, 14), (15, 15), (16, 16), (17, 17), (18, 18), (19, 19), (2, 1), (20, 20), (21, 21), (23, 22), (25, 24), (26, 25), (27, 26), (28, 27), (29, 28), (3, 4), (30, 28), (31, 29), (4, 8), (6, 9), (8, 10)], possible=[(1, 1), (1, 4), (1, 5), (1, 6), (1, 7), (1, 8), (12, 13), (2, 4), (2, 5), (2, 6), (2, 7), (2, 8), (22, 22), (24, 24), (25, 23), (3, 1), (3, 5), (3, 6), (3, 7), (3, 8), (4, 1), (4, 4), (4, 5), (4, 6), (4, 7), (5, 9), (7, 10), (9, 11)]),\n",
       " LabeledAlignment(sure=[(10, 9), (11, 10), (3, 2), (5, 3), (6, 5), (7, 7), (8, 8), (9, 6)], possible=[(1, 1), (1, 2), (1, 3), (2, 1), (2, 2), (2, 3), (3, 1), (3, 3), (4, 1), (4, 2), (4, 3), (5, 1), (5, 2), (6, 4)]),\n",
       " LabeledAlignment(sure=[(10, 11), (11, 12), (13, 14), (16, 15), (2, 1), (3, 2), (5, 3), (6, 4), (7, 5), (8, 6)], possible=[(1, 2), (12, 6), (12, 9), (13, 10), (13, 13), (14, 10), (14, 13), (14, 14), (15, 10), (15, 13), (15, 14), (4, 3), (9, 12)]),\n",
       " LabeledAlignment(sure=[(1, 2), (10, 8), (12, 10), (13, 9), (14, 11), (15, 12), (17, 13), (2, 1), (20, 15), (22, 16), (23, 17), (3, 1), (4, 3), (6, 4), (7, 6), (8, 7), (9, 7)], possible=[(11, 10), (16, 15), (18, 13), (18, 14), (19, 14), (21, 16), (5, 4), (7, 5)]),\n",
       " LabeledAlignment(sure=[(10, 7), (3, 1), (4, 3), (6, 4), (7, 5)], possible=[(1, 1), (1, 2), (2, 1), (2, 2), (3, 2), (5, 4), (5, 5), (5, 6), (6, 5), (6, 6), (7, 4), (7, 6), (8, 4), (8, 5), (8, 6), (9, 4), (9, 5), (9, 6)]),\n",
       " LabeledAlignment(sure=[(10, 10), (11, 19), (12, 19), (13, 12), (14, 11), (15, 13), (2, 1), (20, 16), (21, 17), (22, 18), (26, 25), (27, 26), (28, 27), (29, 28), (29, 29), (3, 2), (30, 30), (32, 24), (34, 31), (35, 33), (36, 34), (37, 35), (39, 38), (4, 4), (40, 39), (41, 40), (42, 41), (44, 42), (45, 43), (46, 44), (47, 45), (6, 5), (7, 6), (7, 7), (8, 8), (9, 9)], possible=[(1, 2), (11, 15), (16, 13), (16, 14), (18, 13), (18, 14), (23, 20), (23, 22), (24, 21), (24, 23), (25, 24), (31, 24), (33, 31), (36, 32), (38, 36), (38, 37), (4, 3), (43, 44), (8, 9), (9, 8)]),\n",
       " LabeledAlignment(sure=[(1, 1), (2, 2), (3, 3), (4, 4), (5, 5), (6, 6), (7, 7), (7, 8), (8, 9)], possible=[]),\n",
       " LabeledAlignment(sure=[(10, 6), (12, 3), (13, 7), (14, 8), (2, 1), (3, 1), (4, 2), (5, 2), (7, 4), (9, 5)], possible=[(1, 2), (8, 5)]),\n",
       " LabeledAlignment(sure=[(10, 9), (11, 10), (12, 11), (14, 17), (15, 18), (16, 19), (17, 20), (18, 21), (20, 22), (21, 22), (22, 23), (23, 23), (24, 24), (7, 7), (8, 8)], possible=[(1, 1), (1, 13), (1, 14), (1, 15), (1, 2), (1, 3), (1, 4), (1, 5), (1, 6), (11, 11), (12, 10), (13, 12), (13, 16), (19, 23), (2, 1), (2, 13), (2, 14), (2, 15), (2, 2), (2, 3), (2, 4), (2, 5), (2, 6), (3, 1), (3, 13), (3, 14), (3, 15), (3, 2), (3, 3), (3, 4), (3, 5), (3, 6), (4, 1), (4, 13), (4, 14), (4, 15), (4, 2), (4, 3), (4, 4), (4, 5), (4, 6), (5, 1), (5, 13), (5, 14), (5, 15), (5, 2), (5, 3), (5, 4), (5, 5), (5, 6)]),\n",
       " LabeledAlignment(sure=[(1, 1), (10, 7), (11, 9), (2, 3), (6, 2), (6, 4), (7, 5), (8, 6), (9, 8)], possible=[]),\n",
       " LabeledAlignment(sure=[(10, 13), (11, 14), (12, 10), (14, 9), (15, 11), (15, 12), (16, 15), (18, 16), (20, 19), (21, 19), (23, 17), (25, 18), (26, 20), (27, 21), (28, 22), (3, 3), (4, 4), (5, 5), (6, 6), (8, 2), (8, 7), (9, 8)], possible=[(1, 1), (1, 2), (1, 7), (13, 9), (17, 16), (2, 6), (24, 18), (7, 1), (7, 2), (7, 7), (8, 1)]),\n",
       " LabeledAlignment(sure=[(1, 6), (10, 14), (12, 15), (13, 16), (14, 17), (15, 18), (18, 1), (19, 2), (2, 7), (20, 3), (20, 4), (20, 5), (21, 19), (3, 8), (4, 9), (6, 10), (7, 11), (8, 12), (9, 13)], possible=[(11, 16), (17, 2)]),\n",
       " LabeledAlignment(sure=[(1, 2), (10, 6), (11, 7), (12, 8), (13, 11), (16, 13), (17, 14), (19, 15), (2, 3), (21, 17), (22, 18), (23, 19), (24, 20), (25, 21), (26, 22), (28, 23), (29, 24), (30, 25), (31, 27), (32, 26), (33, 28), (4, 1), (6, 4), (7, 9), (8, 10), (9, 5)], possible=[(14, 12), (15, 14), (18, 15), (20, 16), (20, 19), (23, 16), (27, 24)]),\n",
       " LabeledAlignment(sure=[(1, 1), (10, 5), (11, 9), (12, 10), (13, 10), (14, 11), (15, 12), (16, 13), (17, 14), (19, 15), (2, 2), (20, 16), (22, 17), (23, 17), (24, 18), (25, 18), (26, 19), (3, 3), (6, 7), (7, 8), (8, 6), (9, 5)], possible=[(18, 15), (21, 18), (5, 8), (9, 4)]),\n",
       " LabeledAlignment(sure=[(10, 11), (11, 11), (14, 13), (16, 14), (18, 15), (19, 16), (2, 1), (21, 7), (21, 8), (22, 17), (23, 18), (24, 19), (25, 20), (26, 21), (26, 22), (27, 20), (28, 23), (29, 24), (3, 2), (30, 25), (31, 27), (33, 29), (34, 30), (35, 31), (36, 28), (37, 32), (5, 3), (5, 4), (6, 6), (8, 10), (9, 10)], possible=[(1, 1), (1, 2), (12, 12), (13, 16), (15, 16), (17, 16), (2, 2), (23, 9), (3, 1), (32, 27), (32, 29), (4, 2), (4, 4), (6, 5), (7, 11)]),\n",
       " LabeledAlignment(sure=[(1, 1), (10, 8), (11, 9), (12, 9), (13, 10), (14, 11), (15, 12), (2, 2), (3, 3), (5, 4), (6, 5), (7, 6), (9, 7)], possible=[]),\n",
       " LabeledAlignment(sure=[(10, 8), (11, 9), (12, 10), (13, 11), (14, 12), (2, 2), (3, 1), (4, 1), (5, 3), (6, 5), (7, 6), (8, 7)], possible=[(1, 1), (1, 3), (12, 11), (13, 10), (3, 3), (4, 3), (5, 1), (9, 8)]),\n",
       " LabeledAlignment(sure=[(1, 1), (10, 15), (11, 16), (12, 17), (13, 10), (13, 9), (14, 11), (15, 14), (17, 13), (18, 19), (19, 20), (2, 2), (20, 21), (3, 3), (4, 4), (5, 5), (6, 6), (7, 8), (8, 7)], possible=[(16, 12), (16, 13), (17, 12)]),\n",
       " LabeledAlignment(sure=[(1, 1), (11, 7), (13, 5), (14, 9), (15, 10), (17, 13), (18, 12), (2, 2), (20, 11), (21, 14), (22, 15), (23, 16), (24, 17), (25, 17), (26, 18), (27, 19), (3, 3), (4, 4), (5, 8), (7, 8), (9, 6)], possible=[(10, 7), (12, 5), (16, 11), (19, 11), (2, 3), (3, 2), (6, 8), (8, 6)]),\n",
       " LabeledAlignment(sure=[(12, 8), (14, 12), (14, 5), (15, 13), (16, 14), (17, 15), (18, 16), (19, 17), (2, 1), (20, 21), (21, 18), (22, 19), (23, 19), (24, 22), (3, 2), (4, 4), (6, 6), (7, 7), (9, 10), (9, 11)], possible=[(1, 1), (1, 2), (10, 10), (10, 11), (10, 8), (10, 9), (11, 10), (11, 11), (11, 8), (11, 9), (12, 10), (12, 11), (12, 9), (13, 12), (2, 2), (20, 20), (3, 1), (5, 6), (8, 8), (9, 8), (9, 9)]),\n",
       " LabeledAlignment(sure=[(1, 1), (10, 7), (11, 8), (12, 9), (14, 11), (15, 10), (16, 15), (17, 16), (18, 17), (19, 18), (2, 1), (22, 19), (24, 20), (25, 21), (27, 24), (27, 25), (28, 22), (29, 26), (3, 2), (4, 2), (5, 3), (6, 4), (7, 5), (8, 5), (9, 6)], possible=[(1, 2), (13, 11), (13, 13), (17, 14), (2, 2), (20, 5), (21, 5), (23, 20), (26, 22), (27, 23), (3, 1), (4, 1)]),\n",
       " LabeledAlignment(sure=[(10, 18), (12, 14), (13, 1), (14, 5), (15, 2), (16, 3), (17, 4), (18, 6), (19, 7), (2, 15), (20, 8), (21, 9), (22, 10), (23, 11), (24, 12), (25, 27), (4, 20), (5, 22), (5, 23), (5, 24), (6, 25), (7, 26), (9, 19)], possible=[(1, 14), (1, 15), (11, 14), (11, 15), (12, 15), (2, 14), (20, 9), (21, 8), (3, 26), (8, 18)]),\n",
       " LabeledAlignment(sure=[(11, 9), (12, 8), (13, 8), (15, 11), (16, 12), (17, 14), (18, 15), (19, 16), (2, 5), (20, 17), (21, 18), (22, 19), (23, 21), (24, 21), (25, 21), (27, 24), (28, 24), (29, 25), (3, 6), (30, 25), (31, 22), (32, 23), (33, 26), (4, 7), (6, 3), (8, 1)], possible=[(1, 7), (10, 1), (10, 2), (10, 3), (10, 4), (10, 9), (11, 4), (14, 10), (17, 13), (26, 25), (3, 7), (4, 6), (6, 1), (6, 2), (6, 4), (7, 1), (7, 2), (7, 3), (7, 4), (8, 2), (8, 3), (8, 4), (9, 1), (9, 2), (9, 3), (9, 4), (9, 9)]),\n",
       " LabeledAlignment(sure=[(10, 12), (12, 9), (13, 10), (14, 11), (16, 13), (18, 14), (19, 15), (2, 1), (20, 16), (22, 17), (25, 18), (26, 19), (27, 20), (28, 21), (3, 2), (3, 3), (4, 4), (5, 5), (6, 6), (7, 7), (8, 8)], possible=[(1, 1), (11, 11), (17, 14), (21, 17), (23, 20), (24, 20), (9, 12)]),\n",
       " LabeledAlignment(sure=[(1, 1), (10, 14), (11, 15), (13, 17), (15, 18), (15, 19), (15, 20), (15, 21), (17, 22), (19, 23), (20, 24), (21, 25), (22, 26), (24, 27), (25, 27), (26, 27), (27, 28), (29, 29), (3, 3), (3, 4), (3, 5), (3, 6), (30, 31), (31, 32), (34, 33), (36, 34), (39, 36), (4, 7), (40, 35), (41, 37), (6, 10), (7, 12), (8, 13), (9, 8)], possible=[(1, 2), (1, 27), (14, 18), (18, 25), (2, 3), (23, 1), (23, 2), (23, 27), (24, 1), (24, 2), (25, 1), (25, 2), (26, 1), (26, 2), (28, 29), (32, 30), (32, 32), (33, 30), (33, 33), (35, 34), (37, 35), (38, 35), (39, 35), (40, 36), (5, 8), (6, 11), (6, 12), (6, 13), (6, 8), (6, 9), (7, 10), (7, 11), (7, 13), (7, 8), (7, 9), (8, 10), (8, 11), (8, 12), (8, 8), (8, 9), (9, 10), (9, 11), (9, 12), (9, 13), (9, 9)]),\n",
       " LabeledAlignment(sure=[(1, 6), (10, 9), (11, 5), (13, 10), (15, 11), (16, 13), (19, 15), (2, 7), (20, 16), (21, 14), (22, 17), (3, 8), (5, 1), (6, 2), (7, 3), (8, 4), (9, 12)], possible=[(12, 10), (14, 11)]),\n",
       " LabeledAlignment(sure=[(11, 9), (15, 10), (17, 11), (18, 12), (19, 13), (2, 2), (20, 13), (21, 14), (3, 2), (4, 3), (5, 3), (6, 5), (6, 6), (6, 7), (7, 8), (9, 8)], possible=[(1, 1), (1, 3), (1, 4), (1, 8), (1, 9), (10, 1), (10, 3), (10, 4), (10, 8), (10, 9), (11, 1), (11, 3), (11, 4), (11, 8), (14, 11), (16, 11), (4, 1), (4, 4), (4, 8), (4, 9), (5, 1), (5, 4), (5, 8), (5, 9), (7, 1), (7, 3), (7, 4), (7, 9), (8, 1), (8, 3), (8, 4), (8, 8), (8, 9), (9, 1), (9, 3), (9, 4), (9, 9)]),\n",
       " LabeledAlignment(sure=[(1, 3), (10, 9), (11, 10), (12, 11), (13, 12), (14, 13), (15, 14), (15, 15), (16, 16), (2, 4), (20, 18), (20, 22), (21, 23), (22, 24), (23, 28), (25, 29), (27, 30), (28, 36), (28, 37), (28, 38), (29, 31), (30, 39), (31, 40), (32, 41), (33, 42), (34, 43), (35, 44), (5, 1), (6, 5), (7, 6)], possible=[(17, 17), (18, 19), (18, 20), (18, 21), (19, 19), (19, 20), (19, 21), (24, 29), (26, 31), (3, 1), (4, 1), (5, 2), (9, 9)]),\n",
       " LabeledAlignment(sure=[(1, 1), (10, 7), (11, 8), (13, 9), (14, 10), (16, 13), (17, 11), (18, 14), (2, 6), (3, 6), (5, 4), (5, 5), (7, 3), (8, 2), (9, 7)], possible=[(12, 10), (15, 11), (15, 12), (16, 12)]),\n",
       " LabeledAlignment(sure=[(1, 1), (10, 21), (11, 20), (12, 22), (13, 23), (14, 24), (15, 26), (16, 12), (19, 13), (19, 14), (21, 17), (22, 15), (23, 27), (24, 28), (3, 4), (4, 6), (5, 7), (6, 8), (7, 9), (8, 10), (9, 18)], possible=[(1, 2), (1, 3), (1, 4), (11, 19), (15, 25), (17, 12), (17, 14), (18, 14), (2, 1), (2, 2), (2, 3), (2, 4), (20, 15), (21, 16), (3, 1), (3, 2), (3, 3), (4, 5), (9, 11)]),\n",
       " LabeledAlignment(sure=[(1, 5), (10, 8), (3, 1), (5, 2), (6, 4), (7, 3), (8, 6), (9, 7)], possible=[(2, 1), (4, 2)]),\n",
       " LabeledAlignment(sure=[(10, 8), (11, 8), (12, 9), (13, 9), (14, 10), (15, 11), (17, 12), (19, 13), (20, 14), (21, 17), (22, 18), (24, 15), (25, 16), (26, 19), (27, 20), (28, 21), (29, 22), (3, 2), (4, 3), (5, 4), (6, 5), (7, 6), (8, 7)], possible=[(16, 12), (18, 13), (23, 18), (24, 16), (25, 15), (9, 9)]),\n",
       " LabeledAlignment(sure=[(1, 2), (10, 7), (11, 9), (12, 10), (13, 12), (14, 11), (15, 13), (17, 14), (19, 15), (2, 3), (21, 16), (22, 17), (23, 18), (24, 19), (24, 20), (25, 19), (25, 20), (26, 25), (27, 26), (28, 26), (29, 26), (3, 4), (30, 27), (31, 28), (32, 28), (33, 29), (34, 30), (35, 31), (36, 31), (37, 31), (39, 32), (39, 33), (39, 34), (39, 35), (4, 5), (40, 37), (42, 38), (43, 39), (45, 42), (46, 43), (47, 44), (48, 46), (48, 47), (48, 48), (49, 45), (50, 49), (8, 6)], possible=[(11, 8), (16, 15), (26, 24), (38, 32), (38, 33), (38, 34), (38, 35), (41, 38), (44, 40), (44, 41), (44, 42), (6, 6), (7, 6), (9, 6), (9, 7)]),\n",
       " LabeledAlignment(sure=[(1, 5), (10, 3), (11, 4), (12, 11), (13, 11), (15, 12), (18, 13), (19, 14), (2, 6), (21, 15), (22, 16), (23, 17), (24, 18), (25, 19), (27, 20), (28, 23), (29, 21), (30, 24), (30, 25), (32, 26), (34, 22), (35, 23), (36, 27), (4, 8), (6, 9), (7, 10), (9, 2)], possible=[(11, 11), (12, 4), (13, 4), (14, 14), (16, 13), (17, 13), (26, 20), (3, 8)]),\n",
       " LabeledAlignment(sure=[(1, 1), (12, 14), (13, 16), (14, 17), (15, 19), (16, 18), (18, 23), (2, 2), (20, 23), (22, 21), (23, 15), (24, 27), (25, 24), (27, 25), (28, 26), (29, 28), (3, 3), (4, 4), (5, 5), (6, 6), (7, 6), (8, 7), (9, 9)], possible=[(10, 10), (10, 11), (10, 12), (11, 10), (11, 11), (11, 12), (17, 18), (22, 20), (26, 26), (9, 8)]),\n",
       " LabeledAlignment(sure=[(10, 8), (11, 9), (12, 9), (13, 13), (13, 14), (14, 10), (15, 19), (16, 20), (17, 20), (19, 26), (2, 1), (20, 26), (21, 28), (22, 29), (23, 30), (26, 23), (27, 25), (28, 31), (3, 2), (4, 5), (4, 6), (5, 7), (7, 17), (8, 18)], possible=[(1, 1), (13, 11), (13, 12), (18, 26), (18, 27), (24, 27), (25, 27), (26, 24), (27, 24), (4, 4), (9, 10)]),\n",
       " LabeledAlignment(sure=[(1, 1), (10, 9), (12, 10), (13, 11), (14, 12), (15, 13), (16, 14), (18, 17), (22, 19), (25, 23), (27, 20), (28, 21), (29, 9), (3, 3), (30, 9), (31, 24), (32, 26), (33, 27), (4, 2), (6, 6), (7, 4), (9, 9)], possible=[(1, 2), (1, 3), (11, 12), (18, 15), (2, 1), (2, 2), (2, 3), (21, 21), (23, 22), (3, 1), (3, 2), (32, 25), (4, 1), (4, 3), (8, 9)]),\n",
       " LabeledAlignment(sure=[(1, 1), (10, 9), (11, 10), (12, 13), (13, 14), (14, 12), (15, 16), (16, 17), (19, 18), (21, 19), (21, 20), (21, 21), (22, 26), (3, 7), (4, 2), (4, 3), (7, 8), (8, 8)], possible=[(10, 8), (14, 11), (16, 22), (16, 25), (17, 17), (17, 22), (17, 23), (17, 24), (17, 25), (18, 17), (18, 22), (18, 23), (18, 24), (18, 25), (20, 21), (3, 2), (3, 3), (3, 4), (3, 5), (4, 4), (4, 5), (4, 7), (5, 3), (5, 8), (6, 3), (6, 8), (7, 9), (8, 9), (9, 8), (9, 9)]),\n",
       " LabeledAlignment(sure=[(1, 1), (10, 10), (11, 11), (13, 12), (15, 13), (17, 15), (18, 16), (19, 16), (2, 2), (20, 16), (21, 17), (22, 18), (24, 19), (25, 20), (26, 21), (27, 21), (28, 22), (29, 23), (3, 3), (30, 24), (31, 26), (32, 31), (33, 28), (34, 29), (35, 32), (4, 4), (5, 5), (6, 6), (7, 8), (8, 9), (9, 10)], possible=[(12, 13), (17, 14), (23, 19), (6, 7)]),\n",
       " LabeledAlignment(sure=[(1, 1), (12, 19), (13, 32), (14, 36), (14, 37), (14, 38), (15, 33), (16, 20), (18, 21), (19, 22), (2, 3), (20, 22), (22, 23), (23, 25), (24, 26), (25, 26), (26, 27), (26, 28), (27, 29), (28, 30), (29, 39), (4, 11), (5, 12), (6, 13), (7, 10), (7, 9), (8, 7), (8, 8)], possible=[(1, 2), (10, 14), (10, 15), (10, 16), (11, 19), (14, 34), (14, 35), (17, 23), (21, 22), (24, 27), (24, 28), (25, 27), (25, 28), (26, 26), (3, 4), (3, 5), (3, 6), (9, 14), (9, 15), (9, 16)]),\n",
       " LabeledAlignment(sure=[(1, 3), (10, 10), (10, 9), (11, 11), (13, 12), (14, 13), (15, 5), (16, 5), (17, 15), (17, 16), (18, 17), (19, 18), (2, 1), (20, 19), (21, 20), (3, 4), (4, 5), (5, 5), (6, 6), (7, 7), (8, 8), (9, 8)], possible=[(12, 13)]),\n",
       " LabeledAlignment(sure=[(10, 7), (11, 10), (12, 10), (13, 11), (15, 12), (16, 14), (17, 18), (18, 16), (18, 17), (19, 19), (2, 1), (20, 19), (21, 20), (22, 20), (23, 21), (23, 22), (24, 24), (25, 26), (27, 31), (28, 32), (29, 33), (30, 34), (31, 35), (33, 36), (34, 37), (35, 40), (36, 38), (37, 41), (4, 3), (6, 2), (8, 9)], possible=[(1, 1), (14, 12), (16, 13), (19, 15), (20, 15), (24, 23), (26, 31), (31, 36), (31, 37), (32, 35), (32, 36), (32, 37), (33, 35), (33, 37), (34, 35), (34, 36), (36, 37), (7, 4), (7, 5), (7, 6), (9, 9)]),\n",
       " LabeledAlignment(sure=[(1, 23), (1, 24), (1, 25), (10, 5), (11, 6), (12, 7), (13, 8), (14, 10), (15, 14), (15, 9), (16, 15), (17, 11), (18, 12), (19, 13), (2, 26), (21, 18), (22, 16), (23, 19), (24, 20), (26, 28), (27, 22), (28, 29), (3, 27), (31, 30), (32, 31), (33, 32), (34, 33), (35, 34), (36, 36), (37, 35), (38, 37), (5, 2), (6, 1), (7, 1), (8, 3), (9, 4)], possible=[(1, 26), (1, 27), (2, 23), (2, 24), (2, 25), (2, 27), (20, 13), (21, 17), (25, 28), (27, 21), (3, 23), (3, 24), (3, 25), (3, 26)]),\n",
       " LabeledAlignment(sure=[(11, 8), (12, 9), (13, 12), (14, 14), (15, 13), (18, 19), (19, 20), (2, 6), (20, 21), (23, 15), (24, 16), (25, 22), (26, 24), (27, 25), (28, 26), (29, 27), (3, 6), (31, 28), (32, 29), (33, 30), (34, 31), (35, 32), (36, 32), (37, 33), (38, 34), (40, 35), (43, 1), (44, 2), (45, 36), (5, 5)], possible=[(1, 6), (10, 9), (12, 11), (16, 17), (16, 18), (16, 7), (17, 17), (17, 18), (17, 7), (21, 16), (22, 16), (27, 23), (30, 29), (4, 6), (6, 17), (6, 18), (6, 7), (7, 17), (7, 18), (7, 7), (8, 17), (8, 18), (8, 7), (9, 9)]),\n",
       " LabeledAlignment(sure=[(1, 3), (10, 9), (11, 10), (12, 11), (13, 12), (15, 13), (15, 14), (16, 15), (17, 16), (19, 17), (2, 1), (20, 18), (22, 19), (23, 20), (23, 21), (24, 22), (25, 23), (27, 26), (28, 27), (3, 4), (4, 5), (5, 6), (6, 7), (7, 8)], possible=[(14, 15), (15, 15), (16, 13), (16, 14), (18, 16), (18, 17), (21, 19), (21, 21), (8, 10), (9, 10)]),\n",
       " LabeledAlignment(sure=[(1, 1), (10, 13), (12, 15), (14, 16), (15, 17), (16, 18), (18, 21), (2, 2), (20, 24), (21, 23), (23, 25), (24, 25), (25, 26), (29, 28), (3, 5), (30, 29), (4, 6), (5, 7), (6, 8), (7, 9), (8, 10)], possible=[(13, 16), (19, 22), (22, 23), (22, 25)]),\n",
       " LabeledAlignment(sure=[(10, 10), (11, 11), (12, 12), (13, 13), (14, 14), (15, 15), (16, 18), (2, 1), (3, 16), (4, 17), (5, 5), (6, 6), (7, 7), (8, 8), (9, 9)], possible=[(1, 1), (3, 17), (3, 2), (3, 3), (3, 4), (4, 16), (4, 2), (4, 3), (4, 4)]),\n",
       " LabeledAlignment(sure=[(1, 1), (10, 10), (12, 11), (13, 15), (14, 12), (15, 16), (16, 17), (18, 23), (18, 24), (18, 25), (18, 26), (18, 27), (19, 21), (2, 2), (20, 22), (21, 18), (22, 28), (23, 29), (24, 30), (25, 31), (26, 32), (26, 33), (27, 32), (27, 33), (28, 34), (29, 35), (3, 3), (30, 36), (4, 6), (5, 7), (6, 8), (7, 5), (8, 4), (9, 9)], possible=[(11, 12), (13, 14), (14, 13), (17, 18), (19, 18), (19, 19), (19, 20), (19, 22), (20, 18), (20, 19), (20, 20), (20, 21), (21, 19), (21, 20), (21, 21), (21, 22)]),\n",
       " LabeledAlignment(sure=[(1, 1), (10, 14), (11, 12), (12, 16), (13, 17), (13, 18), (14, 19), (15, 23), (17, 24), (19, 20), (2, 2), (20, 21), (21, 25), (22, 26), (23, 27), (24, 28), (25, 29), (3, 5), (4, 3), (5, 6), (5, 7), (6, 8), (6, 9), (7, 10), (9, 11)], possible=[(12, 15), (15, 22), (3, 3), (3, 4), (4, 4), (4, 5), (8, 12)]),\n",
       " LabeledAlignment(sure=[(1, 1), (10, 10), (11, 12), (12, 13), (13, 14), (14, 16), (16, 19), (19, 20), (2, 2), (20, 21), (21, 30), (22, 31), (24, 32), (25, 32), (27, 24), (27, 25), (28, 34), (29, 34), (3, 3), (31, 35), (32, 36), (35, 39), (36, 40), (37, 41), (38, 42), (39, 43), (4, 4), (40, 37), (41, 38), (42, 44), (5, 5), (6, 6), (8, 9)], possible=[(12, 11), (14, 15), (19, 21), (20, 20), (23, 24), (23, 25), (23, 26), (23, 27), (23, 28), (23, 29), (23, 32), (23, 33), (24, 33), (25, 33), (26, 24), (26, 25), (26, 26), (26, 27), (26, 28), (26, 29), (26, 32), (26, 33), (27, 26), (27, 27), (27, 28), (27, 29), (27, 33), (30, 36), (33, 38), (33, 40), (34, 38), (34, 40), (4, 11), (4, 15), (40, 38), (41, 37)]),\n",
       " LabeledAlignment(sure=[(1, 10), (10, 21), (10, 22), (10, 23), (11, 18), (12, 24), (14, 25), (15, 26), (16, 27), (17, 28), (18, 29), (2, 11), (20, 32), (22, 2), (23, 4), (24, 5), (25, 1), (26, 6), (27, 33), (3, 11), (4, 13), (5, 14), (5, 17), (6, 14), (6, 17), (7, 19), (9, 20)], possible=[(13, 25), (5, 15), (5, 16), (6, 15), (6, 16), (8, 21), (8, 22)]),\n",
       " LabeledAlignment(sure=[(1, 1), (10, 11), (11, 12), (12, 13), (12, 14), (13, 15), (14, 16), (15, 17), (16, 18), (2, 2), (3, 3), (4, 5), (5, 4), (6, 6), (7, 7), (8, 8), (9, 9)], possible=[(10, 10), (11, 10)]),\n",
       " LabeledAlignment(sure=[(10, 11), (11, 12), (12, 14), (13, 14), (14, 14), (16, 15), (18, 23), (19, 19), (2, 4), (20, 21), (21, 24), (3, 5), (4, 2), (5, 6), (6, 7), (7, 8), (8, 9), (9, 10)], possible=[(1, 2), (12, 13), (13, 13), (14, 13), (15, 15), (17, 17), (17, 18), (17, 22), (17, 23), (18, 17), (18, 18), (18, 22), (3, 3), (4, 1)]),\n",
       " LabeledAlignment(sure=[(1, 1), (10, 13), (11, 14), (12, 15), (13, 17), (14, 18), (15, 18), (16, 19), (17, 20), (18, 21), (19, 22), (19, 23), (2, 2), (20, 24), (22, 25), (23, 26), (24, 27), (25, 29), (26, 28), (27, 30), (28, 31), (28, 32), (29, 37), (3, 3), (30, 38), (31, 39), (32, 40), (34, 41), (35, 33), (35, 34), (38, 42), (39, 43), (4, 8), (40, 44), (41, 45), (5, 4), (6, 5), (7, 9), (8, 10)], possible=[(21, 27), (33, 41), (35, 35), (35, 36), (36, 33), (36, 34), (36, 35), (36, 36), (37, 33), (37, 34), (37, 35), (37, 36), (5, 5), (5, 6), (5, 7), (6, 4), (6, 6), (6, 7), (9, 13)]),\n",
       " LabeledAlignment(sure=[(1, 1), (10, 10), (11, 11), (12, 12), (12, 13), (12, 14), (14, 15), (14, 16), (14, 17), (15, 19), (15, 20), (15, 21), (16, 22), (16, 23), (17, 18), (18, 24), (19, 26), (20, 27), (21, 28), (22, 33), (23, 29), (24, 30), (25, 30), (26, 34), (27, 25), (28, 36), (29, 37), (3, 4), (30, 38), (31, 38), (32, 43), (33, 44), (37, 45), (38, 46), (39, 47), (4, 5), (40, 48), (41, 49), (42, 51), (43, 50), (44, 53), (46, 56), (46, 57), (46, 58), (47, 55), (48, 59), (49, 59), (5, 2), (50, 60), (6, 6), (7, 7), (8, 8), (9, 9)], possible=[(13, 18), (2, 2), (3, 3), (31, 42), (34, 39), (34, 40), (34, 41), (35, 39), (35, 40), (35, 41), (4, 3), (45, 55)]),\n",
       " LabeledAlignment(sure=[(10, 13), (11, 15), (11, 16), (11, 17), (12, 14), (13, 18), (13, 19), (15, 20), (15, 21), (15, 22), (15, 23), (16, 24), (2, 1), (4, 4), (5, 8), (6, 9), (7, 11), (8, 12), (9, 12)], possible=[(1, 1), (14, 20), (14, 23), (3, 4), (7, 10)]),\n",
       " LabeledAlignment(sure=[(1, 1), (11, 18), (12, 22), (13, 20), (14, 25), (14, 26), (15, 28), (17, 29), (17, 30), (19, 31), (2, 2), (20, 32), (21, 33), (22, 35), (23, 36), (24, 37), (26, 43), (26, 44), (28, 38), (29, 40), (30, 41), (31, 39), (32, 45), (4, 4), (7, 15), (7, 16), (7, 17), (8, 8), (9, 3), (9, 5)], possible=[(10, 18), (10, 7), (14, 23), (14, 24), (16, 30), (18, 33), (22, 34), (25, 39), (26, 42), (6, 8), (7, 11), (7, 12), (7, 13), (7, 14), (7, 8), (8, 11), (8, 12), (8, 13), (8, 14), (8, 15), (8, 16), (8, 17)]),\n",
       " LabeledAlignment(sure=[(10, 11), (10, 12), (10, 13), (11, 10), (12, 14), (13, 16), (14, 17), (14, 18), (14, 19), (15, 22), (16, 23), (19, 25), (2, 4), (20, 26), (22, 29), (23, 31), (24, 31), (26, 30), (27, 27), (28, 28), (29, 32), (3, 1), (4, 5), (5, 6), (6, 7), (8, 8)], possible=[(1, 1), (14, 20), (14, 21), (17, 25), (18, 25), (21, 29), (25, 30), (7, 8), (9, 10)]),\n",
       " LabeledAlignment(sure=[(1, 2), (10, 8), (11, 9), (2, 1), (3, 3), (4, 3), (6, 4), (7, 5), (8, 7)], possible=[(5, 4), (8, 6), (9, 8)]),\n",
       " LabeledAlignment(sure=[(1, 1), (11, 10), (13, 14), (13, 15), (13, 16), (14, 12), (16, 11), (17, 17), (2, 4), (3, 2), (4, 5), (5, 5), (7, 8), (8, 6), (9, 9)], possible=[(10, 10), (12, 11), (12, 13), (13, 13), (15, 12), (6, 6), (7, 7)]),\n",
       " LabeledAlignment(sure=[(1, 1), (10, 9), (11, 11), (12, 12), (13, 13), (14, 14), (15, 19), (16, 20), (17, 16), (19, 23), (20, 24), (21, 25), (22, 26), (24, 34), (25, 35), (26, 29), (27, 30), (28, 31), (29, 32), (30, 32), (31, 33), (32, 36), (33, 36), (34, 37), (35, 38), (36, 39), (37, 40), (38, 41), (4, 2), (40, 46), (41, 43), (41, 44), (42, 42), (43, 47), (6, 3), (6, 4), (7, 8), (8, 7), (9, 5)], possible=[(17, 15), (18, 22), (2, 2), (23, 34), (3, 2), (39, 42), (40, 45), (5, 6), (8, 6)]),\n",
       " LabeledAlignment(sure=[(1, 1), (10, 10), (11, 11), (12, 13), (14, 14), (15, 8), (17, 15), (18, 16), (2, 2), (20, 17), (21, 19), (23, 21), (24, 20), (25, 22), (26, 23), (27, 24), (28, 26), (29, 27), (3, 3), (31, 29), (31, 30), (32, 31), (33, 32), (34, 33), (35, 34), (36, 34), (37, 35), (38, 36), (39, 37), (4, 4), (40, 38), (41, 39), (42, 40), (43, 41), (44, 42), (45, 43), (46, 44), (47, 45), (48, 46), (49, 48), (5, 4), (50, 50), (51, 50), (53, 51), (54, 52), (55, 52), (56, 53), (57, 54), (58, 56), (59, 57), (6, 5), (60, 59), (61, 60), (62, 59), (63, 61), (64, 62), (65, 63), (66, 64), (67, 65), (7, 6), (8, 7)], possible=[(10, 9), (16, 14), (19, 17), (22, 20), (22, 21), (50, 49), (50, 51), (51, 49), (51, 51), (52, 49), (52, 50), (52, 51), (53, 49), (53, 50), (9, 8)]),\n",
       " LabeledAlignment(sure=[(1, 1), (11, 14), (13, 17), (14, 17), (15, 18), (16, 18), (17, 19), (18, 20), (19, 22), (21, 22), (22, 23), (23, 24), (24, 27), (26, 25), (26, 26), (27, 28), (29, 30), (3, 2), (30, 31), (32, 35), (33, 34), (34, 34), (35, 36), (37, 37), (38, 38), (39, 39), (4, 3), (40, 40), (41, 41), (42, 42), (43, 44), (44, 43), (46, 45), (47, 46), (48, 47), (48, 48), (49, 49), (5, 6), (50, 50), (51, 51), (52, 52), (54, 53), (55, 54), (56, 55), (57, 56), (6, 7), (7, 9), (8, 10), (9, 12)], possible=[(10, 13), (10, 14), (11, 13), (12, 17), (19, 23), (19, 24), (20, 22), (20, 23), (20, 24), (21, 23), (21, 24), (22, 22), (22, 24), (23, 22), (23, 23), (28, 30), (31, 35), (33, 36), (34, 36), (35, 34), (36, 37), (53, 47), (53, 48)]),\n",
       " LabeledAlignment(sure=[(1, 1), (10, 10), (11, 12), (12, 13), (3, 6), (4, 7), (9, 8), (9, 9)], possible=[(10, 11), (10, 8), (10, 9), (11, 11), (5, 10), (5, 11), (5, 3), (5, 8), (5, 9), (6, 10), (6, 11), (6, 8), (6, 9), (7, 10), (7, 11), (7, 2), (7, 3), (7, 8), (7, 9), (8, 10), (8, 11), (8, 8), (8, 9), (9, 10), (9, 11)]),\n",
       " LabeledAlignment(sure=[(1, 2), (10, 14), (11, 17), (12, 18), (12, 19), (12, 20), (13, 15), (14, 22), (15, 22), (16, 22), (17, 23), (18, 24), (19, 9), (2, 5), (20, 10), (22, 9), (23, 25), (3, 4), (4, 5), (6, 8), (8, 12), (9, 13)], possible=[(1, 1), (11, 16), (14, 21), (15, 21), (16, 21), (2, 3), (21, 10), (4, 3), (5, 5), (5, 8), (7, 11)]),\n",
       " LabeledAlignment(sure=[(1, 1), (10, 7), (11, 8), (3, 4), (5, 3), (6, 5), (7, 6), (8, 3), (9, 3)], possible=[]),\n",
       " LabeledAlignment(sure=[(1, 1), (10, 11), (11, 12), (12, 13), (13, 14), (14, 15), (15, 16), (16, 17), (17, 18), (18, 19), (19, 21), (2, 2), (20, 22), (21, 24), (22, 25), (23, 27), (25, 28), (27, 29), (28, 30), (29, 32), (3, 3), (30, 33), (31, 35), (33, 36), (36, 37), (39, 38), (41, 40), (42, 39), (43, 41), (5, 5), (6, 6), (7, 9), (8, 10), (9, 7)], possible=[(1, 2), (1, 3), (15, 23), (15, 31), (19, 20), (2, 1), (2, 3), (21, 23), (23, 26), (29, 31), (3, 1), (3, 2), (31, 34), (34, 37), (34, 4), (35, 37), (35, 4), (36, 4), (37, 38), (38, 38), (40, 39), (5, 4)]),\n",
       " LabeledAlignment(sure=[(1, 1), (10, 8), (11, 10), (13, 13), (14, 14), (16, 15), (17, 16), (18, 11), (19, 17), (20, 18), (21, 19), (22, 20), (25, 21), (26, 22), (4, 2), (5, 4), (6, 5), (7, 6), (9, 7)], possible=[(12, 14), (15, 12), (15, 15), (23, 21), (24, 21), (3, 2), (8, 8)]),\n",
       " LabeledAlignment(sure=[(1, 1), (10, 7), (11, 8), (12, 9), (14, 10), (15, 11), (2, 2), (3, 3), (4, 3), (6, 4), (8, 5), (9, 6)], possible=[(13, 10), (5, 3), (5, 4), (7, 5)]),\n",
       " LabeledAlignment(sure=[(1, 1), (10, 9), (11, 8), (12, 10), (13, 11), (14, 13), (15, 14), (17, 15), (18, 16), (19, 17), (2, 2), (20, 18), (21, 23), (22, 24), (23, 25), (24, 26), (26, 27), (28, 28), (29, 29), (3, 4), (31, 19), (32, 21), (34, 22), (35, 20), (36, 30), (4, 2), (5, 2), (6, 2), (7, 6), (9, 7)], possible=[(16, 16), (2, 3), (25, 27), (33, 22), (4, 3), (5, 3), (6, 3), (8, 7)]),\n",
       " LabeledAlignment(sure=[(1, 1), (10, 7), (11, 10), (12, 10), (13, 12), (14, 13), (2, 2), (3, 2), (4, 2), (5, 2), (6, 8), (7, 9), (8, 5), (9, 11), (9, 6)], possible=[]),\n",
       " LabeledAlignment(sure=[(1, 1), (10, 8), (11, 9), (12, 11), (13, 12), (16, 13), (17, 14), (2, 2), (20, 15), (21, 16), (22, 17), (25, 20), (26, 21), (27, 18), (28, 19), (29, 22), (6, 3), (8, 4), (9, 5), (9, 6)], possible=[(13, 10), (14, 14), (15, 14), (18, 16), (19, 16), (24, 21), (6, 10), (7, 6)]),\n",
       " LabeledAlignment(sure=[(1, 1), (10, 12), (12, 13), (13, 13), (14, 17), (15, 18), (17, 19), (18, 20), (19, 21), (2, 2), (20, 22), (21, 23), (23, 25), (24, 28), (25, 28), (26, 26), (29, 29), (3, 2), (30, 30), (33, 32), (34, 31), (35, 33), (4, 4), (5, 7), (6, 8), (7, 9), (8, 11), (9, 10)], possible=[(11, 13), (16, 19), (22, 28), (27, 27), (28, 27)]),\n",
       " LabeledAlignment(sure=[(1, 1), (1, 2), (11, 9), (12, 11), (14, 13), (15, 14), (16, 14), (2, 3), (20, 15), (21, 16), (22, 17), (23, 18), (24, 19), (25, 20), (4, 4), (5, 5), (6, 7), (8, 9)], possible=[(13, 13), (19, 15), (3, 5), (6, 6), (7, 9)]),\n",
       " LabeledAlignment(sure=[(1, 1), (10, 9), (11, 10), (12, 11), (13, 11), (14, 11), (16, 12), (17, 13), (18, 14), (19, 15), (2, 2), (21, 19), (23, 18), (24, 20), (25, 20), (26, 21), (3, 3), (3, 4), (5, 5), (6, 6), (7, 7), (8, 8)], possible=[(15, 12), (15, 13), (20, 19), (22, 18), (4, 5), (9, 3), (9, 4)]),\n",
       " LabeledAlignment(sure=[(1, 1), (11, 12), (12, 9), (14, 15), (15, 15), (16, 15), (18, 17), (19, 18), (2, 2), (20, 19), (21, 20), (23, 22), (24, 21), (25, 23), (3, 2), (4, 3), (5, 4), (6, 5), (7, 6), (8, 7), (9, 11)], possible=[(10, 11), (10, 12), (17, 17), (2, 3), (2, 4), (22, 21), (3, 3), (3, 4), (4, 2), (4, 4), (5, 2), (5, 3)]),\n",
       " LabeledAlignment(sure=[(10, 9), (11, 10), (12, 11), (14, 14), (15, 14), (17, 15), (18, 16), (19, 16), (2, 1), (20, 17), (21, 18), (22, 19), (23, 20), (4, 2), (5, 3), (6, 4), (7, 5), (8, 8), (9, 9)], possible=[(1, 1), (13, 14), (16, 15), (3, 2)]),\n",
       " LabeledAlignment(sure=[(1, 2), (11, 9), (12, 10), (13, 11), (14, 13), (15, 14), (16, 16), (17, 17), (18, 19), (19, 20), (2, 4), (20, 20), (21, 20), (22, 21), (23, 22), (24, 23), (26, 24), (26, 25), (27, 26), (3, 4), (6, 6), (8, 7), (9, 8)], possible=[(10, 10), (10, 9), (14, 12), (16, 15), (17, 15), (2, 3), (25, 25), (3, 3), (4, 5), (7, 8)]),\n",
       " LabeledAlignment(sure=[(1, 1), (10, 8), (11, 9), (12, 9), (13, 10), (14, 11), (15, 12), (16, 13), (17, 14), (19, 15), (2, 2), (20, 16), (21, 17), (22, 18), (24, 19), (25, 20), (26, 21), (27, 21), (28, 23), (29, 24), (30, 25), (31, 26), (31, 27), (33, 29), (36, 28), (37, 30), (5, 5), (6, 4), (7, 3), (8, 7)], possible=[(18, 14), (18, 15), (23, 19), (28, 22), (32, 26), (32, 27), (34, 28), (35, 28), (4, 4), (8, 6), (9, 8)]),\n",
       " LabeledAlignment(sure=[(1, 1), (10, 8), (11, 8), (12, 11), (13, 13), (14, 14), (15, 15), (16, 16), (17, 22), (18, 23), (19, 24), (20, 19), (21, 20), (22, 25), (26, 27), (28, 29), (3, 3), (31, 26), (32, 30), (33, 31), (34, 32), (35, 33), (36, 33), (37, 35), (38, 36), (4, 4), (40, 38), (41, 39), (5, 5), (6, 6), (7, 7), (8, 7), (9, 7)], possible=[(11, 10), (11, 9), (14, 12), (23, 26), (28, 28), (35, 34), (35, 35), (36, 34), (36, 35), (37, 33), (37, 34), (39, 38), (40, 37), (9, 2)]),\n",
       " LabeledAlignment(sure=[(1, 1), (11, 9), (12, 10), (13, 11), (15, 12), (16, 13), (17, 14), (18, 15), (19, 16), (2, 1), (20, 16), (23, 17), (24, 17), (25, 18), (27, 19), (28, 20), (29, 22), (3, 2), (30, 23), (31, 24), (5, 4), (6, 3), (7, 3), (8, 7), (9, 8)], possible=[(10, 10), (14, 12), (14, 14), (21, 17), (22, 17), (26, 19)]),\n",
       " LabeledAlignment(sure=[(1, 1), (10, 4), (12, 5), (13, 6), (14, 10), (2, 2), (3, 7), (4, 8), (5, 7), (6, 9), (8, 3), (9, 3)], possible=[(11, 5), (11, 6), (7, 3)]),\n",
       " LabeledAlignment(sure=[(1, 1), (11, 10), (12, 12), (14, 13), (15, 14), (16, 15), (17, 16), (18, 17), (19, 18), (20, 19), (21, 20), (23, 21), (24, 22), (25, 24), (26, 25), (27, 25), (28, 26), (29, 27), (3, 2), (30, 28), (31, 29), (32, 30), (33, 31), (35, 33), (36, 32), (37, 34), (4, 3), (5, 3), (6, 4), (8, 7), (9, 9)], possible=[(10, 10), (13, 13), (2, 2), (22, 22), (33, 32), (34, 33), (36, 31), (7, 7)]),\n",
       " LabeledAlignment(sure=[(10, 8), (12, 9), (13, 10), (14, 11), (2, 4), (3, 5), (8, 8), (9, 8)], possible=[(1, 5), (11, 10), (4, 6), (5, 1), (5, 2), (5, 3), (5, 7), (6, 1), (6, 2), (6, 3), (6, 7)]),\n",
       " LabeledAlignment(sure=[(1, 1), (11, 12), (14, 13), (15, 4), (16, 14), (18, 15), (19, 20), (2, 7), (20, 20), (21, 16), (23, 17), (24, 18), (25, 19), (26, 21), (28, 22), (30, 23), (31, 24), (32, 25), (4, 6), (5, 5), (8, 10), (9, 11)], possible=[(10, 12), (12, 12), (12, 13), (13, 13), (15, 3), (17, 20), (22, 19), (27, 22), (29, 24), (3, 7), (6, 2), (6, 8), (6, 9), (7, 2), (7, 8), (7, 9)]),\n",
       " LabeledAlignment(sure=[(1, 1), (11, 8), (12, 9), (13, 12), (14, 12), (15, 12), (16, 11), (17, 11), (18, 11), (19, 11), (20, 13), (21, 14), (23, 17), (25, 20), (26, 18), (27, 19), (3, 2), (30, 15), (32, 21), (33, 22), (34, 23), (35, 24), (36, 25), (37, 26), (39, 27), (4, 3), (41, 29), (42, 30), (43, 31), (44, 32), (45, 33), (46, 34), (5, 3), (6, 4), (7, 5), (8, 6), (9, 7)], possible=[(10, 9), (13, 10), (14, 10), (15, 10), (2, 2), (22, 16), (24, 20), (28, 15), (29, 15), (29, 16), (31, 15), (31, 16), (38, 27), (40, 28)]),\n",
       " LabeledAlignment(sure=[(1, 2), (10, 12), (11, 14), (12, 13), (13, 15), (14, 16), (15, 17), (16, 18), (18, 19), (19, 19), (20, 20), (21, 20), (22, 21), (3, 1), (4, 3), (5, 8), (6, 7), (7, 5), (9, 11)], possible=[(17, 19), (17, 20), (2, 2), (7, 4), (8, 11)]),\n",
       " LabeledAlignment(sure=[(1, 1), (11, 14), (17, 17), (18, 17), (2, 2), (20, 18), (21, 19), (22, 20), (23, 22), (24, 24), (26, 25), (27, 26), (28, 27), (29, 28), (30, 29), (31, 30), (32, 31), (33, 31), (34, 31), (35, 32), (36, 33), (37, 34), (4, 3), (5, 4), (7, 7), (7, 8), (8, 11), (9, 11)], possible=[(10, 14), (12, 15), (13, 16), (14, 16), (19, 17), (19, 19), (25, 25), (6, 8)]),\n",
       " LabeledAlignment(sure=[(1, 1), (1, 2), (1, 3), (11, 12), (12, 11), (12, 13), (13, 14), (14, 15), (15, 16), (16, 17), (2, 4), (4, 5), (5, 6), (6, 7), (7, 7), (8, 8), (9, 10)], possible=[(10, 12), (3, 5), (6, 8), (7, 8), (8, 7)]),\n",
       " LabeledAlignment(sure=[(1, 1), (10, 7), (11, 8), (12, 9), (3, 3), (4, 2), (5, 2), (7, 5), (8, 6)], possible=[(2, 2), (3, 2), (4, 3), (5, 3), (6, 4), (6, 6), (9, 7)]),\n",
       " LabeledAlignment(sure=[(1, 1), (10, 9), (12, 10), (14, 14), (15, 16), (16, 17), (2, 2), (21, 22), (23, 21), (24, 20), (26, 23), (27, 24), (28, 25), (29, 26), (30, 27), (31, 28), (32, 29), (33, 30), (35, 30), (37, 31), (38, 32), (39, 33), (4, 5), (40, 34), (41, 35), (42, 36), (43, 37), (5, 4), (6, 6), (7, 7), (8, 3), (9, 8)], possible=[(11, 10), (13, 11), (15, 15), (17, 18), (17, 19), (18, 18), (18, 19), (19, 18), (19, 19), (22, 22), (25, 23), (25, 26)]),\n",
       " LabeledAlignment(sure=[(1, 1), (11, 9), (13, 8), (14, 10), (16, 11), (17, 12), (18, 14), (19, 13), (2, 2), (20, 15), (22, 16), (25, 17), (26, 18), (27, 19), (28, 20), (29, 21), (30, 23), (31, 24), (32, 25), (33, 26), (34, 27), (4, 3), (5, 4), (7, 5), (8, 6), (9, 7)], possible=[(10, 8), (12, 9), (15, 12), (15, 13), (21, 16), (23, 17), (24, 17), (6, 5)]),\n",
       " LabeledAlignment(sure=[(10, 7), (11, 9), (13, 11), (15, 10), (16, 12), (17, 16), (18, 17), (19, 18), (2, 1), (20, 18), (21, 19), (22, 20), (23, 21), (24, 22), (3, 3), (5, 4), (6, 5), (6, 6), (8, 8)], possible=[(1, 1), (12, 10), (12, 11), (14, 11), (16, 13), (3, 2), (4, 4), (7, 7), (7, 8), (9, 8)]),\n",
       " LabeledAlignment(sure=[(10, 9), (11, 11), (12, 10), (13, 12), (14, 13), (15, 14), (16, 15), (17, 16), (19, 20), (2, 3), (20, 21), (21, 23), (24, 17), (25, 18), (26, 24), (3, 1), (4, 4), (5, 5), (6, 6), (7, 7), (8, 8), (9, 8)], possible=[(1, 1), (1, 2), (1, 3), (18, 18), (19, 19), (2, 1), (2, 2), (21, 22), (3, 2), (3, 3), (7, 8), (8, 7), (9, 7)]),\n",
       " LabeledAlignment(sure=[(10, 8), (12, 3), (13, 9), (2, 1), (3, 4), (4, 4), (5, 4), (6, 5), (7, 5), (9, 7)], possible=[(1, 1), (3, 2), (3, 5), (4, 2), (4, 5), (5, 2), (5, 5), (6, 2), (6, 4), (7, 2), (7, 4)]),\n",
       " LabeledAlignment(sure=[(10, 9), (11, 10), (12, 11), (13, 12), (14, 12), (15, 13), (17, 14), (17, 15), (18, 16), (2, 4), (3, 5), (5, 8), (6, 6), (7, 1), (8, 2), (9, 3)], possible=[(1, 4), (16, 13), (16, 14), (16, 15), (4, 6), (5, 7)]),\n",
       " LabeledAlignment(sure=[(1, 1), (10, 11), (10, 12), (13, 14), (15, 18), (17, 19), (18, 20), (2, 3), (21, 23), (23, 24), (24, 25), (26, 28), (28, 29), (3, 4), (30, 30), (35, 33), (36, 34), (38, 35), (39, 37), (4, 5), (40, 36), (41, 36), (42, 38), (45, 41), (46, 43), (47, 44), (5, 6), (6, 7), (7, 8), (8, 9), (9, 10)], possible=[(11, 13), (14, 15), (16, 15), (16, 16), (19, 20), (23, 22), (23, 23), (25, 28), (27, 29), (29, 30), (33, 32), (33, 33), (34, 32), (34, 33), (35, 32), (36, 32), (36, 33), (39, 36), (40, 37), (41, 37), (43, 39), (43, 40), (44, 41)]),\n",
       " LabeledAlignment(sure=[(2, 1), (3, 2), (4, 3), (5, 4)], possible=[(1, 1)]),\n",
       " LabeledAlignment(sure=[(1, 1), (10, 10), (11, 11), (12, 12), (13, 13), (14, 14), (15, 15), (16, 16), (17, 22), (18, 23), (19, 24), (2, 2), (20, 17), (21, 18), (21, 19), (21, 20), (22, 27), (23, 25), (25, 26), (26, 26), (27, 28), (28, 31), (29, 29), (3, 3), (30, 30), (31, 32), (4, 4), (5, 5), (6, 6), (8, 9)], possible=[(22, 25), (22, 26), (23, 26), (23, 27), (24, 25), (24, 26), (24, 27), (25, 25), (25, 27), (26, 25), (26, 27), (7, 9), (9, 10)]),\n",
       " LabeledAlignment(sure=[(10, 5), (10, 6), (11, 10), (12, 11), (13, 12), (14, 12), (15, 13), (16, 15), (17, 16), (18, 17), (19, 18), (2, 1), (20, 14), (21, 19), (3, 2), (4, 3), (5, 3), (6, 4), (9, 8), (9, 9)], possible=[(1, 1), (4, 4), (5, 4), (6, 3), (7, 5), (7, 7), (8, 5), (8, 9)]),\n",
       " LabeledAlignment(sure=[(1, 1), (10, 8), (11, 9), (2, 2), (3, 3), (4, 4), (5, 4), (6, 4), (7, 5), (8, 6), (9, 7)], possible=[(4, 5), (5, 5), (6, 5), (7, 4)]),\n",
       " LabeledAlignment(sure=[(1, 1), (2, 2), (3, 3), (4, 3), (5, 4), (6, 5), (7, 6)], possible=[]),\n",
       " LabeledAlignment(sure=[(10, 9), (11, 10), (12, 11), (16, 14), (17, 15), (19, 17), (2, 2), (21, 18), (22, 19), (23, 20), (24, 21), (25, 22), (26, 22), (28, 23), (29, 24), (3, 1), (30, 25), (4, 3), (6, 7), (7, 6), (9, 8)], possible=[(1, 1), (13, 12), (13, 13), (14, 12), (14, 13), (15, 12), (15, 13), (18, 17), (19, 16), (20, 16), (20, 17), (20, 18), (27, 23), (5, 6), (5, 7), (8, 9)]),\n",
       " LabeledAlignment(sure=[(1, 6), (2, 7), (3, 4), (3, 5), (4, 1), (5, 2), (6, 3), (7, 8)], possible=[]),\n",
       " LabeledAlignment(sure=[(1, 2), (11, 9), (12, 10), (14, 13), (15, 14), (16, 15), (17, 19), (18, 20), (19, 21), (2, 3), (20, 22), (21, 23), (22, 24), (23, 25), (24, 17), (25, 17), (26, 18), (27, 16), (28, 26), (29, 27), (29, 29), (3, 4), (32, 30), (33, 31), (34, 32), (36, 33), (37, 34), (38, 35), (5, 1), (7, 5), (9, 8)], possible=[(10, 10), (13, 18), (24, 16), (24, 18), (25, 16), (25, 18), (26, 16), (26, 17), (27, 17), (27, 18), (29, 28), (30, 28), (30, 31), (31, 31), (35, 34), (8, 8)]),\n",
       " LabeledAlignment(sure=[(1, 1), (10, 6), (11, 16), (12, 17), (14, 20), (15, 18), (16, 19), (17, 21), (18, 22), (19, 23), (20, 24), (21, 25), (22, 26), (23, 27), (25, 29), (27, 30), (28, 33), (29, 31), (3, 4), (3, 5), (30, 32), (31, 34), (4, 3), (7, 13), (8, 14), (9, 7)], possible=[(13, 19), (2, 3), (24, 29), (26, 29), (26, 32), (6, 7)]),\n",
       " LabeledAlignment(sure=[(1, 1), (10, 11), (12, 12), (14, 13), (15, 14), (2, 2), (3, 3), (5, 9), (6, 7), (7, 8), (8, 4), (9, 10)], possible=[(11, 12), (13, 13), (4, 4)]),\n",
       " LabeledAlignment(sure=[(11, 9), (14, 13), (16, 10), (19, 16), (20, 22), (21, 23), (21, 24), (21, 25), (22, 18), (23, 19), (23, 20), (23, 21), (24, 26), (3, 6), (4, 7), (6, 1), (7, 2), (9, 8)], possible=[(1, 7), (10, 9), (12, 10), (13, 10), (15, 13), (17, 16), (18, 16), (2, 7), (8, 8)]),\n",
       " LabeledAlignment(sure=[(10, 13), (2, 1), (3, 2), (4, 3), (5, 4), (7, 5), (8, 10), (8, 8), (8, 9)], possible=[(1, 4), (8, 11), (8, 12), (8, 7), (9, 11), (9, 12), (9, 6)]),\n",
       " LabeledAlignment(sure=[(1, 1), (10, 14), (11, 11), (11, 12), (11, 13), (12, 10), (13, 15), (14, 16), (15, 17), (16, 18), (17, 19), (18, 20), (2, 2), (21, 23), (22, 22), (23, 24), (3, 5), (4, 6), (5, 7), (6, 7), (7, 8), (8, 9)], possible=[(11, 14), (19, 22), (20, 22), (21, 21), (21, 22), (22, 21), (22, 23), (9, 10)]),\n",
       " LabeledAlignment(sure=[(1, 2), (10, 7), (12, 10), (13, 8), (14, 9), (15, 11), (2, 3), (3, 4), (5, 5), (7, 1), (9, 7)], possible=[(1, 3), (10, 6), (11, 7), (11, 9), (2, 2), (4, 5), (6, 1), (6, 7), (8, 7)]),\n",
       " LabeledAlignment(sure=[(1, 4), (10, 12), (11, 13), (12, 14), (14, 3), (15, 1), (16, 2), (17, 15), (2, 5), (3, 6), (4, 7), (5, 8), (6, 9), (8, 10), (9, 11)], possible=[]),\n",
       " LabeledAlignment(sure=[(1, 2), (10, 12), (11, 13), (12, 14), (13, 14), (14, 14), (15, 15), (16, 18), (17, 20), (18, 21), (19, 22), (2, 3), (20, 23), (21, 24), (22, 25), (23, 26), (24, 27), (25, 28), (26, 31), (26, 32), (27, 29), (28, 30), (29, 33), (3, 4), (30, 34), (31, 35), (32, 36), (33, 37), (34, 38), (35, 39), (36, 40), (4, 5), (5, 8), (6, 10), (7, 9), (8, 11), (9, 11)], possible=[(17, 19)]),\n",
       " LabeledAlignment(sure=[(1, 1), (14, 11), (15, 12), (16, 15), (17, 16), (17, 17), (17, 18), (17, 19), (18, 21), (19, 22), (2, 2), (20, 23), (21, 24), (22, 20), (23, 25), (24, 25), (25, 26), (26, 27), (27, 28), (28, 29), (29, 30), (3, 3), (31, 31), (32, 32), (33, 33), (34, 33), (35, 33), (36, 33), (37, 34), (38, 35), (39, 36), (4, 4), (40, 37), (41, 38), (42, 39), (44, 40), (45, 41), (46, 42), (47, 48), (48, 48), (49, 49), (5, 5), (50, 50), (51, 51), (52, 53), (53, 52), (54, 54), (55, 56), (56, 57), (6, 6), (60, 45), (61, 46), (62, 47), (63, 58), (7, 10)], possible=[(10, 7), (10, 8), (11, 7), (11, 8), (12, 7), (12, 8), (13, 7), (13, 8), (43, 40), (43, 41), (55, 55), (57, 43), (57, 44), (58, 43), (58, 44), (59, 43), (59, 44), (59, 47), (8, 10), (8, 9), (9, 7), (9, 8)]),\n",
       " LabeledAlignment(sure=[(1, 1), (2, 2), (3, 3), (4, 4), (5, 5), (6, 6)], possible=[]),\n",
       " LabeledAlignment(sure=[(10, 10), (12, 11), (13, 9), (14, 12), (2, 1), (3, 2), (4, 5), (4, 6), (5, 3), (6, 4), (7, 2), (8, 7), (9, 8)], possible=[(1, 1)]),\n",
       " LabeledAlignment(sure=[(1, 1), (10, 8), (11, 9), (12, 10), (13, 14), (14, 15), (16, 12), (17, 11), (18, 16), (19, 17), (2, 2), (20, 18), (21, 19), (23, 20), (24, 21), (4, 4), (5, 3), (6, 3), (7, 5), (8, 6), (9, 7)], possible=[(15, 13), (15, 15), (16, 11), (17, 12), (22, 20), (3, 3)]),\n",
       " LabeledAlignment(sure=[(1, 1), (10, 8), (11, 9), (14, 10), (15, 11), (16, 12), (18, 15), (19, 16), (19, 17), (2, 2), (2, 3), (2, 4), (20, 13), (21, 18), (4, 7), (5, 5), (6, 7), (8, 6)], possible=[(12, 10), (13, 10), (17, 13), (17, 17), (4, 5), (5, 7), (6, 5), (7, 5), (7, 6), (7, 7), (9, 8)]),\n",
       " LabeledAlignment(sure=[(1, 1), (10, 10), (11, 8), (12, 8), (13, 9), (15, 11), (16, 12), (2, 2), (3, 3), (4, 4), (6, 5), (7, 6), (8, 7), (9, 7)], possible=[(14, 11), (2, 3), (3, 2)]),\n",
       " LabeledAlignment(sure=[(1, 1), (12, 12), (13, 8), (14, 13), (15, 14), (17, 15), (19, 18), (20, 19), (21, 20), (22, 21), (23, 22), (24, 23), (25, 24), (26, 25), (27, 26), (28, 26), (29, 27), (3, 2), (30, 29), (31, 31), (32, 31), (33, 31), (34, 32), (34, 33), (36, 35), (38, 34), (39, 36), (40, 36), (41, 37), (42, 38), (43, 39), (44, 40), (45, 41), (46, 42), (47, 43), (5, 3), (6, 3), (7, 4), (7, 5), (8, 6), (9, 10)], possible=[(10, 10), (10, 9), (12, 11), (13, 7), (16, 15), (18, 18), (31, 30), (32, 30), (33, 30), (35, 34), (37, 35), (4, 3), (8, 7)]),\n",
       " LabeledAlignment(sure=[(1, 1), (10, 7), (11, 9), (12, 12), (13, 10), (14, 11), (15, 13), (16, 14), (17, 14), (18, 14), (20, 15), (22, 16), (23, 17), (24, 18), (25, 19), (26, 20), (27, 21), (29, 22), (29, 23), (3, 2), (30, 24), (31, 25), (32, 26), (4, 3), (5, 4), (6, 4), (7, 5), (8, 8), (9, 6)], possible=[(19, 15), (2, 1), (21, 21)]),\n",
       " LabeledAlignment(sure=[(10, 8), (11, 9), (12, 10), (13, 11), (13, 12), (13, 13), (13, 14), (14, 10), (16, 15), (17, 18), (18, 16), (19, 17), (2, 1), (20, 19), (21, 21), (24, 26), (26, 22), (27, 23), (28, 24), (29, 27), (3, 3), (4, 3), (5, 2), (6, 4), (7, 5), (8, 6), (9, 7)], possible=[(1, 2), (15, 10), (15, 15), (21, 20), (22, 20), (22, 21), (23, 24), (23, 25), (23, 26), (24, 25), (25, 25), (25, 26)]),\n",
       " LabeledAlignment(sure=[(1, 1), (10, 6), (11, 6), (12, 10), (13, 10), (14, 11), (15, 12), (16, 13), (18, 14), (19, 15), (2, 2), (20, 17), (22, 18), (23, 19), (24, 20), (25, 21), (26, 22), (28, 25), (30, 27), (31, 28), (5, 3), (7, 7), (8, 8), (8, 9), (9, 4)], possible=[(10, 5), (11, 5), (17, 14), (27, 23), (29, 26), (3, 3), (4, 3)]),\n",
       " LabeledAlignment(sure=[(1, 2), (11, 13), (12, 14), (13, 15), (14, 18), (15, 19), (16, 20), (17, 21), (18, 21), (19, 16), (2, 3), (20, 22), (21, 23), (22, 24), (23, 25), (25, 26), (26, 27), (26, 28), (27, 29), (28, 30), (28, 31), (29, 32), (3, 4), (30, 33), (4, 7), (5, 8), (7, 11), (7, 12), (8, 9), (9, 10)], possible=[(14, 19), (15, 17), (15, 18), (24, 26), (6, 10)]),\n",
       " LabeledAlignment(sure=[(1, 1), (10, 8), (11, 13), (12, 14), (14, 15), (16, 16), (17, 17), (18, 18), (21, 20), (22, 19), (23, 21), (24, 23), (25, 24), (26, 25), (27, 28), (28, 29), (29, 29), (3, 2), (3, 3), (30, 26), (31, 27), (32, 30), (5, 9), (7, 11)], possible=[(10, 6), (10, 7), (11, 12), (13, 15), (15, 16), (4, 5), (4, 9), (5, 10), (5, 11), (6, 10), (6, 11), (6, 9), (7, 10), (7, 9), (8, 6), (8, 7), (8, 8), (9, 6), (9, 7), (9, 8)]),\n",
       " LabeledAlignment(sure=[(1, 1), (10, 8), (11, 10), (12, 11), (14, 12), (16, 14), (17, 16), (18, 17), (19, 18), (2, 3), (20, 20), (21, 19), (22, 20), (23, 21), (24, 22), (25, 23), (26, 24), (27, 25), (28, 26), (29, 27), (3, 2), (30, 27), (31, 27), (32, 28), (33, 29), (5, 4), (6, 5), (7, 6), (8, 7), (9, 9)], possible=[(13, 12), (16, 13), (17, 15), (29, 28), (30, 28), (31, 28), (32, 27), (4, 5)]),\n",
       " LabeledAlignment(sure=[(1, 2), (10, 9), (11, 13), (12, 14), (14, 15), (15, 16), (18, 17), (19, 18), (2, 3), (20, 19), (3, 4), (4, 4), (5, 5), (7, 8), (8, 12), (9, 11)], possible=[(16, 18), (17, 18), (6, 8), (9, 10)]),\n",
       " LabeledAlignment(sure=[(1, 1), (10, 6), (11, 7), (12, 8), (13, 9), (14, 10), (15, 11), (16, 12), (17, 13), (18, 14), (19, 15), (20, 15), (22, 17), (23, 18), (24, 19), (26, 20), (28, 21), (29, 22), (30, 23), (31, 24), (32, 25), (33, 26), (34, 27), (36, 28), (37, 30), (38, 31), (39, 29), (4, 2), (40, 32), (41, 34), (42, 33), (43, 35), (5, 3), (6, 3), (7, 4), (8, 5), (9, 5)], possible=[(2, 3), (23, 16), (25, 17), (3, 3), (35, 29), (37, 31), (38, 30)]),\n",
       " LabeledAlignment(sure=[(1, 1), (10, 11), (11, 11), (12, 12), (14, 13), (16, 14), (18, 18), (20, 19), (21, 20), (22, 21), (23, 22), (25, 23), (26, 25), (28, 26), (3, 2), (32, 27), (34, 28), (35, 31), (36, 29), (37, 30), (38, 32), (4, 3), (5, 6), (6, 7), (7, 7), (8, 9), (9, 10)], possible=[(13, 14), (18, 17), (19, 19), (24, 23), (27, 26), (31, 31), (33, 30), (8, 8)]),\n",
       " LabeledAlignment(sure=[(1, 1), (11, 11), (12, 19), (13, 21), (14, 20), (15, 22), (2, 2), (22, 26), (23, 27), (26, 15), (27, 16), (28, 17), (29, 18), (3, 3), (30, 29), (31, 32), (33, 30), (34, 33), (4, 4), (5, 5), (7, 8), (8, 9), (9, 10)], possible=[(10, 11), (10, 12), (10, 13), (16, 14), (16, 23), (19, 24), (24, 28), (25, 17), (33, 31), (6, 8)]),\n",
       " LabeledAlignment(sure=[(1, 1), (11, 6), (12, 7), (13, 10), (14, 11), (15, 13), (17, 14), (19, 15), (2, 2), (21, 17), (22, 16), (24, 20), (24, 21), (25, 22), (27, 18), (28, 19), (29, 23), (3, 3), (4, 4), (5, 5), (7, 8), (8, 8), (9, 9)], possible=[(10, 9), (15, 12), (16, 14), (16, 15), (16, 16), (16, 17), (17, 15), (17, 16), (17, 17), (18, 14), (18, 15), (18, 16), (18, 17), (19, 14), (19, 16), (19, 17), (20, 14), (20, 15), (20, 16), (20, 17), (21, 14), (21, 15), (21, 16), (22, 14), (22, 15), (22, 17), (26, 18), (28, 18), (6, 7), (6, 9)]),\n",
       " LabeledAlignment(sure=[(1, 1), (11, 10), (13, 11), (14, 12), (15, 13), (17, 15), (18, 16), (20, 14), (23, 17), (26, 25), (3, 2), (5, 5), (6, 6), (7, 7), (8, 9), (9, 8)], possible=[(10, 10), (12, 10), (12, 13), (16, 14), (16, 16), (19, 16), (2, 2), (21, 17), (21, 18), (21, 19), (21, 20), (21, 21), (21, 22), (21, 23), (21, 24), (22, 17), (22, 18), (22, 19), (22, 20), (22, 21), (22, 22), (22, 23), (22, 24), (23, 18), (23, 19), (23, 20), (23, 21), (23, 22), (23, 23), (23, 24), (24, 17), (24, 18), (24, 19), (24, 20), (24, 21), (24, 22), (24, 23), (24, 24), (25, 17), (25, 18), (25, 19), (25, 20), (25, 21), (25, 22), (25, 23), (25, 24)]),\n",
       " LabeledAlignment(sure=[(10, 12), (11, 8), (12, 6), (13, 13), (14, 14), (16, 15), (17, 16), (18, 16), (19, 17), (2, 1), (20, 18), (21, 19), (3, 2), (4, 3), (5, 5), (6, 4), (7, 9), (8, 10), (9, 11)], possible=[(1, 1), (11, 7), (15, 14), (15, 15)]),\n",
       " LabeledAlignment(sure=[(10, 12), (12, 10), (13, 11), (14, 13), (15, 14), (16, 15), (17, 16), (19, 17), (2, 1), (20, 18), (24, 9), (25, 19), (3, 3), (4, 2), (5, 5), (7, 6), (9, 8)], possible=[(1, 2), (11, 12), (22, 9), (23, 9), (6, 6), (8, 8), (9, 7)]),\n",
       " LabeledAlignment(sure=[(1, 1), (10, 8), (12, 9), (14, 10), (15, 11), (16, 12), (17, 13), (18, 14), (19, 15), (2, 2), (4, 3), (6, 4), (7, 5), (8, 6), (9, 7)], possible=[(11, 9), (13, 11), (3, 3), (5, 6)]),\n",
       " LabeledAlignment(sure=[(10, 7), (11, 8), (12, 9), (3, 1), (4, 2), (6, 3), (7, 4), (8, 5), (9, 6)], possible=[(5, 5)]),\n",
       " LabeledAlignment(sure=[(1, 17), (10, 12), (11, 12), (12, 13), (13, 14), (14, 15), (15, 5), (16, 6), (17, 7), (18, 8), (2, 18), (20, 21), (23, 19), (25, 20), (26, 22), (27, 23), (28, 24), (4, 1), (5, 2), (6, 3), (8, 4), (9, 4)], possible=[(24, 19), (7, 8)]),\n",
       " LabeledAlignment(sure=[(10, 10), (11, 11), (12, 9), (13, 12), (14, 14), (15, 13), (16, 15), (17, 16), (18, 17), (19, 20), (2, 5), (20, 23), (21, 22), (22, 24), (3, 5), (4, 6), (5, 6), (6, 2), (7, 3)], possible=[(1, 1), (1, 6), (20, 21), (4, 7), (4, 8), (5, 4), (5, 7), (5, 8), (7, 1)]),\n",
       " LabeledAlignment(sure=[(10, 4), (11, 5), (14, 7), (16, 8), (18, 6), (19, 9), (20, 10), (21, 11), (29, 20), (3, 2), (31, 22), (32, 21), (33, 24), (34, 25), (35, 26), (36, 27), (37, 28), (38, 29), (39, 30), (4, 2), (40, 31), (5, 2), (6, 1), (9, 4)], possible=[(1, 1), (1, 2), (1, 3), (12, 6), (12, 8), (13, 6), (13, 8), (2, 1), (2, 2), (2, 3), (22, 14), (22, 17), (23, 14), (23, 17), (24, 12), (24, 17), (25, 13), (25, 17), (26, 14), (26, 17), (27, 19), (28, 20), (28, 3), (3, 1), (30, 22), (4, 1), (5, 1), (6, 2), (7, 1), (7, 2), (8, 4)]),\n",
       " LabeledAlignment(sure=[(1, 1), (10, 6), (12, 9), (13, 7), (13, 8), (14, 10), (4, 2), (5, 3), (6, 3), (9, 5)], possible=[(11, 8), (3, 2), (7, 5), (8, 5)]),\n",
       " LabeledAlignment(sure=[(1, 4), (10, 10), (11, 10), (13, 11), (14, 12), (15, 13), (16, 14), (17, 15), (18, 16), (19, 17), (2, 3), (20, 18), (21, 19), (22, 20), (23, 21), (24, 22), (7, 2), (8, 8), (9, 9)], possible=[(12, 11), (2, 5), (2, 6), (2, 7), (3, 3), (3, 5), (3, 6), (3, 7), (4, 3), (4, 5), (4, 6), (4, 7), (5, 3), (5, 5), (5, 6), (5, 7), (6, 1), (6, 2), (7, 1)]),\n",
       " LabeledAlignment(sure=[(1, 1), (10, 7), (11, 11), (12, 12), (13, 13), (14, 14), (15, 15), (16, 16), (17, 17), (19, 18), (19, 19), (20, 20), (21, 21), (22, 22), (23, 24), (24, 25), (25, 26), (27, 29), (28, 30), (29, 32), (3, 2), (30, 33), (31, 34), (32, 27), (33, 35), (34, 36), (35, 37), (38, 38), (39, 39), (4, 9), (40, 40), (5, 8), (7, 10), (8, 6)], possible=[(18, 22), (2, 2), (23, 23), (26, 27), (27, 28), (3, 3), (30, 31), (36, 39), (37, 39), (6, 10), (9, 7)]),\n",
       " LabeledAlignment(sure=[(1, 1), (10, 11), (11, 12), (12, 13), (13, 14), (14, 15), (15, 16), (16, 17), (18, 18), (19, 19), (2, 2), (21, 23), (23, 22), (24, 25), (3, 3), (5, 4), (6, 5), (8, 10), (9, 10)], possible=[(17, 19), (20, 21), (22, 24), (4, 4), (7, 10), (7, 7)]),\n",
       " LabeledAlignment(sure=[(1, 1), (10, 7), (11, 8), (12, 9), (13, 9), (15, 11), (17, 10), (18, 12), (19, 13), (20, 16), (21, 14), (22, 15), (23, 17), (3, 2), (4, 3), (5, 4), (6, 4), (8, 5), (9, 6)], possible=[(14, 10), (16, 11), (2, 3), (7, 5)]),\n",
       " LabeledAlignment(sure=[(1, 1), (11, 9), (12, 10), (13, 11), (14, 12), (15, 13), (2, 2), (4, 3), (5, 4), (6, 5), (7, 6), (8, 6), (9, 6)], possible=[(10, 8), (10, 9)]),\n",
       " LabeledAlignment(sure=[(1, 1), (10, 8), (11, 10), (11, 9), (12, 11), (13, 15), (14, 17), (3, 2), (5, 3), (6, 5), (7, 4), (8, 6), (9, 7)], possible=[(2, 2), (6, 13), (7, 12)]),\n",
       " LabeledAlignment(sure=[(1, 1), (10, 9), (11, 10), (12, 11), (13, 13), (14, 14), (15, 16), (17, 15), (18, 17), (19, 18), (2, 1), (20, 19), (3, 2), (4, 3), (5, 4), (6, 5), (7, 7), (8, 7), (9, 8)], possible=[(13, 12), (8, 6)]),\n",
       " LabeledAlignment(sure=[(1, 1), (10, 8), (11, 9), (12, 10), (13, 11), (14, 12), (15, 13), (16, 14), (17, 14), (19, 15), (21, 15), (22, 19), (23, 20), (24, 21), (25, 22), (26, 23), (27, 24), (28, 25), (29, 27), (3, 3), (30, 28), (31, 29), (4, 4), (5, 5), (7, 6), (8, 7)], possible=[(15, 15), (18, 13), (18, 15), (19, 13), (2, 1), (2, 2), (20, 13), (20, 15), (21, 13), (6, 7), (9, 8)]),\n",
       " LabeledAlignment(sure=[(1, 1), (10, 11), (11, 12), (13, 14), (14, 15), (15, 16), (16, 17), (17, 18), (18, 19), (19, 20), (20, 21), (22, 23), (23, 22), (24, 24), (26, 25), (27, 26), (28, 27), (29, 28), (3, 2), (30, 29), (4, 3), (5, 3), (6, 4), (7, 4), (8, 6), (9, 7)], possible=[(11, 13), (12, 12), (12, 15), (2, 2), (21, 22), (25, 26), (4, 4), (5, 4), (6, 3), (7, 3), (8, 5), (9, 5)]),\n",
       " LabeledAlignment(sure=[(1, 1), (10, 12), (11, 13), (12, 14), (13, 14), (14, 15), (16, 18), (17, 21), (18, 21), (19, 21), (20, 20), (21, 22), (22, 23), (3, 2), (4, 4), (5, 6), (6, 7), (7, 3), (8, 8), (8, 9), (9, 11)], possible=[(17, 19), (18, 19), (19, 19), (2, 3)]),\n",
       " LabeledAlignment(sure=[(1, 1), (10, 6), (11, 7), (12, 8), (2, 2), (3, 3), (4, 4), (7, 5)], possible=[(5, 5), (6, 5), (8, 7), (9, 7)]),\n",
       " LabeledAlignment(sure=[(1, 1), (10, 9), (11, 10), (12, 11), (2, 2), (4, 5), (5, 3), (6, 6), (7, 7), (9, 8)], possible=[(3, 4), (8, 10)]),\n",
       " LabeledAlignment(sure=[(1, 1), (1, 2), (10, 8), (2, 3), (3, 4), (6, 5), (9, 7)], possible=[(4, 6), (5, 6), (7, 6), (8, 7), (9, 6)]),\n",
       " LabeledAlignment(sure=[(1, 1), (2, 2), (3, 3), (4, 4), (6, 5), (7, 6), (8, 7), (9, 8)], possible=[(5, 4)]),\n",
       " LabeledAlignment(sure=[(10, 10), (13, 11), (15, 12), (17, 13), (18, 14), (19, 15), (2, 1), (20, 16), (21, 17), (22, 18), (23, 19), (23, 20), (24, 21), (26, 22), (27, 23), (28, 24), (29, 24), (3, 2), (31, 25), (32, 26), (33, 27), (4, 3), (5, 4), (6, 9), (8, 10)], possible=[(1, 3), (12, 10), (12, 11), (14, 11), (16, 13), (25, 22), (25, 23), (7, 12)]),\n",
       " LabeledAlignment(sure=[(1, 1), (10, 9), (11, 10), (12, 11), (13, 12), (15, 13), (16, 14), (17, 15), (18, 16), (19, 17), (2, 2), (20, 18), (22, 19), (23, 20), (24, 22), (25, 22), (27, 23), (28, 23), (3, 3), (30, 25), (32, 27), (33, 27), (35, 29), (36, 30), (37, 31), (4, 4), (5, 5), (6, 6), (7, 6), (8, 7), (9, 8)], possible=[(21, 18), (24, 21), (24, 23), (25, 21), (25, 23), (26, 21), (26, 22), (26, 23), (27, 21), (27, 22), (28, 21), (28, 22), (30, 24), (31, 27), (33, 26), (34, 27), (34, 28), (36, 28)]),\n",
       " LabeledAlignment(sure=[(1, 1), (10, 8), (11, 9), (2, 2), (3, 3), (4, 4), (5, 5), (6, 5), (7, 7), (8, 8), (9, 8)], possible=[(5, 6), (5, 7), (6, 6), (6, 7), (7, 5), (7, 6)]),\n",
       " LabeledAlignment(sure=[(1, 1), (11, 10), (13, 19), (15, 18), (16, 17), (18, 12), (19, 11), (2, 2), (20, 14), (21, 15), (22, 15), (24, 22), (25, 23), (27, 26), (29, 27), (3, 3), (30, 28), (31, 29), (32, 30), (32, 31), (33, 32), (34, 33), (5, 5), (6, 6), (7, 7)], possible=[(10, 8), (10, 9), (12, 18), (14, 19), (17, 11), (18, 13), (26, 21), (26, 25), (28, 31), (4, 5), (4, 6), (5, 6), (6, 5), (8, 8), (9, 8), (9, 9)]),\n",
       " LabeledAlignment(sure=[(1, 1), (10, 9), (11, 10), (12, 11), (13, 12), (14, 13), (16, 14), (18, 17), (19, 17), (2, 2), (20, 18), (21, 18), (22, 19), (23, 20), (24, 21), (25, 22), (26, 23), (28, 25), (29, 24), (3, 3), (30, 26), (4, 4), (5, 5), (6, 6), (7, 7), (8, 8)], possible=[(17, 17), (27, 24), (9, 10)]),\n",
       " LabeledAlignment(sure=[(10, 7), (11, 8), (12, 9), (13, 10), (14, 11), (15, 12), (16, 13), (17, 14), (18, 15), (19, 16), (2, 1), (20, 17), (21, 18), (22, 19), (23, 20), (24, 21), (25, 22), (26, 23), (3, 2), (5, 3), (6, 4), (8, 5), (9, 6)], possible=[(1, 1), (4, 3), (4, 4), (7, 5)]),\n",
       " LabeledAlignment(sure=[(10, 5), (11, 8), (13, 9), (15, 10), (18, 11), (19, 12), (2, 1), (20, 13), (21, 14), (22, 15), (5, 2), (6, 3), (7, 4), (8, 6), (9, 7)], possible=[(1, 1), (12, 9), (14, 10), (16, 11), (17, 11), (3, 3)]),\n",
       " LabeledAlignment(sure=[(1, 2), (10, 8), (11, 8), (12, 9), (13, 11), (14, 12), (16, 13), (17, 13), (18, 14), (19, 14), (2, 3), (20, 15), (21, 16), (24, 20), (26, 18), (26, 19), (27, 21), (28, 21), (29, 22), (30, 22), (31, 23), (32, 23), (33, 24), (4, 4), (7, 7), (8, 5), (9, 6)], possible=[(11, 10), (13, 10), (23, 19), (25, 20), (27, 17), (28, 17), (3, 4), (5, 6), (6, 6)]),\n",
       " LabeledAlignment(sure=[(11, 8), (11, 9), (12, 13), (13, 14), (15, 16), (16, 16), (17, 17), (18, 18), (2, 1), (4, 5), (5, 6), (7, 10), (8, 11), (9, 12)], possible=[(1, 1), (1, 3), (10, 7), (10, 8), (10, 9), (14, 15), (14, 16), (15, 15), (2, 2), (3, 6), (5, 4), (6, 10), (6, 7)]),\n",
       " LabeledAlignment(sure=[(1, 1), (10, 12), (11, 7), (12, 8), (13, 9), (15, 10), (16, 11), (17, 13), (18, 14), (2, 1), (20, 16), (22, 17), (23, 18), (24, 19), (26, 20), (27, 20), (28, 21), (29, 22), (31, 23), (32, 25), (34, 26), (35, 27), (36, 28), (37, 29), (38, 30), (39, 31), (40, 32), (41, 33), (42, 34), (43, 35), (44, 36), (46, 38), (47, 39), (48, 40), (49, 37), (5, 4), (50, 42), (51, 43), (52, 44), (54, 45), (55, 46), (56, 47), (6, 5), (8, 6), (9, 6)], possible=[(14, 7), (18, 15), (19, 16), (21, 17), (25, 15), (30, 23), (32, 24), (4, 5), (45, 37), (50, 41), (53, 46), (7, 6)]),\n",
       " LabeledAlignment(sure=[(1, 1), (2, 2), (3, 3), (5, 4), (6, 5), (7, 6)], possible=[(4, 4)]),\n",
       " LabeledAlignment(sure=[(1, 1), (10, 9), (12, 10), (13, 11), (14, 12), (15, 13), (16, 13), (17, 14), (18, 15), (18, 16), (2, 2), (20, 17), (21, 18), (22, 19), (23, 20), (25, 22), (26, 23), (27, 24), (28, 25), (29, 26), (30, 28), (34, 29), (35, 30), (36, 31), (37, 32), (38, 33), (39, 34), (40, 35), (41, 36), (42, 37), (6, 6), (8, 7), (9, 8)], possible=[(11, 10), (19, 18), (20, 21), (24, 23), (3, 3), (3, 4), (3, 5), (4, 3), (4, 4), (4, 5), (5, 3), (5, 4), (5, 5), (7, 8)]),\n",
       " LabeledAlignment(sure=[(1, 1), (10, 7), (13, 9), (14, 10), (15, 11), (16, 12), (17, 13), (18, 15), (2, 2), (23, 16), (24, 17), (26, 18), (27, 21), (28, 19), (28, 20), (29, 22), (29, 23), (3, 3), (30, 25), (31, 27), (32, 28), (33, 26), (34, 29), (36, 30), (37, 32), (38, 31), (4, 4), (41, 33), (42, 34), (43, 35), (44, 36), (5, 5), (7, 8), (9, 6)], possible=[(12, 9), (18, 14), (22, 16), (22, 17), (25, 18), (30, 24), (35, 31), (39, 34), (40, 34), (6, 7), (6, 8), (8, 8)]),\n",
       " LabeledAlignment(sure=[(1, 1), (10, 8), (11, 9), (12, 9), (13, 9), (14, 10), (15, 10), (16, 11), (17, 12), (18, 14), (2, 2), (20, 15), (21, 16), (22, 17), (23, 18), (24, 19), (26, 20), (27, 21), (4, 3), (5, 4), (6, 5), (8, 6), (9, 7)], possible=[(14, 11), (14, 12), (15, 11), (15, 12), (16, 10), (16, 12), (17, 10), (17, 11), (19, 16), (25, 20), (3, 5)]),\n",
       " LabeledAlignment(sure=[(1, 1), (2, 3), (3, 2), (4, 4), (5, 5), (6, 6), (7, 7), (8, 8), (9, 9)], possible=[]),\n",
       " LabeledAlignment(sure=[(10, 6), (2, 1), (4, 4), (6, 2), (7, 2), (8, 3), (9, 5)], possible=[(1, 1)]),\n",
       " LabeledAlignment(sure=[(1, 1), (1, 2), (10, 14), (12, 15), (13, 16), (14, 11), (16, 17), (17, 12), (18, 13), (19, 18), (2, 3), (2, 4), (5, 9), (6, 10), (7, 7), (8, 5)], possible=[(11, 16), (15, 17), (3, 3), (3, 4), (3, 5), (4, 5), (5, 10), (5, 5), (5, 6), (5, 7), (5, 8), (6, 5), (6, 6), (6, 7), (6, 8), (6, 9), (7, 10), (7, 5), (7, 6), (7, 8), (7, 9), (8, 10), (8, 6), (8, 7), (8, 8), (8, 9)]),\n",
       " LabeledAlignment(sure=[(1, 1), (10, 2), (11, 3), (12, 5), (14, 6), (16, 13), (17, 14), (19, 15), (2, 8), (20, 16), (21, 17), (4, 9), (7, 11), (8, 10), (9, 12)], possible=[(13, 4), (15, 7), (18, 16), (3, 9), (5, 10), (6, 10)]),\n",
       " LabeledAlignment(sure=[(1, 1), (10, 7), (12, 8), (13, 9), (14, 10), (3, 3), (5, 4), (6, 4), (8, 5), (9, 6)], possible=[(11, 8), (2, 3), (4, 4), (7, 5)]),\n",
       " LabeledAlignment(sure=[(1, 1), (10, 2), (11, 10), (11, 9), (13, 12), (14, 14), (15, 15), (4, 3), (5, 4), (6, 5), (7, 6), (8, 7), (9, 8)], possible=[(12, 14), (3, 4)]),\n",
       " LabeledAlignment(sure=[(1, 1), (11, 12), (12, 13), (13, 14), (2, 2), (3, 4), (4, 5), (5, 6), (7, 7), (8, 8), (9, 9)], possible=[(10, 10), (4, 3), (6, 7), (6, 8)]),\n",
       " LabeledAlignment(sure=[(1, 1), (10, 7), (11, 9), (12, 10), (13, 12), (14, 12), (16, 14), (17, 15), (19, 17), (2, 2), (20, 18), (21, 19), (22, 20), (24, 21), (27, 22), (28, 24), (29, 23), (3, 3), (30, 25), (31, 26), (32, 26), (33, 27), (34, 28), (36, 30), (4, 5), (5, 5), (6, 5), (7, 5), (8, 4), (9, 6)], possible=[(11, 8), (14, 11), (15, 14), (16, 13), (18, 18), (23, 21), (25, 22), (26, 22), (34, 29), (35, 28), (35, 29)]),\n",
       " LabeledAlignment(sure=[(1, 2), (10, 11), (11, 12), (12, 14), (13, 15), (14, 19), (16, 17), (17, 18), (2, 1), (21, 23), (22, 24), (23, 25), (4, 3), (5, 4), (6, 5), (7, 8), (8, 6), (8, 7), (9, 9)], possible=[(12, 13), (15, 19), (17, 16), (18, 20), (18, 21), (19, 20), (19, 21), (20, 20), (20, 21), (22, 22), (3, 4), (6, 10)]),\n",
       " LabeledAlignment(sure=[(1, 1), (10, 9), (12, 10), (13, 10), (14, 11), (15, 12), (16, 14), (17, 15), (18, 16), (19, 17), (2, 3), (20, 18), (21, 19), (22, 20), (24, 21), (25, 22), (26, 23), (27, 24), (28, 25), (3, 4), (4, 5), (5, 5), (7, 6), (8, 6), (9, 7)], possible=[(11, 10), (11, 9), (15, 13), (2, 2)]),\n",
       " LabeledAlignment(sure=[(10, 8), (11, 9), (12, 11), (13, 11), (14, 12), (15, 12), (16, 12), (17, 13), (18, 14), (2, 1), (3, 2), (4, 4), (5, 3), (6, 4), (7, 5), (8, 6), (9, 7)], possible=[(1, 2), (13, 10)]),\n",
       " LabeledAlignment(sure=[(10, 9), (12, 10), (13, 11), (14, 12), (15, 14), (16, 13), (17, 15), (18, 16), (19, 18), (2, 1), (20, 19), (22, 20), (23, 21), (24, 22), (25, 23), (27, 24), (28, 25), (3, 2), (4, 3), (5, 4), (6, 4), (7, 5), (8, 6), (9, 8)], possible=[(1, 2), (11, 10), (11, 11), (21, 20), (26, 24)]),\n",
       " LabeledAlignment(sure=[(10, 5), (11, 6), (13, 13), (14, 16), (15, 17), (16, 19), (17, 14), (19, 20), (19, 21), (2, 1), (21, 22), (23, 23), (25, 24), (26, 25), (27, 26), (29, 27), (3, 2), (30, 28), (4, 3), (6, 8), (7, 10), (7, 11), (7, 9), (8, 12), (9, 4)], possible=[(1, 2), (14, 15), (16, 18), (20, 23), (24, 24), (26, 26), (26, 27), (27, 25), (27, 27), (28, 25), (28, 26), (28, 27), (29, 25), (29, 26), (5, 12), (5, 4)]),\n",
       " LabeledAlignment(sure=[(12, 6), (13, 6), (16, 7), (17, 9), (19, 8), (2, 1), (20, 10), (3, 2), (5, 3), (7, 4), (8, 5)], possible=[(1, 1), (11, 6), (14, 9), (15, 9), (18, 8), (4, 3), (6, 5)]),\n",
       " LabeledAlignment(sure=[(10, 9), (11, 10), (14, 11), (15, 12), (16, 13), (18, 14), (19, 15), (2, 1), (20, 16), (21, 17), (22, 18), (23, 19), (25, 20), (26, 21), (3, 2), (3, 3), (3, 4), (4, 5), (5, 6), (6, 7), (8, 8)], possible=[(1, 5), (13, 11), (17, 15), (22, 19), (22, 20), (23, 18), (23, 20), (24, 18), (24, 19), (24, 20), (25, 18), (25, 19), (7, 8), (9, 9)]),\n",
       " LabeledAlignment(sure=[(10, 8), (11, 9), (4, 3), (5, 4), (6, 5), (7, 6), (9, 7)], possible=[(1, 1), (1, 2), (2, 1), (2, 2), (3, 3), (8, 8)]),\n",
       " LabeledAlignment(sure=[(10, 9), (12, 11), (13, 12), (14, 13), (15, 14), (16, 15), (17, 16), (2, 1), (3, 2), (4, 3), (5, 4), (6, 5), (7, 6), (8, 7), (9, 8)], possible=[(11, 11), (15, 15), (16, 14)]),\n",
       " LabeledAlignment(sure=[(10, 9), (11, 10), (2, 1), (3, 2), (4, 3), (5, 4), (7, 5), (8, 5), (9, 8)], possible=[(1, 3), (6, 6), (6, 7)]),\n",
       " LabeledAlignment(sure=[(1, 1), (10, 7), (11, 8), (12, 9), (14, 10), (15, 11), (17, 12), (18, 13), (3, 2), (4, 2), (5, 3), (6, 4), (8, 5), (9, 6)], possible=[(16, 12), (2, 2), (7, 5)]),\n",
       " LabeledAlignment(sure=[(1, 1), (11, 9), (12, 10), (2, 4), (3, 5), (5, 2), (6, 6), (7, 6), (8, 7), (9, 8)], possible=[(10, 9), (3, 3), (4, 2)]),\n",
       " LabeledAlignment(sure=[(1, 1), (10, 10), (11, 11), (12, 12), (13, 13), (14, 14), (15, 15), (16, 17), (17, 18), (19, 23), (2, 2), (20, 24), (21, 25), (22, 26), (3, 3), (4, 4), (6, 6), (7, 7), (8, 8), (9, 9)], possible=[(16, 16), (18, 22), (18, 25), (5, 13)]),\n",
       " LabeledAlignment(sure=[(1, 1), (10, 9), (11, 10), (12, 11), (13, 12), (14, 13), (15, 14), (16, 15), (17, 16), (18, 17), (20, 20), (22, 18), (23, 19), (24, 21), (25, 22), (26, 23), (3, 2), (4, 3), (6, 6), (7, 7), (8, 7), (9, 8)], possible=[(19, 19), (21, 20), (5, 6)]),\n",
       " LabeledAlignment(sure=[(1, 1), (10, 11), (11, 12), (13, 13), (14, 14), (2, 2), (3, 4), (5, 5), (6, 7), (7, 8), (8, 9), (9, 10)], possible=[(2, 3), (4, 5), (4, 6), (5, 6)]),\n",
       " LabeledAlignment(sure=[(1, 1), (11, 10), (13, 11), (14, 12), (15, 8), (16, 8), (17, 7), (18, 13), (2, 4), (4, 5), (6, 2), (6, 3)], possible=[(12, 10), (12, 9), (16, 6), (5, 5), (8, 12), (8, 9)]),\n",
       " LabeledAlignment(sure=[(1, 1), (10, 12), (11, 13), (12, 14), (13, 15), (14, 8), (15, 9), (16, 16), (17, 18), (18, 22), (19, 23), (2, 2), (20, 24), (21, 25), (23, 20), (24, 19), (26, 26), (27, 28), (28, 29), (29, 27), (3, 6), (31, 30), (32, 34), (33, 35), (34, 36), (35, 37), (37, 32), (39, 38), (4, 7), (40, 40), (41, 41), (42, 39), (43, 42), (5, 3), (6, 4), (7, 5), (9, 11)], possible=[(16, 17), (22, 23), (36, 35)]),\n",
       " LabeledAlignment(sure=[(1, 1), (10, 8), (11, 9), (12, 10), (13, 13), (15, 14), (16, 15), (17, 15), (18, 19), (19, 20), (2, 2), (20, 21), (22, 22), (23, 23), (24, 24), (26, 27), (28, 25), (29, 26), (3, 3), (30, 28), (31, 29), (32, 30), (33, 31), (34, 32), (36, 33), (37, 34), (38, 35), (4, 4), (5, 5), (6, 6), (7, 7), (8, 8), (9, 8)], possible=[(21, 23), (25, 26), (25, 27), (27, 27), (35, 34)]),\n",
       " LabeledAlignment(sure=[(1, 1), (13, 8), (3, 2), (4, 3), (5, 4), (7, 5), (8, 6), (9, 7)], possible=[(10, 7), (11, 7), (12, 7)]),\n",
       " LabeledAlignment(sure=[(10, 10), (11, 11), (12, 12), (13, 13), (14, 14), (16, 15), (18, 16), (19, 17), (20, 18), (21, 19), (22, 21), (23, 22), (25, 31), (25, 32), (25, 33), (26, 23), (27, 35), (3, 1), (4, 2), (5, 5), (6, 6), (7, 8), (8, 8), (9, 9)], possible=[(15, 15), (17, 19), (24, 24), (25, 25), (25, 26), (25, 27), (25, 28), (25, 29), (25, 30), (25, 34), (8, 7)]),\n",
       " LabeledAlignment(sure=[(10, 8), (11, 10), (12, 13), (13, 16), (14, 17), (15, 18), (16, 19), (17, 20), (18, 21), (19, 22), (20, 23), (21, 24), (22, 25), (24, 28), (25, 29), (26, 30), (27, 31), (28, 32), (29, 33), (3, 1), (30, 34), (31, 38), (33, 39), (34, 41), (35, 42), (4, 2), (6, 5), (7, 6), (8, 7), (9, 9)], possible=[(11, 11), (11, 12), (23, 28), (31, 35), (31, 36), (31, 37), (32, 39), (33, 40), (34, 40), (5, 6)]),\n",
       " LabeledAlignment(sure=[(1, 1), (10, 8), (12, 9), (13, 10), (2, 2), (3, 4), (5, 5), (8, 6), (9, 7)], possible=[(11, 9), (3, 3), (4, 5), (6, 6), (7, 6)]),\n",
       " LabeledAlignment(sure=[(2, 1), (4, 7), (5, 6), (6, 7), (7, 4), (8, 5), (9, 8)], possible=[(1, 1), (3, 7)]),\n",
       " ...]"
      ]
     },
     "execution_count": 31,
     "metadata": {},
     "output_type": "execute_result"
    }
   ],
   "source": [
    "all_targets"
   ]
  },
  {
   "cell_type": "code",
   "execution_count": null,
   "metadata": {},
   "outputs": [
    {
     "data": {
      "text/plain": [
       "0.5801772542111637"
      ]
     },
     "execution_count": 46,
     "metadata": {},
     "output_type": "execute_result"
    }
   ],
   "source": [
    "compute_aer(all_targets,aligns)"
   ]
  },
  {
   "cell_type": "code",
   "execution_count": null,
   "metadata": {},
   "outputs": [],
   "source": []
  },
  {
   "cell_type": "markdown",
   "metadata": {},
   "source": [
    "Заметим, что таблицу вероятностей перевода можно использовать и саму по себе для построения словарей. Пример работы показан ниже: метод хоть и работает, но мягко говоря, неидально — слишком мало данных."
   ]
  },
  {
   "cell_type": "code",
   "execution_count": null,
   "metadata": {},
   "outputs": [],
   "source": [
    "idx_token_tgt = {index:token for token, index in t_idx_tgt.items()}"
   ]
  },
  {
   "cell_type": "code",
   "execution_count": null,
   "metadata": {},
   "outputs": [
    {
     "data": {
      "text/plain": [
       "['utrpení', 'odstoupil', 'pánové']"
      ]
     },
     "execution_count": 16,
     "metadata": {},
     "output_type": "execute_result"
    }
   ],
   "source": [
    "[idx_token_tgt[i] for i in word_aligner.translation_probs[t_idx_src['Mr']].argsort()[-3:]]"
   ]
  },
  {
   "cell_type": "code",
   "execution_count": null,
   "metadata": {},
   "outputs": [
    {
     "data": {
      "text/plain": [
       "['bohatá', 'Víš', 'Urbervillová']"
      ]
     },
     "execution_count": 17,
     "metadata": {},
     "output_type": "execute_result"
    }
   ],
   "source": [
    "[idx_token_tgt[i] for i in word_aligner.translation_probs[t_idx_src['Mrs']].argsort()[-3:]]"
   ]
  },
  {
   "cell_type": "code",
   "execution_count": null,
   "metadata": {
    "scrolled": true
   },
   "outputs": [
    {
     "data": {
      "text/plain": [
       "['pevnosti', 'nějž', 'účelu']"
      ]
     },
     "execution_count": 18,
     "metadata": {},
     "output_type": "execute_result"
    }
   ],
   "source": [
    "[idx_token_tgt[i] for i in word_aligner.translation_probs[t_idx_src['water']].argsort()[-3:]]"
   ]
  },
  {
   "cell_type": "code",
   "execution_count": null,
   "metadata": {},
   "outputs": [
    {
     "data": {
      "text/plain": [
       "['koni', 'záviselo', 'překupničením']"
      ]
     },
     "execution_count": 19,
     "metadata": {},
     "output_type": "execute_result"
    }
   ],
   "source": [
    "[idx_token_tgt[i] for i in word_aligner.translation_probs[t_idx_src['depended']].argsort()[-3:]]"
   ]
  },
  {
   "cell_type": "code",
   "execution_count": null,
   "metadata": {},
   "outputs": [
    {
     "data": {
      "text/plain": [
       "['Gorbačova', 'škodí', 'mužům']"
      ]
     },
     "execution_count": 20,
     "metadata": {},
     "output_type": "execute_result"
    }
   ],
   "source": [
    "[idx_token_tgt[i] for i in word_aligner.translation_probs[t_idx_src['on']].argsort()[-3:]]"
   ]
  },
  {
   "cell_type": "markdown",
   "metadata": {},
   "source": [
    "---"
   ]
  },
  {
   "cell_type": "markdown",
   "metadata": {},
   "source": [
    "**Задание 3. (0.5 балла)** Мы смогли получить матрицу условных вероятностей перевода исходного языка в целевой. Можно ли, пользуясь этой матрицей и ещё какими-то статистиками по параллельному корпусу, получить вероятности перевода целевого языка в исходный?\n",
    "\n",
    "* **(?)**  Объясните словами принцип работы вашего метода и реализуйте его.\n",
    "* **(?)**  Также приведите ниже пример его работы, показав пару удачных переводов.\n",
    "\n",
    "**Подсказка:** какие формулы из теории вероятностей вы знаете? :)"
   ]
  },
  {
   "cell_type": "markdown",
   "metadata": {},
   "source": [
    "---"
   ]
  },
  {
   "cell_type": "code",
   "execution_count": null,
   "metadata": {},
   "outputs": [],
   "source": [
    "# (>ω<)ノ—==ΞΞ☆*✲ﾟ"
   ]
  },
  {
   "cell_type": "markdown",
   "metadata": {},
   "source": [
    "---"
   ]
  },
  {
   "cell_type": "markdown",
   "metadata": {},
   "source": [
    "**Задание 4. (0.5 балла)** Визуализируйте полученные выравнивания для нескольких предложений в виде heatmap: по одной из осей располагаются токены исходного текста, по другой — токены его перевода, на пересечении позиций $i$ и $j$ — 0 либо 1 в зависимости от того, является ли в обученной модели $a_i$ равным $j$. Проинтерпретируйте их.\n",
    "\n",
    "Постройте аналогичный график, но без дискретизации, а визуализируя напрямую апостериорное распределение. **(?)**  Можете ли вы найти ситуации, в которых модель не уверена, переводом какого слова является слово $i$?"
   ]
  },
  {
   "cell_type": "markdown",
   "metadata": {},
   "source": [
    "**Подсказка:**\n",
    "* Старайтесь не брать слишком короткие предложения"
   ]
  },
  {
   "cell_type": "markdown",
   "metadata": {},
   "source": [
    "---"
   ]
  },
  {
   "cell_type": "code",
   "execution_count": null,
   "metadata": {},
   "outputs": [],
   "source": [
    "# (•̀ 3 •́)━★☆.*･｡ﾟ"
   ]
  },
  {
   "cell_type": "markdown",
   "metadata": {},
   "source": [
    "## Бонусная часть"
   ]
  },
  {
   "cell_type": "markdown",
   "metadata": {},
   "source": [
    "Заметим, что при задании модели мы сделали довольно сильное предположение о том, что вероятности выбора слова для выравнивания никак не зависят от позиции слова в целевом предложении. Можно сделать эти вероятности настраиваемыми параметрами, получив прямоугольную матрицу $\\phi_{m,n}(j|i)=p(a_i=j|m,n)$ для каждой пары длин предложений $m,n$: по-прежнему мы получаем распределение над индексами в исходном предложении. Тогда модель приобретает вид\n",
    "$$\n",
    "p(A,T|S)=\\prod_{i=1}^m p(a_i|m,n)p(t_i| a_i, S)=\\prod_{i=1}^m \\phi_{m,n}(a_i|i)\\theta(t_i|s_{a_i}).\n",
    "$$"
   ]
  },
  {
   "cell_type": "markdown",
   "metadata": {},
   "source": [
    "**Задание 5. (бонус, 1.5 балла)** Выведите шаги EM-алгоритма для этой модели, а также получите выражение для подсчёта нижней оценки правдоподобия."
   ]
  },
  {
   "cell_type": "markdown",
   "metadata": {},
   "source": [
    "**Замечание:**\n",
    "* _Возможные форматы ответа:_ в ячейке ноутбука, отдельно сданная в энитаск pdf c набранными формулами в LaTex, отдельная сданная в энитаск фотография (или скан) рукописного (и разборчивого) вывода.\n",
    "* Наличие только ответа оценивается **в 0 баллов**\n",
    "* Наличие неочевидных переходов без пояснений влияет на **баллы в меньшую сторону**"
   ]
  },
  {
   "cell_type": "markdown",
   "metadata": {},
   "source": [
    "---"
   ]
  },
  {
   "cell_type": "markdown",
   "metadata": {},
   "source": [
    "ଘ(๑˃̵ᴗ˂̵)━☆ﾟ.*･｡ﾟ"
   ]
  },
  {
   "cell_type": "markdown",
   "metadata": {},
   "source": [
    "---"
   ]
  },
  {
   "cell_type": "markdown",
   "metadata": {},
   "source": [
    "**Задание 6. (бонус, 1.5 балла)** Реализуйте все методы класса `WordPositionAligner`, протестируйте их корректность через Яндекс.Контест. Обучите модель, оцените её качество на истинной разметке и сравните его с качеством предыдущей более простой модели. Проиллюстрируйте влияние стартовых параметров на результат, проинициализировав эту модель параметрами модели из задания 2 (важно, чтобы суммарное число эпох обучения в обоих сценариях оставалось тем же)."
   ]
  },
  {
   "cell_type": "markdown",
   "metadata": {},
   "source": [
    "**Замечание:** \n",
    "* **Полностью проходящая все тесты посылка в этом заданиии дает 0.75 балла. За хотя бы 1 непройденный тест вы можете получить за это задание максимум 0.75 балла**"
   ]
  },
  {
   "cell_type": "markdown",
   "metadata": {},
   "source": [
    "---\n",
    "**>>Ваша ссылка на посылку:<<**\n",
    "\n",
    "---"
   ]
  },
  {
   "cell_type": "code",
   "execution_count": null,
   "metadata": {},
   "outputs": [],
   "source": [
    "from models import WordPositionAligner\n",
    "# (≧ ◡ ≦)━★☆.*･｡ﾟ"
   ]
  },
  {
   "cell_type": "markdown",
   "metadata": {},
   "source": [
    "---"
   ]
  },
  {
   "cell_type": "markdown",
   "metadata": {},
   "source": [
    "**Задание 7. (бонус, 1 балл)** В предыдущих пунктах мы никак не заостряли внимание на предобработке текстов, что может негативно влиять на результаты обученной модели. Например, сейчас метод выравнивания учитывает регистр, а слова на чешском языке вдобавок обладают богатой морфологией и большим количеством диакритических знаков. Если сократить количество параметров модели (различных слов), можно ускорить обучение и добиться лучших результатов, потому что статистики по словам будут считаться по большему числу параллельных предложений.\n",
    "\n",
    "Примените к исходным данным [Unicode-нормализацию](https://en.wikipedia.org/wiki/Unicode_equivalence#Normalization), приведите их к нижнему регистру и обучите модель выравнивания заново. Сравните качество и скорость обучения с предыдущими результатами и сделайте выводы. Если вы найдете в данных ещё какие-то проблемы, которые можно исправить более грамотной предобработкой, также продемонстрируйте, как их решение влияет на качество.\n",
    "\n",
    "**Важно:** здесь и далее в процессе обработки данных у вас может получаться, что из тестовых данных будут удалены предложения из-за отсутствия слов в словаре. Если такое всё же произошло, для корректности сравнения считайте AER вашей модели на удалённых предложениях равным 1."
   ]
  },
  {
   "cell_type": "markdown",
   "metadata": {},
   "source": [
    "---"
   ]
  },
  {
   "cell_type": "code",
   "execution_count": null,
   "metadata": {},
   "outputs": [],
   "source": [
    "# (੭•̀ω•́)੭̸*✩⁺˚"
   ]
  },
  {
   "cell_type": "markdown",
   "metadata": {},
   "source": [
    "---"
   ]
  },
  {
   "cell_type": "markdown",
   "metadata": {},
   "source": [
    "**Задание 8. (бонус, до 3 баллов)** \n",
    "\n",
    "Улучшите качество получившейся системы настолько, насколько сможете. За каждые 5 процентов, на которые AER на тех же данных получается меньше, чем минимум ошибки всех предыдущих моделей, вы получите по 1 бонусному баллу.\n",
    "\n",
    "Ниже приведены несколько идей, которые могут помочь вам повысить \n",
    "\n",
    "* Модифицировать модель: как вы можете понять, недостатком второго реализованного вами подхода является избыточное число параметров из-за необходимости подерживать отдельную матрицу для каждой различной пары длин предложений в корпусе. В статье https://www.aclweb.org/anthology/N13-1073.pdf приведён способ снижения числа параметров, задающих априорное распределение позиций выравнивания, который позволяет в десять раз быстрее обучать модель и получать лучшее качество.\n",
    "* Агрегация по двум направлениям: в статье https://www.aclweb.org/anthology/J03-1002/ утверждается, что асимметричность выравниваний вредит качеству, потому что из-за выбранной модели одному слову в целевом предложении не может соответствовать два слова в исходном предложении. Для решения этой проблемы (и улучшения метрик, разумеется) авторы предлагают несколько алгоритмов, которые можно попробовать применить в этом задании.\n",
    "* Использовать больше обучающих данных. В корпусе, которым мы пользуемся, только пара тысяч предложений, чего может не хватать для по-настоящему хорошей модели выравнивания. Разумеется, неразмеченных параллельных английско-чешских корпусов гораздо больше, поэтому можно воспользоваться ими. Хорошая точка для старта — данные с соревнования по машинному переводу  [воркшопа WMT](http://www.statmt.org/wmt20/translation-task.html).\n",
    "* В языках часто существуют слова наподобие артиклей или предлогов, которым не соответствует ни одно слово в переводе. Все рассмотренные в рамках задания модели это не учитывают, возможно, добавление возможности перевода в «нулевой» токен улучшит качество модели (при тестировании такие выравнивания имеет смысл выбрасывать)"
   ]
  },
  {
   "cell_type": "code",
   "execution_count": null,
   "metadata": {},
   "outputs": [],
   "source": [
    "# ┐_(ツ)_┌━☆ﾟ.*･｡ﾟ"
   ]
  },
  {
   "cell_type": "markdown",
   "metadata": {},
   "source": [
    "### Картинка для поддержки ваших чувств по этому заданию"
   ]
  },
  {
   "cell_type": "markdown",
   "metadata": {},
   "source": [
    "![](https://a.d-cd.net/RAAAAgCnO-A-960.jpg)"
   ]
  }
 ],
 "metadata": {
  "kernelspec": {
   "display_name": "env4vmk",
   "language": "python",
   "name": "env4vmk"
  },
  "language_info": {
   "codemirror_mode": {
    "name": "ipython",
    "version": 3
   },
   "file_extension": ".py",
   "mimetype": "text/x-python",
   "name": "python",
   "nbconvert_exporter": "python",
   "pygments_lexer": "ipython3",
   "version": "3.10.0"
  }
 },
 "nbformat": 4,
 "nbformat_minor": 4
}
